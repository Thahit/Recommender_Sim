{
 "cells": [
  {
   "cell_type": "code",
   "execution_count": 1,
   "metadata": {},
   "outputs": [],
   "source": [
    "import sys\n",
    "import os\n",
    "parent_dir = os.path.abspath(os.path.join(os.getcwd(), os.pardir))\n",
    "\n",
    "sys.path.append(parent_dir)\n",
    "\n",
    "from simtrain import SETTINGS_POLIMI as SETTINGS\n",
    "from simtrain.sim_models_new import Toy_intensity_Generator, Toy_intensity_Comparer\n",
    "import torch\n",
    "import torch.optim as optim\n",
    "import torch.nn as nn\n",
    "import pytorch_warmup as warmup\n",
    "\n",
    "import paths\n",
    "from os.path import join\n",
    "\n",
    "import matplotlib.pyplot as plt\n",
    "import seaborn as sns\n",
    "import numpy as np\n",
    "import simtrain.utils as utils\n",
    "from tqdm import tqdm\n",
    "import evotorch\n",
    "import ray\n",
    "from functools import partial\n",
    "\n",
    "os.environ['PYTHONPATH'] = \"/home/thahit/github/Recommender_Sim\"\n",
    "#ray.init(ignore_reinit_error=True)\n"
   ]
  },
  {
   "cell_type": "code",
   "execution_count": 2,
   "metadata": {},
   "outputs": [],
   "source": [
    "\n",
    "state_size = SETTINGS.STATE_SIZE\n",
    "experiment_name = \"toy\"\n",
    "#num_negatives = 100\n",
    "#conditioned=True\n",
    "#kl_weight=.01"
   ]
  },
  {
   "cell_type": "code",
   "execution_count": 3,
   "metadata": {},
   "outputs": [
    {
     "ename": "NameError",
     "evalue": "name 'sfaf' is not defined",
     "output_type": "error",
     "traceback": [
      "\u001b[0;31m---------------------------------------------------------------------------\u001b[0m",
      "\u001b[0;31mNameError\u001b[0m                                 Traceback (most recent call last)",
      "Cell \u001b[0;32mIn[3], line 1\u001b[0m\n\u001b[0;32m----> 1\u001b[0m \u001b[43msfaf\u001b[49m\n",
      "\u001b[0;31mNameError\u001b[0m: name 'sfaf' is not defined"
     ]
    }
   ],
   "source": [
    "sfaf"
   ]
  },
  {
   "cell_type": "markdown",
   "metadata": {},
   "source": [
    "# Data"
   ]
  },
  {
   "cell_type": "code",
   "execution_count": null,
   "metadata": {},
   "outputs": [],
   "source": [
    "# parameter dicts\n",
    "width= 8\n",
    "user_state_dict = {\"model_hyp\": {\"layer_width\": [width, width]}}\n",
    "intensity_state_dict = {\"model_hyp\": {\"layer_width\": [width, width],\n",
    "                                                         \"noise\": 0}\n",
    "                            }\n",
    "\n",
    "\n",
    "hyperparameter_dict = {\"state_size\": state_size, \"state_model\": user_state_dict, \n",
    "                           \"intensity_model\": intensity_state_dict,# \"num_recom\" : num_items_per_recom,\n",
    "                            \"noise\": 0.}\n",
    "gen_model = Toy_intensity_Generator(hyperparameter_dict)"
   ]
  },
  {
   "cell_type": "code",
   "execution_count": null,
   "metadata": {},
   "outputs": [
    {
     "data": {
      "text/plain": [
       "'/home/thahit/github/Recommender_Sim/dat/saved_models_polimi/simulate_intensity/gnerator_model.h5'"
      ]
     },
     "execution_count": 4,
     "metadata": {},
     "output_type": "execute_result"
    }
   ],
   "source": [
    "path = join(paths.dat, SETTINGS.filepaths_new[\"simulate_intensity_model\"]\n",
    "            )\n",
    "path"
   ]
  },
  {
   "cell_type": "code",
   "execution_count": null,
   "metadata": {},
   "outputs": [
    {
     "data": {
      "text/plain": [
       "<All keys matched successfully>"
      ]
     },
     "execution_count": 5,
     "metadata": {},
     "output_type": "execute_result"
    }
   ],
   "source": [
    "#torch.save(gen_model.state_dict(), path)\n",
    "gen_model.load_state_dict(torch.load(path))"
   ]
  },
  {
   "cell_type": "code",
   "execution_count": null,
   "metadata": {},
   "outputs": [],
   "source": [
    "state = torch.zeros((1, state_size))"
   ]
  },
  {
   "cell_type": "code",
   "execution_count": null,
   "metadata": {},
   "outputs": [
    {
     "ename": "TypeError",
     "evalue": "forward() got an unexpected keyword argument 'interval_time'",
     "output_type": "error",
     "traceback": [
      "\u001b[0;31m---------------------------------------------------------------------------\u001b[0m",
      "\u001b[0;31mTypeError\u001b[0m                                 Traceback (most recent call last)",
      "Cell \u001b[0;32mIn[7], line 1\u001b[0m\n\u001b[0;32m----> 1\u001b[0m samples \u001b[38;5;241m=\u001b[39m [gen_model\u001b[38;5;241m.\u001b[39msample_one(state)\u001b[38;5;241m.\u001b[39mdetach()\u001b[38;5;241m.\u001b[39mnumpy() \u001b[38;5;28;01mfor\u001b[39;00m _ \u001b[38;5;129;01min\u001b[39;00m \u001b[38;5;28mrange\u001b[39m(\u001b[38;5;241m100\u001b[39m)]\n\u001b[1;32m      2\u001b[0m samples \u001b[38;5;241m=\u001b[39m np\u001b[38;5;241m.\u001b[39marray(samples)\n\u001b[1;32m      3\u001b[0m samples\n",
      "Cell \u001b[0;32mIn[7], line 1\u001b[0m, in \u001b[0;36m<listcomp>\u001b[0;34m(.0)\u001b[0m\n\u001b[0;32m----> 1\u001b[0m samples \u001b[38;5;241m=\u001b[39m [\u001b[43mgen_model\u001b[49m\u001b[38;5;241;43m.\u001b[39;49m\u001b[43msample_one\u001b[49m\u001b[43m(\u001b[49m\u001b[43mstate\u001b[49m\u001b[43m)\u001b[49m\u001b[38;5;241m.\u001b[39mdetach()\u001b[38;5;241m.\u001b[39mnumpy() \u001b[38;5;28;01mfor\u001b[39;00m _ \u001b[38;5;129;01min\u001b[39;00m \u001b[38;5;28mrange\u001b[39m(\u001b[38;5;241m100\u001b[39m)]\n\u001b[1;32m      2\u001b[0m samples \u001b[38;5;241m=\u001b[39m np\u001b[38;5;241m.\u001b[39marray(samples)\n\u001b[1;32m      3\u001b[0m samples\n",
      "File \u001b[0;32m~/github/Recommender_Sim/simtrain/sim_models_new.py:989\u001b[0m, in \u001b[0;36mToy_intensity_Generator.sample_one\u001b[0;34m(self, state)\u001b[0m\n\u001b[1;32m    983\u001b[0m u \u001b[38;5;241m=\u001b[39m torch\u001b[38;5;241m.\u001b[39mrand(\u001b[38;5;241m1\u001b[39m, requires_grad\u001b[38;5;241m=\u001b[39m\u001b[38;5;28;01mFalse\u001b[39;00m)\u001b[38;5;66;03m# theoretically one should also do -u + 1\u001b[39;00m\n\u001b[1;32m    984\u001b[0m \u001b[38;5;66;03m#h_optimized = self.optimize_h(u)\u001b[39;00m\n\u001b[1;32m    985\u001b[0m \u001b[38;5;66;03m#h_optimized = brentq(self.objective_function, 1e-30, 200, args=(u, state), \u001b[39;00m\n\u001b[1;32m    986\u001b[0m \u001b[38;5;66;03m#                    maxiter=40, xtol=1e-7,)\u001b[39;00m\n\u001b[1;32m    987\u001b[0m \u001b[38;5;66;03m#h_optimized = self.binary_search(state, u)\u001b[39;00m\n\u001b[0;32m--> 989\u001b[0m h_optimized \u001b[38;5;241m=\u001b[39m torch\u001b[38;5;241m.\u001b[39mtensor([\u001b[38;5;28;43mself\u001b[39;49m\u001b[38;5;241;43m.\u001b[39;49m\u001b[43mfind_h\u001b[49m\u001b[43m(\u001b[49m\u001b[43mstate\u001b[49m\u001b[43m,\u001b[49m\u001b[43m \u001b[49m\u001b[43mu\u001b[49m\u001b[43m)\u001b[49m])\n\u001b[1;32m    990\u001b[0m \u001b[38;5;66;03m#print(f\"u: {u} \\t h: {h_optimized}\")\u001b[39;00m\n\u001b[1;32m    991\u001b[0m \u001b[38;5;28;01mreturn\u001b[39;00m torch\u001b[38;5;241m.\u001b[39mflatten(h_optimized)\n",
      "File \u001b[0;32m~/github/Recommender_Sim/simtrain/sim_models_new.py:972\u001b[0m, in \u001b[0;36mToy_intensity_Generator.find_h\u001b[0;34m(self, state, uniform_guess, interval_size, max_iter)\u001b[0m\n\u001b[1;32m    970\u001b[0m curr_state \u001b[38;5;241m=\u001b[39m state\n\u001b[1;32m    971\u001b[0m \u001b[38;5;28;01mfor\u001b[39;00m i \u001b[38;5;129;01min\u001b[39;00m \u001b[38;5;28mrange\u001b[39m(max_iter):\n\u001b[0;32m--> 972\u001b[0m     curr_state \u001b[38;5;241m=\u001b[39m \u001b[38;5;28;43mself\u001b[39;49m\u001b[38;5;241;43m.\u001b[39;49m\u001b[43muser_state_model\u001b[49m\u001b[43m(\u001b[49m\u001b[43mcurr_state\u001b[49m\u001b[43m,\u001b[49m\u001b[43m \u001b[49m\u001b[43minterval_size\u001b[49m\u001b[43m,\u001b[49m\u001b[43m \u001b[49m\u001b[43minterval_time\u001b[49m\u001b[38;5;241;43m=\u001b[39;49m\u001b[38;5;241;43m0.05\u001b[39;49m\u001b[43m)\u001b[49m\n\u001b[1;32m    973\u001b[0m     intensity \u001b[38;5;241m=\u001b[39m intensity \u001b[38;5;241m+\u001b[39m (\u001b[38;5;28mself\u001b[39m\u001b[38;5;241m.\u001b[39mintensity_model(h \u001b[38;5;241m=\u001b[39m interval_size, \n\u001b[1;32m    974\u001b[0m                         intensity\u001b[38;5;241m=\u001b[39mintensity, state\u001b[38;5;241m=\u001b[39mcurr_state)\u001b[38;5;241m*\u001b[39minterval_size)\u001b[38;5;241m.\u001b[39mclone()\n\u001b[1;32m    976\u001b[0m     \u001b[38;5;28;01mif\u001b[39;00m intensity \u001b[38;5;241m>\u001b[39m target:\n",
      "File \u001b[0;32m~/anaconda3/envs/WW2/lib/python3.9/site-packages/torch/nn/modules/module.py:1532\u001b[0m, in \u001b[0;36mModule._wrapped_call_impl\u001b[0;34m(self, *args, **kwargs)\u001b[0m\n\u001b[1;32m   1530\u001b[0m     \u001b[38;5;28;01mreturn\u001b[39;00m \u001b[38;5;28mself\u001b[39m\u001b[38;5;241m.\u001b[39m_compiled_call_impl(\u001b[38;5;241m*\u001b[39margs, \u001b[38;5;241m*\u001b[39m\u001b[38;5;241m*\u001b[39mkwargs)  \u001b[38;5;66;03m# type: ignore[misc]\u001b[39;00m\n\u001b[1;32m   1531\u001b[0m \u001b[38;5;28;01melse\u001b[39;00m:\n\u001b[0;32m-> 1532\u001b[0m     \u001b[38;5;28;01mreturn\u001b[39;00m \u001b[38;5;28;43mself\u001b[39;49m\u001b[38;5;241;43m.\u001b[39;49m\u001b[43m_call_impl\u001b[49m\u001b[43m(\u001b[49m\u001b[38;5;241;43m*\u001b[39;49m\u001b[43margs\u001b[49m\u001b[43m,\u001b[49m\u001b[43m \u001b[49m\u001b[38;5;241;43m*\u001b[39;49m\u001b[38;5;241;43m*\u001b[39;49m\u001b[43mkwargs\u001b[49m\u001b[43m)\u001b[49m\n",
      "File \u001b[0;32m~/anaconda3/envs/WW2/lib/python3.9/site-packages/torch/nn/modules/module.py:1541\u001b[0m, in \u001b[0;36mModule._call_impl\u001b[0;34m(self, *args, **kwargs)\u001b[0m\n\u001b[1;32m   1536\u001b[0m \u001b[38;5;66;03m# If we don't have any hooks, we want to skip the rest of the logic in\u001b[39;00m\n\u001b[1;32m   1537\u001b[0m \u001b[38;5;66;03m# this function, and just call forward.\u001b[39;00m\n\u001b[1;32m   1538\u001b[0m \u001b[38;5;28;01mif\u001b[39;00m \u001b[38;5;129;01mnot\u001b[39;00m (\u001b[38;5;28mself\u001b[39m\u001b[38;5;241m.\u001b[39m_backward_hooks \u001b[38;5;129;01mor\u001b[39;00m \u001b[38;5;28mself\u001b[39m\u001b[38;5;241m.\u001b[39m_backward_pre_hooks \u001b[38;5;129;01mor\u001b[39;00m \u001b[38;5;28mself\u001b[39m\u001b[38;5;241m.\u001b[39m_forward_hooks \u001b[38;5;129;01mor\u001b[39;00m \u001b[38;5;28mself\u001b[39m\u001b[38;5;241m.\u001b[39m_forward_pre_hooks\n\u001b[1;32m   1539\u001b[0m         \u001b[38;5;129;01mor\u001b[39;00m _global_backward_pre_hooks \u001b[38;5;129;01mor\u001b[39;00m _global_backward_hooks\n\u001b[1;32m   1540\u001b[0m         \u001b[38;5;129;01mor\u001b[39;00m _global_forward_hooks \u001b[38;5;129;01mor\u001b[39;00m _global_forward_pre_hooks):\n\u001b[0;32m-> 1541\u001b[0m     \u001b[38;5;28;01mreturn\u001b[39;00m \u001b[43mforward_call\u001b[49m\u001b[43m(\u001b[49m\u001b[38;5;241;43m*\u001b[39;49m\u001b[43margs\u001b[49m\u001b[43m,\u001b[49m\u001b[43m \u001b[49m\u001b[38;5;241;43m*\u001b[39;49m\u001b[38;5;241;43m*\u001b[39;49m\u001b[43mkwargs\u001b[49m\u001b[43m)\u001b[49m\n\u001b[1;32m   1543\u001b[0m \u001b[38;5;28;01mtry\u001b[39;00m:\n\u001b[1;32m   1544\u001b[0m     result \u001b[38;5;241m=\u001b[39m \u001b[38;5;28;01mNone\u001b[39;00m\n",
      "\u001b[0;31mTypeError\u001b[0m: forward() got an unexpected keyword argument 'interval_time'"
     ]
    }
   ],
   "source": [
    "samples = [gen_model.sample_one(state).detach().numpy() for _ in range(100)]\n",
    "samples = np.array(samples)\n",
    "samples"
   ]
  },
  {
   "cell_type": "markdown",
   "metadata": {},
   "source": [
    "feed in true values for fake models, \n"
   ]
  },
  {
   "cell_type": "code",
   "execution_count": null,
   "metadata": {},
   "outputs": [
    {
     "ename": "NameError",
     "evalue": "name 'samples' is not defined",
     "output_type": "error",
     "traceback": [
      "\u001b[0;31m---------------------------------------------------------------------------\u001b[0m",
      "\u001b[0;31mNameError\u001b[0m                                 Traceback (most recent call last)",
      "Cell \u001b[0;32mIn[8], line 5\u001b[0m\n\u001b[1;32m      3\u001b[0m \u001b[38;5;66;03m# Histogram\u001b[39;00m\n\u001b[1;32m      4\u001b[0m plt\u001b[38;5;241m.\u001b[39msubplot(\u001b[38;5;241m1\u001b[39m, \u001b[38;5;241m2\u001b[39m, \u001b[38;5;241m1\u001b[39m)\n\u001b[0;32m----> 5\u001b[0m plt\u001b[38;5;241m.\u001b[39mhist(\u001b[43msamples\u001b[49m, bins\u001b[38;5;241m=\u001b[39m\u001b[38;5;241m50\u001b[39m, density\u001b[38;5;241m=\u001b[39m\u001b[38;5;28;01mTrue\u001b[39;00m, alpha\u001b[38;5;241m=\u001b[39m\u001b[38;5;241m0.6\u001b[39m, color\u001b[38;5;241m=\u001b[39m\u001b[38;5;124m'\u001b[39m\u001b[38;5;124mg\u001b[39m\u001b[38;5;124m'\u001b[39m, edgecolor\u001b[38;5;241m=\u001b[39m\u001b[38;5;124m'\u001b[39m\u001b[38;5;124mblack\u001b[39m\u001b[38;5;124m'\u001b[39m)\n\u001b[1;32m      6\u001b[0m plt\u001b[38;5;241m.\u001b[39mtitle(\u001b[38;5;124m'\u001b[39m\u001b[38;5;124mHistogram of Samples\u001b[39m\u001b[38;5;124m'\u001b[39m)\n\u001b[1;32m      7\u001b[0m plt\u001b[38;5;241m.\u001b[39mxlabel(\u001b[38;5;124m'\u001b[39m\u001b[38;5;124mValue\u001b[39m\u001b[38;5;124m'\u001b[39m)\n",
      "\u001b[0;31mNameError\u001b[0m: name 'samples' is not defined"
     ]
    },
    {
     "data": {
      "image/png": "[encoded data removed]",
      "text/plain": [
       "<Figure size 1200x600 with 1 Axes>"
      ]
     },
     "metadata": {},
     "output_type": "display_data"
    }
   ],
   "source": [
    "plt.figure(figsize=(12, 6))\n",
    "\n",
    "# Histogram\n",
    "plt.subplot(1, 2, 1)\n",
    "plt.hist(samples, bins=50, density=True, alpha=0.6, color='g', edgecolor='black')\n",
    "plt.title('Histogram of Samples')\n",
    "plt.xlabel('Value')\n",
    "plt.ylabel('Frequency')\n",
    "\n",
    "# Density Plot\n",
    "plt.subplot(1, 2, 2)\n",
    "sns.kdeplot(samples, shade=True, color='g', bw_adjust=0.1)\n",
    "plt.title('Density Plot of Samples')\n",
    "plt.xlabel('Value')\n",
    "plt.ylabel('Density')\n",
    "\n",
    "plt.tight_layout()\n",
    "plt.show()\n"
   ]
  },
  {
   "cell_type": "code",
   "execution_count": null,
   "metadata": {},
   "outputs": [
    {
     "ename": "TypeError",
     "evalue": "forward() got an unexpected keyword argument 'interval_time'",
     "output_type": "error",
     "traceback": [
      "\u001b[0;31m---------------------------------------------------------------------------\u001b[0m",
      "\u001b[0;31mTypeError\u001b[0m                                 Traceback (most recent call last)",
      "Cell \u001b[0;32mIn[9], line 1\u001b[0m\n\u001b[0;32m----> 1\u001b[0m sample_path \u001b[38;5;241m=\u001b[39m \u001b[43mgen_model\u001b[49m\u001b[38;5;241;43m.\u001b[39;49m\u001b[43msample_path\u001b[49m\u001b[43m(\u001b[49m\u001b[43mnum_samples\u001b[49m\u001b[38;5;241;43m=\u001b[39;49m\u001b[38;5;241;43m5\u001b[39;49m\u001b[43m)\u001b[49m\n\u001b[1;32m      2\u001b[0m sample_path \u001b[38;5;241m=\u001b[39mtorch\u001b[38;5;241m.\u001b[39mtensor(sample_path)\n\u001b[1;32m      3\u001b[0m sample_path\n",
      "File \u001b[0;32m~/github/Recommender_Sim/simtrain/sim_models_new.py:1000\u001b[0m, in \u001b[0;36mToy_intensity_Generator.sample_path\u001b[0;34m(self, num_samples, state)\u001b[0m\n\u001b[1;32m    998\u001b[0m \u001b[38;5;28;01mwith\u001b[39;00m torch\u001b[38;5;241m.\u001b[39mno_grad():\n\u001b[1;32m    999\u001b[0m     \u001b[38;5;28;01mfor\u001b[39;00m _ \u001b[38;5;129;01min\u001b[39;00m \u001b[38;5;28mrange\u001b[39m(num_samples):\n\u001b[0;32m-> 1000\u001b[0m         h \u001b[38;5;241m=\u001b[39m \u001b[38;5;28;43mself\u001b[39;49m\u001b[38;5;241;43m.\u001b[39;49m\u001b[43msample_one\u001b[49m\u001b[43m(\u001b[49m\u001b[43mstate\u001b[49m\u001b[38;5;241;43m=\u001b[39;49m\u001b[43mstate\u001b[49m\u001b[43m)\u001b[49m\n\u001b[1;32m   1001\u001b[0m         curr_time \u001b[38;5;241m=\u001b[39m curr_time \u001b[38;5;241m+\u001b[39m h\n\u001b[1;32m   1002\u001b[0m         path\u001b[38;5;241m.\u001b[39mappend(curr_time)\n",
      "File \u001b[0;32m~/github/Recommender_Sim/simtrain/sim_models_new.py:989\u001b[0m, in \u001b[0;36mToy_intensity_Generator.sample_one\u001b[0;34m(self, state)\u001b[0m\n\u001b[1;32m    983\u001b[0m u \u001b[38;5;241m=\u001b[39m torch\u001b[38;5;241m.\u001b[39mrand(\u001b[38;5;241m1\u001b[39m, requires_grad\u001b[38;5;241m=\u001b[39m\u001b[38;5;28;01mFalse\u001b[39;00m)\u001b[38;5;66;03m# theoretically one should also do -u + 1\u001b[39;00m\n\u001b[1;32m    984\u001b[0m \u001b[38;5;66;03m#h_optimized = self.optimize_h(u)\u001b[39;00m\n\u001b[1;32m    985\u001b[0m \u001b[38;5;66;03m#h_optimized = brentq(self.objective_function, 1e-30, 200, args=(u, state), \u001b[39;00m\n\u001b[1;32m    986\u001b[0m \u001b[38;5;66;03m#                    maxiter=40, xtol=1e-7,)\u001b[39;00m\n\u001b[1;32m    987\u001b[0m \u001b[38;5;66;03m#h_optimized = self.binary_search(state, u)\u001b[39;00m\n\u001b[0;32m--> 989\u001b[0m h_optimized \u001b[38;5;241m=\u001b[39m torch\u001b[38;5;241m.\u001b[39mtensor([\u001b[38;5;28;43mself\u001b[39;49m\u001b[38;5;241;43m.\u001b[39;49m\u001b[43mfind_h\u001b[49m\u001b[43m(\u001b[49m\u001b[43mstate\u001b[49m\u001b[43m,\u001b[49m\u001b[43m \u001b[49m\u001b[43mu\u001b[49m\u001b[43m)\u001b[49m])\n\u001b[1;32m    990\u001b[0m \u001b[38;5;66;03m#print(f\"u: {u} \\t h: {h_optimized}\")\u001b[39;00m\n\u001b[1;32m    991\u001b[0m \u001b[38;5;28;01mreturn\u001b[39;00m torch\u001b[38;5;241m.\u001b[39mflatten(h_optimized)\n",
      "File \u001b[0;32m~/github/Recommender_Sim/simtrain/sim_models_new.py:972\u001b[0m, in \u001b[0;36mToy_intensity_Generator.find_h\u001b[0;34m(self, state, uniform_guess, interval_size, max_iter)\u001b[0m\n\u001b[1;32m    970\u001b[0m curr_state \u001b[38;5;241m=\u001b[39m state\n\u001b[1;32m    971\u001b[0m \u001b[38;5;28;01mfor\u001b[39;00m i \u001b[38;5;129;01min\u001b[39;00m \u001b[38;5;28mrange\u001b[39m(max_iter):\n\u001b[0;32m--> 972\u001b[0m     curr_state \u001b[38;5;241m=\u001b[39m \u001b[38;5;28;43mself\u001b[39;49m\u001b[38;5;241;43m.\u001b[39;49m\u001b[43muser_state_model\u001b[49m\u001b[43m(\u001b[49m\u001b[43mcurr_state\u001b[49m\u001b[43m,\u001b[49m\u001b[43m \u001b[49m\u001b[43minterval_size\u001b[49m\u001b[43m,\u001b[49m\u001b[43m \u001b[49m\u001b[43minterval_time\u001b[49m\u001b[38;5;241;43m=\u001b[39;49m\u001b[38;5;241;43m0.05\u001b[39;49m\u001b[43m)\u001b[49m\n\u001b[1;32m    973\u001b[0m     intensity \u001b[38;5;241m=\u001b[39m intensity \u001b[38;5;241m+\u001b[39m (\u001b[38;5;28mself\u001b[39m\u001b[38;5;241m.\u001b[39mintensity_model(h \u001b[38;5;241m=\u001b[39m interval_size, \n\u001b[1;32m    974\u001b[0m                         intensity\u001b[38;5;241m=\u001b[39mintensity, state\u001b[38;5;241m=\u001b[39mcurr_state)\u001b[38;5;241m*\u001b[39minterval_size)\u001b[38;5;241m.\u001b[39mclone()\n\u001b[1;32m    976\u001b[0m     \u001b[38;5;28;01mif\u001b[39;00m intensity \u001b[38;5;241m>\u001b[39m target:\n",
      "File \u001b[0;32m~/anaconda3/envs/WW2/lib/python3.9/site-packages/torch/nn/modules/module.py:1532\u001b[0m, in \u001b[0;36mModule._wrapped_call_impl\u001b[0;34m(self, *args, **kwargs)\u001b[0m\n\u001b[1;32m   1530\u001b[0m     \u001b[38;5;28;01mreturn\u001b[39;00m \u001b[38;5;28mself\u001b[39m\u001b[38;5;241m.\u001b[39m_compiled_call_impl(\u001b[38;5;241m*\u001b[39margs, \u001b[38;5;241m*\u001b[39m\u001b[38;5;241m*\u001b[39mkwargs)  \u001b[38;5;66;03m# type: ignore[misc]\u001b[39;00m\n\u001b[1;32m   1531\u001b[0m \u001b[38;5;28;01melse\u001b[39;00m:\n\u001b[0;32m-> 1532\u001b[0m     \u001b[38;5;28;01mreturn\u001b[39;00m \u001b[38;5;28;43mself\u001b[39;49m\u001b[38;5;241;43m.\u001b[39;49m\u001b[43m_call_impl\u001b[49m\u001b[43m(\u001b[49m\u001b[38;5;241;43m*\u001b[39;49m\u001b[43margs\u001b[49m\u001b[43m,\u001b[49m\u001b[43m \u001b[49m\u001b[38;5;241;43m*\u001b[39;49m\u001b[38;5;241;43m*\u001b[39;49m\u001b[43mkwargs\u001b[49m\u001b[43m)\u001b[49m\n",
      "File \u001b[0;32m~/anaconda3/envs/WW2/lib/python3.9/site-packages/torch/nn/modules/module.py:1541\u001b[0m, in \u001b[0;36mModule._call_impl\u001b[0;34m(self, *args, **kwargs)\u001b[0m\n\u001b[1;32m   1536\u001b[0m \u001b[38;5;66;03m# If we don't have any hooks, we want to skip the rest of the logic in\u001b[39;00m\n\u001b[1;32m   1537\u001b[0m \u001b[38;5;66;03m# this function, and just call forward.\u001b[39;00m\n\u001b[1;32m   1538\u001b[0m \u001b[38;5;28;01mif\u001b[39;00m \u001b[38;5;129;01mnot\u001b[39;00m (\u001b[38;5;28mself\u001b[39m\u001b[38;5;241m.\u001b[39m_backward_hooks \u001b[38;5;129;01mor\u001b[39;00m \u001b[38;5;28mself\u001b[39m\u001b[38;5;241m.\u001b[39m_backward_pre_hooks \u001b[38;5;129;01mor\u001b[39;00m \u001b[38;5;28mself\u001b[39m\u001b[38;5;241m.\u001b[39m_forward_hooks \u001b[38;5;129;01mor\u001b[39;00m \u001b[38;5;28mself\u001b[39m\u001b[38;5;241m.\u001b[39m_forward_pre_hooks\n\u001b[1;32m   1539\u001b[0m         \u001b[38;5;129;01mor\u001b[39;00m _global_backward_pre_hooks \u001b[38;5;129;01mor\u001b[39;00m _global_backward_hooks\n\u001b[1;32m   1540\u001b[0m         \u001b[38;5;129;01mor\u001b[39;00m _global_forward_hooks \u001b[38;5;129;01mor\u001b[39;00m _global_forward_pre_hooks):\n\u001b[0;32m-> 1541\u001b[0m     \u001b[38;5;28;01mreturn\u001b[39;00m \u001b[43mforward_call\u001b[49m\u001b[43m(\u001b[49m\u001b[38;5;241;43m*\u001b[39;49m\u001b[43margs\u001b[49m\u001b[43m,\u001b[49m\u001b[43m \u001b[49m\u001b[38;5;241;43m*\u001b[39;49m\u001b[38;5;241;43m*\u001b[39;49m\u001b[43mkwargs\u001b[49m\u001b[43m)\u001b[49m\n\u001b[1;32m   1543\u001b[0m \u001b[38;5;28;01mtry\u001b[39;00m:\n\u001b[1;32m   1544\u001b[0m     result \u001b[38;5;241m=\u001b[39m \u001b[38;5;28;01mNone\u001b[39;00m\n",
      "\u001b[0;31mTypeError\u001b[0m: forward() got an unexpected keyword argument 'interval_time'"
     ]
    }
   ],
   "source": [
    "sample_path = gen_model.sample_path(num_samples=5)\n",
    "sample_path =torch.tensor(sample_path)\n",
    "sample_path"
   ]
  },
  {
   "cell_type": "code",
   "execution_count": null,
   "metadata": {},
   "outputs": [
    {
     "data": {
      "text/plain": [
       "tensor([ 5.0833,  6.3958, 11.8125, 28.0417, 28.2708, 40.1042, 42.8542])"
      ]
     },
     "execution_count": 10,
     "metadata": {},
     "output_type": "execute_result"
    }
   ],
   "source": [
    "#load actual data instead\n",
    "checkpoint = torch.load(join(paths.dat, SETTINGS.rootpaths['models'],\n",
    "                             \"testing\", \"data.h5\"))\n",
    "list_of_dicts = checkpoint['data']\n",
    "chosen_sample = list_of_dicts[4][\"timestamps\"]\n",
    "sample_path =torch.tensor(chosen_sample)\n",
    "sample_path"
   ]
  },
  {
   "cell_type": "code",
   "execution_count": null,
   "metadata": {},
   "outputs": [
    {
     "data": {
      "image/png": "[encoded data removed]",
      "text/plain": [
       "<Figure size 640x480 with 1 Axes>"
      ]
     },
     "metadata": {},
     "output_type": "display_data"
    }
   ],
   "source": [
    "#plt.eventplot(sample_path, orientation='vertical', colors='r')\n",
    "plt.scatter(sample_path, [1] * len(sample_path), color='blue', label='Time Series 1', s=10, marker='x')\n",
    "\n",
    "plt.yticks([])\n",
    "plt.xlabel('Time')\n",
    "plt.title('Event Plot of Sparse Binary Events')\n",
    "plt.grid(True)\n",
    "plt.show()\n"
   ]
  },
  {
   "cell_type": "code",
   "execution_count": null,
   "metadata": {},
   "outputs": [
    {
     "ename": "NameError",
     "evalue": "name 'asdafa' is not defined",
     "output_type": "error",
     "traceback": [
      "\u001b[0;31m---------------------------------------------------------------------------\u001b[0m",
      "\u001b[0;31mNameError\u001b[0m                                 Traceback (most recent call last)",
      "Cell \u001b[0;32mIn[12], line 1\u001b[0m\n\u001b[0;32m----> 1\u001b[0m \u001b[43masdafa\u001b[49m\n",
      "\u001b[0;31mNameError\u001b[0m: name 'asdafa' is not defined"
     ]
    }
   ],
   "source": [
    "asdafa"
   ]
  },
  {
   "cell_type": "markdown",
   "metadata": {},
   "source": [
    "# Model"
   ]
  },
  {
   "cell_type": "code",
   "execution_count": 4,
   "metadata": {},
   "outputs": [
    {
     "data": {
      "text/plain": [
       "tensor([ 5.0833,  6.3958, 11.8125, 28.0417, 28.2708, 40.1042, 42.8542])"
      ]
     },
     "execution_count": 4,
     "metadata": {},
     "output_type": "execute_result"
    }
   ],
   "source": [
    "checkpoint = torch.load(join(paths.dat, SETTINGS.rootpaths['models'],\n",
    "                             \"testing\", \"data.h5\"))\n",
    "list_of_dicts = checkpoint['data']\n",
    "chosen_sample = list_of_dicts[4][\"timestamps\"]\n",
    "sample_path =torch.tensor(chosen_sample)\n",
    "sample_path"
   ]
  },
  {
   "cell_type": "code",
   "execution_count": 5,
   "metadata": {},
   "outputs": [
    {
     "data": {
      "image/png": "[encoded data removed]",
      "text/plain": [
       "<Figure size 640x480 with 1 Axes>"
      ]
     },
     "metadata": {},
     "output_type": "display_data"
    }
   ],
   "source": [
    "#plt.eventplot(sample_path, orientation='vertical', colors='r')\n",
    "plt.scatter(sample_path, [1] * len(sample_path), color='blue', label='Time Series 1', s=10, marker='x')\n",
    "\n",
    "plt.yticks([])\n",
    "plt.xlabel('Time')\n",
    "plt.title('Event Plot of Sparse Binary Events')\n",
    "plt.grid(True)\n",
    "plt.show()\n"
   ]
  },
  {
   "cell_type": "markdown",
   "metadata": {},
   "source": [
    "## Train Gradient Descent\n",
    "Not working"
   ]
  },
  {
   "cell_type": "markdown",
   "metadata": {},
   "source": [
    "### base"
   ]
  },
  {
   "cell_type": "code",
   "execution_count": null,
   "metadata": {},
   "outputs": [],
   "source": [
    "def train_single(model, path, scoring_func,optimizer, num_epochs=100, num_tries=20):\n",
    "    \n",
    "    for iter in tqdm(range(num_epochs)):\n",
    "        last_t = 0\n",
    "        state = torch.zeros((1, state_size))\n",
    "        loss = 0.\n",
    "        #results = []\n",
    "        for timestep in path:\n",
    "            current_pred = []\n",
    "            for _ in range(num_tries):\n",
    "                current_pred.append(last_t + model.sample_one(state))\n",
    "            current_pred = torch.stack(current_pred)\n",
    "            #results.append(torch.mean(current_pred))\n",
    "            loss += torch.log(scoring_func(current_pred, timestep))\n",
    "            delta = timestep-last_t\n",
    "            last_t = timestep\n",
    "            state = model.evolve_state(state, delta)\n",
    "        print(\"loss: \", loss)\n",
    "        loss.backward()\n",
    "        torch.nn.utils.clip_grad_norm_(model.parameters(), max_norm=2)\n",
    "        optimizer.step()\n",
    "\n",
    "        #for name, param in model.named_parameters():\n",
    "        #    print(f\"Parameter Name: {name}\")\n",
    "        #    print(f\"Parameter Value: {param}\")\n",
    "        #    print(f\"Gradients: {param.grad}\")\n",
    "        #    print(f\"Parameter Shape: {param.shape}\")\n",
    "        #    print(f\"Requires Gradient: {param.requires_grad}\")\n",
    "        #    print(\"-\" * 40)\n",
    "        #return\n",
    "        optimizer.zero_grad()\n"
   ]
  },
  {
   "cell_type": "code",
   "execution_count": null,
   "metadata": {},
   "outputs": [],
   "source": [
    "# parameter dicts\n",
    "width= 16\n",
    "user_state_dict = {\"model_hyp\": {\"layer_width\": [width, width, width]}}\n",
    "intensity_state_dict = {\"model_hyp\": {\"layer_width\": [width, width, width],\n",
    "                                                         \"noise\": 0}\n",
    "                            }\n",
    "\n",
    "\n",
    "hyperparameter_dict = {\"state_size\": state_size, \"state_model\": user_state_dict, \n",
    "                           \"intensity_model\": intensity_state_dict,# \"num_recom\" : num_items_per_recom,\n",
    "                            \"noise\": 0.}\n",
    "train_model = Toy_intensity_Generator(hyperparameter_dict)"
   ]
  },
  {
   "cell_type": "code",
   "execution_count": null,
   "metadata": {},
   "outputs": [],
   "source": [
    "path_train = join(paths.dat, SETTINGS.filepaths_new[\"copy_intensity_model\"]\n",
    "            )\n",
    "#torch.save(gen_model.state_dict(), path_train)\n",
    "#train_model.load_state_dict(torch.load(path_train))"
   ]
  },
  {
   "cell_type": "code",
   "execution_count": null,
   "metadata": {},
   "outputs": [],
   "source": [
    "sample_path = torch.as_tensor(sample_path)\n",
    "optimizer = optim.AdamW(train_model.parameters(), lr=0.1,\n",
    "                        weight_decay=1e-7)\n"
   ]
  },
  {
   "cell_type": "code",
   "execution_count": null,
   "metadata": {},
   "outputs": [],
   "source": [
    "#train_single(train_model, sample_path, scoring_func=utils.energy_score_loss,\n",
    "#            optimizer=optimizer, num_epochs=30, num_tries=10)"
   ]
  },
  {
   "cell_type": "markdown",
   "metadata": {},
   "source": [
    "### function approximation\n",
    "\n"
   ]
  },
  {
   "cell_type": "code",
   "execution_count": null,
   "metadata": {},
   "outputs": [],
   "source": [
    "from simtrain.sim_models_new import all_in_one_model\n",
    "\n",
    "width=64\n",
    "user_state_dict = {\"model_hyp\": {\"layer_width\": [width, width, width, width]}}\n",
    "time_dict = {\"model_hyp\": {\"layer_width\": [width, width, width, 3]}\n",
    "                            }\n",
    "\n",
    "timecheat = False\n",
    "hyperparameter_dict = {\"state_size\": state_size, \"time_model\": time_dict, \n",
    "                           \"state_model\": user_state_dict}\n",
    "train_model = all_in_one_model(hyperparameter_dict, timecheat=timecheat)"
   ]
  },
  {
   "cell_type": "code",
   "execution_count": null,
   "metadata": {},
   "outputs": [],
   "source": [
    "def train_single_function_approx(model, path, scoring_func,optimizer, num_epochs=100, \n",
    "                                 num_tries=20, timecheat=False, loss_print_interval=1):\n",
    "    \n",
    "    for iter in tqdm(range(num_epochs)):\n",
    "        last_t = 0\n",
    "        state = torch.zeros((1, state_size))\n",
    "        loss = 0.\n",
    "        mse_loss = nn.MSELoss()\n",
    "        #results = []\n",
    "        for timestep in path:\n",
    "            current_pred = []\n",
    "            for _ in range(num_tries):\n",
    "                if timecheat:\n",
    "                    next_time = model.get_time(state, timestep)\n",
    "                else:\n",
    "                    next_time = model.get_time(state)\n",
    "                #print(f\"next_time: {next_time}, next_state: {next_state}\")\n",
    "                current_pred.append(last_t + next_time)\n",
    "            current_pred = torch.stack(current_pred)\n",
    "            last_t = timestep\n",
    "            #results.append(torch.mean(current_pred))\n",
    "            timestep = torch.Tensor([[timestep]])\n",
    "            #print(torch.mean(current_pred))\n",
    "            #loss = loss + mse_loss(next_time, timestep)\n",
    "            loss += torch.log(scoring_func(current_pred, timestep)+1e-25)# + thing should be useless\n",
    "\n",
    "            state = model.get_new_state(state, timestep)\n",
    "        if iter %loss_print_interval == 0:\n",
    "            print(\"loss: \", loss)\n",
    "        loss.backward()\n",
    "        torch.nn.utils.clip_grad_norm_(model.parameters(), max_norm=1.)\n",
    "        optimizer.step()\n",
    "\n",
    "        #for name, param in model.named_parameters():\n",
    "        #    print(f\"Parameter Name: {name}\")\n",
    "        #    print(f\"Gradients: {param.grad}\")\n",
    "        #    print(f\"Parameter Value: {param}\")\n",
    "        #    print(f\"Parameter Shape: {param.shape}\")\n",
    "        #    print(f\"Requires Gradient: {param.requires_grad}\")\n",
    "        #    print(\"-\" * 40)\n",
    "        #return\n",
    "        optimizer.zero_grad()\n",
    "\n",
    "        #return results\n",
    "    print(\"loss: \", loss)\n",
    "    "
   ]
  },
  {
   "cell_type": "code",
   "execution_count": null,
   "metadata": {},
   "outputs": [],
   "source": [
    "optimizer = optim.AdamW(train_model.parameters(), lr=0.1,\n",
    "                        weight_decay=1e-7)"
   ]
  },
  {
   "cell_type": "code",
   "execution_count": null,
   "metadata": {},
   "outputs": [],
   "source": [
    "train_single_function_approx(train_model, sample_path,scoring_func=utils.energy_score_loss,\n",
    "            optimizer=optimizer, num_epochs=100, num_tries=20, timecheat=timecheat, loss_print_interval=10)"
   ]
  },
  {
   "cell_type": "code",
   "execution_count": null,
   "metadata": {},
   "outputs": [],
   "source": [
    "optimizer = optim.AdamW(train_model.parameters(), lr=0.01,\n",
    "                        weight_decay=1e-7)"
   ]
  },
  {
   "cell_type": "code",
   "execution_count": null,
   "metadata": {},
   "outputs": [],
   "source": [
    "train_single_function_approx(train_model, sample_path,scoring_func=utils.energy_score_loss,\n",
    "            optimizer=optimizer, num_epochs=200,timecheat=timecheat, num_tries=20, loss_print_interval=20)"
   ]
  },
  {
   "cell_type": "code",
   "execution_count": null,
   "metadata": {},
   "outputs": [],
   "source": [
    "optimizer = optim.AdamW(train_model.parameters(), lr=0.001,\n",
    "                        weight_decay=1e-7)"
   ]
  },
  {
   "cell_type": "code",
   "execution_count": null,
   "metadata": {},
   "outputs": [],
   "source": [
    "train_single_function_approx(train_model, sample_path, scoring_func=utils.energy_score_loss,\n",
    "            optimizer=optimizer, num_epochs=300,timecheat=timecheat, num_tries=20, loss_print_interval=20)"
   ]
  },
  {
   "cell_type": "code",
   "execution_count": null,
   "metadata": {},
   "outputs": [],
   "source": [
    "optimizer = optim.AdamW(train_model.parameters(), lr=0.00001,\n",
    "                        weight_decay=1e-7)"
   ]
  },
  {
   "cell_type": "code",
   "execution_count": null,
   "metadata": {},
   "outputs": [],
   "source": [
    "train_single_function_approx(train_model, sample_path,scoring_func=utils.energy_score_loss,\n",
    "            optimizer=optimizer, num_epochs=3000,timecheat=timecheat, num_tries=20, loss_print_interval=20)"
   ]
  },
  {
   "cell_type": "code",
   "execution_count": null,
   "metadata": {},
   "outputs": [],
   "source": [
    "adsfasdf"
   ]
  },
  {
   "cell_type": "markdown",
   "metadata": {},
   "source": [
    "### Predict intensities"
   ]
  },
  {
   "cell_type": "code",
   "execution_count": 38,
   "metadata": {},
   "outputs": [],
   "source": [
    "train_sorted = False\n",
    "batchsize = 1"
   ]
  },
  {
   "cell_type": "code",
   "execution_count": 65,
   "metadata": {},
   "outputs": [
    {
     "name": "stdout",
     "output_type": "stream",
     "text": [
      "Toy_intensity_Comparer(\n",
      "  (embed): SignWaveEmbedding()\n",
      "  (user_state_model): Base_Model(\n",
      "    (model): Sequential(\n",
      "      (0): Linear(in_features=37, out_features=32, bias=True)\n",
      "      (1): SiLU()\n",
      "      (2): Linear(in_features=32, out_features=32, bias=True)\n",
      "      (3): SiLU()\n",
      "      (4): Linear(in_features=32, out_features=32, bias=True)\n",
      "      (5): SiLU()\n",
      "      (6): Linear(in_features=32, out_features=4, bias=True)\n",
      "    )\n",
      "  )\n",
      "  (intensity_model): User_State_Intensity_Model_simple(\n",
      "    (model): Sequential(\n",
      "      (0): Linear(in_features=4, out_features=32, bias=True)\n",
      "      (1): SiLU()\n",
      "      (2): Linear(in_features=32, out_features=32, bias=True)\n",
      "      (3): SiLU()\n",
      "      (4): Linear(in_features=32, out_features=1, bias=True)\n",
      "    )\n",
      "  )\n",
      ")\n"
     ]
    }
   ],
   "source": [
    "width=32\n",
    "intensity = {\"model_hyp\": {\"layer_width\": [width for _ in range(2)]}}\n",
    "state_dict = {\"model_hyp\": {\"layer_width\": [width for _ in range(3)]},\n",
    "            }\n",
    "\n",
    "timecheat = False\n",
    "hyperparameter_dict = {\"state_size\": state_size, \"state_model\": state_dict, \n",
    "                           \"intensity_model\": intensity,\n",
    "                           \"time_embedding_size\" :32, \"max_freq\": 20,\n",
    "                           }\n",
    "model = Toy_intensity_Comparer(hyperparameter_dict)\n",
    "print(model)\n"
   ]
  },
  {
   "cell_type": "code",
   "execution_count": 66,
   "metadata": {},
   "outputs": [
    {
     "name": "stdout",
     "output_type": "stream",
     "text": [
      "Timestep: 0.5679, Frequency: 0.0\n",
      "Timestep: 2.5509, Frequency: 0.0\n",
      "Timestep: 3.0090, Frequency: 0.0\n",
      "Timestep: 3.3478, Frequency: 0.0\n",
      "Timestep: 5.0833, Frequency: 2.0\n",
      "Timestep: 5.9105, Frequency: 0.0\n",
      "Timestep: 6.3958, Frequency: 2.0\n",
      "Timestep: 7.3514, Frequency: 0.0\n",
      "Timestep: 7.9866, Frequency: 0.0\n",
      "Timestep: 8.0947, Frequency: 0.0\n",
      "Timestep: 8.9932, Frequency: 0.0\n",
      "Timestep: 10.8222, Frequency: 0.0\n",
      "Timestep: 11.8125, Frequency: 2.0\n",
      "Timestep: 14.9683, Frequency: 0.0\n",
      "Timestep: 16.2534, Frequency: 0.0\n",
      "Timestep: 16.4775, Frequency: 0.0\n",
      "Timestep: 16.9637, Frequency: 0.0\n",
      "Timestep: 17.9593, Frequency: 0.0\n",
      "Timestep: 18.5707, Frequency: 0.0\n",
      "Timestep: 20.0295, Frequency: 0.0\n"
     ]
    }
   ],
   "source": [
    "# create dataset\n",
    "\n",
    "import torch\n",
    "import numpy as np\n",
    "import pandas as pd\n",
    "from torch.utils.data import Dataset, DataLoader\n",
    "\n",
    "\n",
    "class TimestepFrequencyDataset(Dataset):\n",
    "    def __init__(self, timesteps, num_random_points=100, interval=0.5, max_time=70):\n",
    "        \"\"\"\n",
    "        Args:\n",
    "            timesteps (numpy array): Array of positive timesteps.\n",
    "            num_random_points (int): Number of random points to generate.\n",
    "            interval (float): Interval length to compute frequency.\n",
    "            max_time (float): maximum time the dataset is allowed to contain.\n",
    "        \"\"\"\n",
    "        self.timesteps = np.array(timesteps)\n",
    "        self.num_random_points = num_random_points\n",
    "        self.interval = interval\n",
    "        \n",
    "        # Generate random time points and ensure they include actual timesteps\n",
    "        self.max_time = max_time\n",
    "        self.random_points = np.sort(np.random.uniform(0, self.max_time, self.num_random_points))\n",
    "        self.unique_points = np.unique(np.concatenate([self.random_points, self.timesteps]))\n",
    "        \n",
    "        # Calculate frequencies for each point\n",
    "        self.frequencies = np.array([self.calculate_frequency(point) for point in self.unique_points])\n",
    "        \n",
    "    def calculate_frequency(self, point):\n",
    "        \"\"\"\n",
    "        Calculate frequency of events in the interval [point, point + interval).\n",
    "        \n",
    "        Args:\n",
    "            point (float): The point to calculate frequency for.\n",
    "        \n",
    "        Returns:\n",
    "            float: Frequency of events per interval.\n",
    "        \"\"\"\n",
    "        # could be made more efficient by using the input is sorted\n",
    "        count = np.sum(np.abs(self.timesteps - point) <= self.interval/2)\n",
    "        frequency = count / self.interval\n",
    "        return frequency\n",
    "    \n",
    "    def __len__(self):\n",
    "        return len(self.unique_points)\n",
    "    \n",
    "    def __getitem__(self, idx):\n",
    "        \"\"\"\n",
    "        Get item at index `idx`.\n",
    "        \n",
    "        Args:\n",
    "            idx (int): Index of the item to fetch.\n",
    "        \n",
    "        Returns:\n",
    "            dict: A dictionary with 'timestep' and 'frequency'.\n",
    "        \"\"\"\n",
    "        timestep = self.unique_points[idx]\n",
    "        frequency = self.frequencies[idx]\n",
    "        return {'timestep': torch.tensor(timestep, dtype=torch.float32),\n",
    "                'frequency': torch.tensor(frequency, dtype=torch.float32)}\n",
    "\n",
    "# Example usage\n",
    "dataset = TimestepFrequencyDataset(sample_path, num_random_points=50)\n",
    "\n",
    "# Accessing items from the dataset\n",
    "for i in range(min(len(dataset), 20)):\n",
    "    sample = dataset[i]\n",
    "    print(f\"Timestep: {sample['timestep'].item():.4f}, Frequency: {sample['frequency'].item()}\")\n",
    "\n",
    "dataloader = DataLoader(dataset, batch_size=batchsize, shuffle=not train_sorted\n",
    "                        )"
   ]
  },
  {
   "cell_type": "code",
   "execution_count": 67,
   "metadata": {},
   "outputs": [
    {
     "name": "stdout",
     "output_type": "stream",
     "text": [
      "Using device: cpu\n"
     ]
    }
   ],
   "source": [
    "steps_per_epoch = len(dataset) // batchsize  \n",
    "if len(dataset) % batchsize  != 0:\n",
    "    steps_per_epoch+=1\n",
    "num_epochs = 200\n",
    "warmup_period = steps_per_epoch\n",
    "num_steps = num_epochs*steps_per_epoch - warmup_period\n",
    "num_iter_til_first_restart = num_steps + 1\n",
    "user_lr = 0.005\n",
    "\n",
    "device = torch.device(\"cuda\" if torch.cuda.is_available() else \"cpu\")\n",
    "print(f\"Using device: {device}\")\n",
    "\n",
    "optimizer = optim.AdamW(model.parameters(), lr=user_lr,\n",
    "                        weight_decay=1e-7)\n",
    "lr_scheduler = optim.lr_scheduler.CosineAnnealingWarmRestarts(\n",
    "    optimizer, T_0=num_iter_til_first_restart, T_mult=1, eta_min=5e-5)\n",
    "\n",
    "warmup_scheduler = warmup.LinearWarmup(optimizer, warmup_period)\n"
   ]
  },
  {
   "cell_type": "code",
   "execution_count": 68,
   "metadata": {},
   "outputs": [],
   "source": [
    "def train_density(model, dataloader, criterion, optimizer, warmup_scheduler,state_size, \n",
    "            num_epochs=100, loss_print_interval=1, print_grad=False):\n",
    "    \n",
    "    for iter in tqdm(range(num_epochs)):\n",
    "        loss_sum = 0.0\n",
    "        \n",
    "        for batch in dataloader:\n",
    "            timesteps = batch['timestep'].unsqueeze(1)  # Add batch dimension\n",
    "            frequencies = batch['frequency']\n",
    "            state = torch.zeros((len(timesteps), state_size))\n",
    "            optimizer.zero_grad()\n",
    "            \n",
    "            # Forward pass\n",
    "            outputs = model(state, timesteps)\n",
    "            \n",
    "            loss = criterion(outputs, frequencies)  # Remove extra dimension from output\n",
    "            loss.backward()\n",
    "            loss_sum += loss.item()\n",
    "            #print(f\"loss: {loss} \\tfrequencies: {frequencies} \\n predicted: {outputs}\")\n",
    "            torch.nn.utils.clip_grad_norm_(model.parameters(), max_norm=1.)\n",
    "            optimizer.step()    \n",
    "\n",
    "            with warmup_scheduler.dampening():\n",
    "                if warmup_scheduler.last_step + 1 >= warmup_period:\n",
    "                    lr_scheduler.step()\n",
    "        if iter % loss_print_interval == 0:\n",
    "            print(f\"epch: {iter} loss_sum: {loss_sum :.4f}\")\n",
    "            if print_grad:\n",
    "                for name, param in model.named_parameters():\n",
    "                    print(f\"Parameter Name: {name}\")\n",
    "                    print(f\"Gradients: {param.grad}\")\n",
    "            print(f\"frequencies: {frequencies} \\n predicted: {outputs}, time: {timesteps}\")\n",
    "            \n",
    "    print(f\"epch: {iter} loss_sum: {loss_sum :.4f}\")\n",
    "\n",
    "def train_density_sorted():\n",
    "    pass\n",
    "\n",
    "def print_res(model, dataloader, criterion,state_size):\n",
    "    for batch in dataloader:\n",
    "        timesteps = batch['timestep'].unsqueeze(1)  # Add batch dimension\n",
    "        frequencies = batch['frequency']\n",
    "        state = torch.zeros((len(timesteps), state_size))\n",
    "        optimizer.zero_grad()\n",
    "        \n",
    "        # Forward pass\n",
    "        outputs = model(state, timesteps)\n",
    "\n",
    "        loss = criterion(outputs, frequencies)  # Remove extra dimension from output\n",
    "        print(f\"loss: {loss} \\tfrequencies: {frequencies} \\t predicted: {outputs}, \\ttime: {timesteps}\")\n",
    "        loss.backward()\n",
    "\n",
    "        #for name, param in model.named_parameters():\n",
    "        #    print(f\"Parameter Name: {name}\")\n",
    "        #    print(f\"Gradients: {param.grad}\")\n"
   ]
  },
  {
   "cell_type": "code",
   "execution_count": 69,
   "metadata": {},
   "outputs": [],
   "source": [
    "def weighted_mse_loss(prediction, target, weight_pos=10):\n",
    "    weights = torch.ones_like(target)\n",
    "\n",
    "    # Create a tensor of additional values based on the condition\n",
    "    weights = torch.where(target > 0, torch.tensor(weight_pos), weights)\n",
    "\n",
    "    return torch.sum(weights * (prediction - target) ** 2)"
   ]
  },
  {
   "cell_type": "code",
   "execution_count": 70,
   "metadata": {},
   "outputs": [
    {
     "name": "stderr",
     "output_type": "stream",
     "text": [
      "  1%|          | 2/200 [00:00<00:15, 13.03it/s]"
     ]
    },
    {
     "name": "stdout",
     "output_type": "stream",
     "text": [
      "epch: 0 loss_sum: 494.9495\n",
      "frequencies: tensor([0.]) \n",
      " predicted: tensor([[0.3596]], grad_fn=<SoftplusBackward0>), time: tensor([[3.0090]])\n"
     ]
    },
    {
     "name": "stderr",
     "output_type": "stream",
     "text": [
      " 26%|██▌       | 52/200 [00:04<00:11, 13.13it/s]"
     ]
    },
    {
     "name": "stdout",
     "output_type": "stream",
     "text": [
      "epch: 50 loss_sum: 8.4361\n",
      "frequencies: tensor([2.]) \n",
      " predicted: tensor([[1.9187]], grad_fn=<SoftplusBackward0>), time: tensor([[11.8125]])\n"
     ]
    },
    {
     "name": "stderr",
     "output_type": "stream",
     "text": [
      " 51%|█████     | 102/200 [00:07<00:06, 14.20it/s]"
     ]
    },
    {
     "name": "stdout",
     "output_type": "stream",
     "text": [
      "epch: 100 loss_sum: 1.0916\n",
      "frequencies: tensor([0.]) \n",
      " predicted: tensor([[3.7121e-36]], grad_fn=<SoftplusBackward0>), time: tensor([[60.6929]])\n"
     ]
    },
    {
     "name": "stderr",
     "output_type": "stream",
     "text": [
      " 76%|███████▌  | 152/200 [00:11<00:03, 13.70it/s]"
     ]
    },
    {
     "name": "stdout",
     "output_type": "stream",
     "text": [
      "epch: 150 loss_sum: 0.0185\n",
      "frequencies: tensor([0.]) \n",
      " predicted: tensor([[9.3104e-36]], grad_fn=<SoftplusBackward0>), time: tensor([[17.9593]])\n"
     ]
    },
    {
     "name": "stderr",
     "output_type": "stream",
     "text": [
      "100%|██████████| 200/200 [00:15<00:00, 13.14it/s]"
     ]
    },
    {
     "name": "stdout",
     "output_type": "stream",
     "text": [
      "epch: 199 loss_sum: 0.0016\n"
     ]
    },
    {
     "name": "stderr",
     "output_type": "stream",
     "text": [
      "\n"
     ]
    }
   ],
   "source": [
    "train_density(model, dataloader, criterion=weighted_mse_loss, state_size=state_size,\n",
    "                optimizer=optimizer, num_epochs=num_epochs, warmup_scheduler=warmup_scheduler,\n",
    "                loss_print_interval=50)"
   ]
  },
  {
   "cell_type": "code",
   "execution_count": 34,
   "metadata": {},
   "outputs": [],
   "source": [
    "#dataloader = DataLoader(dataset, batch_size=1, shuffle=not train_sorted) "
   ]
  },
  {
   "cell_type": "code",
   "execution_count": 35,
   "metadata": {},
   "outputs": [
    {
     "name": "stdout",
     "output_type": "stream",
     "text": [
      "27\n"
     ]
    }
   ],
   "source": [
    "print(len(dataset))"
   ]
  },
  {
   "cell_type": "code",
   "execution_count": 53,
   "metadata": {},
   "outputs": [
    {
     "name": "stdout",
     "output_type": "stream",
     "text": [
      "loss: 1.585928365179937e-38 \tfrequencies: tensor([0.]) \t predicted: tensor([[1.2593e-19]], grad_fn=<SoftplusBackward0>), \ttime: tensor([[17.4295]])\n",
      "loss: 0.00025650241877883673 \tfrequencies: tensor([2.]) \t predicted: tensor([[1.9949]], grad_fn=<SoftplusBackward0>), \ttime: tensor([[42.8542]])\n",
      "loss: 0.0001919264905154705 \tfrequencies: tensor([2.]) \t predicted: tensor([[1.9956]], grad_fn=<SoftplusBackward0>), \ttime: tensor([[40.1042]])\n",
      "loss: 1.1314373296045233e-06 \tfrequencies: tensor([0.]) \t predicted: tensor([[0.0011]], grad_fn=<SoftplusBackward0>), \ttime: tensor([[38.5780]])\n",
      "loss: 2.6339147529697016e-10 \tfrequencies: tensor([0.]) \t predicted: tensor([[1.6229e-05]], grad_fn=<SoftplusBackward0>), \ttime: tensor([[41.4572]])\n",
      "loss: 9.700289221177657e-30 \tfrequencies: tensor([0.]) \t predicted: tensor([[3.1145e-15]], grad_fn=<SoftplusBackward0>), \ttime: tensor([[7.0561]])\n",
      "loss: 4.953182497564166e-35 \tfrequencies: tensor([0.]) \t predicted: tensor([[7.0379e-18]], grad_fn=<SoftplusBackward0>), \ttime: tensor([[24.7590]])\n",
      "loss: 7.38737071515061e-05 \tfrequencies: tensor([4.]) \t predicted: tensor([[3.9973]], grad_fn=<SoftplusBackward0>), \ttime: tensor([[28.1583]])\n",
      "loss: 1.9763025221822602e-32 \tfrequencies: tensor([0.]) \t predicted: tensor([[1.4058e-16]], grad_fn=<SoftplusBackward0>), \ttime: tensor([[7.1123]])\n",
      "loss: 2.5412382701622827e-12 \tfrequencies: tensor([0.]) \t predicted: tensor([[1.5941e-06]], grad_fn=<SoftplusBackward0>), \ttime: tensor([[55.4826]])\n",
      "loss: 1.3886570929613762e-12 \tfrequencies: tensor([0.]) \t predicted: tensor([[1.1784e-06]], grad_fn=<SoftplusBackward0>), \ttime: tensor([[47.9520]])\n",
      "loss: 0.0 \tfrequencies: tensor([0.]) \t predicted: tensor([[1.4005e-23]], grad_fn=<SoftplusBackward0>), \ttime: tensor([[56.8795]])\n",
      "loss: 2.930414666479919e-07 \tfrequencies: tensor([2.]) \t predicted: tensor([[2.0002]], grad_fn=<SoftplusBackward0>), \ttime: tensor([[5.1066]])\n",
      "loss: 4.1478434544014585e-43 \tfrequencies: tensor([0.]) \t predicted: tensor([[6.4407e-22]], grad_fn=<SoftplusBackward0>), \ttime: tensor([[66.7804]])\n",
      "loss: 2.1704019874738134e-13 \tfrequencies: tensor([0.]) \t predicted: tensor([[4.6588e-07]], grad_fn=<SoftplusBackward0>), \ttime: tensor([[14.4060]])\n",
      "loss: 3.980868541475502e-07 \tfrequencies: tensor([0.]) \t predicted: tensor([[0.0006]], grad_fn=<SoftplusBackward0>), \ttime: tensor([[8.9586]])\n",
      "loss: 0.00023574853548780084 \tfrequencies: tensor([2.]) \t predicted: tensor([[1.9951]], grad_fn=<SoftplusBackward0>), \ttime: tensor([[42.8372]])\n",
      "loss: 5.280084618454746e-19 \tfrequencies: tensor([0.]) \t predicted: tensor([[7.2664e-10]], grad_fn=<SoftplusBackward0>), \ttime: tensor([[61.3975]])\n",
      "loss: 5.15862893735175e-06 \tfrequencies: tensor([2.]) \t predicted: tensor([[1.9993]], grad_fn=<SoftplusBackward0>), \ttime: tensor([[42.6059]])\n",
      "loss: 1.5910964540519801e-24 \tfrequencies: tensor([0.]) \t predicted: tensor([[1.2614e-12]], grad_fn=<SoftplusBackward0>), \ttime: tensor([[69.9361]])\n",
      "loss: 1.9103310828031054e-25 \tfrequencies: tensor([0.]) \t predicted: tensor([[4.3707e-13]], grad_fn=<SoftplusBackward0>), \ttime: tensor([[33.8571]])\n",
      "loss: 1.3653283836845276e-08 \tfrequencies: tensor([0.]) \t predicted: tensor([[0.0001]], grad_fn=<SoftplusBackward0>), \ttime: tensor([[37.2121]])\n",
      "loss: 0.0 \tfrequencies: tensor([0.]) \t predicted: tensor([[1.4225e-23]], grad_fn=<SoftplusBackward0>), \ttime: tensor([[56.8903]])\n",
      "loss: 9.80908925027372e-45 \tfrequencies: tensor([0.]) \t predicted: tensor([[9.5439e-23]], grad_fn=<SoftplusBackward0>), \ttime: tensor([[20.4465]])\n",
      "loss: 0.0 \tfrequencies: tensor([0.]) \t predicted: tensor([[1.5379e-23]], grad_fn=<SoftplusBackward0>), \ttime: tensor([[56.8002]])\n",
      "loss: 1.9164182540225335e-25 \tfrequencies: tensor([0.]) \t predicted: tensor([[4.3777e-13]], grad_fn=<SoftplusBackward0>), \ttime: tensor([[69.8991]])\n",
      "loss: 0.0 \tfrequencies: tensor([0.]) \t predicted: tensor([[1.2081e-23]], grad_fn=<SoftplusBackward0>), \ttime: tensor([[24.1468]])\n",
      "loss: 1.0939937110983847e-41 \tfrequencies: tensor([0.]) \t predicted: tensor([[3.3075e-21]], grad_fn=<SoftplusBackward0>), \ttime: tensor([[67.4229]])\n",
      "loss: 0.00043532525887712836 \tfrequencies: tensor([0.]) \t predicted: tensor([[0.0209]], grad_fn=<SoftplusBackward0>), \ttime: tensor([[40.5117]])\n",
      "loss: 9.04772221962033e-18 \tfrequencies: tensor([0.]) \t predicted: tensor([[3.0079e-09]], grad_fn=<SoftplusBackward0>), \ttime: tensor([[49.0474]])\n",
      "loss: 2.1708653145451758e-33 \tfrequencies: tensor([0.]) \t predicted: tensor([[4.6593e-17]], grad_fn=<SoftplusBackward0>), \ttime: tensor([[17.6915]])\n",
      "loss: 1.2753213119924767e-38 \tfrequencies: tensor([0.]) \t predicted: tensor([[1.1293e-19]], grad_fn=<SoftplusBackward0>), \ttime: tensor([[19.5547]])\n",
      "loss: 2.227540305302134e-33 \tfrequencies: tensor([0.]) \t predicted: tensor([[4.7197e-17]], grad_fn=<SoftplusBackward0>), \ttime: tensor([[59.7716]])\n",
      "loss: 0.00047749283839948475 \tfrequencies: tensor([2.]) \t predicted: tensor([[1.9931]], grad_fn=<SoftplusBackward0>), \ttime: tensor([[5.0833]])\n",
      "loss: 3.2013602944671666e-27 \tfrequencies: tensor([0.]) \t predicted: tensor([[5.6581e-14]], grad_fn=<SoftplusBackward0>), \ttime: tensor([[60.0634]])\n",
      "loss: 27.961206436157227 \tfrequencies: tensor([2.]) \t predicted: tensor([[0.3278]], grad_fn=<SoftplusBackward0>), \ttime: tensor([[11.8125]])\n",
      "loss: 4.6946948373260966e-07 \tfrequencies: tensor([0.]) \t predicted: tensor([[0.0007]], grad_fn=<SoftplusBackward0>), \ttime: tensor([[32.5485]])\n",
      "loss: 3.797518838320254e-43 \tfrequencies: tensor([0.]) \t predicted: tensor([[6.1669e-22]], grad_fn=<SoftplusBackward0>), \ttime: tensor([[67.3299]])\n",
      "loss: 4.125681414279825e-07 \tfrequencies: tensor([0.]) \t predicted: tensor([[0.0006]], grad_fn=<SoftplusBackward0>), \ttime: tensor([[15.1682]])\n",
      "loss: 8.903344195232421e-08 \tfrequencies: tensor([0.]) \t predicted: tensor([[0.0003]], grad_fn=<SoftplusBackward0>), \ttime: tensor([[22.2666]])\n",
      "loss: 8.584018339155028e-23 \tfrequencies: tensor([0.]) \t predicted: tensor([[9.2650e-12]], grad_fn=<SoftplusBackward0>), \ttime: tensor([[53.8260]])\n",
      "loss: 8.64826176611774e-26 \tfrequencies: tensor([0.]) \t predicted: tensor([[2.9408e-13]], grad_fn=<SoftplusBackward0>), \ttime: tensor([[33.9192]])\n",
      "loss: 4.1179111089602858e-19 \tfrequencies: tensor([0.]) \t predicted: tensor([[6.4171e-10]], grad_fn=<SoftplusBackward0>), \ttime: tensor([[53.0426]])\n",
      "loss: 0.00020492402836680412 \tfrequencies: tensor([2.]) \t predicted: tensor([[1.9955]], grad_fn=<SoftplusBackward0>), \ttime: tensor([[6.3958]])\n",
      "loss: 9.616015979959574e-18 \tfrequencies: tensor([0.]) \t predicted: tensor([[3.1010e-09]], grad_fn=<SoftplusBackward0>), \ttime: tensor([[46.0244]])\n",
      "loss: 0.10714982450008392 \tfrequencies: tensor([0.]) \t predicted: tensor([[0.3273]], grad_fn=<SoftplusBackward0>), \ttime: tensor([[11.4730]])\n",
      "loss: 2.908949937574354e-20 \tfrequencies: tensor([0.]) \t predicted: tensor([[1.7056e-10]], grad_fn=<SoftplusBackward0>), \ttime: tensor([[60.5575]])\n",
      "loss: 7.069383745061941e-09 \tfrequencies: tensor([0.]) \t predicted: tensor([[8.4080e-05]], grad_fn=<SoftplusBackward0>), \ttime: tensor([[9.7991]])\n",
      "loss: 0.10711611062288284 \tfrequencies: tensor([0.]) \t predicted: tensor([[0.3273]], grad_fn=<SoftplusBackward0>), \ttime: tensor([[12.2360]])\n",
      "loss: 3.467574025512617e-35 \tfrequencies: tensor([0.]) \t predicted: tensor([[5.8886e-18]], grad_fn=<SoftplusBackward0>), \ttime: tensor([[17.6125]])\n",
      "loss: 0.00019559962674975395 \tfrequencies: tensor([4.]) \t predicted: tensor([[3.9956]], grad_fn=<SoftplusBackward0>), \ttime: tensor([[28.0417]])\n",
      "loss: 4.994111009182234e-07 \tfrequencies: tensor([0.]) \t predicted: tensor([[0.0007]], grad_fn=<SoftplusBackward0>), \ttime: tensor([[32.1834]])\n",
      "loss: 1.2448315484565643e-18 \tfrequencies: tensor([0.]) \t predicted: tensor([[1.1157e-09]], grad_fn=<SoftplusBackward0>), \ttime: tensor([[4.3599]])\n",
      "loss: 0.00011291424016235396 \tfrequencies: tensor([4.]) \t predicted: tensor([[3.9966]], grad_fn=<SoftplusBackward0>), \ttime: tensor([[28.2708]])\n",
      "loss: 3.967130851378897e-06 \tfrequencies: tensor([0.]) \t predicted: tensor([[0.0020]], grad_fn=<SoftplusBackward0>), \ttime: tensor([[27.1299]])\n",
      "loss: 4.621400006255871e-36 \tfrequencies: tensor([0.]) \t predicted: tensor([[2.1497e-18]], grad_fn=<SoftplusBackward0>), \ttime: tensor([[58.1419]])\n",
      "loss: 1.1682851130956351e-08 \tfrequencies: tensor([0.]) \t predicted: tensor([[0.0001]], grad_fn=<SoftplusBackward0>), \ttime: tensor([[31.7249]])\n"
     ]
    }
   ],
   "source": [
    "print_res(model, dataloader, weighted_mse_loss, state_size=state_size,)"
   ]
  },
  {
   "cell_type": "code",
   "execution_count": 71,
   "metadata": {},
   "outputs": [
    {
     "data": {
      "image/png": "[encoded data removed]",
      "text/plain": [
       "<Figure size 1000x600 with 1 Axes>"
      ]
     },
     "metadata": {},
     "output_type": "display_data"
    }
   ],
   "source": [
    "x_range = np.linspace(-1, 70, 200)  # Adjust the range as needed\n",
    "x_range_tensor = torch.tensor(x_range, dtype=torch.float32).unsqueeze(1)\n",
    "state = torch.zeros((len(x_range), state_size))\n",
    "model.eval()\n",
    "with torch.no_grad():\n",
    "    predictions = model(state, x_range_tensor).numpy()\n",
    "\n",
    "# Plot the results\n",
    "plt.figure(figsize=(10, 6))\n",
    "plt.plot(x_range, predictions, label='Model Predictions')\n",
    "\n",
    "for i in range(len(dataset)):\n",
    "    sample = dataset[i]\n",
    "    x_pos= sample['timestep'].item()\n",
    "    height =sample['frequency'].item()+.1\n",
    "    plt.plot([x_pos, x_pos], [0, height], linestyle='--', color='red')\n",
    "\n",
    "#plt.scatter(x_train.numpy(), y_train.numpy(), color='red', label='Training Data')\n",
    "plt.xlabel('Input')\n",
    "plt.ylabel('Output')\n",
    "plt.title('Model Predictions Over Input Range')\n",
    "plt.legend()\n",
    "plt.grid(True)\n",
    "plt.show()"
   ]
  },
  {
   "cell_type": "code",
   "execution_count": null,
   "metadata": {},
   "outputs": [],
   "source": [
    "sfs"
   ]
  },
  {
   "cell_type": "code",
   "execution_count": 46,
   "metadata": {},
   "outputs": [
    {
     "data": {
      "image/png": "[encoded data removed]",
      "text/plain": [
       "<Figure size 1000x600 with 1 Axes>"
      ]
     },
     "metadata": {},
     "output_type": "display_data"
    }
   ],
   "source": [
    "x_range = np.linspace(-1, 70, 200)  # Adjust the range as needed\n",
    "x_range_tensor = torch.tensor(x_range, dtype=torch.float32).unsqueeze(1)\n",
    "state = torch.zeros((len(x_range), state_size))\n",
    "model.eval()\n",
    "with torch.no_grad():\n",
    "    predictions = model(state, x_range_tensor).numpy()\n",
    "\n",
    "# Plot the results\n",
    "plt.figure(figsize=(10, 6))\n",
    "plt.plot(x_range, predictions, label='Model Predictions')\n",
    "\n",
    "for i in range(len(dataset)):\n",
    "    sample = dataset[i]\n",
    "    x_pos= sample['timestep'].item()\n",
    "    height =sample['frequency'].item()+.1\n",
    "    plt.plot([x_pos, x_pos], [0, height], linestyle='--', color='red')\n",
    "\n",
    "#plt.scatter(x_train.numpy(), y_train.numpy(), color='red', label='Training Data')\n",
    "plt.xlabel('Input')\n",
    "plt.ylabel('Output')\n",
    "plt.title('Model Predictions Over Input Range')\n",
    "plt.legend()\n",
    "plt.grid(True)\n",
    "plt.show()"
   ]
  },
  {
   "cell_type": "code",
   "execution_count": null,
   "metadata": {},
   "outputs": [
    {
     "data": {
      "image/png": "[encoded data removed]",
      "text/plain": [
       "<Figure size 1000x600 with 1 Axes>"
      ]
     },
     "metadata": {},
     "output_type": "display_data"
    }
   ],
   "source": [
    "x_range = np.linspace(-1, 70, 200)  # Adjust the range as needed\n",
    "x_range_tensor = torch.tensor(x_range, dtype=torch.float32).unsqueeze(1)\n",
    "state = torch.zeros((len(x_range), state_size))\n",
    "model.eval()\n",
    "with torch.no_grad():\n",
    "    predictions = model(state, x_range_tensor).numpy()\n",
    "\n",
    "# Plot the results\n",
    "plt.figure(figsize=(10, 6))\n",
    "plt.plot(x_range, predictions, label='Model Predictions')\n",
    "\n",
    "for i in range(len(dataset)):\n",
    "    sample = dataset[i]\n",
    "    x_pos= sample['timestep'].item()\n",
    "    height =sample['frequency'].item()+.1\n",
    "    plt.plot([x_pos, x_pos], [0, height], linestyle='--', color='red')\n",
    "\n",
    "#plt.scatter(x_train.numpy(), y_train.numpy(), color='red', label='Training Data')\n",
    "plt.xlabel('Input')\n",
    "plt.ylabel('Output')\n",
    "plt.title('Model Predictions Over Input Range')\n",
    "plt.legend()\n",
    "plt.grid(True)\n",
    "plt.show()"
   ]
  },
  {
   "cell_type": "code",
   "execution_count": null,
   "metadata": {},
   "outputs": [],
   "source": []
  },
  {
   "cell_type": "markdown",
   "metadata": {},
   "source": [
    "## Train via Evolution"
   ]
  },
  {
   "cell_type": "code",
   "execution_count": null,
   "metadata": {},
   "outputs": [],
   "source": [
    "from evotorch.algorithms import PGPE, CMAES\n",
    "from evotorch.logging import PandasLogger\n",
    "from functools import partial\n"
   ]
  },
  {
   "cell_type": "code",
   "execution_count": null,
   "metadata": {},
   "outputs": [],
   "source": [
    "# parameter dicts\n",
    "width= 64\n",
    "user_state_dict = {\"model_hyp\": {\"layer_width\": [width,width, width]}}\n",
    "intensity_state_dict = {\"model_hyp\": {\"layer_width\": [width, width,width],\n",
    "                                                         \"noise\": 0}\n",
    "                            }\n",
    "\n",
    "\n",
    "hyperparameter_dict = {\"state_size\": state_size, \"state_model\": user_state_dict, \n",
    "                           \"intensity_model\": intensity_state_dict,# \"num_recom\" : num_items_per_recom,\n",
    "                            \"noise\": 0.}\n",
    "train_model = Toy_intensity_Generator(hyperparameter_dict)"
   ]
  },
  {
   "cell_type": "code",
   "execution_count": null,
   "metadata": {},
   "outputs": [],
   "source": [
    "path_train = join(paths.dat, SETTINGS.filepaths_new[\"copy_intensity_model\"]\n",
    "            )\n",
    "#torch.save(gen_model.state_dict(), path_train)\n",
    "#train_model.load_state_dict(torch.load(path_train))"
   ]
  },
  {
   "cell_type": "code",
   "execution_count": null,
   "metadata": {},
   "outputs": [],
   "source": [
    "\n",
    "def eval_single(model, path, scoring_func, num_tries=20):\n",
    "    \n",
    "    last_t = 0\n",
    "    state = torch.zeros((1, state_size))\n",
    "    loss = 0.\n",
    "    #results = []\n",
    "    with torch.no_grad():\n",
    "        for timestep in path:\n",
    "            current_pred = []\n",
    "            for _ in range(num_tries):\n",
    "                out = model.sample_one(state)\n",
    "                current_pred.append(last_t + out)\n",
    "            current_pred = torch.stack(current_pred)\n",
    "            #results.append(torch.mean(current_pred))\n",
    "            loss += scoring_func(current_pred, timestep)\n",
    "            delta = timestep-last_t\n",
    "            last_t = timestep\n",
    "            state = model.evolve_state(state, delta)\n",
    "    \n",
    "    return loss\n",
    "\n",
    "\n",
    "eval_single_partial = partial(eval_single, path=sample_path, scoring_func=utils.energy_score_loss,\n",
    "                              num_tries=30)"
   ]
  },
  {
   "cell_type": "code",
   "execution_count": null,
   "metadata": {},
   "outputs": [
    {
     "data": {
      "text/plain": [
       "tensor(64.8485)"
      ]
     },
     "execution_count": 10,
     "metadata": {},
     "output_type": "execute_result"
    }
   ],
   "source": [
    "eval_single_partial(train_model)"
   ]
  },
  {
   "cell_type": "code",
   "execution_count": null,
   "metadata": {},
   "outputs": [],
   "source": [
    "device = torch.device(\"cuda\" if torch.cuda.is_available() else \"cpu\")\n",
    "\n",
    "Single_path_problem = evotorch.neuroevolution.NEProblem(\n",
    "    objective_sense=\"min\",\n",
    "    network= train_model,\n",
    "    #network=Toy_intensity_Generator,\n",
    "    #network_args = {\"hyperparameter_dict\": hyperparameter_dict},\n",
    "    network_eval_func=eval_single_partial,\n",
    "    device=device,\n",
    "    num_actors = 20,\n",
    ")"
   ]
  },
  {
   "cell_type": "code",
   "execution_count": null,
   "metadata": {},
   "outputs": [],
   "source": [
    "\n",
    "\n",
    "searcher = PGPE(\n",
    "    Single_path_problem,\n",
    "    popsize=40,\n",
    "    radius_init=5.,\n",
    "    center_learning_rate=0.2,\n",
    "    stdev_learning_rate=0.05,\n",
    ")\n",
    "'''\n",
    "searcher = CMAES(\n",
    "    Single_path_problem,\n",
    "    popsize=20,  \n",
    "    stdev_init= 2.\n",
    ")'''\n",
    "\n",
    "logger = PandasLogger(searcher)\n",
    "\n"
   ]
  },
  {
   "cell_type": "code",
   "execution_count": null,
   "metadata": {},
   "outputs": [],
   "source": [
    "num_iterations = 20\n",
    "for _ in tqdm(range(num_iterations), desc=\"Running PGPE\"):\n",
    "    searcher.step()"
   ]
  },
  {
   "cell_type": "markdown",
   "metadata": {},
   "source": [
    "1 epoch = 50(population) * 20(samples for expectation) * 1(number of paths) * 10'000(integration/for loop steps, worst case) * (2+1) (neural network calls) *10(number of events)= 300m NN calls per epoch\n",
    "\n",
    "for much worse approximation and still way too much compute:<br>\n",
    "1 epoch = 20(population) * 20(samples for expectation) * 1(number of paths) * 100(integration/for loop steps, worst case) * (2+1) (neural network calls) *10(number of events)= 1.2m NN calls per epoch\n"
   ]
  },
  {
   "cell_type": "markdown",
   "metadata": {},
   "source": [
    "lstm/rnn  feed last hidden state + actual state to predict probability increase,  stop at  threshhold chosen by uniform \n",
    "\n",
    "\n",
    "neural network(time? + state)  -> time + state\n",
    "\n",
    "noise for time but not state\n",
    "\n",
    "normalizing flows?"
   ]
  },
  {
   "cell_type": "code",
   "execution_count": null,
   "metadata": {},
   "outputs": [],
   "source": [
    "logger.to_dataframe().mean_eval.plot()# test datapoint CMA ES"
   ]
  },
  {
   "cell_type": "code",
   "execution_count": null,
   "metadata": {},
   "outputs": [],
   "source": [
    "asdcas"
   ]
  },
  {
   "cell_type": "code",
   "execution_count": null,
   "metadata": {},
   "outputs": [],
   "source": [
    "trained_network = Single_path_problem.parameterize_net(searcher.status[\"center\"])\n"
   ]
  },
  {
   "cell_type": "code",
   "execution_count": null,
   "metadata": {},
   "outputs": [],
   "source": [
    "path_train = join(paths.dat, SETTINGS.filepaths_new[\"copy_intensity_model\"]\n",
    "            )\n",
    "#torch.save(trained_network.state_dict(), path_train)\n",
    "#train_model.load_state_dict(torch.load(path_train))\n",
    "#trained_network = train_model"
   ]
  },
  {
   "cell_type": "code",
   "execution_count": null,
   "metadata": {},
   "outputs": [],
   "source": []
  },
  {
   "cell_type": "code",
   "execution_count": null,
   "metadata": {},
   "outputs": [],
   "source": []
  },
  {
   "cell_type": "markdown",
   "metadata": {},
   "source": [
    "# Visualize"
   ]
  },
  {
   "cell_type": "code",
   "execution_count": null,
   "metadata": {},
   "outputs": [],
   "source": [
    "trained_network = train_model"
   ]
  },
  {
   "cell_type": "code",
   "execution_count": null,
   "metadata": {},
   "outputs": [],
   "source": [
    "\n",
    "def simulate_single_forced(model, path, num_tries=20):\n",
    "    \n",
    "    last_t = 0\n",
    "    state = torch.zeros((1, state_size))\n",
    "    results = []\n",
    "    with torch.no_grad():\n",
    "        for timestep in path:\n",
    "            current_pred = []\n",
    "            for _ in range(num_tries):\n",
    "                out = model.sample_one(state)\n",
    "                current_pred.append(last_t + out)\n",
    "            current_pred = torch.stack(current_pred)\n",
    "            results.append(torch.mean(current_pred))\n",
    "            print(f\"var(forced): {torch.var(current_pred)}\")\n",
    "            #loss += scoring_func(current_pred, timestep)\n",
    "            delta = timestep-last_t\n",
    "            last_t = timestep\n",
    "            state = model.evolve_state(state, delta)\n",
    "    \n",
    "    return results\n",
    "\n",
    "def simulate_single_forced_function_approx(model, path, \n",
    "                                           timecheat=False, num_tries=20):\n",
    "    \n",
    "    last_t = 0\n",
    "    state = torch.zeros((1, state_size))\n",
    "    results = []\n",
    "    with torch.no_grad():\n",
    "        for timestep in path:\n",
    "            current_pred = []\n",
    "            for _ in range(num_tries):\n",
    "                if timecheat:\n",
    "                    next_time=model.get_time(state, timestep)\n",
    "                else:\n",
    "                    next_time=model.get_time(state)\n",
    "                #print(f\"next_time: {next_time}, next_state: {next_state}\")\n",
    "                current_pred.append(last_t + next_time[0])\n",
    "            current_pred = torch.stack(current_pred)\n",
    "            results.append(torch.mean(current_pred))\n",
    "            last_t = timestep\n",
    "            state = model.get_new_state(state, torch.tensor([[timestep]]))\n",
    "    \n",
    "    return results\n",
    "\n",
    "def simulate_single_function_approx(model, path, timecheat=False, num_tries=20):\n",
    "    \n",
    "    last_t = 0\n",
    "    state = torch.zeros((1, state_size))\n",
    "    results = []\n",
    "    with torch.no_grad():\n",
    "        for timestep in path:\n",
    "            current_pred = []\n",
    "            for _ in range(num_tries):\n",
    "                if timecheat:\n",
    "                    next_time=model.get_time(state, timestep)\n",
    "                else:\n",
    "                    next_time=model.get_time(state)\n",
    "                \n",
    "                current_pred.append(last_t + next_time[0])\n",
    "            current_pred = torch.stack(current_pred)\n",
    "            selected = torch.mean(current_pred)\n",
    "            results.append(selected)\n",
    "            last_t = selected\n",
    "            state = model.get_new_state(state, torch.tensor([[selected]]))\n",
    "    \n",
    "    return results\n",
    "\n",
    "def simulate_single(model, num_events, num_tries=20):\n",
    "    \n",
    "    last_t = 0\n",
    "    state = torch.zeros((1, state_size))\n",
    "    results = []\n",
    "    with torch.no_grad():\n",
    "        for i in range(num_events):\n",
    "            current_pred = []\n",
    "            for _ in range(num_tries):\n",
    "                out = model.sample_one(state)\n",
    "                current_pred.append(last_t + out)\n",
    "            current_pred = torch.stack(current_pred)\n",
    "            print(f\"var: {torch.var(current_pred)}\")\n",
    "            selected = torch.mean(current_pred)\n",
    "            results.append(selected)\n",
    "            delta = selected-last_t\n",
    "            last_t = selected\n",
    "            state = model.evolve_state(state, delta)\n",
    "    \n",
    "    return results\n"
   ]
  },
  {
   "cell_type": "code",
   "execution_count": null,
   "metadata": {},
   "outputs": [],
   "source": [
    "# simpler nn\n",
    "simulate_single_partial_forced_function_approx = partial(\n",
    "    simulate_single_forced_function_approx, path=sample_path,\n",
    "                              num_tries=30, timecheat=timecheat)\n",
    "simulate_single_partial_function_approx =partial(\n",
    "    simulate_single_function_approx, path=sample_path,\n",
    "                              num_tries=30, timecheat=timecheat)"
   ]
  },
  {
   "cell_type": "code",
   "execution_count": null,
   "metadata": {},
   "outputs": [],
   "source": [
    "# integrals\n",
    "simulate_single_partial_forced = partial(simulate_single_forced, path=sample_path, \n",
    "                              num_tries=2)\n",
    "\n",
    "simulate_single_partial = partial(simulate_single, num_events=12,\n",
    "                              num_tries=2)\n"
   ]
  },
  {
   "cell_type": "code",
   "execution_count": null,
   "metadata": {},
   "outputs": [],
   "source": [
    "example_out_forced = simulate_single_partial_forced(trained_network)\n",
    "example_out = simulate_single_partial(trained_network)"
   ]
  },
  {
   "cell_type": "code",
   "execution_count": null,
   "metadata": {},
   "outputs": [],
   "source": [
    "#mlp\n",
    "example_out_forced = simulate_single_partial_forced_function_approx(trained_network)\n",
    "example_out = simulate_single_partial_function_approx(trained_network)"
   ]
  },
  {
   "cell_type": "code",
   "execution_count": null,
   "metadata": {},
   "outputs": [],
   "source": [
    "\n",
    "import matplotlib.pyplot as plt\n",
    "\n",
    "# Example data: replace these with your actual time series data\n",
    "time_series_1 = sample_path # Timestamps for the first time series\n",
    "time_series_2 = torch.clamp(torch.as_tensor(example_out_forced),0,70).detach().numpy()  # Timestamps for the second time series\n",
    "time_series_3 = torch.clamp(torch.as_tensor(example_out), 0, 70).detach().numpy()  # Timestamps for the second time series\n",
    "\n",
    "\n",
    "# Create a figure and axis\n",
    "fig, ax = plt.subplots(figsize=(8, 5))\n",
    "\n",
    "# Plot the first time series\n",
    "ax.scatter(time_series_1, [1] * len(time_series_1), color='blue', label='Ground Truth', s=10, marker='o')\n",
    "\n",
    "# Plot the second time series\n",
    "ax.scatter(time_series_2, [2] * len(time_series_2), color='red', label='Simmulation Forced', s=10, marker='x')\n",
    "\n",
    "ax.scatter(time_series_3, [3] * len(time_series_3), color='green', label='Simmulation Free', s=10, marker='x')\n",
    "\n",
    "\n",
    "# Add labels, legend, and grid\n",
    "ax.set_xlabel('Time')\n",
    "ax.set_yticks([1, 2, 3])\n",
    "ax.set_yticklabels(['Ground Truth', 'Simmulation Forced', \"Simmulation Free\"])\n",
    "ax.set_title('Comparison of Two Time Series')\n",
    "ax.legend(loc='center left', bbox_to_anchor=(1, 0.5), frameon=False)\n",
    "\n",
    "# Adjust subplot parameters to make room for the legend\n",
    "plt.subplots_adjust(right=0.75)\n",
    "ax.grid(True)\n",
    "\n",
    "# Display the plot\n",
    "plt.show()\n"
   ]
  },
  {
   "cell_type": "code",
   "execution_count": null,
   "metadata": {},
   "outputs": [],
   "source": [
    "asdfasf"
   ]
  },
  {
   "cell_type": "code",
   "execution_count": null,
   "metadata": {},
   "outputs": [],
   "source": [
    "# 3 layers\n",
    "import matplotlib.pyplot as plt\n",
    "\n",
    "# Example data: replace these with your actual time series data\n",
    "time_series_1 = sample_path # Timestamps for the first time series\n",
    "time_series_2 = torch.clamp(torch.as_tensor(example_out_forced),0,70).detach().numpy()  # Timestamps for the second time series\n",
    "time_series_3 = torch.clamp(torch.as_tensor(example_out), 0, 70).detach().numpy()  # Timestamps for the second time series\n",
    "\n",
    "\n",
    "# Create a figure and axis\n",
    "fig, ax = plt.subplots(figsize=(8, 5))\n",
    "\n",
    "# Plot the first time series\n",
    "ax.scatter(time_series_1, [1] * len(time_series_1), color='blue', label='Ground Truth', s=10, marker='o')\n",
    "\n",
    "# Plot the second time series\n",
    "ax.scatter(time_series_2, [2] * len(time_series_2), color='red', label='Simmulation Forced', s=10, marker='x')\n",
    "\n",
    "ax.scatter(time_series_3, [3] * len(time_series_3), color='green', label='Simmulation Free', s=10, marker='x')\n",
    "\n",
    "\n",
    "# Add labels, legend, and grid\n",
    "ax.set_xlabel('Time')\n",
    "ax.set_yticks([1, 2, 3])\n",
    "ax.set_yticklabels(['Ground Truth', 'Simmulation Forced', \"Simmulation Free\"])\n",
    "ax.set_title('Comparison of Two Time Series')\n",
    "ax.legend(loc='center left', bbox_to_anchor=(1, 0.5), frameon=False)\n",
    "\n",
    "# Adjust subplot parameters to make room for the legend\n",
    "plt.subplots_adjust(right=0.75)\n",
    "ax.grid(True)\n",
    "\n",
    "# Display the plot\n",
    "plt.show()\n"
   ]
  },
  {
   "cell_type": "code",
   "execution_count": null,
   "metadata": {},
   "outputs": [],
   "source": [
    "SCA"
   ]
  },
  {
   "cell_type": "code",
   "execution_count": null,
   "metadata": {},
   "outputs": [],
   "source": [
    "\n",
    "import matplotlib.pyplot as plt\n",
    "\n",
    "# Example data: replace these with your actual time series data\n",
    "time_series_1 = sample_path # Timestamps for the first time series\n",
    "time_series_2 = torch.clamp(torch.as_tensor(example_out_forced),0,70).detach().numpy()  # Timestamps for the second time series\n",
    "time_series_3 = torch.clamp(torch.as_tensor(example_out), 0, 70).detach().numpy()  # Timestamps for the second time series\n",
    "\n",
    "\n",
    "# Create a figure and axis\n",
    "fig, ax = plt.subplots(figsize=(8, 5))\n",
    "\n",
    "# Plot the first time series\n",
    "ax.scatter(time_series_1, [1] * len(time_series_1), color='blue', label='Ground Truth', s=10, marker='o')\n",
    "\n",
    "# Plot the second time series\n",
    "ax.scatter(time_series_2, [2] * len(time_series_2), color='red', label='Simmulation Forced', s=10, marker='x')\n",
    "\n",
    "ax.scatter(time_series_3, [3] * len(time_series_3), color='green', label='Simmulation Free', s=10, marker='x')\n",
    "\n",
    "\n",
    "# Add labels, legend, and grid\n",
    "ax.set_xlabel('Time')\n",
    "ax.set_yticks([1, 2, 3])\n",
    "ax.set_yticklabels(['Ground Truth', 'Simmulation Forced', \"Simmulation Free\"])\n",
    "ax.set_title('Comparison of Two Time Series')\n",
    "ax.legend(loc='center left', bbox_to_anchor=(1, 0.5), frameon=False)\n",
    "\n",
    "# Adjust subplot parameters to make room for the legend\n",
    "plt.subplots_adjust(right=0.75)\n",
    "ax.grid(True)\n",
    "\n",
    "# Display the plot\n",
    "plt.show()\n"
   ]
  },
  {
   "cell_type": "code",
   "execution_count": null,
   "metadata": {},
   "outputs": [],
   "source": [
    "scsdc"
   ]
  },
  {
   "cell_type": "code",
   "execution_count": null,
   "metadata": {},
   "outputs": [],
   "source": [
    "state = torch.zeros((1, state_size))\n",
    "samples = [train_model.sample_one(state).detach().numpy() for _ in range(100)]\n",
    "samples = np.array(samples)"
   ]
  },
  {
   "cell_type": "code",
   "execution_count": null,
   "metadata": {},
   "outputs": [],
   "source": [
    "plt.figure(figsize=(12, 6))\n",
    "\n",
    "# Histogram\n",
    "plt.subplot(1, 2, 1)\n",
    "plt.hist(samples, bins=50, density=True, alpha=0.6, color='g', edgecolor='black')\n",
    "plt.title('Histogram of Samples')\n",
    "plt.xlabel('Value')\n",
    "plt.ylabel('Frequency')\n",
    "\n",
    "# Density Plot\n",
    "plt.subplot(1, 2, 2)\n",
    "sns.kdeplot(samples, shade=True, color='g', bw_adjust=0.1)\n",
    "plt.title('Density Plot of Samples')\n",
    "plt.xlabel('Value')\n",
    "plt.ylabel('Density')\n",
    "\n",
    "plt.tight_layout()\n",
    "plt.show()\n"
   ]
  },
  {
   "cell_type": "markdown",
   "metadata": {},
   "source": [
    "# Multiple paths\n",
    "\n",
    "## Gradient descent"
   ]
  },
  {
   "cell_type": "code",
   "execution_count": null,
   "metadata": {},
   "outputs": [],
   "source": [
    "sample_paths = [torch.as_tensor(gen_model.sample_path(num_samples=7 + i%10)) for i in range(100)]"
   ]
  },
  {
   "cell_type": "code",
   "execution_count": null,
   "metadata": {},
   "outputs": [],
   "source": [
    "from tqdm import tqdm\n",
    "def train(model, paths, scoring_func, optimizer, num_epochs=100, num_tries=20):\n",
    "    \n",
    "    for iter in tqdm(range(num_epochs)):\n",
    "        avg_loss = 0\n",
    "        #results = []\n",
    "        for path in paths:\n",
    "            last_t = 0\n",
    "            state = torch.zeros((1, state_size))\n",
    "            loss = 0.\n",
    "            for timestep in path:\n",
    "                current_pred = []\n",
    "                for _ in range(num_tries):\n",
    "                    current_pred.append(last_t + model.sample_one(state))\n",
    "                current_pred = torch.stack(current_pred)\n",
    "                #results.append(torch.mean(current_pred))\n",
    "                loss += scoring_func(current_pred, timestep)\n",
    "                delta = timestep-last_t\n",
    "                last_t = timestep\n",
    "                state = model.evolve_state(state, delta)\n",
    "            loss.backward()\n",
    "            torch.nn.utils.clip_grad_norm_(model.parameters(), max_norm=2)\n",
    "            optimizer.step()\n",
    "            optimizer.zero_grad()\n",
    "            avg_loss += loss\n",
    "        print(\"loss: \", loss)\n",
    "        "
   ]
  },
  {
   "cell_type": "code",
   "execution_count": null,
   "metadata": {},
   "outputs": [],
   "source": [
    "results = train(train_model, sample_paths, scoring_func=utils.energy_score_loss,\n",
    "                optimizer=optimizer, num_epochs=30, num_tries=20)"
   ]
  },
  {
   "cell_type": "code",
   "execution_count": null,
   "metadata": {},
   "outputs": [],
   "source": []
  }
 ],
 "metadata": {
  "kernelspec": {
   "display_name": "WW",
   "language": "python",
   "name": "python3"
  },
  "language_info": {
   "codemirror_mode": {
    "name": "ipython",
    "version": 3
   },
   "file_extension": ".py",
   "mimetype": "text/x-python",
   "name": "python",
   "nbconvert_exporter": "python",
   "pygments_lexer": "ipython3",
   "version": "3.9.19"
  }
 },
 "nbformat": 4,
 "nbformat_minor": 2
}
