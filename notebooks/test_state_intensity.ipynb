{
 "cells": [
  {
   "cell_type": "code",
   "execution_count": 1,
   "metadata": {},
   "outputs": [],
   "source": [
    "import sys\n",
    "import os\n",
    "parent_dir = os.path.abspath(os.path.join(os.getcwd(), os.pardir))\n",
    "\n",
    "sys.path.append(parent_dir)\n",
    "\n",
    "from simtrain import SETTINGS_POLIMI as SETTINGS\n",
    "from simtrain.sim_models_new import Toy_intensity_Generator, Toy_intensity_Comparer\n",
    "import torch\n",
    "import torch.optim as optim\n",
    "import torch.nn as nn\n",
    "import pytorch_warmup as warmup\n",
    "\n",
    "import paths\n",
    "from os.path import join\n",
    "\n",
    "import matplotlib.pyplot as plt\n",
    "import seaborn as sns\n",
    "import numpy as np\n",
    "import simtrain.utils as utils\n",
    "from tqdm import tqdm\n",
    "import evotorch\n",
    "import ray\n",
    "from functools import partial\n",
    "\n",
    "os.environ['PYTHONPATH'] = \"/home/thahit/github/Recommender_Sim\"\n",
    "#ray.init(ignore_reinit_error=True)\n"
   ]
  },
  {
   "cell_type": "code",
   "execution_count": 2,
   "metadata": {},
   "outputs": [],
   "source": [
    "\n",
    "state_size = SETTINGS.STATE_SIZE\n",
    "experiment_name = \"toy\"\n",
    "#num_negatives = 100\n",
    "#conditioned=True\n",
    "#kl_weight=.01"
   ]
  },
  {
   "cell_type": "code",
   "execution_count": 3,
   "metadata": {},
   "outputs": [
    {
     "ename": "NameError",
     "evalue": "name 'sfaf' is not defined",
     "output_type": "error",
     "traceback": [
      "\u001b[0;31m---------------------------------------------------------------------------\u001b[0m",
      "\u001b[0;31mNameError\u001b[0m                                 Traceback (most recent call last)",
      "Cell \u001b[0;32mIn[3], line 1\u001b[0m\n\u001b[0;32m----> 1\u001b[0m \u001b[43msfaf\u001b[49m\n",
      "\u001b[0;31mNameError\u001b[0m: name 'sfaf' is not defined"
     ]
    }
   ],
   "source": [
    "sfaf"
   ]
  },
  {
   "cell_type": "markdown",
   "metadata": {},
   "source": [
    "# Data"
   ]
  },
  {
   "cell_type": "code",
   "execution_count": null,
   "metadata": {},
   "outputs": [],
   "source": [
    "# parameter dicts\n",
    "width= 8\n",
    "user_state_dict = {\"model_hyp\": {\"layer_width\": [width, width]}}\n",
    "intensity_state_dict = {\"model_hyp\": {\"layer_width\": [width, width],\n",
    "                                                         \"noise\": 0}\n",
    "                            }\n",
    "\n",
    "\n",
    "hyperparameter_dict = {\"state_size\": state_size, \"state_model\": user_state_dict, \n",
    "                           \"intensity_model\": intensity_state_dict,# \"num_recom\" : num_items_per_recom,\n",
    "                            \"noise\": 0.}\n",
    "gen_model = Toy_intensity_Generator(hyperparameter_dict)"
   ]
  },
  {
   "cell_type": "code",
   "execution_count": null,
   "metadata": {},
   "outputs": [
    {
     "data": {
      "text/plain": [
       "'/home/thahit/github/Recommender_Sim/dat/saved_models_polimi/simulate_intensity/gnerator_model.h5'"
      ]
     },
     "execution_count": 4,
     "metadata": {},
     "output_type": "execute_result"
    }
   ],
   "source": [
    "path = join(paths.dat, SETTINGS.filepaths_new[\"simulate_intensity_model\"]\n",
    "            )\n",
    "path"
   ]
  },
  {
   "cell_type": "code",
   "execution_count": null,
   "metadata": {},
   "outputs": [
    {
     "data": {
      "text/plain": [
       "<All keys matched successfully>"
      ]
     },
     "execution_count": 5,
     "metadata": {},
     "output_type": "execute_result"
    }
   ],
   "source": [
    "#torch.save(gen_model.state_dict(), path)\n",
    "gen_model.load_state_dict(torch.load(path))"
   ]
  },
  {
   "cell_type": "code",
   "execution_count": null,
   "metadata": {},
   "outputs": [],
   "source": [
    "state = torch.zeros((1, state_size))"
   ]
  },
  {
   "cell_type": "code",
   "execution_count": null,
   "metadata": {},
   "outputs": [
    {
     "ename": "TypeError",
     "evalue": "forward() got an unexpected keyword argument 'interval_time'",
     "output_type": "error",
     "traceback": [
      "\u001b[0;31m---------------------------------------------------------------------------\u001b[0m",
      "\u001b[0;31mTypeError\u001b[0m                                 Traceback (most recent call last)",
      "Cell \u001b[0;32mIn[7], line 1\u001b[0m\n\u001b[0;32m----> 1\u001b[0m samples \u001b[38;5;241m=\u001b[39m [gen_model\u001b[38;5;241m.\u001b[39msample_one(state)\u001b[38;5;241m.\u001b[39mdetach()\u001b[38;5;241m.\u001b[39mnumpy() \u001b[38;5;28;01mfor\u001b[39;00m _ \u001b[38;5;129;01min\u001b[39;00m \u001b[38;5;28mrange\u001b[39m(\u001b[38;5;241m100\u001b[39m)]\n\u001b[1;32m      2\u001b[0m samples \u001b[38;5;241m=\u001b[39m np\u001b[38;5;241m.\u001b[39marray(samples)\n\u001b[1;32m      3\u001b[0m samples\n",
      "Cell \u001b[0;32mIn[7], line 1\u001b[0m, in \u001b[0;36m<listcomp>\u001b[0;34m(.0)\u001b[0m\n\u001b[0;32m----> 1\u001b[0m samples \u001b[38;5;241m=\u001b[39m [\u001b[43mgen_model\u001b[49m\u001b[38;5;241;43m.\u001b[39;49m\u001b[43msample_one\u001b[49m\u001b[43m(\u001b[49m\u001b[43mstate\u001b[49m\u001b[43m)\u001b[49m\u001b[38;5;241m.\u001b[39mdetach()\u001b[38;5;241m.\u001b[39mnumpy() \u001b[38;5;28;01mfor\u001b[39;00m _ \u001b[38;5;129;01min\u001b[39;00m \u001b[38;5;28mrange\u001b[39m(\u001b[38;5;241m100\u001b[39m)]\n\u001b[1;32m      2\u001b[0m samples \u001b[38;5;241m=\u001b[39m np\u001b[38;5;241m.\u001b[39marray(samples)\n\u001b[1;32m      3\u001b[0m samples\n",
      "File \u001b[0;32m~/github/Recommender_Sim/simtrain/sim_models_new.py:989\u001b[0m, in \u001b[0;36mToy_intensity_Generator.sample_one\u001b[0;34m(self, state)\u001b[0m\n\u001b[1;32m    983\u001b[0m u \u001b[38;5;241m=\u001b[39m torch\u001b[38;5;241m.\u001b[39mrand(\u001b[38;5;241m1\u001b[39m, requires_grad\u001b[38;5;241m=\u001b[39m\u001b[38;5;28;01mFalse\u001b[39;00m)\u001b[38;5;66;03m# theoretically one should also do -u + 1\u001b[39;00m\n\u001b[1;32m    984\u001b[0m \u001b[38;5;66;03m#h_optimized = self.optimize_h(u)\u001b[39;00m\n\u001b[1;32m    985\u001b[0m \u001b[38;5;66;03m#h_optimized = brentq(self.objective_function, 1e-30, 200, args=(u, state), \u001b[39;00m\n\u001b[1;32m    986\u001b[0m \u001b[38;5;66;03m#                    maxiter=40, xtol=1e-7,)\u001b[39;00m\n\u001b[1;32m    987\u001b[0m \u001b[38;5;66;03m#h_optimized = self.binary_search(state, u)\u001b[39;00m\n\u001b[0;32m--> 989\u001b[0m h_optimized \u001b[38;5;241m=\u001b[39m torch\u001b[38;5;241m.\u001b[39mtensor([\u001b[38;5;28;43mself\u001b[39;49m\u001b[38;5;241;43m.\u001b[39;49m\u001b[43mfind_h\u001b[49m\u001b[43m(\u001b[49m\u001b[43mstate\u001b[49m\u001b[43m,\u001b[49m\u001b[43m \u001b[49m\u001b[43mu\u001b[49m\u001b[43m)\u001b[49m])\n\u001b[1;32m    990\u001b[0m \u001b[38;5;66;03m#print(f\"u: {u} \\t h: {h_optimized}\")\u001b[39;00m\n\u001b[1;32m    991\u001b[0m \u001b[38;5;28;01mreturn\u001b[39;00m torch\u001b[38;5;241m.\u001b[39mflatten(h_optimized)\n",
      "File \u001b[0;32m~/github/Recommender_Sim/simtrain/sim_models_new.py:972\u001b[0m, in \u001b[0;36mToy_intensity_Generator.find_h\u001b[0;34m(self, state, uniform_guess, interval_size, max_iter)\u001b[0m\n\u001b[1;32m    970\u001b[0m curr_state \u001b[38;5;241m=\u001b[39m state\n\u001b[1;32m    971\u001b[0m \u001b[38;5;28;01mfor\u001b[39;00m i \u001b[38;5;129;01min\u001b[39;00m \u001b[38;5;28mrange\u001b[39m(max_iter):\n\u001b[0;32m--> 972\u001b[0m     curr_state \u001b[38;5;241m=\u001b[39m \u001b[38;5;28;43mself\u001b[39;49m\u001b[38;5;241;43m.\u001b[39;49m\u001b[43muser_state_model\u001b[49m\u001b[43m(\u001b[49m\u001b[43mcurr_state\u001b[49m\u001b[43m,\u001b[49m\u001b[43m \u001b[49m\u001b[43minterval_size\u001b[49m\u001b[43m,\u001b[49m\u001b[43m \u001b[49m\u001b[43minterval_time\u001b[49m\u001b[38;5;241;43m=\u001b[39;49m\u001b[38;5;241;43m0.05\u001b[39;49m\u001b[43m)\u001b[49m\n\u001b[1;32m    973\u001b[0m     intensity \u001b[38;5;241m=\u001b[39m intensity \u001b[38;5;241m+\u001b[39m (\u001b[38;5;28mself\u001b[39m\u001b[38;5;241m.\u001b[39mintensity_model(h \u001b[38;5;241m=\u001b[39m interval_size, \n\u001b[1;32m    974\u001b[0m                         intensity\u001b[38;5;241m=\u001b[39mintensity, state\u001b[38;5;241m=\u001b[39mcurr_state)\u001b[38;5;241m*\u001b[39minterval_size)\u001b[38;5;241m.\u001b[39mclone()\n\u001b[1;32m    976\u001b[0m     \u001b[38;5;28;01mif\u001b[39;00m intensity \u001b[38;5;241m>\u001b[39m target:\n",
      "File \u001b[0;32m~/anaconda3/envs/WW2/lib/python3.9/site-packages/torch/nn/modules/module.py:1532\u001b[0m, in \u001b[0;36mModule._wrapped_call_impl\u001b[0;34m(self, *args, **kwargs)\u001b[0m\n\u001b[1;32m   1530\u001b[0m     \u001b[38;5;28;01mreturn\u001b[39;00m \u001b[38;5;28mself\u001b[39m\u001b[38;5;241m.\u001b[39m_compiled_call_impl(\u001b[38;5;241m*\u001b[39margs, \u001b[38;5;241m*\u001b[39m\u001b[38;5;241m*\u001b[39mkwargs)  \u001b[38;5;66;03m# type: ignore[misc]\u001b[39;00m\n\u001b[1;32m   1531\u001b[0m \u001b[38;5;28;01melse\u001b[39;00m:\n\u001b[0;32m-> 1532\u001b[0m     \u001b[38;5;28;01mreturn\u001b[39;00m \u001b[38;5;28;43mself\u001b[39;49m\u001b[38;5;241;43m.\u001b[39;49m\u001b[43m_call_impl\u001b[49m\u001b[43m(\u001b[49m\u001b[38;5;241;43m*\u001b[39;49m\u001b[43margs\u001b[49m\u001b[43m,\u001b[49m\u001b[43m \u001b[49m\u001b[38;5;241;43m*\u001b[39;49m\u001b[38;5;241;43m*\u001b[39;49m\u001b[43mkwargs\u001b[49m\u001b[43m)\u001b[49m\n",
      "File \u001b[0;32m~/anaconda3/envs/WW2/lib/python3.9/site-packages/torch/nn/modules/module.py:1541\u001b[0m, in \u001b[0;36mModule._call_impl\u001b[0;34m(self, *args, **kwargs)\u001b[0m\n\u001b[1;32m   1536\u001b[0m \u001b[38;5;66;03m# If we don't have any hooks, we want to skip the rest of the logic in\u001b[39;00m\n\u001b[1;32m   1537\u001b[0m \u001b[38;5;66;03m# this function, and just call forward.\u001b[39;00m\n\u001b[1;32m   1538\u001b[0m \u001b[38;5;28;01mif\u001b[39;00m \u001b[38;5;129;01mnot\u001b[39;00m (\u001b[38;5;28mself\u001b[39m\u001b[38;5;241m.\u001b[39m_backward_hooks \u001b[38;5;129;01mor\u001b[39;00m \u001b[38;5;28mself\u001b[39m\u001b[38;5;241m.\u001b[39m_backward_pre_hooks \u001b[38;5;129;01mor\u001b[39;00m \u001b[38;5;28mself\u001b[39m\u001b[38;5;241m.\u001b[39m_forward_hooks \u001b[38;5;129;01mor\u001b[39;00m \u001b[38;5;28mself\u001b[39m\u001b[38;5;241m.\u001b[39m_forward_pre_hooks\n\u001b[1;32m   1539\u001b[0m         \u001b[38;5;129;01mor\u001b[39;00m _global_backward_pre_hooks \u001b[38;5;129;01mor\u001b[39;00m _global_backward_hooks\n\u001b[1;32m   1540\u001b[0m         \u001b[38;5;129;01mor\u001b[39;00m _global_forward_hooks \u001b[38;5;129;01mor\u001b[39;00m _global_forward_pre_hooks):\n\u001b[0;32m-> 1541\u001b[0m     \u001b[38;5;28;01mreturn\u001b[39;00m \u001b[43mforward_call\u001b[49m\u001b[43m(\u001b[49m\u001b[38;5;241;43m*\u001b[39;49m\u001b[43margs\u001b[49m\u001b[43m,\u001b[49m\u001b[43m \u001b[49m\u001b[38;5;241;43m*\u001b[39;49m\u001b[38;5;241;43m*\u001b[39;49m\u001b[43mkwargs\u001b[49m\u001b[43m)\u001b[49m\n\u001b[1;32m   1543\u001b[0m \u001b[38;5;28;01mtry\u001b[39;00m:\n\u001b[1;32m   1544\u001b[0m     result \u001b[38;5;241m=\u001b[39m \u001b[38;5;28;01mNone\u001b[39;00m\n",
      "\u001b[0;31mTypeError\u001b[0m: forward() got an unexpected keyword argument 'interval_time'"
     ]
    }
   ],
   "source": [
    "samples = [gen_model.sample_one(state).detach().numpy() for _ in range(100)]\n",
    "samples = np.array(samples)\n",
    "samples"
   ]
  },
  {
   "cell_type": "markdown",
   "metadata": {},
   "source": [
    "feed in true values for fake models, \n"
   ]
  },
  {
   "cell_type": "code",
   "execution_count": null,
   "metadata": {},
   "outputs": [
    {
     "ename": "NameError",
     "evalue": "name 'samples' is not defined",
     "output_type": "error",
     "traceback": [
      "\u001b[0;31m---------------------------------------------------------------------------\u001b[0m",
      "\u001b[0;31mNameError\u001b[0m                                 Traceback (most recent call last)",
      "Cell \u001b[0;32mIn[8], line 5\u001b[0m\n\u001b[1;32m      3\u001b[0m \u001b[38;5;66;03m# Histogram\u001b[39;00m\n\u001b[1;32m      4\u001b[0m plt\u001b[38;5;241m.\u001b[39msubplot(\u001b[38;5;241m1\u001b[39m, \u001b[38;5;241m2\u001b[39m, \u001b[38;5;241m1\u001b[39m)\n\u001b[0;32m----> 5\u001b[0m plt\u001b[38;5;241m.\u001b[39mhist(\u001b[43msamples\u001b[49m, bins\u001b[38;5;241m=\u001b[39m\u001b[38;5;241m50\u001b[39m, density\u001b[38;5;241m=\u001b[39m\u001b[38;5;28;01mTrue\u001b[39;00m, alpha\u001b[38;5;241m=\u001b[39m\u001b[38;5;241m0.6\u001b[39m, color\u001b[38;5;241m=\u001b[39m\u001b[38;5;124m'\u001b[39m\u001b[38;5;124mg\u001b[39m\u001b[38;5;124m'\u001b[39m, edgecolor\u001b[38;5;241m=\u001b[39m\u001b[38;5;124m'\u001b[39m\u001b[38;5;124mblack\u001b[39m\u001b[38;5;124m'\u001b[39m)\n\u001b[1;32m      6\u001b[0m plt\u001b[38;5;241m.\u001b[39mtitle(\u001b[38;5;124m'\u001b[39m\u001b[38;5;124mHistogram of Samples\u001b[39m\u001b[38;5;124m'\u001b[39m)\n\u001b[1;32m      7\u001b[0m plt\u001b[38;5;241m.\u001b[39mxlabel(\u001b[38;5;124m'\u001b[39m\u001b[38;5;124mValue\u001b[39m\u001b[38;5;124m'\u001b[39m)\n",
      "\u001b[0;31mNameError\u001b[0m: name 'samples' is not defined"
     ]
    },
    {
     "data": {
      "image/png": "[encoded data removed]",
      "text/plain": [
       "<Figure size 1200x600 with 1 Axes>"
      ]
     },
     "metadata": {},
     "output_type": "display_data"
    }
   ],
   "source": [
    "plt.figure(figsize=(12, 6))\n",
    "\n",
    "# Histogram\n",
    "plt.subplot(1, 2, 1)\n",
    "plt.hist(samples, bins=50, density=True, alpha=0.6, color='g', edgecolor='black')\n",
    "plt.title('Histogram of Samples')\n",
    "plt.xlabel('Value')\n",
    "plt.ylabel('Frequency')\n",
    "\n",
    "# Density Plot\n",
    "plt.subplot(1, 2, 2)\n",
    "sns.kdeplot(samples, shade=True, color='g', bw_adjust=0.1)\n",
    "plt.title('Density Plot of Samples')\n",
    "plt.xlabel('Value')\n",
    "plt.ylabel('Density')\n",
    "\n",
    "plt.tight_layout()\n",
    "plt.show()\n"
   ]
  },
  {
   "cell_type": "code",
   "execution_count": null,
   "metadata": {},
   "outputs": [
    {
     "ename": "TypeError",
     "evalue": "forward() got an unexpected keyword argument 'interval_time'",
     "output_type": "error",
     "traceback": [
      "\u001b[0;31m---------------------------------------------------------------------------\u001b[0m",
      "\u001b[0;31mTypeError\u001b[0m                                 Traceback (most recent call last)",
      "Cell \u001b[0;32mIn[9], line 1\u001b[0m\n\u001b[0;32m----> 1\u001b[0m sample_path \u001b[38;5;241m=\u001b[39m \u001b[43mgen_model\u001b[49m\u001b[38;5;241;43m.\u001b[39;49m\u001b[43msample_path\u001b[49m\u001b[43m(\u001b[49m\u001b[43mnum_samples\u001b[49m\u001b[38;5;241;43m=\u001b[39;49m\u001b[38;5;241;43m5\u001b[39;49m\u001b[43m)\u001b[49m\n\u001b[1;32m      2\u001b[0m sample_path \u001b[38;5;241m=\u001b[39mtorch\u001b[38;5;241m.\u001b[39mtensor(sample_path)\n\u001b[1;32m      3\u001b[0m sample_path\n",
      "File \u001b[0;32m~/github/Recommender_Sim/simtrain/sim_models_new.py:1000\u001b[0m, in \u001b[0;36mToy_intensity_Generator.sample_path\u001b[0;34m(self, num_samples, state)\u001b[0m\n\u001b[1;32m    998\u001b[0m \u001b[38;5;28;01mwith\u001b[39;00m torch\u001b[38;5;241m.\u001b[39mno_grad():\n\u001b[1;32m    999\u001b[0m     \u001b[38;5;28;01mfor\u001b[39;00m _ \u001b[38;5;129;01min\u001b[39;00m \u001b[38;5;28mrange\u001b[39m(num_samples):\n\u001b[0;32m-> 1000\u001b[0m         h \u001b[38;5;241m=\u001b[39m \u001b[38;5;28;43mself\u001b[39;49m\u001b[38;5;241;43m.\u001b[39;49m\u001b[43msample_one\u001b[49m\u001b[43m(\u001b[49m\u001b[43mstate\u001b[49m\u001b[38;5;241;43m=\u001b[39;49m\u001b[43mstate\u001b[49m\u001b[43m)\u001b[49m\n\u001b[1;32m   1001\u001b[0m         curr_time \u001b[38;5;241m=\u001b[39m curr_time \u001b[38;5;241m+\u001b[39m h\n\u001b[1;32m   1002\u001b[0m         path\u001b[38;5;241m.\u001b[39mappend(curr_time)\n",
      "File \u001b[0;32m~/github/Recommender_Sim/simtrain/sim_models_new.py:989\u001b[0m, in \u001b[0;36mToy_intensity_Generator.sample_one\u001b[0;34m(self, state)\u001b[0m\n\u001b[1;32m    983\u001b[0m u \u001b[38;5;241m=\u001b[39m torch\u001b[38;5;241m.\u001b[39mrand(\u001b[38;5;241m1\u001b[39m, requires_grad\u001b[38;5;241m=\u001b[39m\u001b[38;5;28;01mFalse\u001b[39;00m)\u001b[38;5;66;03m# theoretically one should also do -u + 1\u001b[39;00m\n\u001b[1;32m    984\u001b[0m \u001b[38;5;66;03m#h_optimized = self.optimize_h(u)\u001b[39;00m\n\u001b[1;32m    985\u001b[0m \u001b[38;5;66;03m#h_optimized = brentq(self.objective_function, 1e-30, 200, args=(u, state), \u001b[39;00m\n\u001b[1;32m    986\u001b[0m \u001b[38;5;66;03m#                    maxiter=40, xtol=1e-7,)\u001b[39;00m\n\u001b[1;32m    987\u001b[0m \u001b[38;5;66;03m#h_optimized = self.binary_search(state, u)\u001b[39;00m\n\u001b[0;32m--> 989\u001b[0m h_optimized \u001b[38;5;241m=\u001b[39m torch\u001b[38;5;241m.\u001b[39mtensor([\u001b[38;5;28;43mself\u001b[39;49m\u001b[38;5;241;43m.\u001b[39;49m\u001b[43mfind_h\u001b[49m\u001b[43m(\u001b[49m\u001b[43mstate\u001b[49m\u001b[43m,\u001b[49m\u001b[43m \u001b[49m\u001b[43mu\u001b[49m\u001b[43m)\u001b[49m])\n\u001b[1;32m    990\u001b[0m \u001b[38;5;66;03m#print(f\"u: {u} \\t h: {h_optimized}\")\u001b[39;00m\n\u001b[1;32m    991\u001b[0m \u001b[38;5;28;01mreturn\u001b[39;00m torch\u001b[38;5;241m.\u001b[39mflatten(h_optimized)\n",
      "File \u001b[0;32m~/github/Recommender_Sim/simtrain/sim_models_new.py:972\u001b[0m, in \u001b[0;36mToy_intensity_Generator.find_h\u001b[0;34m(self, state, uniform_guess, interval_size, max_iter)\u001b[0m\n\u001b[1;32m    970\u001b[0m curr_state \u001b[38;5;241m=\u001b[39m state\n\u001b[1;32m    971\u001b[0m \u001b[38;5;28;01mfor\u001b[39;00m i \u001b[38;5;129;01min\u001b[39;00m \u001b[38;5;28mrange\u001b[39m(max_iter):\n\u001b[0;32m--> 972\u001b[0m     curr_state \u001b[38;5;241m=\u001b[39m \u001b[38;5;28;43mself\u001b[39;49m\u001b[38;5;241;43m.\u001b[39;49m\u001b[43muser_state_model\u001b[49m\u001b[43m(\u001b[49m\u001b[43mcurr_state\u001b[49m\u001b[43m,\u001b[49m\u001b[43m \u001b[49m\u001b[43minterval_size\u001b[49m\u001b[43m,\u001b[49m\u001b[43m \u001b[49m\u001b[43minterval_time\u001b[49m\u001b[38;5;241;43m=\u001b[39;49m\u001b[38;5;241;43m0.05\u001b[39;49m\u001b[43m)\u001b[49m\n\u001b[1;32m    973\u001b[0m     intensity \u001b[38;5;241m=\u001b[39m intensity \u001b[38;5;241m+\u001b[39m (\u001b[38;5;28mself\u001b[39m\u001b[38;5;241m.\u001b[39mintensity_model(h \u001b[38;5;241m=\u001b[39m interval_size, \n\u001b[1;32m    974\u001b[0m                         intensity\u001b[38;5;241m=\u001b[39mintensity, state\u001b[38;5;241m=\u001b[39mcurr_state)\u001b[38;5;241m*\u001b[39minterval_size)\u001b[38;5;241m.\u001b[39mclone()\n\u001b[1;32m    976\u001b[0m     \u001b[38;5;28;01mif\u001b[39;00m intensity \u001b[38;5;241m>\u001b[39m target:\n",
      "File \u001b[0;32m~/anaconda3/envs/WW2/lib/python3.9/site-packages/torch/nn/modules/module.py:1532\u001b[0m, in \u001b[0;36mModule._wrapped_call_impl\u001b[0;34m(self, *args, **kwargs)\u001b[0m\n\u001b[1;32m   1530\u001b[0m     \u001b[38;5;28;01mreturn\u001b[39;00m \u001b[38;5;28mself\u001b[39m\u001b[38;5;241m.\u001b[39m_compiled_call_impl(\u001b[38;5;241m*\u001b[39margs, \u001b[38;5;241m*\u001b[39m\u001b[38;5;241m*\u001b[39mkwargs)  \u001b[38;5;66;03m# type: ignore[misc]\u001b[39;00m\n\u001b[1;32m   1531\u001b[0m \u001b[38;5;28;01melse\u001b[39;00m:\n\u001b[0;32m-> 1532\u001b[0m     \u001b[38;5;28;01mreturn\u001b[39;00m \u001b[38;5;28;43mself\u001b[39;49m\u001b[38;5;241;43m.\u001b[39;49m\u001b[43m_call_impl\u001b[49m\u001b[43m(\u001b[49m\u001b[38;5;241;43m*\u001b[39;49m\u001b[43margs\u001b[49m\u001b[43m,\u001b[49m\u001b[43m \u001b[49m\u001b[38;5;241;43m*\u001b[39;49m\u001b[38;5;241;43m*\u001b[39;49m\u001b[43mkwargs\u001b[49m\u001b[43m)\u001b[49m\n",
      "File \u001b[0;32m~/anaconda3/envs/WW2/lib/python3.9/site-packages/torch/nn/modules/module.py:1541\u001b[0m, in \u001b[0;36mModule._call_impl\u001b[0;34m(self, *args, **kwargs)\u001b[0m\n\u001b[1;32m   1536\u001b[0m \u001b[38;5;66;03m# If we don't have any hooks, we want to skip the rest of the logic in\u001b[39;00m\n\u001b[1;32m   1537\u001b[0m \u001b[38;5;66;03m# this function, and just call forward.\u001b[39;00m\n\u001b[1;32m   1538\u001b[0m \u001b[38;5;28;01mif\u001b[39;00m \u001b[38;5;129;01mnot\u001b[39;00m (\u001b[38;5;28mself\u001b[39m\u001b[38;5;241m.\u001b[39m_backward_hooks \u001b[38;5;129;01mor\u001b[39;00m \u001b[38;5;28mself\u001b[39m\u001b[38;5;241m.\u001b[39m_backward_pre_hooks \u001b[38;5;129;01mor\u001b[39;00m \u001b[38;5;28mself\u001b[39m\u001b[38;5;241m.\u001b[39m_forward_hooks \u001b[38;5;129;01mor\u001b[39;00m \u001b[38;5;28mself\u001b[39m\u001b[38;5;241m.\u001b[39m_forward_pre_hooks\n\u001b[1;32m   1539\u001b[0m         \u001b[38;5;129;01mor\u001b[39;00m _global_backward_pre_hooks \u001b[38;5;129;01mor\u001b[39;00m _global_backward_hooks\n\u001b[1;32m   1540\u001b[0m         \u001b[38;5;129;01mor\u001b[39;00m _global_forward_hooks \u001b[38;5;129;01mor\u001b[39;00m _global_forward_pre_hooks):\n\u001b[0;32m-> 1541\u001b[0m     \u001b[38;5;28;01mreturn\u001b[39;00m \u001b[43mforward_call\u001b[49m\u001b[43m(\u001b[49m\u001b[38;5;241;43m*\u001b[39;49m\u001b[43margs\u001b[49m\u001b[43m,\u001b[49m\u001b[43m \u001b[49m\u001b[38;5;241;43m*\u001b[39;49m\u001b[38;5;241;43m*\u001b[39;49m\u001b[43mkwargs\u001b[49m\u001b[43m)\u001b[49m\n\u001b[1;32m   1543\u001b[0m \u001b[38;5;28;01mtry\u001b[39;00m:\n\u001b[1;32m   1544\u001b[0m     result \u001b[38;5;241m=\u001b[39m \u001b[38;5;28;01mNone\u001b[39;00m\n",
      "\u001b[0;31mTypeError\u001b[0m: forward() got an unexpected keyword argument 'interval_time'"
     ]
    }
   ],
   "source": [
    "sample_path = gen_model.sample_path(num_samples=5)\n",
    "sample_path =torch.tensor(sample_path)\n",
    "sample_path"
   ]
  },
  {
   "cell_type": "code",
   "execution_count": null,
   "metadata": {},
   "outputs": [
    {
     "data": {
      "text/plain": [
       "tensor([ 5.0833,  6.3958, 11.8125, 28.0417, 28.2708, 40.1042, 42.8542])"
      ]
     },
     "execution_count": 10,
     "metadata": {},
     "output_type": "execute_result"
    }
   ],
   "source": [
    "#load actual data instead\n",
    "checkpoint = torch.load(join(paths.dat, SETTINGS.rootpaths['models'],\n",
    "                             \"testing\", \"data.h5\"))\n",
    "list_of_dicts = checkpoint['data']\n",
    "chosen_sample = list_of_dicts[4][\"timestamps\"]\n",
    "sample_path =torch.tensor(chosen_sample)\n",
    "sample_path"
   ]
  },
  {
   "cell_type": "code",
   "execution_count": null,
   "metadata": {},
   "outputs": [
    {
     "data": {
      "image/png": "[encoded data removed]",
      "text/plain": [
       "<Figure size 640x480 with 1 Axes>"
      ]
     },
     "metadata": {},
     "output_type": "display_data"
    }
   ],
   "source": [
    "#plt.eventplot(sample_path, orientation='vertical', colors='r')\n",
    "plt.scatter(sample_path, [1] * len(sample_path), color='blue', label='Time Series 1', s=10, marker='x')\n",
    "\n",
    "plt.yticks([])\n",
    "plt.xlabel('Time')\n",
    "plt.title('Event Plot of Sparse Binary Events')\n",
    "plt.grid(True)\n",
    "plt.show()\n"
   ]
  },
  {
   "cell_type": "code",
   "execution_count": null,
   "metadata": {},
   "outputs": [
    {
     "ename": "NameError",
     "evalue": "name 'asdafa' is not defined",
     "output_type": "error",
     "traceback": [
      "\u001b[0;31m---------------------------------------------------------------------------\u001b[0m",
      "\u001b[0;31mNameError\u001b[0m                                 Traceback (most recent call last)",
      "Cell \u001b[0;32mIn[12], line 1\u001b[0m\n\u001b[0;32m----> 1\u001b[0m \u001b[43masdafa\u001b[49m\n",
      "\u001b[0;31mNameError\u001b[0m: name 'asdafa' is not defined"
     ]
    }
   ],
   "source": [
    "asdafa"
   ]
  },
  {
   "cell_type": "markdown",
   "metadata": {},
   "source": [
    "# Model"
   ]
  },
  {
   "cell_type": "code",
   "execution_count": 4,
   "metadata": {},
   "outputs": [
    {
     "data": {
      "text/plain": [
       "tensor([ 5.0833,  6.3958, 11.8125, 28.0417, 28.2708, 40.1042, 42.8542])"
      ]
     },
     "execution_count": 4,
     "metadata": {},
     "output_type": "execute_result"
    }
   ],
   "source": [
    "checkpoint = torch.load(join(paths.dat, SETTINGS.rootpaths['models'],\n",
    "                             \"testing\", \"data.h5\"))\n",
    "list_of_dicts = checkpoint['data']\n",
    "chosen_sample = list_of_dicts[4][\"timestamps\"]\n",
    "sample_path =torch.tensor(chosen_sample)\n",
    "sample_path"
   ]
  },
  {
   "cell_type": "code",
   "execution_count": 5,
   "metadata": {},
   "outputs": [
    {
     "data": {
      "image/png": "[encoded data removed]",
      "text/plain": [
       "<Figure size 640x480 with 1 Axes>"
      ]
     },
     "metadata": {},
     "output_type": "display_data"
    }
   ],
   "source": [
    "#plt.eventplot(sample_path, orientation='vertical', colors='r')\n",
    "plt.scatter(sample_path, [1] * len(sample_path), color='blue', label='Time Series 1', s=10, marker='x')\n",
    "\n",
    "plt.yticks([])\n",
    "plt.xlabel('Time')\n",
    "plt.title('Event Plot of Sparse Binary Events')\n",
    "plt.grid(True)\n",
    "plt.show()\n"
   ]
  },
  {
   "cell_type": "markdown",
   "metadata": {},
   "source": [
    "## Train Gradient Descent\n",
    "Not working"
   ]
  },
  {
   "cell_type": "markdown",
   "metadata": {},
   "source": [
    "### base"
   ]
  },
  {
   "cell_type": "code",
   "execution_count": null,
   "metadata": {},
   "outputs": [],
   "source": [
    "def train_single(model, path, scoring_func,optimizer, num_epochs=100, num_tries=20):\n",
    "    \n",
    "    for iter in tqdm(range(num_epochs)):\n",
    "        last_t = 0\n",
    "        state = torch.zeros((1, state_size))\n",
    "        loss = 0.\n",
    "        #results = []\n",
    "        for timestep in path:\n",
    "            current_pred = []\n",
    "            for _ in range(num_tries):\n",
    "                current_pred.append(last_t + model.sample_one(state))\n",
    "            current_pred = torch.stack(current_pred)\n",
    "            #results.append(torch.mean(current_pred))\n",
    "            loss += torch.log(scoring_func(current_pred, timestep))\n",
    "            delta = timestep-last_t\n",
    "            last_t = timestep\n",
    "            state = model.evolve_state(state, delta)\n",
    "        print(\"loss: \", loss)\n",
    "        loss.backward()\n",
    "        torch.nn.utils.clip_grad_norm_(model.parameters(), max_norm=2)\n",
    "        optimizer.step()\n",
    "\n",
    "        #for name, param in model.named_parameters():\n",
    "        #    print(f\"Parameter Name: {name}\")\n",
    "        #    print(f\"Parameter Value: {param}\")\n",
    "        #    print(f\"Gradients: {param.grad}\")\n",
    "        #    print(f\"Parameter Shape: {param.shape}\")\n",
    "        #    print(f\"Requires Gradient: {param.requires_grad}\")\n",
    "        #    print(\"-\" * 40)\n",
    "        #return\n",
    "        optimizer.zero_grad()\n"
   ]
  },
  {
   "cell_type": "code",
   "execution_count": null,
   "metadata": {},
   "outputs": [],
   "source": [
    "# parameter dicts\n",
    "width= 16\n",
    "user_state_dict = {\"model_hyp\": {\"layer_width\": [width, width, width]}}\n",
    "intensity_state_dict = {\"model_hyp\": {\"layer_width\": [width, width, width],\n",
    "                                                         \"noise\": 0}\n",
    "                            }\n",
    "\n",
    "\n",
    "hyperparameter_dict = {\"state_size\": state_size, \"state_model\": user_state_dict, \n",
    "                           \"intensity_model\": intensity_state_dict,# \"num_recom\" : num_items_per_recom,\n",
    "                            \"noise\": 0.}\n",
    "train_model = Toy_intensity_Generator(hyperparameter_dict)"
   ]
  },
  {
   "cell_type": "code",
   "execution_count": null,
   "metadata": {},
   "outputs": [],
   "source": [
    "path_train = join(paths.dat, SETTINGS.filepaths_new[\"copy_intensity_model\"]\n",
    "            )\n",
    "#torch.save(gen_model.state_dict(), path_train)\n",
    "#train_model.load_state_dict(torch.load(path_train))"
   ]
  },
  {
   "cell_type": "code",
   "execution_count": null,
   "metadata": {},
   "outputs": [],
   "source": [
    "sample_path = torch.as_tensor(sample_path)\n",
    "optimizer = optim.AdamW(train_model.parameters(), lr=0.1,\n",
    "                        weight_decay=1e-7)\n"
   ]
  },
  {
   "cell_type": "code",
   "execution_count": null,
   "metadata": {},
   "outputs": [],
   "source": [
    "#train_single(train_model, sample_path, scoring_func=utils.energy_score_loss,\n",
    "#            optimizer=optimizer, num_epochs=30, num_tries=10)"
   ]
  },
  {
   "cell_type": "markdown",
   "metadata": {},
   "source": [
    "### function approximation\n",
    "\n"
   ]
  },
  {
   "cell_type": "code",
   "execution_count": 6,
   "metadata": {},
   "outputs": [],
   "source": [
    "from simtrain.sim_models_new import all_in_one_model\n",
    "\n",
    "width=64\n",
    "user_state_dict = {\"model_hyp\": {\"layer_width\": [width, width, width, width]}}\n",
    "time_dict = {\"model_hyp\": {\"layer_width\": [width, width, width, 3]}\n",
    "                            }\n",
    "\n",
    "timecheat = False\n",
    "hyperparameter_dict = {\"state_size\": state_size, \"time_model\": time_dict, \n",
    "                           \"state_model\": user_state_dict}\n",
    "train_model = all_in_one_model(hyperparameter_dict, timecheat=timecheat)"
   ]
  },
  {
   "cell_type": "code",
   "execution_count": 7,
   "metadata": {},
   "outputs": [],
   "source": [
    "from simtrain.train import train_single_function_approx"
   ]
  },
  {
   "cell_type": "code",
   "execution_count": 8,
   "metadata": {},
   "outputs": [
    {
     "name": "stdout",
     "output_type": "stream",
     "text": [
      "Using device: cpu\n"
     ]
    }
   ],
   "source": [
    "steps_per_epoch = 1\n",
    "\n",
    "num_epochs = 1000\n",
    "warmup_period = steps_per_epoch * 10\n",
    "num_steps = num_epochs*steps_per_epoch - warmup_period\n",
    "num_iter_til_first_restart = num_steps + 1\n",
    "user_lr = 0.001\n",
    "\n",
    "device = torch.device(\"cuda\" if torch.cuda.is_available() else \"cpu\")\n",
    "print(f\"Using device: {device}\")\n",
    "\n",
    "optimizer = optim.AdamW(train_model.parameters(), lr=user_lr,\n",
    "                        weight_decay=1e-7)\n",
    "lr_scheduler = optim.lr_scheduler.CosineAnnealingWarmRestarts(\n",
    "    optimizer, T_0=num_iter_til_first_restart, T_mult=1, eta_min=1e-7)\n",
    "\n",
    "warmup_scheduler = warmup.LinearWarmup(optimizer, warmup_period)\n"
   ]
  },
  {
   "cell_type": "code",
   "execution_count": 9,
   "metadata": {},
   "outputs": [
    {
     "name": "stderr",
     "output_type": "stream",
     "text": [
      "  0%|          | 4/5000 [00:00<05:57, 13.96it/s]"
     ]
    },
    {
     "name": "stdout",
     "output_type": "stream",
     "text": [
      "loss:  tensor(12.3135, grad_fn=<AddBackward0>)\n"
     ]
    },
    {
     "name": "stderr",
     "output_type": "stream",
     "text": [
      "  2%|▏         | 103/5000 [00:04<03:03, 26.62it/s]"
     ]
    },
    {
     "name": "stdout",
     "output_type": "stream",
     "text": [
      "loss:  tensor(4.8372, grad_fn=<AddBackward0>)\n"
     ]
    },
    {
     "name": "stderr",
     "output_type": "stream",
     "text": [
      "  4%|▍         | 205/5000 [00:08<03:25, 23.31it/s]"
     ]
    },
    {
     "name": "stdout",
     "output_type": "stream",
     "text": [
      "loss:  tensor(nan, grad_fn=<AddBackward0>)\n"
     ]
    },
    {
     "name": "stderr",
     "output_type": "stream",
     "text": [
      "  6%|▌         | 303/5000 [00:12<03:12, 24.40it/s]"
     ]
    },
    {
     "name": "stdout",
     "output_type": "stream",
     "text": [
      "loss:  tensor(nan, grad_fn=<AddBackward0>)\n"
     ]
    },
    {
     "name": "stderr",
     "output_type": "stream",
     "text": [
      "  7%|▋         | 372/5000 [00:17<08:03,  9.57it/s]"
     ]
    }
   ],
   "source": [
    "train_single_function_approx(train_model, sample_path,scoring_func=utils.energy_score_loss,\n",
    "            state_size=state_size, warmup_scheduler=warmup_scheduler, lr_scheduler=lr_scheduler,\n",
    "            optimizer=optimizer, num_epochs=num_epochs, num_tries=30, timecheat=timecheat, loss_print_interval=num_epochs//50,\n",
    "            warmup_period=warmup_period)\n"
   ]
  },
  {
   "cell_type": "code",
   "execution_count": null,
   "metadata": {},
   "outputs": [],
   "source": [
    "optimizer = optim.AdamW(train_model.parameters(), lr=0.01,\n",
    "                        weight_decay=1e-7)"
   ]
  },
  {
   "cell_type": "code",
   "execution_count": null,
   "metadata": {},
   "outputs": [
    {
     "name": "stderr",
     "output_type": "stream",
     "text": [
      "  2%|▏         | 4/200 [00:00<00:06, 32.09it/s]"
     ]
    },
    {
     "name": "stdout",
     "output_type": "stream",
     "text": [
      "loss:  tensor(9.4494, grad_fn=<AddBackward0>)\n"
     ]
    },
    {
     "name": "stderr",
     "output_type": "stream",
     "text": [
      " 14%|█▎        | 27/200 [00:00<00:04, 38.47it/s]"
     ]
    },
    {
     "name": "stdout",
     "output_type": "stream",
     "text": [
      "loss:  tensor(5.0083, grad_fn=<AddBackward0>)\n"
     ]
    },
    {
     "name": "stderr",
     "output_type": "stream",
     "text": [
      " 24%|██▍       | 48/200 [00:01<00:03, 38.67it/s]"
     ]
    },
    {
     "name": "stdout",
     "output_type": "stream",
     "text": [
      "loss:  tensor(7.4135, grad_fn=<AddBackward0>)\n"
     ]
    },
    {
     "name": "stderr",
     "output_type": "stream",
     "text": [
      " 34%|███▍      | 68/200 [00:01<00:03, 41.10it/s]"
     ]
    },
    {
     "name": "stdout",
     "output_type": "stream",
     "text": [
      "loss:  tensor(4.4690, grad_fn=<AddBackward0>)\n"
     ]
    },
    {
     "name": "stderr",
     "output_type": "stream",
     "text": [
      " 44%|████▍     | 88/200 [00:02<00:02, 42.16it/s]"
     ]
    },
    {
     "name": "stdout",
     "output_type": "stream",
     "text": [
      "loss:  tensor(7.0705, grad_fn=<AddBackward0>)\n"
     ]
    },
    {
     "name": "stderr",
     "output_type": "stream",
     "text": [
      " 54%|█████▍    | 108/200 [00:02<00:02, 42.04it/s]"
     ]
    },
    {
     "name": "stdout",
     "output_type": "stream",
     "text": [
      "loss:  tensor(6.6125, grad_fn=<AddBackward0>)\n"
     ]
    },
    {
     "name": "stderr",
     "output_type": "stream",
     "text": [
      " 64%|██████▍   | 128/200 [00:03<00:01, 42.49it/s]"
     ]
    },
    {
     "name": "stdout",
     "output_type": "stream",
     "text": [
      "loss:  tensor(6.4655, grad_fn=<AddBackward0>)\n"
     ]
    },
    {
     "name": "stderr",
     "output_type": "stream",
     "text": [
      " 74%|███████▍  | 148/200 [00:03<00:01, 42.25it/s]"
     ]
    },
    {
     "name": "stdout",
     "output_type": "stream",
     "text": [
      "loss:  tensor(7.0678, grad_fn=<AddBackward0>)\n"
     ]
    },
    {
     "name": "stderr",
     "output_type": "stream",
     "text": [
      " 84%|████████▍ | 168/200 [00:04<00:00, 41.21it/s]"
     ]
    },
    {
     "name": "stdout",
     "output_type": "stream",
     "text": [
      "loss:  tensor(5.6805, grad_fn=<AddBackward0>)\n"
     ]
    },
    {
     "name": "stderr",
     "output_type": "stream",
     "text": [
      " 93%|█████████▎| 186/200 [00:04<00:00, 39.60it/s]"
     ]
    },
    {
     "name": "stdout",
     "output_type": "stream",
     "text": [
      "loss:  tensor(7.2837, grad_fn=<AddBackward0>)\n"
     ]
    },
    {
     "name": "stderr",
     "output_type": "stream",
     "text": [
      "100%|██████████| 200/200 [00:04<00:00, 40.20it/s]\n"
     ]
    }
   ],
   "source": [
    "train_single_function_approx(train_model, sample_path,scoring_func=utils.energy_score_loss,\n",
    "            optimizer=optimizer, num_epochs=200,timecheat=timecheat, num_tries=20, \n",
    "            loss_print_interval=20, state_size=state_size,)"
   ]
  },
  {
   "cell_type": "code",
   "execution_count": null,
   "metadata": {},
   "outputs": [],
   "source": [
    "optimizer = optim.AdamW(train_model.parameters(), lr=0.001,\n",
    "                        weight_decay=1e-7)"
   ]
  },
  {
   "cell_type": "code",
   "execution_count": null,
   "metadata": {},
   "outputs": [
    {
     "name": "stderr",
     "output_type": "stream",
     "text": [
      "  2%|▏         | 4/200 [00:00<00:05, 38.79it/s]"
     ]
    },
    {
     "name": "stdout",
     "output_type": "stream",
     "text": [
      "loss:  tensor(4.1327, grad_fn=<AddBackward0>)\n"
     ]
    },
    {
     "name": "stderr",
     "output_type": "stream",
     "text": [
      " 12%|█▏        | 24/200 [00:00<00:04, 40.83it/s]"
     ]
    },
    {
     "name": "stdout",
     "output_type": "stream",
     "text": [
      "loss:  tensor(6.1200, grad_fn=<AddBackward0>)\n"
     ]
    },
    {
     "name": "stderr",
     "output_type": "stream",
     "text": [
      " 22%|██▏       | 44/200 [00:01<00:03, 41.38it/s]"
     ]
    },
    {
     "name": "stdout",
     "output_type": "stream",
     "text": [
      "loss:  tensor(4.6028, grad_fn=<AddBackward0>)\n"
     ]
    },
    {
     "name": "stderr",
     "output_type": "stream",
     "text": [
      " 32%|███▏      | 64/200 [00:01<00:03, 41.62it/s]"
     ]
    },
    {
     "name": "stdout",
     "output_type": "stream",
     "text": [
      "loss:  tensor(5.1625, grad_fn=<AddBackward0>)\n"
     ]
    },
    {
     "name": "stderr",
     "output_type": "stream",
     "text": [
      " 42%|████▏     | 84/200 [00:02<00:02, 41.94it/s]"
     ]
    },
    {
     "name": "stdout",
     "output_type": "stream",
     "text": [
      "loss:  tensor(4.0272, grad_fn=<AddBackward0>)\n"
     ]
    },
    {
     "name": "stderr",
     "output_type": "stream",
     "text": [
      " 52%|█████▏    | 104/200 [00:02<00:02, 41.87it/s]"
     ]
    },
    {
     "name": "stdout",
     "output_type": "stream",
     "text": [
      "loss:  tensor(3.9702, grad_fn=<AddBackward0>)\n"
     ]
    },
    {
     "name": "stderr",
     "output_type": "stream",
     "text": [
      " 62%|██████▏   | 124/200 [00:02<00:01, 41.32it/s]"
     ]
    },
    {
     "name": "stdout",
     "output_type": "stream",
     "text": [
      "loss:  tensor(5.0487, grad_fn=<AddBackward0>)\n"
     ]
    },
    {
     "name": "stderr",
     "output_type": "stream",
     "text": [
      " 72%|███████▏  | 144/200 [00:03<00:01, 41.45it/s]"
     ]
    },
    {
     "name": "stdout",
     "output_type": "stream",
     "text": [
      "loss:  tensor(5.6911, grad_fn=<AddBackward0>)\n"
     ]
    },
    {
     "name": "stderr",
     "output_type": "stream",
     "text": [
      " 82%|████████▏ | 164/200 [00:03<00:00, 40.83it/s]"
     ]
    },
    {
     "name": "stdout",
     "output_type": "stream",
     "text": [
      "loss:  tensor(5.8194, grad_fn=<AddBackward0>)\n"
     ]
    },
    {
     "name": "stderr",
     "output_type": "stream",
     "text": [
      " 92%|█████████▎| 185/200 [00:04<00:00, 39.12it/s]"
     ]
    },
    {
     "name": "stdout",
     "output_type": "stream",
     "text": [
      "loss:  tensor(5.5311, grad_fn=<AddBackward0>)\n"
     ]
    },
    {
     "name": "stderr",
     "output_type": "stream",
     "text": [
      "100%|██████████| 200/200 [00:05<00:00, 39.96it/s]\n"
     ]
    }
   ],
   "source": [
    "train_single_function_approx(train_model, sample_path,scoring_func=utils.energy_score_loss,\n",
    "            optimizer=optimizer, num_epochs=200,timecheat=timecheat, num_tries=20, \n",
    "            loss_print_interval=20, state_size=state_size,)"
   ]
  },
  {
   "cell_type": "code",
   "execution_count": null,
   "metadata": {},
   "outputs": [],
   "source": [
    "optimizer = optim.AdamW(train_model.parameters(), lr=0.000001,\n",
    "                        weight_decay=1e-7)"
   ]
  },
  {
   "cell_type": "code",
   "execution_count": null,
   "metadata": {},
   "outputs": [
    {
     "name": "stderr",
     "output_type": "stream",
     "text": [
      "  3%|▎         | 4/150 [00:00<00:04, 35.34it/s]"
     ]
    },
    {
     "name": "stdout",
     "output_type": "stream",
     "text": [
      "loss:  tensor(-43.9511, grad_fn=<AddBackward0>)\n"
     ]
    },
    {
     "name": "stderr",
     "output_type": "stream",
     "text": [
      " 16%|█▌        | 24/150 [00:00<00:03, 39.04it/s]"
     ]
    },
    {
     "name": "stdout",
     "output_type": "stream",
     "text": [
      "loss:  tensor(1.1369, grad_fn=<AddBackward0>)\n"
     ]
    },
    {
     "name": "stderr",
     "output_type": "stream",
     "text": [
      " 29%|██▉       | 44/150 [00:01<00:02, 40.51it/s]"
     ]
    },
    {
     "name": "stdout",
     "output_type": "stream",
     "text": [
      "loss:  tensor(-43.9511, grad_fn=<AddBackward0>)\n"
     ]
    },
    {
     "name": "stderr",
     "output_type": "stream",
     "text": [
      " 43%|████▎     | 64/150 [00:01<00:02, 39.96it/s]"
     ]
    },
    {
     "name": "stdout",
     "output_type": "stream",
     "text": [
      "loss:  tensor(1.1369, grad_fn=<AddBackward0>)\n"
     ]
    },
    {
     "name": "stderr",
     "output_type": "stream",
     "text": [
      " 57%|█████▋    | 86/150 [00:02<00:01, 40.09it/s]"
     ]
    },
    {
     "name": "stdout",
     "output_type": "stream",
     "text": [
      "loss:  tensor(-43.9511, grad_fn=<AddBackward0>)\n"
     ]
    },
    {
     "name": "stderr",
     "output_type": "stream",
     "text": [
      " 71%|███████   | 106/150 [00:02<00:01, 40.74it/s]"
     ]
    },
    {
     "name": "stdout",
     "output_type": "stream",
     "text": [
      "loss:  tensor(1.1369, grad_fn=<AddBackward0>)\n"
     ]
    },
    {
     "name": "stderr",
     "output_type": "stream",
     "text": [
      " 84%|████████▍ | 126/150 [00:03<00:00, 42.86it/s]"
     ]
    },
    {
     "name": "stdout",
     "output_type": "stream",
     "text": [
      "loss:  tensor(-43.9511, grad_fn=<AddBackward0>)\n"
     ]
    },
    {
     "name": "stderr",
     "output_type": "stream",
     "text": [
      " 97%|█████████▋| 146/150 [00:03<00:00, 39.40it/s]"
     ]
    },
    {
     "name": "stdout",
     "output_type": "stream",
     "text": [
      "loss:  tensor(1.1369, grad_fn=<AddBackward0>)\n"
     ]
    },
    {
     "name": "stderr",
     "output_type": "stream",
     "text": [
      "100%|██████████| 150/150 [00:03<00:00, 40.57it/s]\n"
     ]
    }
   ],
   "source": [
    "train_single_function_approx(train_model, sample_path,scoring_func=utils.energy_score_loss,\n",
    "            optimizer=optimizer, num_epochs=150,timecheat=timecheat, num_tries=20, \n",
    "            loss_print_interval=20, state_size=state_size,)"
   ]
  },
  {
   "cell_type": "code",
   "execution_count": null,
   "metadata": {},
   "outputs": [],
   "source": [
    "adsfasdf"
   ]
  },
  {
   "cell_type": "markdown",
   "metadata": {},
   "source": [
    "### Predict intensities"
   ]
  },
  {
   "cell_type": "code",
   "execution_count": null,
   "metadata": {},
   "outputs": [],
   "source": [
    "train_sorted = False\n",
    "batchsize = 1"
   ]
  },
  {
   "cell_type": "code",
   "execution_count": null,
   "metadata": {},
   "outputs": [
    {
     "name": "stdout",
     "output_type": "stream",
     "text": [
      "Toy_intensity_Comparer(\n",
      "  (embed): SignWaveEmbedding()\n",
      "  (user_state_model): Base_Model(\n",
      "    (model): Sequential(\n",
      "      (0): Linear(in_features=37, out_features=64, bias=True)\n",
      "      (1): SiLU()\n",
      "      (2): Linear(in_features=64, out_features=64, bias=True)\n",
      "      (3): SiLU()\n",
      "      (4): Linear(in_features=64, out_features=64, bias=True)\n",
      "      (5): SiLU()\n",
      "      (6): Linear(in_features=64, out_features=64, bias=True)\n",
      "      (7): SiLU()\n",
      "      (8): Linear(in_features=64, out_features=4, bias=True)\n",
      "    )\n",
      "  )\n",
      "  (intensity_model): User_State_Intensity_Model_simple(\n",
      "    (model): Sequential(\n",
      "      (0): Linear(in_features=4, out_features=64, bias=True)\n",
      "      (1): SiLU()\n",
      "      (2): Linear(in_features=64, out_features=64, bias=True)\n",
      "      (3): SiLU()\n",
      "      (4): Linear(in_features=64, out_features=64, bias=True)\n",
      "      (5): SiLU()\n",
      "      (6): Linear(in_features=64, out_features=1, bias=True)\n",
      "    )\n",
      "  )\n",
      ")\n"
     ]
    }
   ],
   "source": [
    "width=64\n",
    "intensity = {\"model_hyp\": {\"layer_width\": [width for _ in range(3)]}}\n",
    "state_dict = {\"model_hyp\": {\"layer_width\": [width for _ in range(4)]},\n",
    "            }\n",
    "\n",
    "timecheat = False\n",
    "hyperparameter_dict = {\"state_size\": state_size, \"state_model\": state_dict, \n",
    "                           \"intensity_model\": intensity,\n",
    "                           \"time_embedding_size\" :32, \"max_freq\": 20,\n",
    "                           }\n",
    "model = Toy_intensity_Comparer(hyperparameter_dict)\n",
    "print(model)\n"
   ]
  },
  {
   "cell_type": "code",
   "execution_count": null,
   "metadata": {},
   "outputs": [
    {
     "name": "stdout",
     "output_type": "stream",
     "text": [
      "Timestep: 0.0000, Frequency: 0.0\n",
      "Timestep: 0.4698, Frequency: 0.0\n",
      "Timestep: 0.9396, Frequency: 0.0\n",
      "Timestep: 1.4094, Frequency: 0.0\n",
      "Timestep: 1.8792, Frequency: 0.0\n",
      "Timestep: 2.3490, Frequency: 0.0\n",
      "Timestep: 2.8188, Frequency: 0.0\n",
      "Timestep: 3.2886, Frequency: 0.0\n",
      "Timestep: 3.7584, Frequency: 0.0\n",
      "Timestep: 4.2282, Frequency: 0.0\n",
      "Timestep: 4.6980, Frequency: 0.0\n",
      "Timestep: 5.0833, Frequency: 2.0\n",
      "Timestep: 5.1678, Frequency: 2.0\n",
      "Timestep: 5.6376, Frequency: 0.0\n",
      "Timestep: 6.1074, Frequency: 0.0\n",
      "Timestep: 6.3958, Frequency: 2.0\n",
      "Timestep: 6.5772, Frequency: 2.0\n",
      "Timestep: 7.0470, Frequency: 0.0\n",
      "Timestep: 7.5168, Frequency: 0.0\n",
      "Timestep: 7.9866, Frequency: 0.0\n"
     ]
    }
   ],
   "source": [
    "# create dataset\n",
    "\n",
    "import torch\n",
    "import numpy as np\n",
    "import pandas as pd\n",
    "from torch.utils.data import Dataset, DataLoader\n",
    "from simtrain.Dataset import TimestepFrequencyDataset\n",
    "\n",
    "# Example usage\n",
    "dataset = TimestepFrequencyDataset(sample_path, num_random_points=150)\n",
    "\n",
    "# Accessing items from the dataset\n",
    "for i in range(min(len(dataset), 20)):\n",
    "    sample = dataset[i]\n",
    "    print(f\"Timestep: {sample['timestep'].item():.4f}, Frequency: {sample['frequency'].item()}\")\n",
    "\n",
    "dataloader = DataLoader(dataset, batch_size=batchsize, shuffle=not train_sorted\n",
    "                        )"
   ]
  },
  {
   "cell_type": "code",
   "execution_count": null,
   "metadata": {},
   "outputs": [
    {
     "name": "stdout",
     "output_type": "stream",
     "text": [
      "Using device: cpu\n"
     ]
    }
   ],
   "source": [
    "steps_per_epoch = len(dataset) // batchsize  \n",
    "if len(dataset) % batchsize  != 0:\n",
    "    steps_per_epoch+=1\n",
    "num_epochs = 200\n",
    "warmup_period = steps_per_epoch\n",
    "num_steps = num_epochs*steps_per_epoch - warmup_period\n",
    "num_iter_til_first_restart = num_steps + 1\n",
    "user_lr = 0.001\n",
    "\n",
    "device = torch.device(\"cuda\" if torch.cuda.is_available() else \"cpu\")\n",
    "print(f\"Using device: {device}\")\n",
    "\n",
    "optimizer = optim.AdamW(model.parameters(), lr=user_lr,\n",
    "                        weight_decay=1e-7)\n",
    "lr_scheduler = optim.lr_scheduler.CosineAnnealingWarmRestarts(\n",
    "    optimizer, T_0=num_iter_til_first_restart, T_mult=1, eta_min=5e-5)\n",
    "\n",
    "warmup_scheduler = warmup.LinearWarmup(optimizer, warmup_period)\n"
   ]
  },
  {
   "cell_type": "code",
   "execution_count": null,
   "metadata": {},
   "outputs": [],
   "source": [
    "from simtrain.train import train_density\n",
    "\n",
    "def train_density_sorted():\n",
    "    pass\n",
    "\n",
    "def print_res(model, dataloader, criterion,state_size):\n",
    "    for batch in dataloader:\n",
    "        timesteps = batch['timestep'].unsqueeze(1)  # Add batch dimension\n",
    "        frequencies = batch['frequency']\n",
    "        state = torch.zeros((len(timesteps), state_size))\n",
    "        optimizer.zero_grad()\n",
    "        \n",
    "        # Forward pass\n",
    "        outputs = model(state, timesteps)\n",
    "\n",
    "        loss = criterion(outputs, frequencies)  # Remove extra dimension from output\n",
    "        print(f\"loss: {loss} \\tfrequencies: {frequencies} \\t predicted: {outputs}, \\ttime: {timesteps}\")\n",
    "        loss.backward()\n",
    "\n",
    "        #for name, param in model.named_parameters():\n",
    "        #    print(f\"Parameter Name: {name}\")\n",
    "        #    print(f\"Gradients: {param.grad}\")\n"
   ]
  },
  {
   "cell_type": "code",
   "execution_count": null,
   "metadata": {},
   "outputs": [],
   "source": [
    "from simtrain.utils import weighted_mse_loss"
   ]
  },
  {
   "cell_type": "code",
   "execution_count": null,
   "metadata": {},
   "outputs": [
    {
     "name": "stderr",
     "output_type": "stream",
     "text": [
      "  0%|          | 1/200 [00:00<01:17,  2.58it/s]"
     ]
    },
    {
     "name": "stdout",
     "output_type": "stream",
     "text": [
      "epch: 0 loss_sum: 104.5349\n",
      "frequencies: tensor([0.]) \n",
      " predicted: tensor([[2.5873e-05]], grad_fn=<SoftplusBackward0>), time: tensor([[42.2819]])\n"
     ]
    },
    {
     "name": "stderr",
     "output_type": "stream",
     "text": [
      " 26%|██▌       | 51/200 [00:20<00:56,  2.62it/s]"
     ]
    },
    {
     "name": "stdout",
     "output_type": "stream",
     "text": [
      "epch: 50 loss_sum: 39.4657\n",
      "frequencies: tensor([0.]) \n",
      " predicted: tensor([[8.6979e-05]], grad_fn=<SoftplusBackward0>), time: tensor([[51.2081]])\n"
     ]
    },
    {
     "name": "stderr",
     "output_type": "stream",
     "text": [
      " 50%|█████     | 101/200 [00:42<00:40,  2.47it/s]"
     ]
    },
    {
     "name": "stdout",
     "output_type": "stream",
     "text": [
      "epch: 100 loss_sum: 0.1078\n",
      "frequencies: tensor([0.]) \n",
      " predicted: tensor([[0.]], grad_fn=<SoftplusBackward0>), time: tensor([[67.1812]])\n"
     ]
    },
    {
     "name": "stderr",
     "output_type": "stream",
     "text": [
      " 76%|███████▌  | 151/200 [01:01<00:18,  2.58it/s]"
     ]
    },
    {
     "name": "stdout",
     "output_type": "stream",
     "text": [
      "epch: 150 loss_sum: 0.0044\n",
      "frequencies: tensor([0.]) \n",
      " predicted: tensor([[6.8188e-12]], grad_fn=<SoftplusBackward0>), time: tensor([[32.8859]])\n"
     ]
    },
    {
     "name": "stderr",
     "output_type": "stream",
     "text": [
      "100%|██████████| 200/200 [01:19<00:00,  2.53it/s]"
     ]
    },
    {
     "name": "stdout",
     "output_type": "stream",
     "text": [
      "epch: 199 loss_sum: 0.0001\n"
     ]
    },
    {
     "name": "stderr",
     "output_type": "stream",
     "text": [
      "\n"
     ]
    }
   ],
   "source": [
    "train_density(model, dataloader, criterion=weighted_mse_loss, state_size=state_size,\n",
    "                optimizer=optimizer, num_epochs=num_epochs, warmup_scheduler=warmup_scheduler,\n",
    "                loss_print_interval=50, warmup_period=warmup_period, lr_scheduler=lr_scheduler)"
   ]
  },
  {
   "cell_type": "code",
   "execution_count": null,
   "metadata": {},
   "outputs": [],
   "source": [
    "#dataloader = DataLoader(dataset, batch_size=1, shuffle=not train_sorted) "
   ]
  },
  {
   "cell_type": "code",
   "execution_count": null,
   "metadata": {},
   "outputs": [
    {
     "name": "stdout",
     "output_type": "stream",
     "text": [
      "107\n"
     ]
    }
   ],
   "source": [
    "print(len(dataset))"
   ]
  },
  {
   "cell_type": "code",
   "execution_count": null,
   "metadata": {},
   "outputs": [
    {
     "name": "stdout",
     "output_type": "stream",
     "text": [
      "loss: 4.499430910434839e-32 \tfrequencies: tensor([0.]) \t predicted: tensor([[2.1212e-16]], grad_fn=<SoftplusBackward0>), \ttime: tensor([[38.9426]])\n",
      "loss: 0.00018598907627165318 \tfrequencies: tensor([2.]) \t predicted: tensor([[1.9864]], grad_fn=<SoftplusBackward0>), \ttime: tensor([[11.8125]])\n",
      "loss: 1.4604561116016157e-08 \tfrequencies: tensor([0.]) \t predicted: tensor([[0.0001]], grad_fn=<SoftplusBackward0>), \ttime: tensor([[25.0563]])\n",
      "loss: 0.0 \tfrequencies: tensor([0.]) \t predicted: tensor([[2.8454e-37]], grad_fn=<SoftplusBackward0>), \ttime: tensor([[52.3944]])\n",
      "loss: 6.681749100680926e-15 \tfrequencies: tensor([0.]) \t predicted: tensor([[8.1742e-08]], grad_fn=<SoftplusBackward0>), \ttime: tensor([[24.3897]])\n",
      "loss: 0.0 \tfrequencies: tensor([0.]) \t predicted: tensor([[4.2039e-45]], grad_fn=<SoftplusBackward0>), \ttime: tensor([[69.6699]])\n",
      "loss: 6.0445909396119096e-30 \tfrequencies: tensor([0.]) \t predicted: tensor([[2.4586e-15]], grad_fn=<SoftplusBackward0>), \ttime: tensor([[39.2724]])\n",
      "loss: 0.0 \tfrequencies: tensor([0.]) \t predicted: tensor([[1.4167e-42]], grad_fn=<SoftplusBackward0>), \ttime: tensor([[64.1337]])\n",
      "loss: 0.00029725622152909636 \tfrequencies: tensor([2.]) \t predicted: tensor([[1.9828]], grad_fn=<SoftplusBackward0>), \ttime: tensor([[5.0326]])\n",
      "loss: 0.0 \tfrequencies: tensor([0.]) \t predicted: tensor([[2.1860e-43]], grad_fn=<SoftplusBackward0>), \ttime: tensor([[58.8268]])\n",
      "loss: 2.6538264918940513e-08 \tfrequencies: tensor([0.]) \t predicted: tensor([[0.0002]], grad_fn=<SoftplusBackward0>), \ttime: tensor([[24.8940]])\n",
      "loss: 0.0 \tfrequencies: tensor([0.]) \t predicted: tensor([[2.7135e-35]], grad_fn=<SoftplusBackward0>), \ttime: tensor([[49.3772]])\n",
      "loss: 0.0 \tfrequencies: tensor([0.]) \t predicted: tensor([[4.3860e-37]], grad_fn=<SoftplusBackward0>), \ttime: tensor([[63.1165]])\n",
      "loss: 0.11149619519710541 \tfrequencies: tensor([2.]) \t predicted: tensor([[1.6661]], grad_fn=<SoftplusBackward0>), \ttime: tensor([[40.1042]])\n",
      "loss: 1.3133634804707306e-13 \tfrequencies: tensor([0.]) \t predicted: tensor([[3.6240e-07]], grad_fn=<SoftplusBackward0>), \ttime: tensor([[13.8674]])\n",
      "loss: 9.591211158621604e-10 \tfrequencies: tensor([0.]) \t predicted: tensor([[3.0970e-05]], grad_fn=<SoftplusBackward0>), \ttime: tensor([[1.5461]])\n",
      "loss: 0.0 \tfrequencies: tensor([0.]) \t predicted: tensor([[1.2603e-33]], grad_fn=<SoftplusBackward0>), \ttime: tensor([[49.7023]])\n",
      "loss: 0.0001684830931480974 \tfrequencies: tensor([2.]) \t predicted: tensor([[1.9870]], grad_fn=<SoftplusBackward0>), \ttime: tensor([[11.8454]])\n",
      "loss: 0.0 \tfrequencies: tensor([0.]) \t predicted: tensor([[9.4833e-40]], grad_fn=<SoftplusBackward0>), \ttime: tensor([[52.2027]])\n",
      "loss: 0.0 \tfrequencies: tensor([0.]) \t predicted: tensor([[7.0065e-44]], grad_fn=<SoftplusBackward0>), \ttime: tensor([[67.1112]])\n",
      "loss: 0.002109403256326914 \tfrequencies: tensor([2.]) \t predicted: tensor([[1.9541]], grad_fn=<SoftplusBackward0>), \ttime: tensor([[5.0833]])\n",
      "loss: 1.057032849548494e-15 \tfrequencies: tensor([0.]) \t predicted: tensor([[3.2512e-08]], grad_fn=<SoftplusBackward0>), \ttime: tensor([[13.5988]])\n",
      "loss: 0.0 \tfrequencies: tensor([0.]) \t predicted: tensor([[1.6955e-37]], grad_fn=<SoftplusBackward0>), \ttime: tensor([[61.1562]])\n",
      "loss: 9.825030546084523e-12 \tfrequencies: tensor([0.]) \t predicted: tensor([[3.1345e-06]], grad_fn=<SoftplusBackward0>), \ttime: tensor([[0.0419]])\n",
      "loss: 0.0 \tfrequencies: tensor([0.]) \t predicted: tensor([[1.8098e-37]], grad_fn=<SoftplusBackward0>), \ttime: tensor([[50.9872]])\n",
      "loss: 3.5972817418553064e-29 \tfrequencies: tensor([0.]) \t predicted: tensor([[5.9977e-15]], grad_fn=<SoftplusBackward0>), \ttime: tensor([[37.7056]])\n",
      "loss: 0.0008972252253443003 \tfrequencies: tensor([2.]) \t predicted: tensor([[1.9700]], grad_fn=<SoftplusBackward0>), \ttime: tensor([[5.0577]])\n",
      "loss: 0.014283621683716774 \tfrequencies: tensor([2.]) \t predicted: tensor([[1.8805]], grad_fn=<SoftplusBackward0>), \ttime: tensor([[5.1834]])\n",
      "loss: 1.828232263419229e-19 \tfrequencies: tensor([0.]) \t predicted: tensor([[4.2758e-10]], grad_fn=<SoftplusBackward0>), \ttime: tensor([[10.7336]])\n",
      "loss: 0.10012543946504593 \tfrequencies: tensor([2.]) \t predicted: tensor([[1.6836]], grad_fn=<SoftplusBackward0>), \ttime: tensor([[42.6391]])\n",
      "loss: 0.0071233296766877174 \tfrequencies: tensor([2.]) \t predicted: tensor([[1.9156]], grad_fn=<SoftplusBackward0>), \ttime: tensor([[6.2281]])\n",
      "loss: 0.0 \tfrequencies: tensor([0.]) \t predicted: tensor([[1.5927e-32]], grad_fn=<SoftplusBackward0>), \ttime: tensor([[52.7896]])\n",
      "loss: 6.974332082048675e-25 \tfrequencies: tensor([0.]) \t predicted: tensor([[8.3512e-13]], grad_fn=<SoftplusBackward0>), \ttime: tensor([[3.6327]])\n",
      "loss: 1.2079574977276204e-14 \tfrequencies: tensor([0.]) \t predicted: tensor([[1.0991e-07]], grad_fn=<SoftplusBackward0>), \ttime: tensor([[19.3052]])\n",
      "loss: 5.028798185432049e-15 \tfrequencies: tensor([0.]) \t predicted: tensor([[7.0914e-08]], grad_fn=<SoftplusBackward0>), \ttime: tensor([[41.1559]])\n",
      "loss: 0.0 \tfrequencies: tensor([0.]) \t predicted: tensor([[3.0337e-32]], grad_fn=<SoftplusBackward0>), \ttime: tensor([[36.2756]])\n",
      "loss: 0.0 \tfrequencies: tensor([0.]) \t predicted: tensor([[2.0043e-33]], grad_fn=<SoftplusBackward0>), \ttime: tensor([[60.2070]])\n",
      "loss: 1.1915089999092743e-05 \tfrequencies: tensor([2.]) \t predicted: tensor([[1.9965]], grad_fn=<SoftplusBackward0>), \ttime: tensor([[6.3958]])\n",
      "loss: 2.412297451639626e-25 \tfrequencies: tensor([0.]) \t predicted: tensor([[4.9115e-13]], grad_fn=<SoftplusBackward0>), \ttime: tensor([[3.5891]])\n",
      "loss: 0.0018409083131700754 \tfrequencies: tensor([4.]) \t predicted: tensor([[4.0429]], grad_fn=<SoftplusBackward0>), \ttime: tensor([[28.2708]])\n",
      "loss: 5.067660565271845e-14 \tfrequencies: tensor([0.]) \t predicted: tensor([[2.2511e-07]], grad_fn=<SoftplusBackward0>), \ttime: tensor([[21.0772]])\n",
      "loss: 2.5338855536300325e-27 \tfrequencies: tensor([0.]) \t predicted: tensor([[5.0338e-14]], grad_fn=<SoftplusBackward0>), \ttime: tensor([[23.6832]])\n",
      "loss: 1.5888437787658916e-10 \tfrequencies: tensor([0.]) \t predicted: tensor([[1.2605e-05]], grad_fn=<SoftplusBackward0>), \ttime: tensor([[19.6562]])\n",
      "loss: 0.0 \tfrequencies: tensor([0.]) \t predicted: tensor([[3.4358e-41]], grad_fn=<SoftplusBackward0>), \ttime: tensor([[52.0626]])\n",
      "loss: 0.0 \tfrequencies: tensor([0.]) \t predicted: tensor([[2.7068e-37]], grad_fn=<SoftplusBackward0>), \ttime: tensor([[67.8091]])\n",
      "loss: 6.924978423133261e-15 \tfrequencies: tensor([0.]) \t predicted: tensor([[8.3216e-08]], grad_fn=<SoftplusBackward0>), \ttime: tensor([[13.7648]])\n",
      "loss: 3.088717222213745 \tfrequencies: tensor([0.]) \t predicted: tensor([[1.7575]], grad_fn=<SoftplusBackward0>), \ttime: tensor([[5.4226]])\n",
      "loss: 0.0 \tfrequencies: tensor([0.]) \t predicted: tensor([[2.5399e-38]], grad_fn=<SoftplusBackward0>), \ttime: tensor([[52.3167]])\n",
      "loss: 1.4348698086769892e-27 \tfrequencies: tensor([0.]) \t predicted: tensor([[3.7880e-14]], grad_fn=<SoftplusBackward0>), \ttime: tensor([[38.3523]])\n",
      "loss: 2.1902684410831473e-21 \tfrequencies: tensor([0.]) \t predicted: tensor([[4.6800e-11]], grad_fn=<SoftplusBackward0>), \ttime: tensor([[31.8733]])\n",
      "loss: 2.791959891365328e-17 \tfrequencies: tensor([0.]) \t predicted: tensor([[5.2839e-09]], grad_fn=<SoftplusBackward0>), \ttime: tensor([[29.1087]])\n",
      "loss: 3.6561703483420945e-32 \tfrequencies: tensor([0.]) \t predicted: tensor([[1.9121e-16]], grad_fn=<SoftplusBackward0>), \ttime: tensor([[39.0486]])\n",
      "loss: 1.1602751284609485e-41 \tfrequencies: tensor([0.]) \t predicted: tensor([[3.4063e-21]], grad_fn=<SoftplusBackward0>), \ttime: tensor([[47.3330]])\n",
      "loss: 0.0 \tfrequencies: tensor([0.]) \t predicted: tensor([[2.4792e-39]], grad_fn=<SoftplusBackward0>), \ttime: tensor([[55.9948]])\n",
      "loss: 6.665491492086062e-10 \tfrequencies: tensor([0.]) \t predicted: tensor([[2.5818e-05]], grad_fn=<SoftplusBackward0>), \ttime: tensor([[15.3000]])\n",
      "loss: 4.1380378235089665e-08 \tfrequencies: tensor([0.]) \t predicted: tensor([[0.0002]], grad_fn=<SoftplusBackward0>), \ttime: tensor([[7.0006]])\n",
      "loss: 0.0 \tfrequencies: tensor([0.]) \t predicted: tensor([[2.8395e-30]], grad_fn=<SoftplusBackward0>), \ttime: tensor([[35.9411]])\n",
      "loss: 7.631793997845858e-28 \tfrequencies: tensor([0.]) \t predicted: tensor([[2.7626e-14]], grad_fn=<SoftplusBackward0>), \ttime: tensor([[30.5744]])\n",
      "loss: 1.7916437441575988e-38 \tfrequencies: tensor([0.]) \t predicted: tensor([[1.3385e-19]], grad_fn=<SoftplusBackward0>), \ttime: tensor([[37.2767]])\n",
      "loss: 1.7107936432520648e-13 \tfrequencies: tensor([0.]) \t predicted: tensor([[4.1362e-07]], grad_fn=<SoftplusBackward0>), \ttime: tensor([[9.4513]])\n",
      "loss: 0.0 \tfrequencies: tensor([0.]) \t predicted: tensor([[4.1899e-43]], grad_fn=<SoftplusBackward0>), \ttime: tensor([[64.7095]])\n",
      "loss: 0.0018248636042699218 \tfrequencies: tensor([0.]) \t predicted: tensor([[0.0427]], grad_fn=<SoftplusBackward0>), \ttime: tensor([[43.1206]])\n",
      "loss: 0.0 \tfrequencies: tensor([0.]) \t predicted: tensor([[1.2373e-30]], grad_fn=<SoftplusBackward0>), \ttime: tensor([[45.9805]])\n",
      "loss: 2.398612780724094e-20 \tfrequencies: tensor([0.]) \t predicted: tensor([[1.5487e-10]], grad_fn=<SoftplusBackward0>), \ttime: tensor([[0.7533]])\n",
      "loss: 8.081541626616636e-26 \tfrequencies: tensor([0.]) \t predicted: tensor([[2.8428e-13]], grad_fn=<SoftplusBackward0>), \ttime: tensor([[3.5262]])\n",
      "loss: 4.7910394495265496e-42 \tfrequencies: tensor([0.]) \t predicted: tensor([[2.1889e-21]], grad_fn=<SoftplusBackward0>), \ttime: tensor([[44.4966]])\n",
      "loss: 0.0 \tfrequencies: tensor([0.]) \t predicted: tensor([[3.8153e-37]], grad_fn=<SoftplusBackward0>), \ttime: tensor([[63.1591]])\n",
      "loss: 0.0 \tfrequencies: tensor([0.]) \t predicted: tensor([[1.2528e-42]], grad_fn=<SoftplusBackward0>), \ttime: tensor([[64.1582]])\n",
      "loss: 0.0058572678826749325 \tfrequencies: tensor([0.]) \t predicted: tensor([[0.0765]], grad_fn=<SoftplusBackward0>), \ttime: tensor([[39.7831]])\n",
      "loss: 2.382207389352189e-44 \tfrequencies: tensor([0.]) \t predicted: tensor([[1.5549e-22]], grad_fn=<SoftplusBackward0>), \ttime: tensor([[45.2265]])\n",
      "loss: 0.0 \tfrequencies: tensor([0.]) \t predicted: tensor([[1.1172e-34]], grad_fn=<SoftplusBackward0>), \ttime: tensor([[53.8274]])\n",
      "loss: 0.0 \tfrequencies: tensor([0.]) \t predicted: tensor([[1.2135e-31]], grad_fn=<SoftplusBackward0>), \ttime: tensor([[36.0974]])\n",
      "loss: 0.0 \tfrequencies: tensor([0.]) \t predicted: tensor([[1.5260e-42]], grad_fn=<SoftplusBackward0>), \ttime: tensor([[51.8361]])\n",
      "loss: 1.4046072223366812e-19 \tfrequencies: tensor([0.]) \t predicted: tensor([[3.7478e-10]], grad_fn=<SoftplusBackward0>), \ttime: tensor([[3.9239]])\n",
      "loss: 0.0 \tfrequencies: tensor([0.]) \t predicted: tensor([[4.4610e-37]], grad_fn=<SoftplusBackward0>), \ttime: tensor([[63.0794]])\n",
      "loss: 1.13813447259477e-38 \tfrequencies: tensor([0.]) \t predicted: tensor([[1.0668e-19]], grad_fn=<SoftplusBackward0>), \ttime: tensor([[43.6297]])\n",
      "loss: 0.0 \tfrequencies: tensor([0.]) \t predicted: tensor([[2.4087e-39]], grad_fn=<SoftplusBackward0>), \ttime: tensor([[51.1483]])\n",
      "loss: 1.2269911238001738e-19 \tfrequencies: tensor([0.]) \t predicted: tensor([[3.5028e-10]], grad_fn=<SoftplusBackward0>), \ttime: tensor([[15.7455]])\n",
      "loss: 0.020155321806669235 \tfrequencies: tensor([2.]) \t predicted: tensor([[1.8580]], grad_fn=<SoftplusBackward0>), \ttime: tensor([[5.2148]])\n",
      "loss: 1.7485435997513281e-25 \tfrequencies: tensor([0.]) \t predicted: tensor([[4.1816e-13]], grad_fn=<SoftplusBackward0>), \ttime: tensor([[3.5735]])\n",
      "loss: 4.8891304973816576e-20 \tfrequencies: tensor([0.]) \t predicted: tensor([[2.2111e-10]], grad_fn=<SoftplusBackward0>), \ttime: tensor([[29.2614]])\n",
      "loss: 1.5786795724227125e-15 \tfrequencies: tensor([0.]) \t predicted: tensor([[3.9733e-08]], grad_fn=<SoftplusBackward0>), \ttime: tensor([[8.9730]])\n",
      "loss: 0.10577370226383209 \tfrequencies: tensor([2.]) \t predicted: tensor([[1.6748]], grad_fn=<SoftplusBackward0>), \ttime: tensor([[42.8542]])\n",
      "loss: 2.5366806557583216e-27 \tfrequencies: tensor([0.]) \t predicted: tensor([[5.0365e-14]], grad_fn=<SoftplusBackward0>), \ttime: tensor([[38.3007]])\n",
      "loss: 0.0 \tfrequencies: tensor([0.]) \t predicted: tensor([[2.8177e-40]], grad_fn=<SoftplusBackward0>), \ttime: tensor([[63.6470]])\n",
      "loss: 0.0 \tfrequencies: tensor([0.]) \t predicted: tensor([[3.4636e-39]], grad_fn=<SoftplusBackward0>), \ttime: tensor([[65.5347]])\n",
      "loss: 0.0 \tfrequencies: tensor([0.]) \t predicted: tensor([[6.9083e-34]], grad_fn=<SoftplusBackward0>), \ttime: tensor([[49.0317]])\n",
      "loss: 3.69298443916692e-37 \tfrequencies: tensor([0.]) \t predicted: tensor([[6.0770e-19]], grad_fn=<SoftplusBackward0>), \ttime: tensor([[34.3732]])\n",
      "loss: 7.319958731790424e-22 \tfrequencies: tensor([0.]) \t predicted: tensor([[2.7055e-11]], grad_fn=<SoftplusBackward0>), \ttime: tensor([[8.2274]])\n",
      "loss: 4.666323886201641e-43 \tfrequencies: tensor([0.]) \t predicted: tensor([[6.8265e-22]], grad_fn=<SoftplusBackward0>), \ttime: tensor([[43.9766]])\n",
      "loss: 0.0 \tfrequencies: tensor([0.]) \t predicted: tensor([[8.1696e-43]], grad_fn=<SoftplusBackward0>), \ttime: tensor([[64.8710]])\n",
      "loss: 1.6794168323803343e-13 \tfrequencies: tensor([0.]) \t predicted: tensor([[4.0981e-07]], grad_fn=<SoftplusBackward0>), \ttime: tensor([[9.2434]])\n",
      "loss: 0.0 \tfrequencies: tensor([0.]) \t predicted: tensor([[1.9611e-39]], grad_fn=<SoftplusBackward0>), \ttime: tensor([[59.7338]])\n",
      "loss: 3.4370542944682416e-16 \tfrequencies: tensor([0.]) \t predicted: tensor([[1.8539e-08]], grad_fn=<SoftplusBackward0>), \ttime: tensor([[10.8142]])\n",
      "loss: 4.677869894285751e-15 \tfrequencies: tensor([0.]) \t predicted: tensor([[6.8395e-08]], grad_fn=<SoftplusBackward0>), \ttime: tensor([[10.8385]])\n",
      "loss: 0.0 \tfrequencies: tensor([0.]) \t predicted: tensor([[1.4013e-45]], grad_fn=<SoftplusBackward0>), \ttime: tensor([[69.4055]])\n",
      "loss: 1.1406762744463373e-17 \tfrequencies: tensor([0.]) \t predicted: tensor([[3.3774e-09]], grad_fn=<SoftplusBackward0>), \ttime: tensor([[9.7396]])\n",
      "loss: 0.0008758862386457622 \tfrequencies: tensor([4.]) \t predicted: tensor([[4.0296]], grad_fn=<SoftplusBackward0>), \ttime: tensor([[28.0417]])\n",
      "loss: 0.0 \tfrequencies: tensor([0.]) \t predicted: tensor([[3.9236e-44]], grad_fn=<SoftplusBackward0>), \ttime: tensor([[59.1191]])\n",
      "loss: 0.0 \tfrequencies: tensor([0.]) \t predicted: tensor([[9.8282e-31]], grad_fn=<SoftplusBackward0>), \ttime: tensor([[50.1646]])\n",
      "loss: 5.911666194652362e-23 \tfrequencies: tensor([0.]) \t predicted: tensor([[7.6887e-12]], grad_fn=<SoftplusBackward0>), \ttime: tensor([[7.8873]])\n",
      "loss: 2.5708294515425223e-07 \tfrequencies: tensor([0.]) \t predicted: tensor([[0.0005]], grad_fn=<SoftplusBackward0>), \ttime: tensor([[6.9327]])\n",
      "loss: 6.128004117210065e-17 \tfrequencies: tensor([0.]) \t predicted: tensor([[7.8282e-09]], grad_fn=<SoftplusBackward0>), \ttime: tensor([[8.8153]])\n",
      "loss: 1.923305536100789e-14 \tfrequencies: tensor([0.]) \t predicted: tensor([[1.3868e-07]], grad_fn=<SoftplusBackward0>), \ttime: tensor([[19.0652]])\n",
      "loss: 3.766249678951685e-16 \tfrequencies: tensor([0.]) \t predicted: tensor([[1.9407e-08]], grad_fn=<SoftplusBackward0>), \ttime: tensor([[30.0267]])\n",
      "loss: 0.0 \tfrequencies: tensor([0.]) \t predicted: tensor([[1.5093e-34]], grad_fn=<SoftplusBackward0>), \ttime: tensor([[53.7638]])\n",
      "loss: 7.642328296822323e-16 \tfrequencies: tensor([0.]) \t predicted: tensor([[2.7645e-08]], grad_fn=<SoftplusBackward0>), \ttime: tensor([[22.9902]])\n"
     ]
    }
   ],
   "source": [
    "print_res(model, dataloader, weighted_mse_loss, state_size=state_size,)"
   ]
  },
  {
   "cell_type": "code",
   "execution_count": null,
   "metadata": {},
   "outputs": [
    {
     "data": {
      "image/png": "[encoded data removed]",
      "text/plain": [
       "<Figure size 1000x600 with 1 Axes>"
      ]
     },
     "metadata": {},
     "output_type": "display_data"
    }
   ],
   "source": [
    "x_range = np.linspace(-1, 71, 200)  # Adjust the range as needed\n",
    "x_range_tensor = torch.tensor(x_range, dtype=torch.float32).unsqueeze(1)\n",
    "state = torch.zeros((len(x_range), state_size))\n",
    "model.eval()\n",
    "with torch.no_grad():\n",
    "    predictions = model(state, x_range_tensor).numpy()\n",
    "\n",
    "# Plot the results\n",
    "plt.figure(figsize=(10, 6))\n",
    "plt.plot(x_range, predictions, label='Model Predictions')\n",
    "\n",
    "for i in range(len(dataset)):\n",
    "    sample = dataset[i]\n",
    "    x_pos= sample['timestep'].item()\n",
    "    height = torch.where(sample['frequency']>0, sample['frequency'], .1).item()\n",
    "    plt.plot([x_pos, x_pos], [0, height], linestyle='--', color='red')\n",
    "\n",
    "plt.plot([0, 0], [0, 0], color='red', linestyle='--', alpha=1.0, label='Data Points')\n",
    "\n",
    "#plt.scatter(x_train.numpy(), y_train.numpy(), color='red', label='Training Data')\n",
    "plt.xlabel('Input')\n",
    "plt.ylabel('Output')\n",
    "plt.title('Model Predictions Over Input Range')\n",
    "plt.legend()\n",
    "plt.grid(True)\n",
    "plt.show()"
   ]
  },
  {
   "cell_type": "code",
   "execution_count": null,
   "metadata": {},
   "outputs": [],
   "source": [
    "sfdsd"
   ]
  },
  {
   "cell_type": "code",
   "execution_count": null,
   "metadata": {},
   "outputs": [
    {
     "data": {
      "image/png": "[encoded data removed]",
      "text/plain": [
       "<Figure size 1000x600 with 1 Axes>"
      ]
     },
     "metadata": {},
     "output_type": "display_data"
    }
   ],
   "source": [
    "x_range = np.linspace(-1, 70, 200)  # Adjust the range as needed\n",
    "x_range_tensor = torch.tensor(x_range, dtype=torch.float32).unsqueeze(1)\n",
    "state = torch.zeros((len(x_range), state_size))\n",
    "model.eval()\n",
    "with torch.no_grad():\n",
    "    predictions = model(state, x_range_tensor).numpy()\n",
    "\n",
    "# Plot the results\n",
    "plt.figure(figsize=(10, 6))\n",
    "plt.plot(x_range, predictions, label='Model Predictions')\n",
    "\n",
    "for i in range(len(dataset)):\n",
    "    sample = dataset[i]\n",
    "    x_pos= sample['timestep'].item()\n",
    "    height =sample['frequency'].item()+.1\n",
    "    plt.plot([x_pos, x_pos], [0, height], linestyle='--', color='red')\n",
    "\n",
    "#plt.scatter(x_train.numpy(), y_train.numpy(), color='red', label='Training Data')\n",
    "plt.xlabel('Input')\n",
    "plt.ylabel('Output')\n",
    "plt.title('Model Predictions Over Input Range')\n",
    "plt.legend()\n",
    "plt.grid(True)\n",
    "plt.show()"
   ]
  },
  {
   "cell_type": "code",
   "execution_count": null,
   "metadata": {},
   "outputs": [
    {
     "data": {
      "image/png": "[encoded data removed]",
      "text/plain": [
       "<Figure size 1000x600 with 1 Axes>"
      ]
     },
     "metadata": {},
     "output_type": "display_data"
    }
   ],
   "source": [
    "x_range = np.linspace(-1, 70, 200)  # Adjust the range as needed\n",
    "x_range_tensor = torch.tensor(x_range, dtype=torch.float32).unsqueeze(1)\n",
    "state = torch.zeros((len(x_range), state_size))\n",
    "model.eval()\n",
    "with torch.no_grad():\n",
    "    predictions = model(state, x_range_tensor).numpy()\n",
    "\n",
    "# Plot the results\n",
    "plt.figure(figsize=(10, 6))\n",
    "plt.plot(x_range, predictions, label='Model Predictions')\n",
    "\n",
    "for i in range(len(dataset)):\n",
    "    sample = dataset[i]\n",
    "    x_pos= sample['timestep'].item()\n",
    "    height =sample['frequency'].item()+.1\n",
    "    plt.plot([x_pos, x_pos], [0, height], linestyle='--', color='red')\n",
    "\n",
    "#plt.scatter(x_train.numpy(), y_train.numpy(), color='red', label='Training Data')\n",
    "plt.xlabel('Input')\n",
    "plt.ylabel('Output')\n",
    "plt.title('Model Predictions Over Input Range')\n",
    "plt.legend()\n",
    "plt.grid(True)\n",
    "plt.show()"
   ]
  },
  {
   "cell_type": "code",
   "execution_count": null,
   "metadata": {},
   "outputs": [
    {
     "data": {
      "image/png": "[encoded data removed]",
      "text/plain": [
       "<Figure size 1000x600 with 1 Axes>"
      ]
     },
     "metadata": {},
     "output_type": "display_data"
    }
   ],
   "source": [
    "x_range = np.linspace(-1, 70, 200)  # Adjust the range as needed\n",
    "x_range_tensor = torch.tensor(x_range, dtype=torch.float32).unsqueeze(1)\n",
    "state = torch.zeros((len(x_range), state_size))\n",
    "model.eval()\n",
    "with torch.no_grad():\n",
    "    predictions = model(state, x_range_tensor).numpy()\n",
    "\n",
    "# Plot the results\n",
    "plt.figure(figsize=(10, 6))\n",
    "plt.plot(x_range, predictions, label='Model Predictions')\n",
    "\n",
    "for i in range(len(dataset)):\n",
    "    sample = dataset[i]\n",
    "    x_pos= sample['timestep'].item()\n",
    "    height =sample['frequency'].item()+.1\n",
    "    plt.plot([x_pos, x_pos], [0, height], linestyle='--', color='red')\n",
    "\n",
    "#plt.scatter(x_train.numpy(), y_train.numpy(), color='red', label='Training Data')\n",
    "plt.xlabel('Input')\n",
    "plt.ylabel('Output')\n",
    "plt.title('Model Predictions Over Input Range')\n",
    "plt.legend()\n",
    "plt.grid(True)\n",
    "plt.show()"
   ]
  },
  {
   "cell_type": "code",
   "execution_count": null,
   "metadata": {},
   "outputs": [],
   "source": []
  },
  {
   "cell_type": "markdown",
   "metadata": {},
   "source": [
    "## Train via Evolution"
   ]
  },
  {
   "cell_type": "code",
   "execution_count": null,
   "metadata": {},
   "outputs": [],
   "source": [
    "from evotorch.algorithms import PGPE, CMAES\n",
    "from evotorch.logging import PandasLogger\n",
    "from functools import partial\n"
   ]
  },
  {
   "cell_type": "code",
   "execution_count": null,
   "metadata": {},
   "outputs": [],
   "source": [
    "# parameter dicts\n",
    "width= 64\n",
    "user_state_dict = {\"model_hyp\": {\"layer_width\": [width,width, width]}}\n",
    "intensity_state_dict = {\"model_hyp\": {\"layer_width\": [width, width,width],\n",
    "                                                         \"noise\": 0}\n",
    "                            }\n",
    "\n",
    "\n",
    "hyperparameter_dict = {\"state_size\": state_size, \"state_model\": user_state_dict, \n",
    "                           \"intensity_model\": intensity_state_dict,# \"num_recom\" : num_items_per_recom,\n",
    "                            \"noise\": 0.}\n",
    "train_model = Toy_intensity_Generator(hyperparameter_dict)"
   ]
  },
  {
   "cell_type": "code",
   "execution_count": null,
   "metadata": {},
   "outputs": [],
   "source": [
    "path_train = join(paths.dat, SETTINGS.filepaths_new[\"copy_intensity_model\"]\n",
    "            )\n",
    "#torch.save(gen_model.state_dict(), path_train)\n",
    "#train_model.load_state_dict(torch.load(path_train))"
   ]
  },
  {
   "cell_type": "code",
   "execution_count": null,
   "metadata": {},
   "outputs": [],
   "source": [
    "\n",
    "def eval_single(model, path, scoring_func, num_tries=20):\n",
    "    \n",
    "    last_t = 0\n",
    "    state = torch.zeros((1, state_size))\n",
    "    loss = 0.\n",
    "    #results = []\n",
    "    with torch.no_grad():\n",
    "        for timestep in path:\n",
    "            current_pred = []\n",
    "            for _ in range(num_tries):\n",
    "                out = model.sample_one(state)\n",
    "                current_pred.append(last_t + out)\n",
    "            current_pred = torch.stack(current_pred)\n",
    "            #results.append(torch.mean(current_pred))\n",
    "            loss += scoring_func(current_pred, timestep)\n",
    "            delta = timestep-last_t\n",
    "            last_t = timestep\n",
    "            state = model.evolve_state(state, delta)\n",
    "    \n",
    "    return loss\n",
    "\n",
    "\n",
    "eval_single_partial = partial(eval_single, path=sample_path, scoring_func=utils.energy_score_loss,\n",
    "                              num_tries=30)"
   ]
  },
  {
   "cell_type": "code",
   "execution_count": null,
   "metadata": {},
   "outputs": [
    {
     "data": {
      "text/plain": [
       "tensor(63.4256)"
      ]
     },
     "execution_count": 27,
     "metadata": {},
     "output_type": "execute_result"
    }
   ],
   "source": [
    "eval_single_partial(train_model)"
   ]
  },
  {
   "cell_type": "code",
   "execution_count": null,
   "metadata": {},
   "outputs": [],
   "source": [
    "device = torch.device(\"cuda\" if torch.cuda.is_available() else \"cpu\")\n",
    "\n",
    "Single_path_problem = evotorch.neuroevolution.NEProblem(\n",
    "    objective_sense=\"min\",\n",
    "    network= train_model,\n",
    "    #network=Toy_intensity_Generator,\n",
    "    #network_args = {\"hyperparameter_dict\": hyperparameter_dict},\n",
    "    network_eval_func=eval_single_partial,\n",
    "    device=device,\n",
    "    num_actors = 20,\n",
    ")"
   ]
  },
  {
   "cell_type": "code",
   "execution_count": null,
   "metadata": {},
   "outputs": [],
   "source": [
    "\n",
    "\n",
    "searcher = PGPE(\n",
    "    Single_path_problem,\n",
    "    popsize=40,\n",
    "    radius_init=5.,\n",
    "    center_learning_rate=0.2,\n",
    "    stdev_learning_rate=0.05,\n",
    ")\n",
    "'''\n",
    "searcher = CMAES(\n",
    "    Single_path_problem,\n",
    "    popsize=20,  \n",
    "    stdev_init= 2.\n",
    ")'''\n",
    "\n",
    "logger = PandasLogger(searcher)\n",
    "\n"
   ]
  },
  {
   "cell_type": "code",
   "execution_count": null,
   "metadata": {},
   "outputs": [],
   "source": [
    "num_iterations = 20\n",
    "for _ in tqdm(range(num_iterations), desc=\"Running PGPE\"):\n",
    "    searcher.step()"
   ]
  },
  {
   "cell_type": "markdown",
   "metadata": {},
   "source": [
    "1 epoch = 50(population) * 20(samples for expectation) * 1(number of paths) * 10'000(integration/for loop steps, worst case) * (2+1) (neural network calls) *10(number of events)= 300m NN calls per epoch\n",
    "\n",
    "for much worse approximation and still way too much compute:<br>\n",
    "1 epoch = 20(population) * 20(samples for expectation) * 1(number of paths) * 100(integration/for loop steps, worst case) * (2+1) (neural network calls) *10(number of events)= 1.2m NN calls per epoch\n"
   ]
  },
  {
   "cell_type": "markdown",
   "metadata": {},
   "source": [
    "lstm/rnn  feed last hidden state + actual state to predict probability increase,  stop at  threshhold chosen by uniform \n",
    "\n",
    "\n",
    "neural network(time? + state)  -> time + state\n",
    "\n",
    "noise for time but not state\n",
    "\n",
    "normalizing flows?"
   ]
  },
  {
   "cell_type": "code",
   "execution_count": null,
   "metadata": {},
   "outputs": [],
   "source": [
    "logger.to_dataframe().mean_eval.plot()# test datapoint CMA ES"
   ]
  },
  {
   "cell_type": "code",
   "execution_count": null,
   "metadata": {},
   "outputs": [],
   "source": [
    "asdcas"
   ]
  },
  {
   "cell_type": "code",
   "execution_count": null,
   "metadata": {},
   "outputs": [],
   "source": [
    "trained_network = Single_path_problem.parameterize_net(searcher.status[\"center\"])\n"
   ]
  },
  {
   "cell_type": "code",
   "execution_count": null,
   "metadata": {},
   "outputs": [],
   "source": [
    "path_train = join(paths.dat, SETTINGS.filepaths_new[\"copy_intensity_model\"]\n",
    "            )\n",
    "#torch.save(trained_network.state_dict(), path_train)\n",
    "#train_model.load_state_dict(torch.load(path_train))\n",
    "#trained_network = train_model"
   ]
  },
  {
   "cell_type": "code",
   "execution_count": null,
   "metadata": {},
   "outputs": [],
   "source": []
  },
  {
   "cell_type": "code",
   "execution_count": null,
   "metadata": {},
   "outputs": [],
   "source": []
  },
  {
   "cell_type": "markdown",
   "metadata": {},
   "source": [
    "# Visualize"
   ]
  },
  {
   "cell_type": "code",
   "execution_count": null,
   "metadata": {},
   "outputs": [],
   "source": [
    "trained_network = train_model"
   ]
  },
  {
   "cell_type": "code",
   "execution_count": null,
   "metadata": {},
   "outputs": [],
   "source": [
    "\n",
    "def simulate_single_forced(model, path, num_tries=20):\n",
    "    \n",
    "    last_t = 0\n",
    "    state = torch.zeros((1, state_size))\n",
    "    results = []\n",
    "    with torch.no_grad():\n",
    "        for timestep in path:\n",
    "            current_pred = []\n",
    "            for _ in range(num_tries):\n",
    "                out = model.sample_one(state)\n",
    "                current_pred.append(last_t + out)\n",
    "            current_pred = torch.stack(current_pred)\n",
    "            results.append(torch.mean(current_pred))\n",
    "            print(f\"var(forced): {torch.var(current_pred)}\")\n",
    "            #loss += scoring_func(current_pred, timestep)\n",
    "            delta = timestep-last_t\n",
    "            last_t = timestep\n",
    "            state = model.evolve_state(state, delta)\n",
    "    \n",
    "    return results\n",
    "\n",
    "def simulate_single_forced_function_approx(model, path, \n",
    "                                           timecheat=False, num_tries=20):\n",
    "    \n",
    "    last_t = 0\n",
    "    state = torch.zeros((1, state_size))\n",
    "    results = []\n",
    "    with torch.no_grad():\n",
    "        for timestep in path:\n",
    "            current_pred = []\n",
    "            for _ in range(num_tries):\n",
    "                if timecheat:\n",
    "                    next_time=model.get_time(state, timestep)\n",
    "                else:\n",
    "                    next_time=model.get_time(state)\n",
    "                #print(f\"next_time: {next_time}, next_state: {next_state}\")\n",
    "                current_pred.append(last_t + next_time[0])\n",
    "            current_pred = torch.stack(current_pred)\n",
    "            results.append(torch.mean(current_pred))\n",
    "            last_t = timestep\n",
    "            state = model.get_new_state(state, torch.tensor([[timestep]]))\n",
    "    \n",
    "    return results\n",
    "\n",
    "def simulate_single_function_approx(model, path, timecheat=False, num_tries=20):\n",
    "    \n",
    "    last_t = 0\n",
    "    state = torch.zeros((1, state_size))\n",
    "    results = []\n",
    "    with torch.no_grad():\n",
    "        for timestep in path:\n",
    "            current_pred = []\n",
    "            for _ in range(num_tries):\n",
    "                if timecheat:\n",
    "                    next_time=model.get_time(state, timestep)\n",
    "                else:\n",
    "                    next_time=model.get_time(state)\n",
    "                \n",
    "                current_pred.append(last_t + next_time[0])\n",
    "            current_pred = torch.stack(current_pred)\n",
    "            selected = torch.mean(current_pred)\n",
    "            results.append(selected)\n",
    "            last_t = selected\n",
    "            state = model.get_new_state(state, torch.tensor([[selected]]))\n",
    "    \n",
    "    return results\n",
    "\n",
    "def simulate_single(model, num_events, num_tries=20):\n",
    "    \n",
    "    last_t = 0\n",
    "    state = torch.zeros((1, state_size))\n",
    "    results = []\n",
    "    with torch.no_grad():\n",
    "        for i in range(num_events):\n",
    "            current_pred = []\n",
    "            for _ in range(num_tries):\n",
    "                out = model.sample_one(state)\n",
    "                current_pred.append(last_t + out)\n",
    "            current_pred = torch.stack(current_pred)\n",
    "            print(f\"var: {torch.var(current_pred)}\")\n",
    "            selected = torch.mean(current_pred)\n",
    "            results.append(selected)\n",
    "            delta = selected-last_t\n",
    "            last_t = selected\n",
    "            state = model.evolve_state(state, delta)\n",
    "    \n",
    "    return results\n"
   ]
  },
  {
   "cell_type": "code",
   "execution_count": null,
   "metadata": {},
   "outputs": [],
   "source": [
    "# simpler nn\n",
    "simulate_single_partial_forced_function_approx = partial(\n",
    "    simulate_single_forced_function_approx, path=sample_path,\n",
    "                              num_tries=30, timecheat=timecheat)\n",
    "simulate_single_partial_function_approx =partial(\n",
    "    simulate_single_function_approx, path=sample_path,\n",
    "                              num_tries=30, timecheat=timecheat)"
   ]
  },
  {
   "cell_type": "code",
   "execution_count": null,
   "metadata": {},
   "outputs": [],
   "source": [
    "# integrals\n",
    "simulate_single_partial_forced = partial(simulate_single_forced, path=sample_path, \n",
    "                              num_tries=2)\n",
    "\n",
    "simulate_single_partial = partial(simulate_single, num_events=12,\n",
    "                              num_tries=2)\n"
   ]
  },
  {
   "cell_type": "code",
   "execution_count": null,
   "metadata": {},
   "outputs": [],
   "source": [
    "example_out_forced = simulate_single_partial_forced(trained_network)\n",
    "example_out = simulate_single_partial(trained_network)"
   ]
  },
  {
   "cell_type": "code",
   "execution_count": null,
   "metadata": {},
   "outputs": [],
   "source": [
    "#mlp\n",
    "example_out_forced = simulate_single_partial_forced_function_approx(trained_network)\n",
    "example_out = simulate_single_partial_function_approx(trained_network)"
   ]
  },
  {
   "cell_type": "code",
   "execution_count": null,
   "metadata": {},
   "outputs": [
    {
     "data": {
      "image/png": "[encoded data removed]",
      "text/plain": [
       "<Figure size 800x500 with 1 Axes>"
      ]
     },
     "metadata": {},
     "output_type": "display_data"
    }
   ],
   "source": [
    "\n",
    "import matplotlib.pyplot as plt\n",
    "\n",
    "# Example data: replace these with your actual time series data\n",
    "time_series_1 = sample_path # Timestamps for the first time series\n",
    "time_series_2 = torch.clamp(torch.as_tensor(example_out_forced),0,70).detach().numpy()  # Timestamps for the second time series\n",
    "time_series_3 = torch.clamp(torch.as_tensor(example_out), 0, 70).detach().numpy()  # Timestamps for the second time series\n",
    "\n",
    "\n",
    "# Create a figure and axis\n",
    "fig, ax = plt.subplots(figsize=(8, 5))\n",
    "\n",
    "# Plot the first time series\n",
    "ax.scatter(time_series_1, [1] * len(time_series_1), color='blue', label='Ground Truth', s=10, marker='o')\n",
    "\n",
    "# Plot the second time series\n",
    "ax.scatter(time_series_2, [2] * len(time_series_2), color='red', label='Simmulation Forced', s=10, marker='x')\n",
    "\n",
    "ax.scatter(time_series_3, [3] * len(time_series_3), color='green', label='Simmulation Free', s=10, marker='x')\n",
    "\n",
    "\n",
    "# Add labels, legend, and grid\n",
    "ax.set_xlabel('Time')\n",
    "ax.set_yticks([1, 2, 3])\n",
    "ax.set_yticklabels(['Ground Truth', 'Simmulation Forced', \"Simmulation Free\"])\n",
    "ax.set_title('Comparison of Two Time Series')\n",
    "ax.legend(loc='center left', bbox_to_anchor=(1, 0.5), frameon=False)\n",
    "\n",
    "# Adjust subplot parameters to make room for the legend\n",
    "plt.subplots_adjust(right=0.75)\n",
    "ax.grid(True)\n",
    "\n",
    "# Display the plot\n",
    "plt.show()\n"
   ]
  },
  {
   "cell_type": "code",
   "execution_count": null,
   "metadata": {},
   "outputs": [],
   "source": [
    "asdfasf"
   ]
  },
  {
   "cell_type": "code",
   "execution_count": null,
   "metadata": {},
   "outputs": [],
   "source": [
    "# 3 layers\n",
    "import matplotlib.pyplot as plt\n",
    "\n",
    "# Example data: replace these with your actual time series data\n",
    "time_series_1 = sample_path # Timestamps for the first time series\n",
    "time_series_2 = torch.clamp(torch.as_tensor(example_out_forced),0,70).detach().numpy()  # Timestamps for the second time series\n",
    "time_series_3 = torch.clamp(torch.as_tensor(example_out), 0, 70).detach().numpy()  # Timestamps for the second time series\n",
    "\n",
    "\n",
    "# Create a figure and axis\n",
    "fig, ax = plt.subplots(figsize=(8, 5))\n",
    "\n",
    "# Plot the first time series\n",
    "ax.scatter(time_series_1, [1] * len(time_series_1), color='blue', label='Ground Truth', s=10, marker='o')\n",
    "\n",
    "# Plot the second time series\n",
    "ax.scatter(time_series_2, [2] * len(time_series_2), color='red', label='Simmulation Forced', s=10, marker='x')\n",
    "\n",
    "ax.scatter(time_series_3, [3] * len(time_series_3), color='green', label='Simmulation Free', s=10, marker='x')\n",
    "\n",
    "\n",
    "# Add labels, legend, and grid\n",
    "ax.set_xlabel('Time')\n",
    "ax.set_yticks([1, 2, 3])\n",
    "ax.set_yticklabels(['Ground Truth', 'Simmulation Forced', \"Simmulation Free\"])\n",
    "ax.set_title('Comparison of Two Time Series')\n",
    "ax.legend(loc='center left', bbox_to_anchor=(1, 0.5), frameon=False)\n",
    "\n",
    "# Adjust subplot parameters to make room for the legend\n",
    "plt.subplots_adjust(right=0.75)\n",
    "ax.grid(True)\n",
    "\n",
    "# Display the plot\n",
    "plt.show()\n"
   ]
  },
  {
   "cell_type": "code",
   "execution_count": null,
   "metadata": {},
   "outputs": [],
   "source": [
    "SCA"
   ]
  },
  {
   "cell_type": "code",
   "execution_count": null,
   "metadata": {},
   "outputs": [],
   "source": [
    "\n",
    "import matplotlib.pyplot as plt\n",
    "\n",
    "# Example data: replace these with your actual time series data\n",
    "time_series_1 = sample_path # Timestamps for the first time series\n",
    "time_series_2 = torch.clamp(torch.as_tensor(example_out_forced),0,70).detach().numpy()  # Timestamps for the second time series\n",
    "time_series_3 = torch.clamp(torch.as_tensor(example_out), 0, 70).detach().numpy()  # Timestamps for the second time series\n",
    "\n",
    "\n",
    "# Create a figure and axis\n",
    "fig, ax = plt.subplots(figsize=(8, 5))\n",
    "\n",
    "# Plot the first time series\n",
    "ax.scatter(time_series_1, [1] * len(time_series_1), color='blue', label='Ground Truth', s=10, marker='o')\n",
    "\n",
    "# Plot the second time series\n",
    "ax.scatter(time_series_2, [2] * len(time_series_2), color='red', label='Simmulation Forced', s=10, marker='x')\n",
    "\n",
    "ax.scatter(time_series_3, [3] * len(time_series_3), color='green', label='Simmulation Free', s=10, marker='x')\n",
    "\n",
    "\n",
    "# Add labels, legend, and grid\n",
    "ax.set_xlabel('Time')\n",
    "ax.set_yticks([1, 2, 3])\n",
    "ax.set_yticklabels(['Ground Truth', 'Simmulation Forced', \"Simmulation Free\"])\n",
    "ax.set_title('Comparison of Two Time Series')\n",
    "ax.legend(loc='center left', bbox_to_anchor=(1, 0.5), frameon=False)\n",
    "\n",
    "# Adjust subplot parameters to make room for the legend\n",
    "plt.subplots_adjust(right=0.75)\n",
    "ax.grid(True)\n",
    "\n",
    "# Display the plot\n",
    "plt.show()\n"
   ]
  },
  {
   "cell_type": "code",
   "execution_count": null,
   "metadata": {},
   "outputs": [],
   "source": [
    "scsdc"
   ]
  },
  {
   "cell_type": "code",
   "execution_count": null,
   "metadata": {},
   "outputs": [],
   "source": [
    "state = torch.zeros((1, state_size))\n",
    "samples = [train_model.sample_one(state).detach().numpy() for _ in range(100)]\n",
    "samples = np.array(samples)"
   ]
  },
  {
   "cell_type": "code",
   "execution_count": null,
   "metadata": {},
   "outputs": [],
   "source": [
    "plt.figure(figsize=(12, 6))\n",
    "\n",
    "# Histogram\n",
    "plt.subplot(1, 2, 1)\n",
    "plt.hist(samples, bins=50, density=True, alpha=0.6, color='g', edgecolor='black')\n",
    "plt.title('Histogram of Samples')\n",
    "plt.xlabel('Value')\n",
    "plt.ylabel('Frequency')\n",
    "\n",
    "# Density Plot\n",
    "plt.subplot(1, 2, 2)\n",
    "sns.kdeplot(samples, shade=True, color='g', bw_adjust=0.1)\n",
    "plt.title('Density Plot of Samples')\n",
    "plt.xlabel('Value')\n",
    "plt.ylabel('Density')\n",
    "\n",
    "plt.tight_layout()\n",
    "plt.show()\n"
   ]
  },
  {
   "cell_type": "markdown",
   "metadata": {},
   "source": [
    "# Multiple paths\n",
    "\n",
    "## Gradient descent"
   ]
  },
  {
   "cell_type": "code",
   "execution_count": null,
   "metadata": {},
   "outputs": [],
   "source": [
    "sample_paths = [torch.as_tensor(gen_model.sample_path(num_samples=7 + i%10)) for i in range(100)]"
   ]
  },
  {
   "cell_type": "code",
   "execution_count": null,
   "metadata": {},
   "outputs": [],
   "source": [
    "from tqdm import tqdm\n",
    "def train(model, paths, scoring_func, optimizer, num_epochs=100, num_tries=20):\n",
    "    \n",
    "    for iter in tqdm(range(num_epochs)):\n",
    "        avg_loss = 0\n",
    "        #results = []\n",
    "        for path in paths:\n",
    "            last_t = 0\n",
    "            state = torch.zeros((1, state_size))\n",
    "            loss = 0.\n",
    "            for timestep in path:\n",
    "                current_pred = []\n",
    "                for _ in range(num_tries):\n",
    "                    current_pred.append(last_t + model.sample_one(state))\n",
    "                current_pred = torch.stack(current_pred)\n",
    "                #results.append(torch.mean(current_pred))\n",
    "                loss += scoring_func(current_pred, timestep)\n",
    "                delta = timestep-last_t\n",
    "                last_t = timestep\n",
    "                state = model.evolve_state(state, delta)\n",
    "            loss.backward()\n",
    "            torch.nn.utils.clip_grad_norm_(model.parameters(), max_norm=2)\n",
    "            optimizer.step()\n",
    "            optimizer.zero_grad()\n",
    "            avg_loss += loss\n",
    "        print(\"loss: \", loss)\n",
    "        "
   ]
  },
  {
   "cell_type": "code",
   "execution_count": null,
   "metadata": {},
   "outputs": [],
   "source": [
    "results = train(train_model, sample_paths, scoring_func=utils.energy_score_loss,\n",
    "                optimizer=optimizer, num_epochs=30, num_tries=20)"
   ]
  },
  {
   "cell_type": "code",
   "execution_count": null,
   "metadata": {},
   "outputs": [],
   "source": []
  }
 ],
 "metadata": {
  "kernelspec": {
   "display_name": "WW",
   "language": "python",
   "name": "python3"
  },
  "language_info": {
   "codemirror_mode": {
    "name": "ipython",
    "version": 3
   },
   "file_extension": ".py",
   "mimetype": "text/x-python",
   "name": "python",
   "nbconvert_exporter": "python",
   "pygments_lexer": "ipython3",
   "version": "3.9.19"
  }
 },
 "nbformat": 4,
 "nbformat_minor": 2
}
