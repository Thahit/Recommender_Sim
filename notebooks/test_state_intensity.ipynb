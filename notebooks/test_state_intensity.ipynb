{
 "cells": [
  {
   "cell_type": "code",
   "execution_count": 1,
   "metadata": {},
   "outputs": [
    {
     "name": "stderr",
     "output_type": "stream",
     "text": [
      "2024-08-06 18:16:18,700\tINFO worker.py:1715 -- Started a local Ray instance. View the dashboard at \u001b[1m\u001b[32m127.0.0.1:8265 \u001b[39m\u001b[22m\n"
     ]
    },
    {
     "data": {
      "application/vnd.jupyter.widget-view+json": {
       "model_id": "d42ff3d20a6340788d371fd37bb138a6",
       "version_major": 2,
       "version_minor": 0
      },
      "text/html": [
       "<div class=\"lm-Widget p-Widget lm-Panel p-Panel jp-Cell-outputWrapper\">\n",
       "    <div style=\"margin-left: 50px;display: flex;flex-direction: row;align-items: center\">\n",
       "        <div class=\"jp-RenderedHTMLCommon\" style=\"display: flex; flex-direction: row;\">\n",
       "  <svg viewBox=\"0 0 567 224\" fill=\"none\" xmlns=\"http://www.w3.org/2000/svg\" style=\"height: 3em;\">\n",
       "    <g clip-path=\"url(#clip0_4338_178347)\">\n",
       "        <path d=\"M341.29 165.561H355.29L330.13 129.051C345.63 123.991 354.21 112.051 354.21 94.2307C354.21 71.3707 338.72 58.1807 311.88 58.1807H271V165.561H283.27V131.661H311.8C314.25 131.661 316.71 131.501 319.01 131.351L341.25 165.561H341.29ZM283.29 119.851V70.0007H311.82C331.3 70.0007 342.34 78.2907 342.34 94.5507C342.34 111.271 331.34 119.861 311.82 119.861L283.29 119.851ZM451.4 138.411L463.4 165.561H476.74L428.74 58.1807H416L367.83 165.561H380.83L392.83 138.411H451.4ZM446.19 126.601H398L422 72.1407L446.24 126.601H446.19ZM526.11 128.741L566.91 58.1807H554.35L519.99 114.181L485.17 58.1807H472.44L514.01 129.181V165.541H526.13V128.741H526.11Z\" fill=\"var(--jp-ui-font-color0)\"/>\n",
       "        <path d=\"M82.35 104.44C84.0187 97.8827 87.8248 92.0678 93.1671 87.9146C98.5094 83.7614 105.083 81.5067 111.85 81.5067C118.617 81.5067 125.191 83.7614 130.533 87.9146C135.875 92.0678 139.681 97.8827 141.35 104.44H163.75C164.476 101.562 165.622 98.8057 167.15 96.2605L127.45 56.5605C121.071 60.3522 113.526 61.6823 106.235 60.3005C98.9443 58.9187 92.4094 54.9203 87.8602 49.0574C83.3109 43.1946 81.0609 35.8714 81.5332 28.4656C82.0056 21.0599 85.1679 14.0819 90.4252 8.8446C95.6824 3.60726 102.672 0.471508 110.08 0.0272655C117.487 -0.416977 124.802 1.86091 130.647 6.4324C136.493 11.0039 140.467 17.5539 141.821 24.8501C143.175 32.1463 141.816 39.6859 138 46.0505L177.69 85.7505C182.31 82.9877 187.58 81.4995 192.962 81.4375C198.345 81.3755 203.648 82.742 208.33 85.3976C213.012 88.0532 216.907 91.9029 219.616 96.5544C222.326 101.206 223.753 106.492 223.753 111.875C223.753 117.258 222.326 122.545 219.616 127.197C216.907 131.848 213.012 135.698 208.33 138.353C203.648 141.009 198.345 142.375 192.962 142.313C187.58 142.251 182.31 140.763 177.69 138L138 177.7C141.808 184.071 143.155 191.614 141.79 198.91C140.424 206.205 136.44 212.75 130.585 217.313C124.731 221.875 117.412 224.141 110.004 223.683C102.596 223.226 95.6103 220.077 90.3621 214.828C85.1139 209.58 81.9647 202.595 81.5072 195.187C81.0497 187.779 83.3154 180.459 87.878 174.605C92.4405 168.751 98.9853 164.766 106.281 163.401C113.576 162.035 121.119 163.383 127.49 167.19L167.19 127.49C165.664 124.941 164.518 122.182 163.79 119.3H141.39C139.721 125.858 135.915 131.673 130.573 135.826C125.231 139.98 118.657 142.234 111.89 142.234C105.123 142.234 98.5494 139.98 93.2071 135.826C87.8648 131.673 84.0587 125.858 82.39 119.3H60C58.1878 126.495 53.8086 132.78 47.6863 136.971C41.5641 141.163 34.1211 142.972 26.7579 142.059C19.3947 141.146 12.6191 137.574 7.70605 132.014C2.79302 126.454 0.0813599 119.29 0.0813599 111.87C0.0813599 104.451 2.79302 97.2871 7.70605 91.7272C12.6191 86.1673 19.3947 82.5947 26.7579 81.6817C34.1211 80.7686 41.5641 82.5781 47.6863 86.7696C53.8086 90.9611 58.1878 97.2456 60 104.44H82.35ZM100.86 204.32C103.407 206.868 106.759 208.453 110.345 208.806C113.93 209.159 117.527 208.258 120.522 206.256C123.517 204.254 125.725 201.276 126.771 197.828C127.816 194.38 127.633 190.677 126.253 187.349C124.874 184.021 122.383 181.274 119.205 179.577C116.027 177.88 112.359 177.337 108.826 178.042C105.293 178.746 102.113 180.654 99.8291 183.44C97.5451 186.226 96.2979 189.718 96.3 193.32C96.2985 195.364 96.7006 197.388 97.4831 199.275C98.2656 201.163 99.4132 202.877 100.86 204.32ZM204.32 122.88C206.868 120.333 208.453 116.981 208.806 113.396C209.159 109.811 208.258 106.214 206.256 103.219C204.254 100.223 201.275 98.0151 197.827 96.97C194.38 95.9249 190.676 96.1077 187.348 97.4873C184.02 98.8669 181.274 101.358 179.577 104.536C177.879 107.714 177.337 111.382 178.041 114.915C178.746 118.448 180.653 121.627 183.439 123.911C186.226 126.195 189.717 127.443 193.32 127.44C195.364 127.443 197.388 127.042 199.275 126.259C201.163 125.476 202.878 124.328 204.32 122.88ZM122.88 19.4205C120.333 16.8729 116.981 15.2876 113.395 14.9347C109.81 14.5817 106.213 15.483 103.218 17.4849C100.223 19.4868 98.0146 22.4654 96.9696 25.9131C95.9245 29.3608 96.1073 33.0642 97.4869 36.3922C98.8665 39.7202 101.358 42.4668 104.535 44.1639C107.713 45.861 111.381 46.4036 114.914 45.6992C118.447 44.9949 121.627 43.0871 123.911 40.301C126.195 37.515 127.442 34.0231 127.44 30.4205C127.44 28.3772 127.038 26.3539 126.255 24.4664C125.473 22.5788 124.326 20.8642 122.88 19.4205ZM19.42 100.86C16.8725 103.408 15.2872 106.76 14.9342 110.345C14.5813 113.93 15.4826 117.527 17.4844 120.522C19.4863 123.518 22.4649 125.726 25.9127 126.771C29.3604 127.816 33.0638 127.633 36.3918 126.254C39.7198 124.874 42.4664 122.383 44.1635 119.205C45.8606 116.027 46.4032 112.359 45.6988 108.826C44.9944 105.293 43.0866 102.114 40.3006 99.8296C37.5145 97.5455 34.0227 96.2983 30.42 96.3005C26.2938 96.3018 22.337 97.9421 19.42 100.86ZM100.86 100.86C98.3125 103.408 96.7272 106.76 96.3742 110.345C96.0213 113.93 96.9226 117.527 98.9244 120.522C100.926 123.518 103.905 125.726 107.353 126.771C110.8 127.816 114.504 127.633 117.832 126.254C121.16 124.874 123.906 122.383 125.604 119.205C127.301 116.027 127.843 112.359 127.139 108.826C126.434 105.293 124.527 102.114 121.741 99.8296C118.955 97.5455 115.463 96.2983 111.86 96.3005C109.817 96.299 107.793 96.701 105.905 97.4835C104.018 98.2661 102.303 99.4136 100.86 100.86Z\" fill=\"#00AEEF\"/>\n",
       "    </g>\n",
       "    <defs>\n",
       "        <clipPath id=\"clip0_4338_178347\">\n",
       "            <rect width=\"566.93\" height=\"223.75\" fill=\"white\"/>\n",
       "        </clipPath>\n",
       "    </defs>\n",
       "  </svg>\n",
       "</div>\n",
       "\n",
       "        <table class=\"jp-RenderedHTMLCommon\" style=\"border-collapse: collapse;color: var(--jp-ui-font-color1);font-size: var(--jp-ui-font-size1);\">\n",
       "    <tr>\n",
       "        <td style=\"text-align: left\"><b>Python version:</b></td>\n",
       "        <td style=\"text-align: left\"><b>3.9.19</b></td>\n",
       "    </tr>\n",
       "    <tr>\n",
       "        <td style=\"text-align: left\"><b>Ray version:</b></td>\n",
       "        <td style=\"text-align: left\"><b>2.9.0</b></td>\n",
       "    </tr>\n",
       "    <tr>\n",
       "    <td style=\"text-align: left\"><b>Dashboard:</b></td>\n",
       "    <td style=\"text-align: left\"><b><a href=\"http://127.0.0.1:8265\" target=\"_blank\">http://127.0.0.1:8265</a></b></td>\n",
       "</tr>\n",
       "\n",
       "</table>\n",
       "\n",
       "    </div>\n",
       "</div>\n"
      ],
      "text/plain": [
       "RayContext(dashboard_url='127.0.0.1:8265', python_version='3.9.19', ray_version='2.9.0', ray_commit='{{RAY_COMMIT_SHA}}', protocol_version=None)"
      ]
     },
     "execution_count": 1,
     "metadata": {},
     "output_type": "execute_result"
    }
   ],
   "source": [
    "import sys\n",
    "import os\n",
    "parent_dir = os.path.abspath(os.path.join(os.getcwd(), os.pardir))\n",
    "\n",
    "sys.path.append(parent_dir)\n",
    "\n",
    "from simtrain import SETTINGS_POLIMI as SETTINGS\n",
    "from simtrain.sim_models_new import Toy_intensity_Generator\n",
    "import torch\n",
    "import torch.optim as optim\n",
    "import torch.nn as nn\n",
    "\n",
    "import paths\n",
    "from os.path import join\n",
    "\n",
    "import matplotlib.pyplot as plt\n",
    "import seaborn as sns\n",
    "import numpy as np\n",
    "import simtrain.utils as utils\n",
    "from tqdm import tqdm\n",
    "import evotorch\n",
    "import ray\n",
    "from functools import partial\n",
    "\n",
    "os.environ['PYTHONPATH'] = \"/home/thahit/github/Recommender_Sim\"\n",
    "ray.init(ignore_reinit_error=True)\n"
   ]
  },
  {
   "cell_type": "code",
   "execution_count": 2,
   "metadata": {},
   "outputs": [],
   "source": [
    "\n",
    "state_size = SETTINGS.STATE_SIZE\n",
    "experiment_name = \"toy\"\n",
    "#num_negatives = 100\n",
    "#conditioned=True\n",
    "#kl_weight=.01"
   ]
  },
  {
   "cell_type": "code",
   "execution_count": 3,
   "metadata": {},
   "outputs": [],
   "source": [
    "# parameter dicts\n",
    "width= 8\n",
    "user_state_dict = {\"model_hyp\": {\"layer_width\": [width, width]}}\n",
    "intensity_state_dict = {\"model_hyp\": {\"layer_width\": [width, width],\n",
    "                                                         \"noise\": 0}\n",
    "                            }\n",
    "\n",
    "\n",
    "hyperparameter_dict = {\"state_size\": state_size, \"state_model\": user_state_dict, \n",
    "                           \"intensity_model\": intensity_state_dict,# \"num_recom\" : num_items_per_recom,\n",
    "                            \"noise\": 0.}\n",
    "gen_model = Toy_intensity_Generator(hyperparameter_dict)"
   ]
  },
  {
   "cell_type": "code",
   "execution_count": 4,
   "metadata": {},
   "outputs": [
    {
     "data": {
      "text/plain": [
       "'/home/thahit/github/Recommender_Sim/dat/saved_models_polimi/simulate_intensity/gnerator_model.h5'"
      ]
     },
     "execution_count": 4,
     "metadata": {},
     "output_type": "execute_result"
    }
   ],
   "source": [
    "path = join(paths.dat, SETTINGS.filepaths_new[\"simulate_intensity_model\"]\n",
    "            )\n",
    "path"
   ]
  },
  {
   "cell_type": "code",
   "execution_count": 5,
   "metadata": {},
   "outputs": [
    {
     "data": {
      "text/plain": [
       "<All keys matched successfully>"
      ]
     },
     "execution_count": 5,
     "metadata": {},
     "output_type": "execute_result"
    }
   ],
   "source": [
    "#torch.save(gen_model.state_dict(), path)\n",
    "gen_model.load_state_dict(torch.load(path))"
   ]
  },
  {
   "cell_type": "code",
   "execution_count": 6,
   "metadata": {},
   "outputs": [],
   "source": [
    "state = torch.zeros((1, state_size))"
   ]
  },
  {
   "cell_type": "code",
   "execution_count": 7,
   "metadata": {},
   "outputs": [
    {
     "data": {
      "text/plain": [
       "array([[0. ],\n",
       "       [1.1],\n",
       "       [1.1],\n",
       "       [0.4],\n",
       "       [0.8],\n",
       "       [0.8],\n",
       "       [0.7],\n",
       "       [0.1],\n",
       "       [0.5],\n",
       "       [0.1],\n",
       "       [2.3],\n",
       "       [0.7],\n",
       "       [6.5],\n",
       "       [3.7],\n",
       "       [2.5],\n",
       "       [0.6],\n",
       "       [0.3],\n",
       "       [1.2],\n",
       "       [0.8],\n",
       "       [1.4],\n",
       "       [0.8],\n",
       "       [1.5],\n",
       "       [0.9],\n",
       "       [0.4],\n",
       "       [0.2],\n",
       "       [1.4],\n",
       "       [0.4],\n",
       "       [0.9],\n",
       "       [5.1],\n",
       "       [0.2],\n",
       "       [0.1],\n",
       "       [5.6],\n",
       "       [0.4],\n",
       "       [1.9],\n",
       "       [2.2],\n",
       "       [1.2],\n",
       "       [1.4],\n",
       "       [2.7],\n",
       "       [0.9],\n",
       "       [0.5],\n",
       "       [0. ],\n",
       "       [0.1],\n",
       "       [1.2],\n",
       "       [3.1],\n",
       "       [0.4],\n",
       "       [0.6],\n",
       "       [0.3],\n",
       "       [1.9],\n",
       "       [1.4],\n",
       "       [0.1],\n",
       "       [0.3],\n",
       "       [0. ],\n",
       "       [0.5],\n",
       "       [0.1],\n",
       "       [2. ],\n",
       "       [3.4],\n",
       "       [2.4],\n",
       "       [0.7],\n",
       "       [3.1],\n",
       "       [1.1],\n",
       "       [1.2],\n",
       "       [0. ],\n",
       "       [0.4],\n",
       "       [3. ],\n",
       "       [0. ],\n",
       "       [0.4],\n",
       "       [1.6],\n",
       "       [0.8],\n",
       "       [1.8],\n",
       "       [4.9],\n",
       "       [0.4],\n",
       "       [1.5],\n",
       "       [3. ],\n",
       "       [2.2],\n",
       "       [1.4],\n",
       "       [2.1],\n",
       "       [0.4],\n",
       "       [0.3],\n",
       "       [0.9],\n",
       "       [2.5],\n",
       "       [3. ],\n",
       "       [3.6],\n",
       "       [0.2],\n",
       "       [1.3],\n",
       "       [0.5],\n",
       "       [0.6],\n",
       "       [1.8],\n",
       "       [0.3],\n",
       "       [1. ],\n",
       "       [1.2],\n",
       "       [0. ],\n",
       "       [0.8],\n",
       "       [0. ],\n",
       "       [3.6],\n",
       "       [1. ],\n",
       "       [0.1],\n",
       "       [1. ],\n",
       "       [0.1],\n",
       "       [3.4],\n",
       "       [0.5]], dtype=float32)"
      ]
     },
     "execution_count": 7,
     "metadata": {},
     "output_type": "execute_result"
    }
   ],
   "source": [
    "samples = [gen_model.sample_one(state).detach().numpy() for _ in range(100)]\n",
    "samples = np.array(samples)\n",
    "samples"
   ]
  },
  {
   "cell_type": "markdown",
   "metadata": {},
   "source": [
    "feed in true values for fake models, \n"
   ]
  },
  {
   "cell_type": "code",
   "execution_count": 8,
   "metadata": {},
   "outputs": [
    {
     "name": "stderr",
     "output_type": "stream",
     "text": [
      "/tmp/ipykernel_28416/2138906594.py:12: FutureWarning: \n",
      "\n",
      "`shade` is now deprecated in favor of `fill`; setting `fill=True`.\n",
      "This will become an error in seaborn v0.14.0; please update your code.\n",
      "\n",
      "  sns.kdeplot(samples, shade=True, color='g', bw_adjust=0.1)\n"
     ]
    },
    {
     "data": {
      "image/png": "[encoded data removed]",
      "text/plain": [
       "<Figure size 1200x600 with 2 Axes>"
      ]
     },
     "metadata": {},
     "output_type": "display_data"
    }
   ],
   "source": [
    "plt.figure(figsize=(12, 6))\n",
    "\n",
    "# Histogram\n",
    "plt.subplot(1, 2, 1)\n",
    "plt.hist(samples, bins=50, density=True, alpha=0.6, color='g', edgecolor='black')\n",
    "plt.title('Histogram of Samples')\n",
    "plt.xlabel('Value')\n",
    "plt.ylabel('Frequency')\n",
    "\n",
    "# Density Plot\n",
    "plt.subplot(1, 2, 2)\n",
    "sns.kdeplot(samples, shade=True, color='g', bw_adjust=0.1)\n",
    "plt.title('Density Plot of Samples')\n",
    "plt.xlabel('Value')\n",
    "plt.ylabel('Density')\n",
    "\n",
    "plt.tight_layout()\n",
    "plt.show()\n"
   ]
  },
  {
   "cell_type": "code",
   "execution_count": 9,
   "metadata": {},
   "outputs": [
    {
     "data": {
      "text/plain": [
       "tensor([[1.3000],\n",
       "        [2.2000],\n",
       "        [3.8000],\n",
       "        [3.8000],\n",
       "        [5.8000]])"
      ]
     },
     "execution_count": 9,
     "metadata": {},
     "output_type": "execute_result"
    }
   ],
   "source": [
    "sample_path = gen_model.sample_path(num_samples=5)\n",
    "sample_path =torch.tensor(sample_path)\n",
    "sample_path"
   ]
  },
  {
   "cell_type": "code",
   "execution_count": 10,
   "metadata": {},
   "outputs": [
    {
     "data": {
      "text/plain": [
       "tensor([ 5.0833,  6.3958, 11.8125, 28.0417, 28.2708, 40.1042, 42.8542])"
      ]
     },
     "execution_count": 10,
     "metadata": {},
     "output_type": "execute_result"
    }
   ],
   "source": [
    "#load actual data instead\n",
    "checkpoint = torch.load(join(paths.dat, SETTINGS.rootpaths['models'],\n",
    "                             \"testing\", \"data.h5\"))\n",
    "list_of_dicts = checkpoint['data']\n",
    "chosen_sample = list_of_dicts[4][\"timestamps\"]\n",
    "sample_path =torch.tensor(chosen_sample)\n",
    "sample_path"
   ]
  },
  {
   "cell_type": "code",
   "execution_count": 11,
   "metadata": {},
   "outputs": [
    {
     "data": {
      "image/png": "[encoded data removed]",
      "text/plain": [
       "<Figure size 640x480 with 1 Axes>"
      ]
     },
     "metadata": {},
     "output_type": "display_data"
    }
   ],
   "source": [
    "#plt.eventplot(sample_path, orientation='vertical', colors='r')\n",
    "plt.scatter(sample_path, [1] * len(sample_path), color='blue', label='Time Series 1', s=10, marker='x')\n",
    "\n",
    "plt.yticks([])\n",
    "plt.xlabel('Time')\n",
    "plt.title('Event Plot of Sparse Binary Events')\n",
    "plt.grid(True)\n",
    "plt.show()\n"
   ]
  },
  {
   "cell_type": "markdown",
   "metadata": {},
   "source": [
    "## Train Gradient Descent\n",
    "Not working"
   ]
  },
  {
   "cell_type": "code",
   "execution_count": 12,
   "metadata": {},
   "outputs": [],
   "source": [
    "def train_single(model, path, scoring_func,optimizer, num_epochs=100, num_tries=20):\n",
    "    \n",
    "    for iter in tqdm(range(num_epochs)):\n",
    "        last_t = 0\n",
    "        state = torch.zeros((1, state_size))\n",
    "        loss = 0.\n",
    "        #results = []\n",
    "        for timestep in path:\n",
    "            current_pred = []\n",
    "            for _ in range(num_tries):\n",
    "                current_pred.append(last_t + model.sample_one(state))\n",
    "            current_pred = torch.stack(current_pred)\n",
    "            #results.append(torch.mean(current_pred))\n",
    "            loss += torch.log(scoring_func(current_pred, timestep))\n",
    "            delta = timestep-last_t\n",
    "            last_t = timestep\n",
    "            state = model.evolve_state(state, delta)\n",
    "        print(\"loss: \", loss)\n",
    "        loss.backward()\n",
    "        torch.nn.utils.clip_grad_norm_(model.parameters(), max_norm=2)\n",
    "        optimizer.step()\n",
    "\n",
    "        #for name, param in model.named_parameters():\n",
    "        #    print(f\"Parameter Name: {name}\")\n",
    "        #    print(f\"Parameter Value: {param}\")\n",
    "        #    print(f\"Gradients: {param.grad}\")\n",
    "        #    print(f\"Parameter Shape: {param.shape}\")\n",
    "        #    print(f\"Requires Gradient: {param.requires_grad}\")\n",
    "        #    print(\"-\" * 40)\n",
    "        #return\n",
    "        optimizer.zero_grad()\n"
   ]
  },
  {
   "cell_type": "code",
   "execution_count": 13,
   "metadata": {},
   "outputs": [],
   "source": [
    "# parameter dicts\n",
    "width= 16\n",
    "user_state_dict = {\"model_hyp\": {\"layer_width\": [width, width, width]}}\n",
    "intensity_state_dict = {\"model_hyp\": {\"layer_width\": [width, width, width],\n",
    "                                                         \"noise\": 0}\n",
    "                            }\n",
    "\n",
    "\n",
    "hyperparameter_dict = {\"state_size\": state_size, \"state_model\": user_state_dict, \n",
    "                           \"intensity_model\": intensity_state_dict,# \"num_recom\" : num_items_per_recom,\n",
    "                            \"noise\": 0.}\n",
    "train_model = Toy_intensity_Generator(hyperparameter_dict)"
   ]
  },
  {
   "cell_type": "code",
   "execution_count": 14,
   "metadata": {},
   "outputs": [],
   "source": [
    "path_train = join(paths.dat, SETTINGS.filepaths_new[\"copy_intensity_model\"]\n",
    "            )\n",
    "#torch.save(gen_model.state_dict(), path_train)\n",
    "#train_model.load_state_dict(torch.load(path_train))"
   ]
  },
  {
   "cell_type": "code",
   "execution_count": 15,
   "metadata": {},
   "outputs": [],
   "source": [
    "sample_path = torch.as_tensor(sample_path)\n",
    "optimizer = optim.AdamW(train_model.parameters(), lr=0.1,\n",
    "                        weight_decay=1e-7)\n"
   ]
  },
  {
   "cell_type": "code",
   "execution_count": 16,
   "metadata": {},
   "outputs": [],
   "source": [
    "#train_single(train_model, sample_path, scoring_func=utils.energy_score_loss,\n",
    "#            optimizer=optimizer, num_epochs=30, num_tries=10)"
   ]
  },
  {
   "cell_type": "markdown",
   "metadata": {},
   "source": [
    "### function approximation\n",
    "\n"
   ]
  },
  {
   "cell_type": "code",
   "execution_count": 17,
   "metadata": {},
   "outputs": [],
   "source": [
    "from simtrain.sim_models_new import all_in_one_model\n",
    "\n",
    "width=64\n",
    "user_state_dict = {\"model_hyp\": {\"layer_width\": [width, width, width, width]}}\n",
    "time_dict = {\"model_hyp\": {\"layer_width\": [width, width, width, 3]}\n",
    "                            }\n",
    "\n",
    "timecheat = False\n",
    "hyperparameter_dict = {\"state_size\": state_size, \"time_model\": time_dict, \n",
    "                           \"state_model\": user_state_dict}\n",
    "train_model = all_in_one_model(hyperparameter_dict, timecheat=timecheat)"
   ]
  },
  {
   "cell_type": "code",
   "execution_count": 18,
   "metadata": {},
   "outputs": [],
   "source": [
    "def train_single_function_approx(model, path, scoring_func,optimizer, num_epochs=100, \n",
    "                                 num_tries=20, timecheat=False, loss_print_interval=1):\n",
    "    \n",
    "    for iter in tqdm(range(num_epochs)):\n",
    "        last_t = 0\n",
    "        state = torch.zeros((1, state_size))\n",
    "        loss = 0.\n",
    "        mse_loss = nn.MSELoss()\n",
    "        #results = []\n",
    "        for timestep in path:\n",
    "            current_pred = []\n",
    "            for _ in range(num_tries):\n",
    "                if timecheat:\n",
    "                    next_time = model.get_time(state, timestep)\n",
    "                else:\n",
    "                    next_time = model.get_time(state)\n",
    "                #print(f\"next_time: {next_time}, next_state: {next_state}\")\n",
    "                current_pred.append(last_t + next_time)\n",
    "            current_pred = torch.stack(current_pred)\n",
    "            last_t = timestep\n",
    "            #results.append(torch.mean(current_pred))\n",
    "            timestep = torch.Tensor([[timestep]])\n",
    "            #print(torch.mean(current_pred))\n",
    "            #loss = loss + mse_loss(next_time, timestep)\n",
    "            loss += torch.log(scoring_func(current_pred, timestep)+1e-25)# + thing should be useless\n",
    "\n",
    "            state = model.get_new_state(state, timestep)\n",
    "        if iter %loss_print_interval == 0:\n",
    "            print(\"loss: \", loss)\n",
    "        loss.backward()\n",
    "        torch.nn.utils.clip_grad_norm_(model.parameters(), max_norm=1.)\n",
    "        optimizer.step()\n",
    "\n",
    "        #for name, param in model.named_parameters():\n",
    "        #    print(f\"Parameter Name: {name}\")\n",
    "        #    print(f\"Gradients: {param.grad}\")\n",
    "        #    print(f\"Parameter Value: {param}\")\n",
    "        #    print(f\"Parameter Shape: {param.shape}\")\n",
    "        #    print(f\"Requires Gradient: {param.requires_grad}\")\n",
    "        #    print(\"-\" * 40)\n",
    "        #return\n",
    "        optimizer.zero_grad()\n",
    "\n",
    "        #return results\n",
    "    print(\"loss: \", loss)\n",
    "    "
   ]
  },
  {
   "cell_type": "code",
   "execution_count": 19,
   "metadata": {},
   "outputs": [],
   "source": [
    "optimizer = optim.AdamW(train_model.parameters(), lr=0.1,\n",
    "                        weight_decay=1e-7)"
   ]
  },
  {
   "cell_type": "code",
   "execution_count": 20,
   "metadata": {},
   "outputs": [
    {
     "name": "stderr",
     "output_type": "stream",
     "text": [
      "  3%|▎         | 3/100 [00:00<00:03, 28.79it/s]"
     ]
    },
    {
     "name": "stdout",
     "output_type": "stream",
     "text": [
      "loss:  tensor(inf, grad_fn=<AddBackward0>)\n"
     ]
    },
    {
     "name": "stderr",
     "output_type": "stream",
     "text": [
      " 15%|█▌        | 15/100 [00:00<00:02, 31.73it/s]"
     ]
    },
    {
     "name": "stdout",
     "output_type": "stream",
     "text": [
      "loss:  tensor(11.9064, grad_fn=<AddBackward0>)\n"
     ]
    },
    {
     "name": "stderr",
     "output_type": "stream",
     "text": [
      " 23%|██▎       | 23/100 [00:00<00:02, 26.58it/s]"
     ]
    },
    {
     "name": "stdout",
     "output_type": "stream",
     "text": [
      "loss:  tensor(10.8562, grad_fn=<AddBackward0>)\n"
     ]
    },
    {
     "name": "stderr",
     "output_type": "stream",
     "text": [
      " 33%|███▎      | 33/100 [00:01<00:02, 23.69it/s]"
     ]
    },
    {
     "name": "stdout",
     "output_type": "stream",
     "text": [
      "loss:  tensor(8.4461, grad_fn=<AddBackward0>)\n"
     ]
    },
    {
     "name": "stderr",
     "output_type": "stream",
     "text": [
      " 48%|████▊     | 48/100 [00:01<00:01, 29.71it/s]"
     ]
    },
    {
     "name": "stdout",
     "output_type": "stream",
     "text": [
      "loss:  tensor(8.3163, grad_fn=<AddBackward0>)\n"
     ]
    },
    {
     "name": "stderr",
     "output_type": "stream",
     "text": [
      " 56%|█████▌    | 56/100 [00:02<00:01, 32.07it/s]"
     ]
    },
    {
     "name": "stdout",
     "output_type": "stream",
     "text": [
      "loss:  tensor(9.3694, grad_fn=<AddBackward0>)\n"
     ]
    },
    {
     "name": "stderr",
     "output_type": "stream",
     "text": [
      " 65%|██████▌   | 65/100 [00:02<00:01, 34.39it/s]"
     ]
    },
    {
     "name": "stdout",
     "output_type": "stream",
     "text": [
      "loss:  tensor(9.8276, grad_fn=<AddBackward0>)\n"
     ]
    },
    {
     "name": "stderr",
     "output_type": "stream",
     "text": [
      " 74%|███████▍  | 74/100 [00:02<00:00, 33.58it/s]"
     ]
    },
    {
     "name": "stdout",
     "output_type": "stream",
     "text": [
      "loss:  tensor(10.1651, grad_fn=<AddBackward0>)\n"
     ]
    },
    {
     "name": "stderr",
     "output_type": "stream",
     "text": [
      " 86%|████████▌ | 86/100 [00:02<00:00, 33.82it/s]"
     ]
    },
    {
     "name": "stdout",
     "output_type": "stream",
     "text": [
      "loss:  tensor(5.3567, grad_fn=<AddBackward0>)\n"
     ]
    },
    {
     "name": "stderr",
     "output_type": "stream",
     "text": [
      " 94%|█████████▍| 94/100 [00:03<00:00, 36.06it/s]"
     ]
    },
    {
     "name": "stdout",
     "output_type": "stream",
     "text": [
      "loss:  tensor(9.2311, grad_fn=<AddBackward0>)\n"
     ]
    },
    {
     "name": "stderr",
     "output_type": "stream",
     "text": [
      "100%|██████████| 100/100 [00:03<00:00, 30.52it/s]"
     ]
    },
    {
     "name": "stdout",
     "output_type": "stream",
     "text": [
      "loss:  tensor(10.1299, grad_fn=<AddBackward0>)\n"
     ]
    },
    {
     "name": "stderr",
     "output_type": "stream",
     "text": [
      "\n"
     ]
    }
   ],
   "source": [
    "train_single_function_approx(train_model, sample_path,scoring_func=utils.energy_score_loss,\n",
    "            optimizer=optimizer, num_epochs=100, num_tries=20, timecheat=timecheat, loss_print_interval=10)"
   ]
  },
  {
   "cell_type": "code",
   "execution_count": 21,
   "metadata": {},
   "outputs": [],
   "source": [
    "optimizer = optim.AdamW(train_model.parameters(), lr=0.01,\n",
    "                        weight_decay=1e-7)"
   ]
  },
  {
   "cell_type": "code",
   "execution_count": 22,
   "metadata": {},
   "outputs": [
    {
     "name": "stderr",
     "output_type": "stream",
     "text": [
      "  2%|▏         | 4/200 [00:00<00:05, 36.51it/s]"
     ]
    },
    {
     "name": "stdout",
     "output_type": "stream",
     "text": [
      "loss:  tensor(9.7532, grad_fn=<AddBackward0>)\n"
     ]
    },
    {
     "name": "stderr",
     "output_type": "stream",
     "text": [
      " 12%|█▏        | 23/200 [00:00<00:06, 29.43it/s]"
     ]
    },
    {
     "name": "stdout",
     "output_type": "stream",
     "text": [
      "loss:  tensor(8.6166, grad_fn=<AddBackward0>)\n"
     ]
    },
    {
     "name": "stderr",
     "output_type": "stream",
     "text": [
      " 22%|██▏       | 43/200 [00:01<00:05, 29.20it/s]"
     ]
    },
    {
     "name": "stdout",
     "output_type": "stream",
     "text": [
      "loss:  tensor(6.0277, grad_fn=<AddBackward0>)\n"
     ]
    },
    {
     "name": "stderr",
     "output_type": "stream",
     "text": [
      " 33%|███▎      | 66/200 [00:02<00:04, 29.13it/s]"
     ]
    },
    {
     "name": "stdout",
     "output_type": "stream",
     "text": [
      "loss:  tensor(7.6207, grad_fn=<AddBackward0>)\n"
     ]
    },
    {
     "name": "stderr",
     "output_type": "stream",
     "text": [
      " 42%|████▏     | 84/200 [00:02<00:04, 26.54it/s]"
     ]
    },
    {
     "name": "stdout",
     "output_type": "stream",
     "text": [
      "loss:  tensor(7.1194, grad_fn=<AddBackward0>)\n"
     ]
    },
    {
     "name": "stderr",
     "output_type": "stream",
     "text": [
      " 52%|█████▎    | 105/200 [00:03<00:04, 23.65it/s]"
     ]
    },
    {
     "name": "stdout",
     "output_type": "stream",
     "text": [
      "loss:  tensor(6.8691, grad_fn=<AddBackward0>)\n"
     ]
    },
    {
     "name": "stderr",
     "output_type": "stream",
     "text": [
      " 60%|██████    | 120/200 [00:04<00:03, 26.32it/s]\n"
     ]
    },
    {
     "name": "stdout",
     "output_type": "stream",
     "text": [
      "loss:  tensor(8.1548, grad_fn=<AddBackward0>)\n"
     ]
    },
    {
     "ename": "KeyboardInterrupt",
     "evalue": "",
     "output_type": "error",
     "traceback": [
      "\u001b[0;31m---------------------------------------------------------------------------\u001b[0m",
      "\u001b[0;31mKeyboardInterrupt\u001b[0m                         Traceback (most recent call last)",
      "Cell \u001b[0;32mIn[22], line 1\u001b[0m\n\u001b[0;32m----> 1\u001b[0m \u001b[43mtrain_single_function_approx\u001b[49m\u001b[43m(\u001b[49m\u001b[43mtrain_model\u001b[49m\u001b[43m,\u001b[49m\u001b[43m \u001b[49m\u001b[43msample_path\u001b[49m\u001b[43m,\u001b[49m\u001b[43mscoring_func\u001b[49m\u001b[38;5;241;43m=\u001b[39;49m\u001b[43mutils\u001b[49m\u001b[38;5;241;43m.\u001b[39;49m\u001b[43menergy_score_loss\u001b[49m\u001b[43m,\u001b[49m\n\u001b[1;32m      2\u001b[0m \u001b[43m            \u001b[49m\u001b[43moptimizer\u001b[49m\u001b[38;5;241;43m=\u001b[39;49m\u001b[43moptimizer\u001b[49m\u001b[43m,\u001b[49m\u001b[43m \u001b[49m\u001b[43mnum_epochs\u001b[49m\u001b[38;5;241;43m=\u001b[39;49m\u001b[38;5;241;43m200\u001b[39;49m\u001b[43m,\u001b[49m\u001b[43mtimecheat\u001b[49m\u001b[38;5;241;43m=\u001b[39;49m\u001b[43mtimecheat\u001b[49m\u001b[43m,\u001b[49m\u001b[43m \u001b[49m\u001b[43mnum_tries\u001b[49m\u001b[38;5;241;43m=\u001b[39;49m\u001b[38;5;241;43m20\u001b[39;49m\u001b[43m,\u001b[49m\u001b[43m \u001b[49m\u001b[43mloss_print_interval\u001b[49m\u001b[38;5;241;43m=\u001b[39;49m\u001b[38;5;241;43m20\u001b[39;49m\u001b[43m)\u001b[49m\n",
      "Cell \u001b[0;32mIn[18], line 32\u001b[0m, in \u001b[0;36mtrain_single_function_approx\u001b[0;34m(model, path, scoring_func, optimizer, num_epochs, num_tries, timecheat, loss_print_interval)\u001b[0m\n\u001b[1;32m     30\u001b[0m loss\u001b[38;5;241m.\u001b[39mbackward()\n\u001b[1;32m     31\u001b[0m torch\u001b[38;5;241m.\u001b[39mnn\u001b[38;5;241m.\u001b[39mutils\u001b[38;5;241m.\u001b[39mclip_grad_norm_(model\u001b[38;5;241m.\u001b[39mparameters(), max_norm\u001b[38;5;241m=\u001b[39m\u001b[38;5;241m1.\u001b[39m)\n\u001b[0;32m---> 32\u001b[0m \u001b[43moptimizer\u001b[49m\u001b[38;5;241;43m.\u001b[39;49m\u001b[43mstep\u001b[49m\u001b[43m(\u001b[49m\u001b[43m)\u001b[49m\n\u001b[1;32m     34\u001b[0m \u001b[38;5;66;03m#for name, param in model.named_parameters():\u001b[39;00m\n\u001b[1;32m     35\u001b[0m \u001b[38;5;66;03m#    print(f\"Parameter Name: {name}\")\u001b[39;00m\n\u001b[1;32m     36\u001b[0m \u001b[38;5;66;03m#    print(f\"Gradients: {param.grad}\")\u001b[39;00m\n\u001b[0;32m   (...)\u001b[0m\n\u001b[1;32m     40\u001b[0m \u001b[38;5;66;03m#    print(\"-\" * 40)\u001b[39;00m\n\u001b[1;32m     41\u001b[0m \u001b[38;5;66;03m#return\u001b[39;00m\n\u001b[1;32m     42\u001b[0m optimizer\u001b[38;5;241m.\u001b[39mzero_grad()\n",
      "File \u001b[0;32m~/anaconda3/envs/WW2/lib/python3.9/site-packages/torch/optim/optimizer.py:391\u001b[0m, in \u001b[0;36mOptimizer.profile_hook_step.<locals>.wrapper\u001b[0;34m(*args, **kwargs)\u001b[0m\n\u001b[1;32m    386\u001b[0m         \u001b[38;5;28;01melse\u001b[39;00m:\n\u001b[1;32m    387\u001b[0m             \u001b[38;5;28;01mraise\u001b[39;00m \u001b[38;5;167;01mRuntimeError\u001b[39;00m(\n\u001b[1;32m    388\u001b[0m                 \u001b[38;5;124mf\u001b[39m\u001b[38;5;124m\"\u001b[39m\u001b[38;5;132;01m{\u001b[39;00mfunc\u001b[38;5;132;01m}\u001b[39;00m\u001b[38;5;124m must return None or a tuple of (new_args, new_kwargs), but got \u001b[39m\u001b[38;5;132;01m{\u001b[39;00mresult\u001b[38;5;132;01m}\u001b[39;00m\u001b[38;5;124m.\u001b[39m\u001b[38;5;124m\"\u001b[39m\n\u001b[1;32m    389\u001b[0m             )\n\u001b[0;32m--> 391\u001b[0m out \u001b[38;5;241m=\u001b[39m \u001b[43mfunc\u001b[49m\u001b[43m(\u001b[49m\u001b[38;5;241;43m*\u001b[39;49m\u001b[43margs\u001b[49m\u001b[43m,\u001b[49m\u001b[43m \u001b[49m\u001b[38;5;241;43m*\u001b[39;49m\u001b[38;5;241;43m*\u001b[39;49m\u001b[43mkwargs\u001b[49m\u001b[43m)\u001b[49m\n\u001b[1;32m    392\u001b[0m \u001b[38;5;28mself\u001b[39m\u001b[38;5;241m.\u001b[39m_optimizer_step_code()\n\u001b[1;32m    394\u001b[0m \u001b[38;5;66;03m# call optimizer step post hooks\u001b[39;00m\n",
      "File \u001b[0;32m~/anaconda3/envs/WW2/lib/python3.9/site-packages/torch/optim/optimizer.py:76\u001b[0m, in \u001b[0;36m_use_grad_for_differentiable.<locals>._use_grad\u001b[0;34m(self, *args, **kwargs)\u001b[0m\n\u001b[1;32m     74\u001b[0m     torch\u001b[38;5;241m.\u001b[39mset_grad_enabled(\u001b[38;5;28mself\u001b[39m\u001b[38;5;241m.\u001b[39mdefaults[\u001b[38;5;124m'\u001b[39m\u001b[38;5;124mdifferentiable\u001b[39m\u001b[38;5;124m'\u001b[39m])\n\u001b[1;32m     75\u001b[0m     torch\u001b[38;5;241m.\u001b[39m_dynamo\u001b[38;5;241m.\u001b[39mgraph_break()\n\u001b[0;32m---> 76\u001b[0m     ret \u001b[38;5;241m=\u001b[39m \u001b[43mfunc\u001b[49m\u001b[43m(\u001b[49m\u001b[38;5;28;43mself\u001b[39;49m\u001b[43m,\u001b[49m\u001b[43m \u001b[49m\u001b[38;5;241;43m*\u001b[39;49m\u001b[43margs\u001b[49m\u001b[43m,\u001b[49m\u001b[43m \u001b[49m\u001b[38;5;241;43m*\u001b[39;49m\u001b[38;5;241;43m*\u001b[39;49m\u001b[43mkwargs\u001b[49m\u001b[43m)\u001b[49m\n\u001b[1;32m     77\u001b[0m \u001b[38;5;28;01mfinally\u001b[39;00m:\n\u001b[1;32m     78\u001b[0m     torch\u001b[38;5;241m.\u001b[39m_dynamo\u001b[38;5;241m.\u001b[39mgraph_break()\n",
      "File \u001b[0;32m~/anaconda3/envs/WW2/lib/python3.9/site-packages/torch/optim/adamw.py:188\u001b[0m, in \u001b[0;36mAdamW.step\u001b[0;34m(self, closure)\u001b[0m\n\u001b[1;32m    175\u001b[0m     beta1, beta2 \u001b[38;5;241m=\u001b[39m group[\u001b[38;5;124m\"\u001b[39m\u001b[38;5;124mbetas\u001b[39m\u001b[38;5;124m\"\u001b[39m]\n\u001b[1;32m    177\u001b[0m     has_complex \u001b[38;5;241m=\u001b[39m \u001b[38;5;28mself\u001b[39m\u001b[38;5;241m.\u001b[39m_init_group(\n\u001b[1;32m    178\u001b[0m         group,\n\u001b[1;32m    179\u001b[0m         params_with_grad,\n\u001b[0;32m   (...)\u001b[0m\n\u001b[1;32m    185\u001b[0m         state_steps,\n\u001b[1;32m    186\u001b[0m     )\n\u001b[0;32m--> 188\u001b[0m     \u001b[43madamw\u001b[49m\u001b[43m(\u001b[49m\n\u001b[1;32m    189\u001b[0m \u001b[43m        \u001b[49m\u001b[43mparams_with_grad\u001b[49m\u001b[43m,\u001b[49m\n\u001b[1;32m    190\u001b[0m \u001b[43m        \u001b[49m\u001b[43mgrads\u001b[49m\u001b[43m,\u001b[49m\n\u001b[1;32m    191\u001b[0m \u001b[43m        \u001b[49m\u001b[43mexp_avgs\u001b[49m\u001b[43m,\u001b[49m\n\u001b[1;32m    192\u001b[0m \u001b[43m        \u001b[49m\u001b[43mexp_avg_sqs\u001b[49m\u001b[43m,\u001b[49m\n\u001b[1;32m    193\u001b[0m \u001b[43m        \u001b[49m\u001b[43mmax_exp_avg_sqs\u001b[49m\u001b[43m,\u001b[49m\n\u001b[1;32m    194\u001b[0m \u001b[43m        \u001b[49m\u001b[43mstate_steps\u001b[49m\u001b[43m,\u001b[49m\n\u001b[1;32m    195\u001b[0m \u001b[43m        \u001b[49m\u001b[43mamsgrad\u001b[49m\u001b[38;5;241;43m=\u001b[39;49m\u001b[43mamsgrad\u001b[49m\u001b[43m,\u001b[49m\n\u001b[1;32m    196\u001b[0m \u001b[43m        \u001b[49m\u001b[43mbeta1\u001b[49m\u001b[38;5;241;43m=\u001b[39;49m\u001b[43mbeta1\u001b[49m\u001b[43m,\u001b[49m\n\u001b[1;32m    197\u001b[0m \u001b[43m        \u001b[49m\u001b[43mbeta2\u001b[49m\u001b[38;5;241;43m=\u001b[39;49m\u001b[43mbeta2\u001b[49m\u001b[43m,\u001b[49m\n\u001b[1;32m    198\u001b[0m \u001b[43m        \u001b[49m\u001b[43mlr\u001b[49m\u001b[38;5;241;43m=\u001b[39;49m\u001b[43mgroup\u001b[49m\u001b[43m[\u001b[49m\u001b[38;5;124;43m\"\u001b[39;49m\u001b[38;5;124;43mlr\u001b[39;49m\u001b[38;5;124;43m\"\u001b[39;49m\u001b[43m]\u001b[49m\u001b[43m,\u001b[49m\n\u001b[1;32m    199\u001b[0m \u001b[43m        \u001b[49m\u001b[43mweight_decay\u001b[49m\u001b[38;5;241;43m=\u001b[39;49m\u001b[43mgroup\u001b[49m\u001b[43m[\u001b[49m\u001b[38;5;124;43m\"\u001b[39;49m\u001b[38;5;124;43mweight_decay\u001b[39;49m\u001b[38;5;124;43m\"\u001b[39;49m\u001b[43m]\u001b[49m\u001b[43m,\u001b[49m\n\u001b[1;32m    200\u001b[0m \u001b[43m        \u001b[49m\u001b[43meps\u001b[49m\u001b[38;5;241;43m=\u001b[39;49m\u001b[43mgroup\u001b[49m\u001b[43m[\u001b[49m\u001b[38;5;124;43m\"\u001b[39;49m\u001b[38;5;124;43meps\u001b[39;49m\u001b[38;5;124;43m\"\u001b[39;49m\u001b[43m]\u001b[49m\u001b[43m,\u001b[49m\n\u001b[1;32m    201\u001b[0m \u001b[43m        \u001b[49m\u001b[43mmaximize\u001b[49m\u001b[38;5;241;43m=\u001b[39;49m\u001b[43mgroup\u001b[49m\u001b[43m[\u001b[49m\u001b[38;5;124;43m\"\u001b[39;49m\u001b[38;5;124;43mmaximize\u001b[39;49m\u001b[38;5;124;43m\"\u001b[39;49m\u001b[43m]\u001b[49m\u001b[43m,\u001b[49m\n\u001b[1;32m    202\u001b[0m \u001b[43m        \u001b[49m\u001b[43mforeach\u001b[49m\u001b[38;5;241;43m=\u001b[39;49m\u001b[43mgroup\u001b[49m\u001b[43m[\u001b[49m\u001b[38;5;124;43m\"\u001b[39;49m\u001b[38;5;124;43mforeach\u001b[39;49m\u001b[38;5;124;43m\"\u001b[39;49m\u001b[43m]\u001b[49m\u001b[43m,\u001b[49m\n\u001b[1;32m    203\u001b[0m \u001b[43m        \u001b[49m\u001b[43mcapturable\u001b[49m\u001b[38;5;241;43m=\u001b[39;49m\u001b[43mgroup\u001b[49m\u001b[43m[\u001b[49m\u001b[38;5;124;43m\"\u001b[39;49m\u001b[38;5;124;43mcapturable\u001b[39;49m\u001b[38;5;124;43m\"\u001b[39;49m\u001b[43m]\u001b[49m\u001b[43m,\u001b[49m\n\u001b[1;32m    204\u001b[0m \u001b[43m        \u001b[49m\u001b[43mdifferentiable\u001b[49m\u001b[38;5;241;43m=\u001b[39;49m\u001b[43mgroup\u001b[49m\u001b[43m[\u001b[49m\u001b[38;5;124;43m\"\u001b[39;49m\u001b[38;5;124;43mdifferentiable\u001b[39;49m\u001b[38;5;124;43m\"\u001b[39;49m\u001b[43m]\u001b[49m\u001b[43m,\u001b[49m\n\u001b[1;32m    205\u001b[0m \u001b[43m        \u001b[49m\u001b[43mfused\u001b[49m\u001b[38;5;241;43m=\u001b[39;49m\u001b[43mgroup\u001b[49m\u001b[43m[\u001b[49m\u001b[38;5;124;43m\"\u001b[39;49m\u001b[38;5;124;43mfused\u001b[39;49m\u001b[38;5;124;43m\"\u001b[39;49m\u001b[43m]\u001b[49m\u001b[43m,\u001b[49m\n\u001b[1;32m    206\u001b[0m \u001b[43m        \u001b[49m\u001b[43mgrad_scale\u001b[49m\u001b[38;5;241;43m=\u001b[39;49m\u001b[38;5;28;43mgetattr\u001b[39;49m\u001b[43m(\u001b[49m\u001b[38;5;28;43mself\u001b[39;49m\u001b[43m,\u001b[49m\u001b[43m \u001b[49m\u001b[38;5;124;43m\"\u001b[39;49m\u001b[38;5;124;43mgrad_scale\u001b[39;49m\u001b[38;5;124;43m\"\u001b[39;49m\u001b[43m,\u001b[49m\u001b[43m \u001b[49m\u001b[38;5;28;43;01mNone\u001b[39;49;00m\u001b[43m)\u001b[49m\u001b[43m,\u001b[49m\n\u001b[1;32m    207\u001b[0m \u001b[43m        \u001b[49m\u001b[43mfound_inf\u001b[49m\u001b[38;5;241;43m=\u001b[39;49m\u001b[38;5;28;43mgetattr\u001b[39;49m\u001b[43m(\u001b[49m\u001b[38;5;28;43mself\u001b[39;49m\u001b[43m,\u001b[49m\u001b[43m \u001b[49m\u001b[38;5;124;43m\"\u001b[39;49m\u001b[38;5;124;43mfound_inf\u001b[39;49m\u001b[38;5;124;43m\"\u001b[39;49m\u001b[43m,\u001b[49m\u001b[43m \u001b[49m\u001b[38;5;28;43;01mNone\u001b[39;49;00m\u001b[43m)\u001b[49m\u001b[43m,\u001b[49m\n\u001b[1;32m    208\u001b[0m \u001b[43m        \u001b[49m\u001b[43mhas_complex\u001b[49m\u001b[38;5;241;43m=\u001b[39;49m\u001b[43mhas_complex\u001b[49m\u001b[43m,\u001b[49m\n\u001b[1;32m    209\u001b[0m \u001b[43m    \u001b[49m\u001b[43m)\u001b[49m\n\u001b[1;32m    211\u001b[0m \u001b[38;5;28;01mreturn\u001b[39;00m loss\n",
      "File \u001b[0;32m~/anaconda3/envs/WW2/lib/python3.9/site-packages/torch/optim/adamw.py:340\u001b[0m, in \u001b[0;36madamw\u001b[0;34m(params, grads, exp_avgs, exp_avg_sqs, max_exp_avg_sqs, state_steps, foreach, capturable, differentiable, fused, grad_scale, found_inf, has_complex, amsgrad, beta1, beta2, lr, weight_decay, eps, maximize)\u001b[0m\n\u001b[1;32m    337\u001b[0m \u001b[38;5;28;01melse\u001b[39;00m:\n\u001b[1;32m    338\u001b[0m     func \u001b[38;5;241m=\u001b[39m _single_tensor_adamw\n\u001b[0;32m--> 340\u001b[0m \u001b[43mfunc\u001b[49m\u001b[43m(\u001b[49m\n\u001b[1;32m    341\u001b[0m \u001b[43m    \u001b[49m\u001b[43mparams\u001b[49m\u001b[43m,\u001b[49m\n\u001b[1;32m    342\u001b[0m \u001b[43m    \u001b[49m\u001b[43mgrads\u001b[49m\u001b[43m,\u001b[49m\n\u001b[1;32m    343\u001b[0m \u001b[43m    \u001b[49m\u001b[43mexp_avgs\u001b[49m\u001b[43m,\u001b[49m\n\u001b[1;32m    344\u001b[0m \u001b[43m    \u001b[49m\u001b[43mexp_avg_sqs\u001b[49m\u001b[43m,\u001b[49m\n\u001b[1;32m    345\u001b[0m \u001b[43m    \u001b[49m\u001b[43mmax_exp_avg_sqs\u001b[49m\u001b[43m,\u001b[49m\n\u001b[1;32m    346\u001b[0m \u001b[43m    \u001b[49m\u001b[43mstate_steps\u001b[49m\u001b[43m,\u001b[49m\n\u001b[1;32m    347\u001b[0m \u001b[43m    \u001b[49m\u001b[43mamsgrad\u001b[49m\u001b[38;5;241;43m=\u001b[39;49m\u001b[43mamsgrad\u001b[49m\u001b[43m,\u001b[49m\n\u001b[1;32m    348\u001b[0m \u001b[43m    \u001b[49m\u001b[43mbeta1\u001b[49m\u001b[38;5;241;43m=\u001b[39;49m\u001b[43mbeta1\u001b[49m\u001b[43m,\u001b[49m\n\u001b[1;32m    349\u001b[0m \u001b[43m    \u001b[49m\u001b[43mbeta2\u001b[49m\u001b[38;5;241;43m=\u001b[39;49m\u001b[43mbeta2\u001b[49m\u001b[43m,\u001b[49m\n\u001b[1;32m    350\u001b[0m \u001b[43m    \u001b[49m\u001b[43mlr\u001b[49m\u001b[38;5;241;43m=\u001b[39;49m\u001b[43mlr\u001b[49m\u001b[43m,\u001b[49m\n\u001b[1;32m    351\u001b[0m \u001b[43m    \u001b[49m\u001b[43mweight_decay\u001b[49m\u001b[38;5;241;43m=\u001b[39;49m\u001b[43mweight_decay\u001b[49m\u001b[43m,\u001b[49m\n\u001b[1;32m    352\u001b[0m \u001b[43m    \u001b[49m\u001b[43meps\u001b[49m\u001b[38;5;241;43m=\u001b[39;49m\u001b[43meps\u001b[49m\u001b[43m,\u001b[49m\n\u001b[1;32m    353\u001b[0m \u001b[43m    \u001b[49m\u001b[43mmaximize\u001b[49m\u001b[38;5;241;43m=\u001b[39;49m\u001b[43mmaximize\u001b[49m\u001b[43m,\u001b[49m\n\u001b[1;32m    354\u001b[0m \u001b[43m    \u001b[49m\u001b[43mcapturable\u001b[49m\u001b[38;5;241;43m=\u001b[39;49m\u001b[43mcapturable\u001b[49m\u001b[43m,\u001b[49m\n\u001b[1;32m    355\u001b[0m \u001b[43m    \u001b[49m\u001b[43mdifferentiable\u001b[49m\u001b[38;5;241;43m=\u001b[39;49m\u001b[43mdifferentiable\u001b[49m\u001b[43m,\u001b[49m\n\u001b[1;32m    356\u001b[0m \u001b[43m    \u001b[49m\u001b[43mgrad_scale\u001b[49m\u001b[38;5;241;43m=\u001b[39;49m\u001b[43mgrad_scale\u001b[49m\u001b[43m,\u001b[49m\n\u001b[1;32m    357\u001b[0m \u001b[43m    \u001b[49m\u001b[43mfound_inf\u001b[49m\u001b[38;5;241;43m=\u001b[39;49m\u001b[43mfound_inf\u001b[49m\u001b[43m,\u001b[49m\n\u001b[1;32m    358\u001b[0m \u001b[43m    \u001b[49m\u001b[43mhas_complex\u001b[49m\u001b[38;5;241;43m=\u001b[39;49m\u001b[43mhas_complex\u001b[49m\u001b[43m,\u001b[49m\n\u001b[1;32m    359\u001b[0m \u001b[43m\u001b[49m\u001b[43m)\u001b[49m\n",
      "File \u001b[0;32m~/anaconda3/envs/WW2/lib/python3.9/site-packages/torch/optim/adamw.py:455\u001b[0m, in \u001b[0;36m_single_tensor_adamw\u001b[0;34m(params, grads, exp_avgs, exp_avg_sqs, max_exp_avg_sqs, state_steps, grad_scale, found_inf, amsgrad, beta1, beta2, lr, weight_decay, eps, maximize, capturable, differentiable, has_complex)\u001b[0m\n\u001b[1;32m    453\u001b[0m     param\u001b[38;5;241m.\u001b[39maddcdiv_(exp_avg, denom)\n\u001b[1;32m    454\u001b[0m \u001b[38;5;28;01melse\u001b[39;00m:\n\u001b[0;32m--> 455\u001b[0m     step \u001b[38;5;241m=\u001b[39m \u001b[43m_get_value\u001b[49m\u001b[43m(\u001b[49m\u001b[43mstep_t\u001b[49m\u001b[43m)\u001b[49m\n\u001b[1;32m    457\u001b[0m     bias_correction1 \u001b[38;5;241m=\u001b[39m \u001b[38;5;241m1\u001b[39m \u001b[38;5;241m-\u001b[39m beta1 \u001b[38;5;241m*\u001b[39m\u001b[38;5;241m*\u001b[39m step\n\u001b[1;32m    458\u001b[0m     bias_correction2 \u001b[38;5;241m=\u001b[39m \u001b[38;5;241m1\u001b[39m \u001b[38;5;241m-\u001b[39m beta2 \u001b[38;5;241m*\u001b[39m\u001b[38;5;241m*\u001b[39m step\n",
      "File \u001b[0;32m~/anaconda3/envs/WW2/lib/python3.9/site-packages/torch/optim/optimizer.py:86\u001b[0m, in \u001b[0;36m_get_value\u001b[0;34m(x)\u001b[0m\n\u001b[1;32m     84\u001b[0m \u001b[38;5;28;01mdef\u001b[39;00m \u001b[38;5;21m_get_value\u001b[39m(x):\n\u001b[1;32m     85\u001b[0m     \u001b[38;5;66;03m# item is significantly faster than a cpu tensor in eager mode\u001b[39;00m\n\u001b[0;32m---> 86\u001b[0m     \u001b[38;5;28;01mif\u001b[39;00m \u001b[38;5;129;01mnot\u001b[39;00m torch\u001b[38;5;241m.\u001b[39mjit\u001b[38;5;241m.\u001b[39mis_scripting() \u001b[38;5;129;01mand\u001b[39;00m \u001b[43mis_compiling\u001b[49m\u001b[43m(\u001b[49m\u001b[43m)\u001b[49m:\n\u001b[1;32m     87\u001b[0m         \u001b[38;5;28;01mreturn\u001b[39;00m x\n\u001b[1;32m     88\u001b[0m     \u001b[38;5;28;01melse\u001b[39;00m:\n",
      "File \u001b[0;32m~/anaconda3/envs/WW2/lib/python3.9/site-packages/torch/_utils.py:851\u001b[0m, in \u001b[0;36mis_compiling\u001b[0;34m()\u001b[0m\n\u001b[1;32m    847\u001b[0m         func \u001b[38;5;241m=\u001b[39m \u001b[38;5;28mclassmethod\u001b[39m(func)\n\u001b[1;32m    848\u001b[0m     \u001b[38;5;28;01mreturn\u001b[39;00m _ClassPropertyDescriptor(func)\n\u001b[0;32m--> 851\u001b[0m \u001b[38;5;28;01mdef\u001b[39;00m \u001b[38;5;21mis_compiling\u001b[39m() \u001b[38;5;241m-\u001b[39m\u001b[38;5;241m>\u001b[39m \u001b[38;5;28mbool\u001b[39m:\n\u001b[1;32m    852\u001b[0m \u001b[38;5;250m    \u001b[39m\u001b[38;5;124;03m\"\"\"\u001b[39;00m\n\u001b[1;32m    853\u001b[0m \u001b[38;5;124;03m    Indicates whether we are tracing/compiling with torch.compile() or torch.export().\u001b[39;00m\n\u001b[1;32m    854\u001b[0m \n\u001b[1;32m    855\u001b[0m \u001b[38;5;124;03m    TODO(khabinov): we should deprecate this function and use torch.compiler.is_compiling().\u001b[39;00m\n\u001b[1;32m    856\u001b[0m \u001b[38;5;124;03m    \"\"\"\u001b[39;00m\n\u001b[1;32m    857\u001b[0m     \u001b[38;5;28;01mreturn\u001b[39;00m torch\u001b[38;5;241m.\u001b[39mcompiler\u001b[38;5;241m.\u001b[39mis_compiling()\n",
      "\u001b[0;31mKeyboardInterrupt\u001b[0m: "
     ]
    }
   ],
   "source": [
    "train_single_function_approx(train_model, sample_path,scoring_func=utils.energy_score_loss,\n",
    "            optimizer=optimizer, num_epochs=200,timecheat=timecheat, num_tries=20, loss_print_interval=20)"
   ]
  },
  {
   "cell_type": "code",
   "execution_count": null,
   "metadata": {},
   "outputs": [],
   "source": [
    "optimizer = optim.AdamW(train_model.parameters(), lr=0.001,\n",
    "                        weight_decay=1e-7)"
   ]
  },
  {
   "cell_type": "code",
   "execution_count": null,
   "metadata": {},
   "outputs": [
    {
     "name": "stderr",
     "output_type": "stream",
     "text": [
      "  2%|▏         | 7/300 [00:00<00:08, 34.54it/s]"
     ]
    },
    {
     "name": "stdout",
     "output_type": "stream",
     "text": [
      "loss:  tensor(6.2634, grad_fn=<AddBackward0>)\n"
     ]
    },
    {
     "name": "stderr",
     "output_type": "stream",
     "text": [
      "  9%|▊         | 26/300 [00:00<00:09, 28.91it/s]"
     ]
    },
    {
     "name": "stdout",
     "output_type": "stream",
     "text": [
      "loss:  tensor(5.1327, grad_fn=<AddBackward0>)\n"
     ]
    },
    {
     "name": "stderr",
     "output_type": "stream",
     "text": [
      " 16%|█▌        | 48/300 [00:01<00:06, 37.00it/s]"
     ]
    },
    {
     "name": "stdout",
     "output_type": "stream",
     "text": [
      "loss:  tensor(2.0305, grad_fn=<AddBackward0>)\n"
     ]
    },
    {
     "name": "stderr",
     "output_type": "stream",
     "text": [
      " 23%|██▎       | 68/300 [00:01<00:05, 38.90it/s]"
     ]
    },
    {
     "name": "stdout",
     "output_type": "stream",
     "text": [
      "loss:  tensor(4.1795, grad_fn=<AddBackward0>)\n"
     ]
    },
    {
     "name": "stderr",
     "output_type": "stream",
     "text": [
      " 28%|██▊       | 84/300 [00:02<00:07, 29.63it/s]"
     ]
    },
    {
     "name": "stdout",
     "output_type": "stream",
     "text": [
      "loss:  tensor(4.4476, grad_fn=<AddBackward0>)\n"
     ]
    },
    {
     "name": "stderr",
     "output_type": "stream",
     "text": [
      " 35%|███▌      | 106/300 [00:03<00:06, 29.96it/s]"
     ]
    },
    {
     "name": "stdout",
     "output_type": "stream",
     "text": [
      "loss:  tensor(2.7681, grad_fn=<AddBackward0>)\n"
     ]
    },
    {
     "name": "stderr",
     "output_type": "stream",
     "text": [
      " 42%|████▏     | 126/300 [00:03<00:05, 30.91it/s]"
     ]
    },
    {
     "name": "stdout",
     "output_type": "stream",
     "text": [
      "loss:  tensor(4.1617, grad_fn=<AddBackward0>)\n"
     ]
    },
    {
     "name": "stderr",
     "output_type": "stream",
     "text": [
      " 48%|████▊     | 143/300 [00:04<00:04, 33.38it/s]"
     ]
    },
    {
     "name": "stdout",
     "output_type": "stream",
     "text": [
      "loss:  tensor(4.4476, grad_fn=<AddBackward0>)\n"
     ]
    },
    {
     "name": "stderr",
     "output_type": "stream",
     "text": [
      " 54%|█████▍    | 163/300 [00:04<00:03, 36.07it/s]"
     ]
    },
    {
     "name": "stdout",
     "output_type": "stream",
     "text": [
      "loss:  tensor(2.7535, grad_fn=<AddBackward0>)\n"
     ]
    },
    {
     "name": "stderr",
     "output_type": "stream",
     "text": [
      " 62%|██████▏   | 186/300 [00:05<00:03, 30.07it/s]"
     ]
    },
    {
     "name": "stdout",
     "output_type": "stream",
     "text": [
      "loss:  tensor(4.1653, grad_fn=<AddBackward0>)\n"
     ]
    },
    {
     "name": "stderr",
     "output_type": "stream",
     "text": [
      " 69%|██████▉   | 208/300 [00:06<00:02, 36.51it/s]"
     ]
    },
    {
     "name": "stdout",
     "output_type": "stream",
     "text": [
      "loss:  tensor(4.4476, grad_fn=<AddBackward0>)\n"
     ]
    },
    {
     "name": "stderr",
     "output_type": "stream",
     "text": [
      " 76%|███████▌  | 227/300 [00:06<00:01, 39.59it/s]"
     ]
    },
    {
     "name": "stdout",
     "output_type": "stream",
     "text": [
      "loss:  tensor(2.7387, grad_fn=<AddBackward0>)\n"
     ]
    },
    {
     "name": "stderr",
     "output_type": "stream",
     "text": [
      " 81%|████████▏ | 244/300 [00:07<00:01, 35.65it/s]"
     ]
    },
    {
     "name": "stdout",
     "output_type": "stream",
     "text": [
      "loss:  tensor(4.1653, grad_fn=<AddBackward0>)\n"
     ]
    },
    {
     "name": "stderr",
     "output_type": "stream",
     "text": [
      " 89%|████████▊ | 266/300 [00:07<00:00, 37.13it/s]"
     ]
    },
    {
     "name": "stdout",
     "output_type": "stream",
     "text": [
      "loss:  tensor(4.4503, grad_fn=<AddBackward0>)\n"
     ]
    },
    {
     "name": "stderr",
     "output_type": "stream",
     "text": [
      " 95%|█████████▍| 284/300 [00:08<00:00, 33.35it/s]"
     ]
    },
    {
     "name": "stdout",
     "output_type": "stream",
     "text": [
      "loss:  tensor(2.7387, grad_fn=<AddBackward0>)\n"
     ]
    },
    {
     "name": "stderr",
     "output_type": "stream",
     "text": [
      "100%|██████████| 300/300 [00:08<00:00, 33.42it/s]"
     ]
    },
    {
     "name": "stdout",
     "output_type": "stream",
     "text": [
      "loss:  tensor(4.3601, grad_fn=<AddBackward0>)\n"
     ]
    },
    {
     "name": "stderr",
     "output_type": "stream",
     "text": [
      "\n"
     ]
    }
   ],
   "source": [
    "train_single_function_approx(train_model, sample_path,scoring_func=utils.energy_score_loss,\n",
    "            optimizer=optimizer, num_epochs=300,timecheat=timecheat, num_tries=20, loss_print_interval=20)"
   ]
  },
  {
   "cell_type": "code",
   "execution_count": null,
   "metadata": {},
   "outputs": [],
   "source": [
    "optimizer = optim.AdamW(train_model.parameters(), lr=0.00001,\n",
    "                        weight_decay=1e-7)"
   ]
  },
  {
   "cell_type": "code",
   "execution_count": null,
   "metadata": {},
   "outputs": [
    {
     "name": "stderr",
     "output_type": "stream",
     "text": [
      "  0%|          | 4/3000 [00:00<01:28, 33.95it/s]"
     ]
    },
    {
     "name": "stdout",
     "output_type": "stream",
     "text": [
      "loss:  tensor(4.1653, grad_fn=<AddBackward0>)\n"
     ]
    },
    {
     "name": "stderr",
     "output_type": "stream",
     "text": [
      "  1%|          | 25/3000 [00:00<01:27, 33.89it/s]"
     ]
    },
    {
     "name": "stdout",
     "output_type": "stream",
     "text": [
      "loss:  tensor(2.4853, grad_fn=<AddBackward0>)\n"
     ]
    },
    {
     "name": "stderr",
     "output_type": "stream",
     "text": [
      "  2%|▏         | 48/3000 [00:01<01:15, 39.29it/s]"
     ]
    },
    {
     "name": "stdout",
     "output_type": "stream",
     "text": [
      "loss:  tensor(0.8366, grad_fn=<AddBackward0>)\n"
     ]
    },
    {
     "name": "stderr",
     "output_type": "stream",
     "text": [
      "  2%|▏         | 67/3000 [00:01<01:12, 40.44it/s]"
     ]
    },
    {
     "name": "stdout",
     "output_type": "stream",
     "text": [
      "loss:  tensor(-1.4660, grad_fn=<AddBackward0>)\n"
     ]
    },
    {
     "name": "stderr",
     "output_type": "stream",
     "text": [
      "  3%|▎         | 84/3000 [00:02<01:31, 32.03it/s]"
     ]
    },
    {
     "name": "stdout",
     "output_type": "stream",
     "text": [
      "loss:  tensor(-1.4660, grad_fn=<AddBackward0>)\n"
     ]
    },
    {
     "name": "stderr",
     "output_type": "stream",
     "text": [
      "  4%|▎         | 107/3000 [00:03<01:29, 32.49it/s]"
     ]
    },
    {
     "name": "stdout",
     "output_type": "stream",
     "text": [
      "loss:  tensor(-0.3674, grad_fn=<AddBackward0>)\n"
     ]
    },
    {
     "name": "stderr",
     "output_type": "stream",
     "text": [
      "  4%|▍         | 124/3000 [00:03<01:30, 31.75it/s]"
     ]
    },
    {
     "name": "stdout",
     "output_type": "stream",
     "text": [
      "loss:  tensor(-1.4660, grad_fn=<AddBackward0>)\n"
     ]
    },
    {
     "name": "stderr",
     "output_type": "stream",
     "text": [
      "  5%|▍         | 144/3000 [00:04<01:21, 35.10it/s]"
     ]
    },
    {
     "name": "stdout",
     "output_type": "stream",
     "text": [
      "loss:  tensor(-1.4660, grad_fn=<AddBackward0>)\n"
     ]
    },
    {
     "name": "stderr",
     "output_type": "stream",
     "text": [
      "  6%|▌         | 166/3000 [00:04<01:22, 34.21it/s]"
     ]
    },
    {
     "name": "stdout",
     "output_type": "stream",
     "text": [
      "loss:  tensor(-0.3674, grad_fn=<AddBackward0>)\n"
     ]
    },
    {
     "name": "stderr",
     "output_type": "stream",
     "text": [
      "  6%|▌         | 187/3000 [00:05<01:23, 33.55it/s]"
     ]
    },
    {
     "name": "stdout",
     "output_type": "stream",
     "text": [
      "loss:  tensor(-1.4660, grad_fn=<AddBackward0>)\n"
     ]
    },
    {
     "name": "stderr",
     "output_type": "stream",
     "text": [
      "  7%|▋         | 203/3000 [00:06<01:31, 30.63it/s]"
     ]
    },
    {
     "name": "stdout",
     "output_type": "stream",
     "text": [
      "loss:  tensor(-0.0797, grad_fn=<AddBackward0>)\n"
     ]
    },
    {
     "name": "stderr",
     "output_type": "stream",
     "text": [
      "  7%|▋         | 224/3000 [00:06<01:33, 29.58it/s]"
     ]
    },
    {
     "name": "stdout",
     "output_type": "stream",
     "text": [
      "loss:  tensor(-0.0797, grad_fn=<AddBackward0>)\n"
     ]
    },
    {
     "name": "stderr",
     "output_type": "stream",
     "text": [
      "  8%|▊         | 241/3000 [00:07<01:32, 29.84it/s]"
     ]
    },
    {
     "name": "stdout",
     "output_type": "stream",
     "text": [
      "loss:  tensor(0.1435, grad_fn=<AddBackward0>)\n"
     ]
    },
    {
     "name": "stderr",
     "output_type": "stream",
     "text": [
      "  9%|▉         | 265/3000 [00:08<01:20, 33.97it/s]"
     ]
    },
    {
     "name": "stdout",
     "output_type": "stream",
     "text": [
      "loss:  tensor(-45.1677, grad_fn=<AddBackward0>)\n"
     ]
    },
    {
     "name": "stderr",
     "output_type": "stream",
     "text": [
      " 10%|▉         | 285/3000 [00:08<01:28, 30.71it/s]"
     ]
    },
    {
     "name": "stdout",
     "output_type": "stream",
     "text": [
      "loss:  tensor(-0.7728, grad_fn=<AddBackward0>)\n"
     ]
    },
    {
     "name": "stderr",
     "output_type": "stream",
     "text": [
      " 10%|█         | 304/3000 [00:09<01:25, 31.50it/s]"
     ]
    },
    {
     "name": "stdout",
     "output_type": "stream",
     "text": [
      "loss:  tensor(-1.4660, grad_fn=<AddBackward0>)\n"
     ]
    },
    {
     "name": "stderr",
     "output_type": "stream",
     "text": [
      " 11%|█         | 324/3000 [00:10<01:18, 34.12it/s]"
     ]
    },
    {
     "name": "stdout",
     "output_type": "stream",
     "text": [
      "loss:  tensor(0.4799, grad_fn=<AddBackward0>)\n"
     ]
    },
    {
     "name": "stderr",
     "output_type": "stream",
     "text": [
      " 11%|█▏        | 344/3000 [00:10<01:21, 32.77it/s]"
     ]
    },
    {
     "name": "stdout",
     "output_type": "stream",
     "text": [
      "loss:  tensor(-45.1677, grad_fn=<AddBackward0>)\n"
     ]
    },
    {
     "name": "stderr",
     "output_type": "stream",
     "text": [
      " 12%|█▏        | 367/3000 [00:11<01:09, 38.08it/s]"
     ]
    },
    {
     "name": "stdout",
     "output_type": "stream",
     "text": [
      "loss:  tensor(-0.3674, grad_fn=<AddBackward0>)\n"
     ]
    },
    {
     "name": "stderr",
     "output_type": "stream",
     "text": [
      " 13%|█▎        | 383/3000 [00:11<01:18, 33.53it/s]"
     ]
    },
    {
     "name": "stdout",
     "output_type": "stream",
     "text": [
      "loss:  tensor(-1.4660, grad_fn=<AddBackward0>)\n"
     ]
    },
    {
     "name": "stderr",
     "output_type": "stream",
     "text": [
      " 13%|█▎        | 404/3000 [00:12<01:18, 33.21it/s]"
     ]
    },
    {
     "name": "stdout",
     "output_type": "stream",
     "text": [
      "loss:  tensor(-45.1677, grad_fn=<AddBackward0>)\n"
     ]
    },
    {
     "name": "stderr",
     "output_type": "stream",
     "text": [
      " 14%|█▍        | 427/3000 [00:13<01:09, 37.11it/s]"
     ]
    },
    {
     "name": "stdout",
     "output_type": "stream",
     "text": [
      "loss:  tensor(-0.7728, grad_fn=<AddBackward0>)\n"
     ]
    },
    {
     "name": "stderr",
     "output_type": "stream",
     "text": [
      " 15%|█▍        | 443/3000 [00:13<01:20, 31.58it/s]"
     ]
    },
    {
     "name": "stdout",
     "output_type": "stream",
     "text": [
      "loss:  tensor(-1.4660, grad_fn=<AddBackward0>)\n"
     ]
    },
    {
     "name": "stderr",
     "output_type": "stream",
     "text": [
      " 16%|█▌        | 468/3000 [00:14<01:15, 33.75it/s]"
     ]
    },
    {
     "name": "stdout",
     "output_type": "stream",
     "text": [
      "loss:  tensor(-1.4660, grad_fn=<AddBackward0>)\n"
     ]
    },
    {
     "name": "stderr",
     "output_type": "stream",
     "text": [
      " 16%|█▌        | 484/3000 [00:14<01:20, 31.23it/s]"
     ]
    },
    {
     "name": "stdout",
     "output_type": "stream",
     "text": [
      "loss:  tensor(-1.4660, grad_fn=<AddBackward0>)\n"
     ]
    },
    {
     "name": "stderr",
     "output_type": "stream",
     "text": [
      " 17%|█▋        | 504/3000 [00:15<01:12, 34.57it/s]"
     ]
    },
    {
     "name": "stdout",
     "output_type": "stream",
     "text": [
      "loss:  tensor(-1.4660, grad_fn=<AddBackward0>)\n"
     ]
    },
    {
     "name": "stderr",
     "output_type": "stream",
     "text": [
      " 18%|█▊        | 527/3000 [00:16<01:03, 38.89it/s]"
     ]
    },
    {
     "name": "stdout",
     "output_type": "stream",
     "text": [
      "loss:  tensor(-1.4660, grad_fn=<AddBackward0>)\n"
     ]
    },
    {
     "name": "stderr",
     "output_type": "stream",
     "text": [
      " 18%|█▊        | 548/3000 [00:16<01:09, 35.30it/s]"
     ]
    },
    {
     "name": "stdout",
     "output_type": "stream",
     "text": [
      "loss:  tensor(-1.4660, grad_fn=<AddBackward0>)\n"
     ]
    },
    {
     "name": "stderr",
     "output_type": "stream",
     "text": [
      " 19%|█▉        | 566/3000 [00:17<01:09, 34.79it/s]"
     ]
    },
    {
     "name": "stdout",
     "output_type": "stream",
     "text": [
      "loss:  tensor(-1.4660, grad_fn=<AddBackward0>)\n"
     ]
    },
    {
     "name": "stderr",
     "output_type": "stream",
     "text": [
      " 19%|█▉        | 584/3000 [00:17<01:08, 35.06it/s]"
     ]
    },
    {
     "name": "stdout",
     "output_type": "stream",
     "text": [
      "loss:  tensor(-1.4660, grad_fn=<AddBackward0>)\n"
     ]
    },
    {
     "name": "stderr",
     "output_type": "stream",
     "text": [
      " 20%|██        | 604/3000 [00:18<01:14, 32.11it/s]"
     ]
    },
    {
     "name": "stdout",
     "output_type": "stream",
     "text": [
      "loss:  tensor(-1.4660, grad_fn=<AddBackward0>)\n"
     ]
    },
    {
     "name": "stderr",
     "output_type": "stream",
     "text": [
      " 21%|██        | 626/3000 [00:18<01:05, 36.24it/s]"
     ]
    },
    {
     "name": "stdout",
     "output_type": "stream",
     "text": [
      "loss:  tensor(-1.4660, grad_fn=<AddBackward0>)\n"
     ]
    },
    {
     "name": "stderr",
     "output_type": "stream",
     "text": [
      " 22%|██▏       | 647/3000 [00:19<01:03, 37.08it/s]"
     ]
    },
    {
     "name": "stdout",
     "output_type": "stream",
     "text": [
      "loss:  tensor(-1.4660, grad_fn=<AddBackward0>)\n"
     ]
    },
    {
     "name": "stderr",
     "output_type": "stream",
     "text": [
      " 22%|██▏       | 667/3000 [00:20<01:04, 36.06it/s]"
     ]
    },
    {
     "name": "stdout",
     "output_type": "stream",
     "text": [
      "loss:  tensor(-1.4660, grad_fn=<AddBackward0>)\n"
     ]
    },
    {
     "name": "stderr",
     "output_type": "stream",
     "text": [
      " 23%|██▎       | 687/3000 [00:20<01:01, 37.49it/s]"
     ]
    },
    {
     "name": "stdout",
     "output_type": "stream",
     "text": [
      "loss:  tensor(-1.4660, grad_fn=<AddBackward0>)\n"
     ]
    },
    {
     "name": "stderr",
     "output_type": "stream",
     "text": [
      " 24%|██▎       | 708/3000 [00:21<01:01, 37.21it/s]"
     ]
    },
    {
     "name": "stdout",
     "output_type": "stream",
     "text": [
      "loss:  tensor(-1.4660, grad_fn=<AddBackward0>)\n"
     ]
    },
    {
     "name": "stderr",
     "output_type": "stream",
     "text": [
      " 24%|██▍       | 724/3000 [00:21<01:22, 27.76it/s]"
     ]
    },
    {
     "name": "stdout",
     "output_type": "stream",
     "text": [
      "loss:  tensor(-1.4660, grad_fn=<AddBackward0>)\n"
     ]
    },
    {
     "name": "stderr",
     "output_type": "stream",
     "text": [
      " 25%|██▍       | 744/3000 [00:22<01:08, 32.83it/s]"
     ]
    },
    {
     "name": "stdout",
     "output_type": "stream",
     "text": [
      "loss:  tensor(-1.4660, grad_fn=<AddBackward0>)\n"
     ]
    },
    {
     "name": "stderr",
     "output_type": "stream",
     "text": [
      " 26%|██▌       | 765/3000 [00:23<01:05, 34.19it/s]"
     ]
    },
    {
     "name": "stdout",
     "output_type": "stream",
     "text": [
      "loss:  tensor(-1.4660, grad_fn=<AddBackward0>)\n"
     ]
    },
    {
     "name": "stderr",
     "output_type": "stream",
     "text": [
      " 26%|██▌       | 785/3000 [00:23<01:09, 32.01it/s]"
     ]
    },
    {
     "name": "stdout",
     "output_type": "stream",
     "text": [
      "loss:  tensor(-1.4660, grad_fn=<AddBackward0>)\n"
     ]
    },
    {
     "name": "stderr",
     "output_type": "stream",
     "text": [
      " 27%|██▋       | 804/3000 [00:24<00:56, 38.66it/s]"
     ]
    },
    {
     "name": "stdout",
     "output_type": "stream",
     "text": [
      "loss:  tensor(-1.4660, grad_fn=<AddBackward0>)\n"
     ]
    },
    {
     "name": "stderr",
     "output_type": "stream",
     "text": [
      " 28%|██▊       | 825/3000 [00:24<01:00, 35.83it/s]"
     ]
    },
    {
     "name": "stdout",
     "output_type": "stream",
     "text": [
      "loss:  tensor(-1.4660, grad_fn=<AddBackward0>)\n"
     ]
    },
    {
     "name": "stderr",
     "output_type": "stream",
     "text": [
      " 28%|██▊       | 847/3000 [00:25<00:55, 39.01it/s]"
     ]
    },
    {
     "name": "stdout",
     "output_type": "stream",
     "text": [
      "loss:  tensor(-1.4660, grad_fn=<AddBackward0>)\n"
     ]
    },
    {
     "name": "stderr",
     "output_type": "stream",
     "text": [
      " 29%|██▉       | 864/3000 [00:25<01:02, 33.99it/s]"
     ]
    },
    {
     "name": "stdout",
     "output_type": "stream",
     "text": [
      "loss:  tensor(0.4799, grad_fn=<AddBackward0>)\n"
     ]
    },
    {
     "name": "stderr",
     "output_type": "stream",
     "text": [
      " 29%|██▉       | 883/3000 [00:26<01:21, 26.09it/s]"
     ]
    },
    {
     "name": "stdout",
     "output_type": "stream",
     "text": [
      "loss:  tensor(-0.3674, grad_fn=<AddBackward0>)\n"
     ]
    },
    {
     "name": "stderr",
     "output_type": "stream",
     "text": [
      " 30%|███       | 902/3000 [00:27<01:09, 30.11it/s]"
     ]
    },
    {
     "name": "stdout",
     "output_type": "stream",
     "text": [
      "loss:  tensor(-1.4660, grad_fn=<AddBackward0>)\n"
     ]
    },
    {
     "name": "stderr",
     "output_type": "stream",
     "text": [
      " 31%|███       | 924/3000 [00:28<01:09, 29.68it/s]"
     ]
    },
    {
     "name": "stdout",
     "output_type": "stream",
     "text": [
      "loss:  tensor(-1.4660, grad_fn=<AddBackward0>)\n"
     ]
    },
    {
     "name": "stderr",
     "output_type": "stream",
     "text": [
      " 31%|███▏      | 944/3000 [00:28<01:05, 31.24it/s]"
     ]
    },
    {
     "name": "stdout",
     "output_type": "stream",
     "text": [
      "loss:  tensor(-1.4660, grad_fn=<AddBackward0>)\n"
     ]
    },
    {
     "name": "stderr",
     "output_type": "stream",
     "text": [
      " 32%|███▏      | 966/3000 [00:29<01:00, 33.73it/s]"
     ]
    },
    {
     "name": "stdout",
     "output_type": "stream",
     "text": [
      "loss:  tensor(0.6135, grad_fn=<AddBackward0>)\n"
     ]
    },
    {
     "name": "stderr",
     "output_type": "stream",
     "text": [
      " 33%|███▎      | 986/3000 [00:29<01:00, 33.36it/s]"
     ]
    },
    {
     "name": "stdout",
     "output_type": "stream",
     "text": [
      "loss:  tensor(-1.4660, grad_fn=<AddBackward0>)\n"
     ]
    },
    {
     "name": "stderr",
     "output_type": "stream",
     "text": [
      " 34%|███▎      | 1005/3000 [00:30<01:14, 26.66it/s]"
     ]
    },
    {
     "name": "stdout",
     "output_type": "stream",
     "text": [
      "loss:  tensor(-45.1677, grad_fn=<AddBackward0>)\n"
     ]
    },
    {
     "name": "stderr",
     "output_type": "stream",
     "text": [
      " 34%|███▍      | 1025/3000 [00:31<01:11, 27.79it/s]"
     ]
    },
    {
     "name": "stdout",
     "output_type": "stream",
     "text": [
      "loss:  tensor(-0.7728, grad_fn=<AddBackward0>)\n"
     ]
    },
    {
     "name": "stderr",
     "output_type": "stream",
     "text": [
      " 35%|███▍      | 1045/3000 [00:32<01:03, 30.57it/s]"
     ]
    },
    {
     "name": "stdout",
     "output_type": "stream",
     "text": [
      "loss:  tensor(-0.0797, grad_fn=<AddBackward0>)\n"
     ]
    },
    {
     "name": "stderr",
     "output_type": "stream",
     "text": [
      " 36%|███▌      | 1065/3000 [00:32<01:00, 32.08it/s]"
     ]
    },
    {
     "name": "stdout",
     "output_type": "stream",
     "text": [
      "loss:  tensor(-1.4660, grad_fn=<AddBackward0>)\n"
     ]
    },
    {
     "name": "stderr",
     "output_type": "stream",
     "text": [
      " 36%|███▌      | 1085/3000 [00:33<00:56, 33.89it/s]"
     ]
    },
    {
     "name": "stdout",
     "output_type": "stream",
     "text": [
      "loss:  tensor(-1.4660, grad_fn=<AddBackward0>)\n"
     ]
    },
    {
     "name": "stderr",
     "output_type": "stream",
     "text": [
      " 37%|███▋      | 1106/3000 [00:33<00:53, 35.48it/s]"
     ]
    },
    {
     "name": "stdout",
     "output_type": "stream",
     "text": [
      "loss:  tensor(-45.1677, grad_fn=<AddBackward0>)\n"
     ]
    },
    {
     "name": "stderr",
     "output_type": "stream",
     "text": [
      " 37%|███▋      | 1124/3000 [00:34<00:52, 35.62it/s]"
     ]
    },
    {
     "name": "stdout",
     "output_type": "stream",
     "text": [
      "loss:  tensor(-1.4660, grad_fn=<AddBackward0>)\n"
     ]
    },
    {
     "name": "stderr",
     "output_type": "stream",
     "text": [
      " 38%|███▊      | 1144/3000 [00:34<00:55, 33.45it/s]"
     ]
    },
    {
     "name": "stdout",
     "output_type": "stream",
     "text": [
      "loss:  tensor(-1.4660, grad_fn=<AddBackward0>)\n"
     ]
    },
    {
     "name": "stderr",
     "output_type": "stream",
     "text": [
      " 39%|███▉      | 1165/3000 [00:35<00:54, 33.57it/s]"
     ]
    },
    {
     "name": "stdout",
     "output_type": "stream",
     "text": [
      "loss:  tensor(-0.3674, grad_fn=<AddBackward0>)\n"
     ]
    },
    {
     "name": "stderr",
     "output_type": "stream",
     "text": [
      " 40%|███▉      | 1185/3000 [00:36<00:58, 30.84it/s]"
     ]
    },
    {
     "name": "stdout",
     "output_type": "stream",
     "text": [
      "loss:  tensor(-0.7728, grad_fn=<AddBackward0>)\n"
     ]
    },
    {
     "name": "stderr",
     "output_type": "stream",
     "text": [
      " 40%|████      | 1207/3000 [00:36<00:57, 31.29it/s]"
     ]
    },
    {
     "name": "stdout",
     "output_type": "stream",
     "text": [
      "loss:  tensor(-1.4660, grad_fn=<AddBackward0>)\n"
     ]
    },
    {
     "name": "stderr",
     "output_type": "stream",
     "text": [
      " 41%|████      | 1228/3000 [00:37<00:50, 34.81it/s]"
     ]
    },
    {
     "name": "stdout",
     "output_type": "stream",
     "text": [
      "loss:  tensor(-45.1677, grad_fn=<AddBackward0>)\n"
     ]
    },
    {
     "name": "stderr",
     "output_type": "stream",
     "text": [
      " 41%|████▏     | 1244/3000 [00:38<00:54, 32.42it/s]"
     ]
    },
    {
     "name": "stdout",
     "output_type": "stream",
     "text": [
      "loss:  tensor(-1.4660, grad_fn=<AddBackward0>)\n"
     ]
    },
    {
     "name": "stderr",
     "output_type": "stream",
     "text": [
      " 42%|████▏     | 1267/3000 [00:38<00:46, 37.19it/s]"
     ]
    },
    {
     "name": "stdout",
     "output_type": "stream",
     "text": [
      "loss:  tensor(-1.4660, grad_fn=<AddBackward0>)\n"
     ]
    },
    {
     "name": "stderr",
     "output_type": "stream",
     "text": [
      " 43%|████▎     | 1284/3000 [00:39<00:48, 35.51it/s]"
     ]
    },
    {
     "name": "stdout",
     "output_type": "stream",
     "text": [
      "loss:  tensor(0.4799, grad_fn=<AddBackward0>)\n"
     ]
    },
    {
     "name": "stderr",
     "output_type": "stream",
     "text": [
      " 43%|████▎     | 1304/3000 [00:39<00:49, 34.39it/s]"
     ]
    },
    {
     "name": "stdout",
     "output_type": "stream",
     "text": [
      "loss:  tensor(-1.4660, grad_fn=<AddBackward0>)\n"
     ]
    },
    {
     "name": "stderr",
     "output_type": "stream",
     "text": [
      " 44%|████▍     | 1325/3000 [00:40<00:46, 36.20it/s]"
     ]
    },
    {
     "name": "stdout",
     "output_type": "stream",
     "text": [
      "loss:  tensor(-0.7728, grad_fn=<AddBackward0>)\n"
     ]
    },
    {
     "name": "stderr",
     "output_type": "stream",
     "text": [
      " 45%|████▍     | 1346/3000 [00:40<00:43, 37.73it/s]"
     ]
    },
    {
     "name": "stdout",
     "output_type": "stream",
     "text": [
      "loss:  tensor(0.1435, grad_fn=<AddBackward0>)\n"
     ]
    },
    {
     "name": "stderr",
     "output_type": "stream",
     "text": [
      " 45%|████▌     | 1363/3000 [00:41<00:51, 32.01it/s]"
     ]
    },
    {
     "name": "stdout",
     "output_type": "stream",
     "text": [
      "loss:  tensor(-0.0797, grad_fn=<AddBackward0>)\n"
     ]
    },
    {
     "name": "stderr",
     "output_type": "stream",
     "text": [
      " 46%|████▌     | 1383/3000 [00:42<00:48, 33.12it/s]"
     ]
    },
    {
     "name": "stdout",
     "output_type": "stream",
     "text": [
      "loss:  tensor(-45.1677, grad_fn=<AddBackward0>)\n"
     ]
    },
    {
     "name": "stderr",
     "output_type": "stream",
     "text": [
      " 47%|████▋     | 1407/3000 [00:42<00:47, 33.54it/s]"
     ]
    },
    {
     "name": "stdout",
     "output_type": "stream",
     "text": [
      "loss:  tensor(-1.4660, grad_fn=<AddBackward0>)\n"
     ]
    },
    {
     "name": "stderr",
     "output_type": "stream",
     "text": [
      " 47%|████▋     | 1423/3000 [00:43<00:50, 31.15it/s]"
     ]
    },
    {
     "name": "stdout",
     "output_type": "stream",
     "text": [
      "loss:  tensor(0.1435, grad_fn=<AddBackward0>)\n"
     ]
    },
    {
     "name": "stderr",
     "output_type": "stream",
     "text": [
      " 48%|████▊     | 1446/3000 [00:43<00:42, 36.71it/s]"
     ]
    },
    {
     "name": "stdout",
     "output_type": "stream",
     "text": [
      "loss:  tensor(-1.4660, grad_fn=<AddBackward0>)\n"
     ]
    },
    {
     "name": "stderr",
     "output_type": "stream",
     "text": [
      " 49%|████▉     | 1468/3000 [00:44<00:41, 37.33it/s]"
     ]
    },
    {
     "name": "stdout",
     "output_type": "stream",
     "text": [
      "loss:  tensor(-0.7728, grad_fn=<AddBackward0>)\n"
     ]
    },
    {
     "name": "stderr",
     "output_type": "stream",
     "text": [
      " 50%|████▉     | 1486/3000 [00:45<00:39, 37.95it/s]"
     ]
    },
    {
     "name": "stdout",
     "output_type": "stream",
     "text": [
      "loss:  tensor(-0.3674, grad_fn=<AddBackward0>)\n"
     ]
    },
    {
     "name": "stderr",
     "output_type": "stream",
     "text": [
      " 50%|█████     | 1506/3000 [00:45<00:45, 33.11it/s]"
     ]
    },
    {
     "name": "stdout",
     "output_type": "stream",
     "text": [
      "loss:  tensor(-0.0797, grad_fn=<AddBackward0>)\n"
     ]
    },
    {
     "name": "stderr",
     "output_type": "stream",
     "text": [
      " 51%|█████     | 1527/3000 [00:46<00:41, 35.20it/s]"
     ]
    },
    {
     "name": "stdout",
     "output_type": "stream",
     "text": [
      "loss:  tensor(-1.4660, grad_fn=<AddBackward0>)\n"
     ]
    },
    {
     "name": "stderr",
     "output_type": "stream",
     "text": [
      " 52%|█████▏    | 1545/3000 [00:46<00:39, 36.94it/s]"
     ]
    },
    {
     "name": "stdout",
     "output_type": "stream",
     "text": [
      "loss:  tensor(-1.4660, grad_fn=<AddBackward0>)\n"
     ]
    },
    {
     "name": "stderr",
     "output_type": "stream",
     "text": [
      " 52%|█████▏    | 1565/3000 [00:47<00:41, 34.19it/s]"
     ]
    },
    {
     "name": "stdout",
     "output_type": "stream",
     "text": [
      "loss:  tensor(-1.4660, grad_fn=<AddBackward0>)\n"
     ]
    },
    {
     "name": "stderr",
     "output_type": "stream",
     "text": [
      " 53%|█████▎    | 1585/3000 [00:47<00:42, 32.99it/s]"
     ]
    },
    {
     "name": "stdout",
     "output_type": "stream",
     "text": [
      "loss:  tensor(-0.7728, grad_fn=<AddBackward0>)\n"
     ]
    },
    {
     "name": "stderr",
     "output_type": "stream",
     "text": [
      " 54%|█████▎    | 1605/3000 [00:48<00:39, 35.00it/s]"
     ]
    },
    {
     "name": "stdout",
     "output_type": "stream",
     "text": [
      "loss:  tensor(-1.4660, grad_fn=<AddBackward0>)\n"
     ]
    },
    {
     "name": "stderr",
     "output_type": "stream",
     "text": [
      " 54%|█████▍    | 1627/3000 [00:49<00:37, 37.09it/s]"
     ]
    },
    {
     "name": "stdout",
     "output_type": "stream",
     "text": [
      "loss:  tensor(-45.1677, grad_fn=<AddBackward0>)\n"
     ]
    },
    {
     "name": "stderr",
     "output_type": "stream",
     "text": [
      " 55%|█████▍    | 1647/3000 [00:49<00:41, 32.38it/s]"
     ]
    },
    {
     "name": "stdout",
     "output_type": "stream",
     "text": [
      "loss:  tensor(-0.3674, grad_fn=<AddBackward0>)\n"
     ]
    },
    {
     "name": "stderr",
     "output_type": "stream",
     "text": [
      " 56%|█████▌    | 1667/3000 [00:50<00:39, 33.79it/s]"
     ]
    },
    {
     "name": "stdout",
     "output_type": "stream",
     "text": [
      "loss:  tensor(-1.4660, grad_fn=<AddBackward0>)\n"
     ]
    },
    {
     "name": "stderr",
     "output_type": "stream",
     "text": [
      " 56%|█████▌    | 1684/3000 [00:50<00:43, 30.16it/s]"
     ]
    },
    {
     "name": "stdout",
     "output_type": "stream",
     "text": [
      "loss:  tensor(-1.4660, grad_fn=<AddBackward0>)\n"
     ]
    },
    {
     "name": "stderr",
     "output_type": "stream",
     "text": [
      " 57%|█████▋    | 1708/3000 [00:51<00:33, 38.43it/s]"
     ]
    },
    {
     "name": "stdout",
     "output_type": "stream",
     "text": [
      "loss:  tensor(-0.7728, grad_fn=<AddBackward0>)\n"
     ]
    },
    {
     "name": "stderr",
     "output_type": "stream",
     "text": [
      " 58%|█████▊    | 1728/3000 [00:52<00:32, 39.41it/s]"
     ]
    },
    {
     "name": "stdout",
     "output_type": "stream",
     "text": [
      "loss:  tensor(-0.7728, grad_fn=<AddBackward0>)\n"
     ]
    },
    {
     "name": "stderr",
     "output_type": "stream",
     "text": [
      " 58%|█████▊    | 1744/3000 [00:52<00:34, 36.67it/s]"
     ]
    },
    {
     "name": "stdout",
     "output_type": "stream",
     "text": [
      "loss:  tensor(-0.7728, grad_fn=<AddBackward0>)\n"
     ]
    },
    {
     "name": "stderr",
     "output_type": "stream",
     "text": [
      " 59%|█████▉    | 1764/3000 [00:53<00:36, 34.05it/s]"
     ]
    },
    {
     "name": "stdout",
     "output_type": "stream",
     "text": [
      "loss:  tensor(-0.0797, grad_fn=<AddBackward0>)\n"
     ]
    },
    {
     "name": "stderr",
     "output_type": "stream",
     "text": [
      " 59%|█████▉    | 1784/3000 [00:53<00:37, 32.67it/s]"
     ]
    },
    {
     "name": "stdout",
     "output_type": "stream",
     "text": [
      "loss:  tensor(-0.7728, grad_fn=<AddBackward0>)\n"
     ]
    },
    {
     "name": "stderr",
     "output_type": "stream",
     "text": [
      " 60%|██████    | 1807/3000 [00:54<00:32, 36.34it/s]"
     ]
    },
    {
     "name": "stdout",
     "output_type": "stream",
     "text": [
      "loss:  tensor(-0.3674, grad_fn=<AddBackward0>)\n"
     ]
    },
    {
     "name": "stderr",
     "output_type": "stream",
     "text": [
      " 61%|██████    | 1828/3000 [00:54<00:31, 37.56it/s]"
     ]
    },
    {
     "name": "stdout",
     "output_type": "stream",
     "text": [
      "loss:  tensor(-0.0797, grad_fn=<AddBackward0>)\n"
     ]
    },
    {
     "name": "stderr",
     "output_type": "stream",
     "text": [
      " 62%|██████▏   | 1845/3000 [00:55<00:29, 39.10it/s]"
     ]
    },
    {
     "name": "stdout",
     "output_type": "stream",
     "text": [
      "loss:  tensor(0.1435, grad_fn=<AddBackward0>)\n"
     ]
    },
    {
     "name": "stderr",
     "output_type": "stream",
     "text": [
      " 62%|██████▏   | 1865/3000 [00:55<00:30, 37.64it/s]"
     ]
    },
    {
     "name": "stdout",
     "output_type": "stream",
     "text": [
      "loss:  tensor(-1.4660, grad_fn=<AddBackward0>)\n"
     ]
    },
    {
     "name": "stderr",
     "output_type": "stream",
     "text": [
      " 63%|██████▎   | 1886/3000 [00:56<00:31, 34.96it/s]"
     ]
    },
    {
     "name": "stdout",
     "output_type": "stream",
     "text": [
      "loss:  tensor(-1.4660, grad_fn=<AddBackward0>)\n"
     ]
    },
    {
     "name": "stderr",
     "output_type": "stream",
     "text": [
      " 64%|██████▎   | 1907/3000 [00:56<00:29, 36.77it/s]"
     ]
    },
    {
     "name": "stdout",
     "output_type": "stream",
     "text": [
      "loss:  tensor(-1.4660, grad_fn=<AddBackward0>)\n"
     ]
    },
    {
     "name": "stderr",
     "output_type": "stream",
     "text": [
      " 64%|██████▍   | 1926/3000 [00:57<00:27, 39.75it/s]"
     ]
    },
    {
     "name": "stdout",
     "output_type": "stream",
     "text": [
      "loss:  tensor(-1.4660, grad_fn=<AddBackward0>)\n"
     ]
    },
    {
     "name": "stderr",
     "output_type": "stream",
     "text": [
      " 65%|██████▍   | 1947/3000 [00:58<00:31, 32.97it/s]"
     ]
    },
    {
     "name": "stdout",
     "output_type": "stream",
     "text": [
      "loss:  tensor(-1.4660, grad_fn=<AddBackward0>)\n"
     ]
    },
    {
     "name": "stderr",
     "output_type": "stream",
     "text": [
      " 65%|██████▌   | 1964/3000 [00:58<00:28, 36.95it/s]"
     ]
    },
    {
     "name": "stdout",
     "output_type": "stream",
     "text": [
      "loss:  tensor(-1.4660, grad_fn=<AddBackward0>)\n"
     ]
    },
    {
     "name": "stderr",
     "output_type": "stream",
     "text": [
      " 66%|██████▌   | 1985/3000 [00:59<00:28, 35.87it/s]"
     ]
    },
    {
     "name": "stdout",
     "output_type": "stream",
     "text": [
      "loss:  tensor(-1.4660, grad_fn=<AddBackward0>)\n"
     ]
    },
    {
     "name": "stderr",
     "output_type": "stream",
     "text": [
      " 67%|██████▋   | 2005/3000 [00:59<00:24, 39.89it/s]"
     ]
    },
    {
     "name": "stdout",
     "output_type": "stream",
     "text": [
      "loss:  tensor(-1.4660, grad_fn=<AddBackward0>)\n"
     ]
    },
    {
     "name": "stderr",
     "output_type": "stream",
     "text": [
      " 68%|██████▊   | 2025/3000 [01:00<00:26, 36.76it/s]"
     ]
    },
    {
     "name": "stdout",
     "output_type": "stream",
     "text": [
      "loss:  tensor(-1.4660, grad_fn=<AddBackward0>)\n"
     ]
    },
    {
     "name": "stderr",
     "output_type": "stream",
     "text": [
      " 68%|██████▊   | 2045/3000 [01:00<00:27, 34.18it/s]"
     ]
    },
    {
     "name": "stdout",
     "output_type": "stream",
     "text": [
      "loss:  tensor(-1.4660, grad_fn=<AddBackward0>)\n"
     ]
    },
    {
     "name": "stderr",
     "output_type": "stream",
     "text": [
      " 69%|██████▉   | 2065/3000 [01:01<00:31, 29.42it/s]"
     ]
    },
    {
     "name": "stdout",
     "output_type": "stream",
     "text": [
      "loss:  tensor(-1.4660, grad_fn=<AddBackward0>)\n"
     ]
    },
    {
     "name": "stderr",
     "output_type": "stream",
     "text": [
      " 70%|██████▉   | 2086/3000 [01:02<00:26, 34.54it/s]"
     ]
    },
    {
     "name": "stdout",
     "output_type": "stream",
     "text": [
      "loss:  tensor(-1.4660, grad_fn=<AddBackward0>)\n"
     ]
    },
    {
     "name": "stderr",
     "output_type": "stream",
     "text": [
      " 70%|███████   | 2105/3000 [01:02<00:33, 26.62it/s]"
     ]
    },
    {
     "name": "stdout",
     "output_type": "stream",
     "text": [
      "loss:  tensor(-1.4660, grad_fn=<AddBackward0>)\n"
     ]
    },
    {
     "name": "stderr",
     "output_type": "stream",
     "text": [
      " 71%|███████   | 2121/3000 [01:03<00:28, 30.68it/s]"
     ]
    },
    {
     "name": "stdout",
     "output_type": "stream",
     "text": [
      "loss:  tensor(-1.4660, grad_fn=<AddBackward0>)\n"
     ]
    },
    {
     "name": "stderr",
     "output_type": "stream",
     "text": [
      " 71%|███████▏  | 2144/3000 [01:04<00:34, 24.74it/s]"
     ]
    },
    {
     "name": "stdout",
     "output_type": "stream",
     "text": [
      "loss:  tensor(-1.4660, grad_fn=<AddBackward0>)\n"
     ]
    },
    {
     "name": "stderr",
     "output_type": "stream",
     "text": [
      " 72%|███████▏  | 2165/3000 [01:05<00:28, 28.84it/s]"
     ]
    },
    {
     "name": "stdout",
     "output_type": "stream",
     "text": [
      "loss:  tensor(-1.4660, grad_fn=<AddBackward0>)\n"
     ]
    },
    {
     "name": "stderr",
     "output_type": "stream",
     "text": [
      " 73%|███████▎  | 2186/3000 [01:05<00:23, 35.11it/s]"
     ]
    },
    {
     "name": "stdout",
     "output_type": "stream",
     "text": [
      "loss:  tensor(-1.4660, grad_fn=<AddBackward0>)\n"
     ]
    },
    {
     "name": "stderr",
     "output_type": "stream",
     "text": [
      " 73%|███████▎  | 2203/3000 [01:06<00:21, 37.52it/s]"
     ]
    },
    {
     "name": "stdout",
     "output_type": "stream",
     "text": [
      "loss:  tensor(-1.4660, grad_fn=<AddBackward0>)\n"
     ]
    },
    {
     "name": "stderr",
     "output_type": "stream",
     "text": [
      " 74%|███████▍  | 2228/3000 [01:06<00:22, 34.01it/s]"
     ]
    },
    {
     "name": "stdout",
     "output_type": "stream",
     "text": [
      "loss:  tensor(-1.4660, grad_fn=<AddBackward0>)\n"
     ]
    },
    {
     "name": "stderr",
     "output_type": "stream",
     "text": [
      " 75%|███████▍  | 2244/3000 [01:07<00:25, 29.86it/s]"
     ]
    },
    {
     "name": "stdout",
     "output_type": "stream",
     "text": [
      "loss:  tensor(-1.4660, grad_fn=<AddBackward0>)\n"
     ]
    },
    {
     "name": "stderr",
     "output_type": "stream",
     "text": [
      " 76%|███████▌  | 2266/3000 [01:08<00:25, 29.29it/s]"
     ]
    },
    {
     "name": "stdout",
     "output_type": "stream",
     "text": [
      "loss:  tensor(-1.4660, grad_fn=<AddBackward0>)\n"
     ]
    },
    {
     "name": "stderr",
     "output_type": "stream",
     "text": [
      " 76%|███████▌  | 2284/3000 [01:08<00:25, 27.62it/s]"
     ]
    },
    {
     "name": "stdout",
     "output_type": "stream",
     "text": [
      "loss:  tensor(-1.4660, grad_fn=<AddBackward0>)\n"
     ]
    },
    {
     "name": "stderr",
     "output_type": "stream",
     "text": [
      " 77%|███████▋  | 2305/3000 [01:09<00:21, 31.65it/s]"
     ]
    },
    {
     "name": "stdout",
     "output_type": "stream",
     "text": [
      "loss:  tensor(-1.4660, grad_fn=<AddBackward0>)\n"
     ]
    },
    {
     "name": "stderr",
     "output_type": "stream",
     "text": [
      " 78%|███████▊  | 2325/3000 [01:10<00:22, 30.11it/s]"
     ]
    },
    {
     "name": "stdout",
     "output_type": "stream",
     "text": [
      "loss:  tensor(-1.4660, grad_fn=<AddBackward0>)\n"
     ]
    },
    {
     "name": "stderr",
     "output_type": "stream",
     "text": [
      " 78%|███████▊  | 2345/3000 [01:10<00:19, 32.92it/s]"
     ]
    },
    {
     "name": "stdout",
     "output_type": "stream",
     "text": [
      "loss:  tensor(-1.4660, grad_fn=<AddBackward0>)\n"
     ]
    },
    {
     "name": "stderr",
     "output_type": "stream",
     "text": [
      " 79%|███████▉  | 2365/3000 [01:11<00:19, 32.97it/s]"
     ]
    },
    {
     "name": "stdout",
     "output_type": "stream",
     "text": [
      "loss:  tensor(-1.4660, grad_fn=<AddBackward0>)\n"
     ]
    },
    {
     "name": "stderr",
     "output_type": "stream",
     "text": [
      " 80%|███████▉  | 2385/3000 [01:12<00:19, 32.07it/s]"
     ]
    },
    {
     "name": "stdout",
     "output_type": "stream",
     "text": [
      "loss:  tensor(-1.4660, grad_fn=<AddBackward0>)\n"
     ]
    },
    {
     "name": "stderr",
     "output_type": "stream",
     "text": [
      " 80%|████████  | 2405/3000 [01:12<00:17, 34.51it/s]"
     ]
    },
    {
     "name": "stdout",
     "output_type": "stream",
     "text": [
      "loss:  tensor(-1.4660, grad_fn=<AddBackward0>)\n"
     ]
    },
    {
     "name": "stderr",
     "output_type": "stream",
     "text": [
      " 81%|████████  | 2426/3000 [01:13<00:15, 37.33it/s]"
     ]
    },
    {
     "name": "stdout",
     "output_type": "stream",
     "text": [
      "loss:  tensor(-1.4660, grad_fn=<AddBackward0>)\n"
     ]
    },
    {
     "name": "stderr",
     "output_type": "stream",
     "text": [
      " 82%|████████▏ | 2446/3000 [01:13<00:15, 36.68it/s]"
     ]
    },
    {
     "name": "stdout",
     "output_type": "stream",
     "text": [
      "loss:  tensor(-1.4660, grad_fn=<AddBackward0>)\n"
     ]
    },
    {
     "name": "stderr",
     "output_type": "stream",
     "text": [
      " 82%|████████▏ | 2467/3000 [01:14<00:14, 36.21it/s]"
     ]
    },
    {
     "name": "stdout",
     "output_type": "stream",
     "text": [
      "loss:  tensor(-1.4660, grad_fn=<AddBackward0>)\n"
     ]
    },
    {
     "name": "stderr",
     "output_type": "stream",
     "text": [
      " 83%|████████▎ | 2487/3000 [01:15<00:15, 33.31it/s]"
     ]
    },
    {
     "name": "stdout",
     "output_type": "stream",
     "text": [
      "loss:  tensor(-1.4660, grad_fn=<AddBackward0>)\n"
     ]
    },
    {
     "name": "stderr",
     "output_type": "stream",
     "text": [
      " 84%|████████▎ | 2508/3000 [01:15<00:13, 36.95it/s]"
     ]
    },
    {
     "name": "stdout",
     "output_type": "stream",
     "text": [
      "loss:  tensor(-1.4660, grad_fn=<AddBackward0>)\n"
     ]
    },
    {
     "name": "stderr",
     "output_type": "stream",
     "text": [
      " 84%|████████▍ | 2524/3000 [01:16<00:14, 32.89it/s]"
     ]
    },
    {
     "name": "stdout",
     "output_type": "stream",
     "text": [
      "loss:  tensor(-1.4660, grad_fn=<AddBackward0>)\n"
     ]
    },
    {
     "name": "stderr",
     "output_type": "stream",
     "text": [
      " 85%|████████▍ | 2546/3000 [01:16<00:15, 29.27it/s]"
     ]
    },
    {
     "name": "stdout",
     "output_type": "stream",
     "text": [
      "loss:  tensor(-1.4660, grad_fn=<AddBackward0>)\n"
     ]
    },
    {
     "name": "stderr",
     "output_type": "stream",
     "text": [
      " 86%|████████▌ | 2565/3000 [01:17<00:16, 26.64it/s]"
     ]
    },
    {
     "name": "stdout",
     "output_type": "stream",
     "text": [
      "loss:  tensor(-1.4660, grad_fn=<AddBackward0>)\n"
     ]
    },
    {
     "name": "stderr",
     "output_type": "stream",
     "text": [
      " 86%|████████▌ | 2583/3000 [01:18<00:14, 29.22it/s]"
     ]
    },
    {
     "name": "stdout",
     "output_type": "stream",
     "text": [
      "loss:  tensor(-1.4660, grad_fn=<AddBackward0>)\n"
     ]
    },
    {
     "name": "stderr",
     "output_type": "stream",
     "text": [
      " 87%|████████▋ | 2603/3000 [01:18<00:14, 28.03it/s]"
     ]
    },
    {
     "name": "stdout",
     "output_type": "stream",
     "text": [
      "loss:  tensor(-1.4660, grad_fn=<AddBackward0>)\n"
     ]
    },
    {
     "name": "stderr",
     "output_type": "stream",
     "text": [
      " 88%|████████▊ | 2627/3000 [01:19<00:11, 32.74it/s]"
     ]
    },
    {
     "name": "stdout",
     "output_type": "stream",
     "text": [
      "loss:  tensor(-1.4660, grad_fn=<AddBackward0>)\n"
     ]
    },
    {
     "name": "stderr",
     "output_type": "stream",
     "text": [
      " 88%|████████▊ | 2647/3000 [01:20<00:10, 33.94it/s]"
     ]
    },
    {
     "name": "stdout",
     "output_type": "stream",
     "text": [
      "loss:  tensor(-0.3674, grad_fn=<AddBackward0>)\n"
     ]
    },
    {
     "name": "stderr",
     "output_type": "stream",
     "text": [
      " 89%|████████▉ | 2668/3000 [01:21<00:08, 37.65it/s]"
     ]
    },
    {
     "name": "stdout",
     "output_type": "stream",
     "text": [
      "loss:  tensor(-0.7728, grad_fn=<AddBackward0>)\n"
     ]
    },
    {
     "name": "stderr",
     "output_type": "stream",
     "text": [
      " 90%|████████▉ | 2685/3000 [01:21<00:08, 37.56it/s]"
     ]
    },
    {
     "name": "stdout",
     "output_type": "stream",
     "text": [
      "loss:  tensor(-1.4660, grad_fn=<AddBackward0>)\n"
     ]
    },
    {
     "name": "stderr",
     "output_type": "stream",
     "text": [
      " 90%|█████████ | 2706/3000 [01:22<00:08, 34.88it/s]"
     ]
    },
    {
     "name": "stdout",
     "output_type": "stream",
     "text": [
      "loss:  tensor(-45.1677, grad_fn=<AddBackward0>)\n"
     ]
    },
    {
     "name": "stderr",
     "output_type": "stream",
     "text": [
      " 91%|█████████ | 2726/3000 [01:22<00:07, 35.85it/s]"
     ]
    },
    {
     "name": "stdout",
     "output_type": "stream",
     "text": [
      "loss:  tensor(-0.3674, grad_fn=<AddBackward0>)\n"
     ]
    },
    {
     "name": "stderr",
     "output_type": "stream",
     "text": [
      " 92%|█████████▏| 2747/3000 [01:23<00:07, 35.62it/s]"
     ]
    },
    {
     "name": "stdout",
     "output_type": "stream",
     "text": [
      "loss:  tensor(-1.4660, grad_fn=<AddBackward0>)\n"
     ]
    },
    {
     "name": "stderr",
     "output_type": "stream",
     "text": [
      " 92%|█████████▏| 2767/3000 [01:23<00:06, 34.90it/s]"
     ]
    },
    {
     "name": "stdout",
     "output_type": "stream",
     "text": [
      "loss:  tensor(-1.4660, grad_fn=<AddBackward0>)\n"
     ]
    },
    {
     "name": "stderr",
     "output_type": "stream",
     "text": [
      " 93%|█████████▎| 2785/3000 [01:24<00:07, 27.04it/s]"
     ]
    },
    {
     "name": "stdout",
     "output_type": "stream",
     "text": [
      "loss:  tensor(-45.1677, grad_fn=<AddBackward0>)\n"
     ]
    },
    {
     "name": "stderr",
     "output_type": "stream",
     "text": [
      " 93%|█████████▎| 2803/3000 [01:25<00:06, 31.48it/s]"
     ]
    },
    {
     "name": "stdout",
     "output_type": "stream",
     "text": [
      "loss:  tensor(-1.4660, grad_fn=<AddBackward0>)\n"
     ]
    },
    {
     "name": "stderr",
     "output_type": "stream",
     "text": [
      " 94%|█████████▍| 2823/3000 [01:25<00:06, 25.44it/s]"
     ]
    },
    {
     "name": "stdout",
     "output_type": "stream",
     "text": [
      "loss:  tensor(-1.4660, grad_fn=<AddBackward0>)\n"
     ]
    },
    {
     "name": "stderr",
     "output_type": "stream",
     "text": [
      " 95%|█████████▍| 2845/3000 [01:26<00:05, 28.97it/s]"
     ]
    },
    {
     "name": "stdout",
     "output_type": "stream",
     "text": [
      "loss:  tensor(-0.3674, grad_fn=<AddBackward0>)\n"
     ]
    },
    {
     "name": "stderr",
     "output_type": "stream",
     "text": [
      " 96%|█████████▌| 2868/3000 [01:27<00:03, 36.08it/s]"
     ]
    },
    {
     "name": "stdout",
     "output_type": "stream",
     "text": [
      "loss:  tensor(-45.1677, grad_fn=<AddBackward0>)\n"
     ]
    },
    {
     "name": "stderr",
     "output_type": "stream",
     "text": [
      " 96%|█████████▋| 2888/3000 [01:27<00:03, 36.55it/s]"
     ]
    },
    {
     "name": "stdout",
     "output_type": "stream",
     "text": [
      "loss:  tensor(-1.4660, grad_fn=<AddBackward0>)\n"
     ]
    },
    {
     "name": "stderr",
     "output_type": "stream",
     "text": [
      " 97%|█████████▋| 2904/3000 [01:28<00:02, 33.12it/s]"
     ]
    },
    {
     "name": "stdout",
     "output_type": "stream",
     "text": [
      "loss:  tensor(-0.3674, grad_fn=<AddBackward0>)\n"
     ]
    },
    {
     "name": "stderr",
     "output_type": "stream",
     "text": [
      " 97%|█████████▋| 2924/3000 [01:29<00:02, 33.58it/s]"
     ]
    },
    {
     "name": "stdout",
     "output_type": "stream",
     "text": [
      "loss:  tensor(-0.3674, grad_fn=<AddBackward0>)\n"
     ]
    },
    {
     "name": "stderr",
     "output_type": "stream",
     "text": [
      " 98%|█████████▊| 2948/3000 [01:29<00:01, 35.58it/s]"
     ]
    },
    {
     "name": "stdout",
     "output_type": "stream",
     "text": [
      "loss:  tensor(-0.7728, grad_fn=<AddBackward0>)\n"
     ]
    },
    {
     "name": "stderr",
     "output_type": "stream",
     "text": [
      " 99%|█████████▉| 2964/3000 [01:30<00:00, 37.98it/s]"
     ]
    },
    {
     "name": "stdout",
     "output_type": "stream",
     "text": [
      "loss:  tensor(-1.4660, grad_fn=<AddBackward0>)\n"
     ]
    },
    {
     "name": "stderr",
     "output_type": "stream",
     "text": [
      "100%|█████████▉| 2985/3000 [01:31<00:00, 25.16it/s]"
     ]
    },
    {
     "name": "stdout",
     "output_type": "stream",
     "text": [
      "loss:  tensor(-0.3674, grad_fn=<AddBackward0>)\n"
     ]
    },
    {
     "name": "stderr",
     "output_type": "stream",
     "text": [
      "100%|██████████| 3000/3000 [01:31<00:00, 32.75it/s]"
     ]
    },
    {
     "name": "stdout",
     "output_type": "stream",
     "text": [
      "loss:  tensor(-45.1677, grad_fn=<AddBackward0>)\n"
     ]
    },
    {
     "name": "stderr",
     "output_type": "stream",
     "text": [
      "\n"
     ]
    }
   ],
   "source": [
    "train_single_function_approx(train_model, sample_path,scoring_func=utils.energy_score_loss,\n",
    "            optimizer=optimizer, num_epochs=3000,timecheat=timecheat, num_tries=20, loss_print_interval=20)"
   ]
  },
  {
   "cell_type": "code",
   "execution_count": null,
   "metadata": {},
   "outputs": [
    {
     "ename": "NameError",
     "evalue": "name 'adsfasdf' is not defined",
     "output_type": "error",
     "traceback": [
      "\u001b[0;31m---------------------------------------------------------------------------\u001b[0m",
      "\u001b[0;31mNameError\u001b[0m                                 Traceback (most recent call last)",
      "Cell \u001b[0;32mIn[93], line 1\u001b[0m\n\u001b[0;32m----> 1\u001b[0m \u001b[43madsfasdf\u001b[49m\n",
      "\u001b[0;31mNameError\u001b[0m: name 'adsfasdf' is not defined"
     ]
    }
   ],
   "source": [
    "adsfasdf"
   ]
  },
  {
   "cell_type": "code",
   "execution_count": null,
   "metadata": {},
   "outputs": [],
   "source": []
  },
  {
   "cell_type": "markdown",
   "metadata": {},
   "source": [
    "## Train via Evolution"
   ]
  },
  {
   "cell_type": "code",
   "execution_count": 24,
   "metadata": {},
   "outputs": [],
   "source": [
    "from evotorch.algorithms import PGPE, CMAES\n",
    "from evotorch.logging import PandasLogger\n",
    "from functools import partial\n"
   ]
  },
  {
   "cell_type": "code",
   "execution_count": 25,
   "metadata": {},
   "outputs": [],
   "source": [
    "# parameter dicts\n",
    "width= 64\n",
    "user_state_dict = {\"model_hyp\": {\"layer_width\": [width,width, width]}}\n",
    "intensity_state_dict = {\"model_hyp\": {\"layer_width\": [width, width,width],\n",
    "                                                         \"noise\": 0}\n",
    "                            }\n",
    "\n",
    "\n",
    "hyperparameter_dict = {\"state_size\": state_size, \"state_model\": user_state_dict, \n",
    "                           \"intensity_model\": intensity_state_dict,# \"num_recom\" : num_items_per_recom,\n",
    "                            \"noise\": 0.}\n",
    "train_model = Toy_intensity_Generator(hyperparameter_dict)"
   ]
  },
  {
   "cell_type": "code",
   "execution_count": null,
   "metadata": {},
   "outputs": [],
   "source": [
    "path_train = join(paths.dat, SETTINGS.filepaths_new[\"copy_intensity_model\"]\n",
    "            )\n",
    "#torch.save(gen_model.state_dict(), path_train)\n",
    "#train_model.load_state_dict(torch.load(path_train))"
   ]
  },
  {
   "cell_type": "code",
   "execution_count": null,
   "metadata": {},
   "outputs": [],
   "source": [
    "\n",
    "def eval_single(model, path, scoring_func, num_tries=20):\n",
    "    \n",
    "    last_t = 0\n",
    "    state = torch.zeros((1, state_size))\n",
    "    loss = 0.\n",
    "    #results = []\n",
    "    with torch.no_grad():\n",
    "        for timestep in path:\n",
    "            current_pred = []\n",
    "            for _ in range(num_tries):\n",
    "                out = model.sample_one(state)\n",
    "                current_pred.append(last_t + out)\n",
    "            current_pred = torch.stack(current_pred)\n",
    "            #results.append(torch.mean(current_pred))\n",
    "            loss += scoring_func(current_pred, timestep)\n",
    "            delta = timestep-last_t\n",
    "            last_t = timestep\n",
    "            state = model.evolve_state(state, delta)\n",
    "    \n",
    "    return loss\n",
    "\n",
    "\n",
    "eval_single_partial = partial(eval_single, path=sample_path, scoring_func=utils.energy_score_loss,\n",
    "                              num_tries=30)"
   ]
  },
  {
   "cell_type": "code",
   "execution_count": null,
   "metadata": {},
   "outputs": [
    {
     "data": {
      "text/plain": [
       "tensor(264.2917)"
      ]
     },
     "execution_count": 192,
     "metadata": {},
     "output_type": "execute_result"
    }
   ],
   "source": [
    "eval_single_partial(train_model)"
   ]
  },
  {
   "cell_type": "code",
   "execution_count": null,
   "metadata": {},
   "outputs": [],
   "source": [
    "device = torch.device(\"cuda\" if torch.cuda.is_available() else \"cpu\")\n",
    "\n",
    "Single_path_problem = evotorch.neuroevolution.NEProblem(\n",
    "    objective_sense=\"min\",\n",
    "    network= train_model,\n",
    "    #network=Toy_intensity_Generator,\n",
    "    #network_args = {\"hyperparameter_dict\": hyperparameter_dict},\n",
    "    network_eval_func=eval_single_partial,\n",
    "    device=device,\n",
    "    num_actors = 20,\n",
    ")"
   ]
  },
  {
   "cell_type": "code",
   "execution_count": null,
   "metadata": {},
   "outputs": [],
   "source": [
    "\n",
    "\n",
    "searcher = PGPE(\n",
    "    Single_path_problem,\n",
    "    popsize=40,\n",
    "    radius_init=5.,\n",
    "    center_learning_rate=0.2,\n",
    "    stdev_learning_rate=0.05,\n",
    ")\n",
    "'''\n",
    "searcher = CMAES(\n",
    "    Single_path_problem,\n",
    "    popsize=20,  \n",
    "    stdev_init= 2.\n",
    ")'''\n",
    "\n",
    "logger = PandasLogger(searcher)\n",
    "\n"
   ]
  },
  {
   "cell_type": "code",
   "execution_count": null,
   "metadata": {},
   "outputs": [
    {
     "name": "stderr",
     "output_type": "stream",
     "text": [
      "Running PGPE: 100%|██████████| 20/20 [05:07<00:00, 15.38s/it]\n"
     ]
    }
   ],
   "source": [
    "num_iterations = 20\n",
    "for _ in tqdm(range(num_iterations), desc=\"Running PGPE\"):\n",
    "    searcher.step()"
   ]
  },
  {
   "cell_type": "markdown",
   "metadata": {},
   "source": [
    "1 epoch = 50(population) * 20(samples for expectation) * 1(number of paths) * 10'000(integration/for loop steps, worst case) * (2+1) (neural network calls) *10(number of events)= 300m NN calls per epoch\n",
    "\n",
    "for much worse approximation and still way too much compute:<br>\n",
    "1 epoch = 20(population) * 20(samples for expectation) * 1(number of paths) * 100(integration/for loop steps, worst case) * (2+1) (neural network calls) *10(number of events)= 1.2m NN calls per epoch\n"
   ]
  },
  {
   "cell_type": "markdown",
   "metadata": {},
   "source": [
    "lstm/rnn  feed last hidden state + actual state to predict probability increase,  stop at  threshhold chosen by uniform \n",
    "\n",
    "\n",
    "neural network(time? + state)  -> time + state\n",
    "\n",
    "noise for time but not state\n",
    "\n",
    "normalizing flows?"
   ]
  },
  {
   "cell_type": "code",
   "execution_count": null,
   "metadata": {},
   "outputs": [
    {
     "data": {
      "text/plain": [
       "<Axes: xlabel='iter'>"
      ]
     },
     "execution_count": 221,
     "metadata": {},
     "output_type": "execute_result"
    },
    {
     "data": {
      "image/png": "[encoded data removed]",
      "text/plain": [
       "<Figure size 640x480 with 1 Axes>"
      ]
     },
     "metadata": {},
     "output_type": "display_data"
    }
   ],
   "source": [
    "logger.to_dataframe().mean_eval.plot()# test datapoint CMA ES"
   ]
  },
  {
   "cell_type": "code",
   "execution_count": null,
   "metadata": {},
   "outputs": [],
   "source": [
    "asdcas"
   ]
  },
  {
   "cell_type": "code",
   "execution_count": null,
   "metadata": {},
   "outputs": [],
   "source": [
    "trained_network = Single_path_problem.parameterize_net(searcher.status[\"center\"])\n"
   ]
  },
  {
   "cell_type": "code",
   "execution_count": 27,
   "metadata": {},
   "outputs": [],
   "source": [
    "path_train = join(paths.dat, SETTINGS.filepaths_new[\"copy_intensity_model\"]\n",
    "            )\n",
    "#torch.save(trained_network.state_dict(), path_train)\n",
    "train_model.load_state_dict(torch.load(path_train))\n",
    "trained_network = train_model"
   ]
  },
  {
   "cell_type": "markdown",
   "metadata": {},
   "source": [
    "# Visualize"
   ]
  },
  {
   "cell_type": "code",
   "execution_count": null,
   "metadata": {},
   "outputs": [],
   "source": [
    "trained_network = train_model"
   ]
  },
  {
   "cell_type": "code",
   "execution_count": 28,
   "metadata": {},
   "outputs": [],
   "source": [
    "\n",
    "def simulate_single_forced(model, path, num_tries=20):\n",
    "    \n",
    "    last_t = 0\n",
    "    state = torch.zeros((1, state_size))\n",
    "    results = []\n",
    "    with torch.no_grad():\n",
    "        for timestep in path:\n",
    "            current_pred = []\n",
    "            for _ in range(num_tries):\n",
    "                out = model.sample_one(state)\n",
    "                current_pred.append(last_t + out)\n",
    "            current_pred = torch.stack(current_pred)\n",
    "            results.append(torch.mean(current_pred))\n",
    "            print(f\"var(forced): {torch.var(current_pred)}\")\n",
    "            #loss += scoring_func(current_pred, timestep)\n",
    "            delta = timestep-last_t\n",
    "            last_t = timestep\n",
    "            state = model.evolve_state(state, delta)\n",
    "    \n",
    "    return results\n",
    "\n",
    "def simulate_single_forced_function_approx(model, path, \n",
    "                                           timecheat=False, num_tries=20):\n",
    "    \n",
    "    last_t = 0\n",
    "    state = torch.zeros((1, state_size))\n",
    "    results = []\n",
    "    with torch.no_grad():\n",
    "        for timestep in path:\n",
    "            current_pred = []\n",
    "            for _ in range(num_tries):\n",
    "                if timecheat:\n",
    "                    next_time=model.get_time(state, timestep)\n",
    "                else:\n",
    "                    next_time=model.get_time(state)\n",
    "                #print(f\"next_time: {next_time}, next_state: {next_state}\")\n",
    "                current_pred.append(last_t + next_time[0])\n",
    "            current_pred = torch.stack(current_pred)\n",
    "            results.append(torch.mean(current_pred))\n",
    "            last_t = timestep\n",
    "            state = model.get_new_state(state, torch.tensor([[timestep]]))\n",
    "    \n",
    "    return results\n",
    "\n",
    "def simulate_single_function_approx(model, path, timecheat=False, num_tries=20):\n",
    "    \n",
    "    last_t = 0\n",
    "    state = torch.zeros((1, state_size))\n",
    "    results = []\n",
    "    with torch.no_grad():\n",
    "        for timestep in path:\n",
    "            current_pred = []\n",
    "            for _ in range(num_tries):\n",
    "                if timecheat:\n",
    "                    next_time=model.get_time(state, timestep)\n",
    "                else:\n",
    "                    next_time=model.get_time(state)\n",
    "                \n",
    "                current_pred.append(last_t + next_time[0])\n",
    "            current_pred = torch.stack(current_pred)\n",
    "            selected = torch.mean(current_pred)\n",
    "            results.append(selected)\n",
    "            last_t = selected\n",
    "            state = model.get_new_state(state, torch.tensor([[selected]]))\n",
    "    \n",
    "    return results\n",
    "\n",
    "def simulate_single(model, num_events, num_tries=20):\n",
    "    \n",
    "    last_t = 0\n",
    "    state = torch.zeros((1, state_size))\n",
    "    results = []\n",
    "    with torch.no_grad():\n",
    "        for i in range(num_events):\n",
    "            current_pred = []\n",
    "            for _ in range(num_tries):\n",
    "                out = model.sample_one(state)\n",
    "                current_pred.append(last_t + out)\n",
    "            current_pred = torch.stack(current_pred)\n",
    "            print(f\"var: {torch.var(current_pred)}\")\n",
    "            selected = torch.mean(current_pred)\n",
    "            results.append(selected)\n",
    "            delta = selected-last_t\n",
    "            last_t = selected\n",
    "            state = model.evolve_state(state, delta)\n",
    "    \n",
    "    return results\n"
   ]
  },
  {
   "cell_type": "code",
   "execution_count": 29,
   "metadata": {},
   "outputs": [],
   "source": [
    "# simpler nn\n",
    "simulate_single_partial_forced_function_approx = partial(\n",
    "    simulate_single_forced_function_approx, path=sample_path,\n",
    "                              num_tries=30, timecheat=timecheat)\n",
    "simulate_single_partial_function_approx =partial(\n",
    "    simulate_single_function_approx, path=sample_path,\n",
    "                              num_tries=30, timecheat=timecheat)"
   ]
  },
  {
   "cell_type": "code",
   "execution_count": 30,
   "metadata": {},
   "outputs": [],
   "source": [
    "# integrals\n",
    "simulate_single_partial_forced = partial(simulate_single_forced, path=sample_path, \n",
    "                              num_tries=2)\n",
    "\n",
    "simulate_single_partial = partial(simulate_single, num_events=12,\n",
    "                              num_tries=2)\n"
   ]
  },
  {
   "cell_type": "code",
   "execution_count": 31,
   "metadata": {},
   "outputs": [
    {
     "name": "stdout",
     "output_type": "stream",
     "text": [
      "var(forced): 12.004998207092285\n",
      "var(forced): 0.40500009059906006\n",
      "var(forced): 1.4449996948242188\n",
      "var(forced): 23.1200008392334\n",
      "var(forced): 5.445003986358643\n",
      "var(forced): 0.17999908328056335\n",
      "var(forced): 0.0200001522898674\n",
      "var: 1.9999998807907104\n",
      "var: 8.820001602172852\n",
      "var: 14.044998168945312\n",
      "var: 1.6200003623962402\n",
      "var: 0.0200001522898674\n",
      "var: 21.12501335144043\n",
      "var: 3.6449968814849854\n",
      "var: 57.24498748779297\n",
      "var: 144.50003051757812\n",
      "var: 0.9799968004226685\n",
      "var: 1.2799975872039795\n",
      "var: 2.0\n"
     ]
    }
   ],
   "source": [
    "example_out_forced = simulate_single_partial_forced(trained_network)\n",
    "example_out = simulate_single_partial(trained_network)"
   ]
  },
  {
   "cell_type": "code",
   "execution_count": null,
   "metadata": {},
   "outputs": [
    {
     "ename": "AttributeError",
     "evalue": "'Toy_intensity_Generator' object has no attribute 'get_time'",
     "output_type": "error",
     "traceback": [
      "\u001b[0;31m---------------------------------------------------------------------------\u001b[0m",
      "\u001b[0;31mAttributeError\u001b[0m                            Traceback (most recent call last)",
      "Cell \u001b[0;32mIn[233], line 2\u001b[0m\n\u001b[1;32m      1\u001b[0m \u001b[38;5;66;03m#mlp\u001b[39;00m\n\u001b[0;32m----> 2\u001b[0m example_out_forced \u001b[38;5;241m=\u001b[39m \u001b[43msimulate_single_partial_forced_function_approx\u001b[49m\u001b[43m(\u001b[49m\u001b[43mtrained_network\u001b[49m\u001b[43m)\u001b[49m\n\u001b[1;32m      3\u001b[0m example_out \u001b[38;5;241m=\u001b[39m simulate_single_partial_function_approx(trained_network)\n",
      "Cell \u001b[0;32mIn[211], line 34\u001b[0m, in \u001b[0;36msimulate_single_forced_function_approx\u001b[0;34m(model, path, timecheat, num_tries)\u001b[0m\n\u001b[1;32m     32\u001b[0m     next_time\u001b[38;5;241m=\u001b[39mmodel\u001b[38;5;241m.\u001b[39mget_time(state, timestep)\n\u001b[1;32m     33\u001b[0m \u001b[38;5;28;01melse\u001b[39;00m:\n\u001b[0;32m---> 34\u001b[0m     next_time\u001b[38;5;241m=\u001b[39m\u001b[43mmodel\u001b[49m\u001b[38;5;241;43m.\u001b[39;49m\u001b[43mget_time\u001b[49m(state)\n\u001b[1;32m     35\u001b[0m \u001b[38;5;66;03m#print(f\"next_time: {next_time}, next_state: {next_state}\")\u001b[39;00m\n\u001b[1;32m     36\u001b[0m current_pred\u001b[38;5;241m.\u001b[39mappend(last_t \u001b[38;5;241m+\u001b[39m next_time[\u001b[38;5;241m0\u001b[39m])\n",
      "File \u001b[0;32m~/anaconda3/envs/WW2/lib/python3.9/site-packages/torch/nn/modules/module.py:1709\u001b[0m, in \u001b[0;36mModule.__getattr__\u001b[0;34m(self, name)\u001b[0m\n\u001b[1;32m   1707\u001b[0m     \u001b[38;5;28;01mif\u001b[39;00m name \u001b[38;5;129;01min\u001b[39;00m modules:\n\u001b[1;32m   1708\u001b[0m         \u001b[38;5;28;01mreturn\u001b[39;00m modules[name]\n\u001b[0;32m-> 1709\u001b[0m \u001b[38;5;28;01mraise\u001b[39;00m \u001b[38;5;167;01mAttributeError\u001b[39;00m(\u001b[38;5;124mf\u001b[39m\u001b[38;5;124m\"\u001b[39m\u001b[38;5;124m'\u001b[39m\u001b[38;5;132;01m{\u001b[39;00m\u001b[38;5;28mtype\u001b[39m(\u001b[38;5;28mself\u001b[39m)\u001b[38;5;241m.\u001b[39m\u001b[38;5;18m__name__\u001b[39m\u001b[38;5;132;01m}\u001b[39;00m\u001b[38;5;124m'\u001b[39m\u001b[38;5;124m object has no attribute \u001b[39m\u001b[38;5;124m'\u001b[39m\u001b[38;5;132;01m{\u001b[39;00mname\u001b[38;5;132;01m}\u001b[39;00m\u001b[38;5;124m'\u001b[39m\u001b[38;5;124m\"\u001b[39m)\n",
      "\u001b[0;31mAttributeError\u001b[0m: 'Toy_intensity_Generator' object has no attribute 'get_time'"
     ]
    }
   ],
   "source": [
    "#mlp\n",
    "example_out_forced = simulate_single_partial_forced_function_approx(trained_network)\n",
    "example_out = simulate_single_partial_function_approx(trained_network)"
   ]
  },
  {
   "cell_type": "code",
   "execution_count": 32,
   "metadata": {},
   "outputs": [
    {
     "data": {
      "image/png": "[encoded data removed]",
      "text/plain": [
       "<Figure size 800x500 with 1 Axes>"
      ]
     },
     "metadata": {},
     "output_type": "display_data"
    }
   ],
   "source": [
    "\n",
    "import matplotlib.pyplot as plt\n",
    "\n",
    "# Example data: replace these with your actual time series data\n",
    "time_series_1 = sample_path # Timestamps for the first time series\n",
    "time_series_2 = torch.clamp(torch.as_tensor(example_out_forced),0,70).detach().numpy()  # Timestamps for the second time series\n",
    "time_series_3 = torch.clamp(torch.as_tensor(example_out), 0, 70).detach().numpy()  # Timestamps for the second time series\n",
    "\n",
    "\n",
    "# Create a figure and axis\n",
    "fig, ax = plt.subplots(figsize=(8, 5))\n",
    "\n",
    "# Plot the first time series\n",
    "ax.scatter(time_series_1, [1] * len(time_series_1), color='blue', label='Ground Truth', s=10, marker='o')\n",
    "\n",
    "# Plot the second time series\n",
    "ax.scatter(time_series_2, [2] * len(time_series_2), color='red', label='Simmulation Forced', s=10, marker='x')\n",
    "\n",
    "ax.scatter(time_series_3, [3] * len(time_series_3), color='green', label='Simmulation Free', s=10, marker='x')\n",
    "\n",
    "\n",
    "# Add labels, legend, and grid\n",
    "ax.set_xlabel('Time')\n",
    "ax.set_yticks([1, 2, 3])\n",
    "ax.set_yticklabels(['Ground Truth', 'Simmulation Forced', \"Simmulation Forced\"])\n",
    "ax.set_title('Comparison of Two Time Series')\n",
    "ax.legend(loc='center left', bbox_to_anchor=(1, 0.5), frameon=False)\n",
    "\n",
    "# Adjust subplot parameters to make room for the legend\n",
    "plt.subplots_adjust(right=0.75)\n",
    "ax.grid(True)\n",
    "\n",
    "# Display the plot\n",
    "plt.show()\n"
   ]
  },
  {
   "cell_type": "code",
   "execution_count": null,
   "metadata": {},
   "outputs": [],
   "source": [
    "asdfasf"
   ]
  },
  {
   "cell_type": "code",
   "execution_count": null,
   "metadata": {},
   "outputs": [
    {
     "data": {
      "image/png": "[encoded data removed]",
      "text/plain": [
       "<Figure size 800x500 with 1 Axes>"
      ]
     },
     "metadata": {},
     "output_type": "display_data"
    }
   ],
   "source": [
    "# 3 layers\n",
    "import matplotlib.pyplot as plt\n",
    "\n",
    "# Example data: replace these with your actual time series data\n",
    "time_series_1 = sample_path # Timestamps for the first time series\n",
    "time_series_2 = torch.clamp(torch.as_tensor(example_out_forced),0,70).detach().numpy()  # Timestamps for the second time series\n",
    "time_series_3 = torch.clamp(torch.as_tensor(example_out), 0, 70).detach().numpy()  # Timestamps for the second time series\n",
    "\n",
    "\n",
    "# Create a figure and axis\n",
    "fig, ax = plt.subplots(figsize=(8, 5))\n",
    "\n",
    "# Plot the first time series\n",
    "ax.scatter(time_series_1, [1] * len(time_series_1), color='blue', label='Ground Truth', s=10, marker='o')\n",
    "\n",
    "# Plot the second time series\n",
    "ax.scatter(time_series_2, [2] * len(time_series_2), color='red', label='Simmulation Forced', s=10, marker='x')\n",
    "\n",
    "ax.scatter(time_series_3, [3] * len(time_series_3), color='green', label='Simmulation Free', s=10, marker='x')\n",
    "\n",
    "\n",
    "# Add labels, legend, and grid\n",
    "ax.set_xlabel('Time')\n",
    "ax.set_yticks([1, 2, 3])\n",
    "ax.set_yticklabels(['Ground Truth', 'Simmulation Forced', \"Simmulation Forced\"])\n",
    "ax.set_title('Comparison of Two Time Series')\n",
    "ax.legend(loc='center left', bbox_to_anchor=(1, 0.5), frameon=False)\n",
    "\n",
    "# Adjust subplot parameters to make room for the legend\n",
    "plt.subplots_adjust(right=0.75)\n",
    "ax.grid(True)\n",
    "\n",
    "# Display the plot\n",
    "plt.show()\n"
   ]
  },
  {
   "cell_type": "code",
   "execution_count": null,
   "metadata": {},
   "outputs": [],
   "source": [
    "SCA"
   ]
  },
  {
   "cell_type": "code",
   "execution_count": null,
   "metadata": {},
   "outputs": [
    {
     "data": {
      "image/png": "[encoded data removed]",
      "text/plain": [
       "<Figure size 800x500 with 1 Axes>"
      ]
     },
     "metadata": {},
     "output_type": "display_data"
    }
   ],
   "source": [
    "\n",
    "import matplotlib.pyplot as plt\n",
    "\n",
    "# Example data: replace these with your actual time series data\n",
    "time_series_1 = sample_path # Timestamps for the first time series\n",
    "time_series_2 = torch.clamp(torch.as_tensor(example_out_forced),0,70).detach().numpy()  # Timestamps for the second time series\n",
    "time_series_3 = torch.clamp(torch.as_tensor(example_out), 0, 70).detach().numpy()  # Timestamps for the second time series\n",
    "\n",
    "\n",
    "# Create a figure and axis\n",
    "fig, ax = plt.subplots(figsize=(8, 5))\n",
    "\n",
    "# Plot the first time series\n",
    "ax.scatter(time_series_1, [1] * len(time_series_1), color='blue', label='Ground Truth', s=10, marker='o')\n",
    "\n",
    "# Plot the second time series\n",
    "ax.scatter(time_series_2, [2] * len(time_series_2), color='red', label='Simmulation Forced', s=10, marker='x')\n",
    "\n",
    "ax.scatter(time_series_3, [3] * len(time_series_3), color='green', label='Simmulation Free', s=10, marker='x')\n",
    "\n",
    "\n",
    "# Add labels, legend, and grid\n",
    "ax.set_xlabel('Time')\n",
    "ax.set_yticks([1, 2, 3])\n",
    "ax.set_yticklabels(['Ground Truth', 'Simmulation Forced', \"Simmulation Forced\"])\n",
    "ax.set_title('Comparison of Two Time Series')\n",
    "ax.legend(loc='center left', bbox_to_anchor=(1, 0.5), frameon=False)\n",
    "\n",
    "# Adjust subplot parameters to make room for the legend\n",
    "plt.subplots_adjust(right=0.75)\n",
    "ax.grid(True)\n",
    "\n",
    "# Display the plot\n",
    "plt.show()\n"
   ]
  },
  {
   "cell_type": "code",
   "execution_count": null,
   "metadata": {},
   "outputs": [
    {
     "ename": "NameError",
     "evalue": "name 'scsdc' is not defined",
     "output_type": "error",
     "traceback": [
      "\u001b[0;31m---------------------------------------------------------------------------\u001b[0m",
      "\u001b[0;31mNameError\u001b[0m                                 Traceback (most recent call last)",
      "Cell \u001b[0;32mIn[32], line 1\u001b[0m\n\u001b[0;32m----> 1\u001b[0m \u001b[43mscsdc\u001b[49m\n",
      "\u001b[0;31mNameError\u001b[0m: name 'scsdc' is not defined"
     ]
    }
   ],
   "source": [
    "scsdc"
   ]
  },
  {
   "cell_type": "code",
   "execution_count": 33,
   "metadata": {},
   "outputs": [],
   "source": [
    "state = torch.zeros((1, state_size))\n",
    "samples = [train_model.sample_one(state).detach().numpy() for _ in range(100)]\n",
    "samples = np.array(samples)"
   ]
  },
  {
   "cell_type": "code",
   "execution_count": 35,
   "metadata": {},
   "outputs": [
    {
     "name": "stderr",
     "output_type": "stream",
     "text": [
      "/tmp/ipykernel_28416/2138906594.py:12: FutureWarning: \n",
      "\n",
      "`shade` is now deprecated in favor of `fill`; setting `fill=True`.\n",
      "This will become an error in seaborn v0.14.0; please update your code.\n",
      "\n",
      "  sns.kdeplot(samples, shade=True, color='g', bw_adjust=0.1)\n"
     ]
    },
    {
     "data": {
      "image/png": "[encoded data removed]",
      "text/plain": [
       "<Figure size 1200x600 with 2 Axes>"
      ]
     },
     "metadata": {},
     "output_type": "display_data"
    }
   ],
   "source": [
    "plt.figure(figsize=(12, 6))\n",
    "\n",
    "# Histogram\n",
    "plt.subplot(1, 2, 1)\n",
    "plt.hist(samples, bins=50, density=True, alpha=0.6, color='g', edgecolor='black')\n",
    "plt.title('Histogram of Samples')\n",
    "plt.xlabel('Value')\n",
    "plt.ylabel('Frequency')\n",
    "\n",
    "# Density Plot\n",
    "plt.subplot(1, 2, 2)\n",
    "sns.kdeplot(samples, shade=True, color='g', bw_adjust=0.1)\n",
    "plt.title('Density Plot of Samples')\n",
    "plt.xlabel('Value')\n",
    "plt.ylabel('Density')\n",
    "\n",
    "plt.tight_layout()\n",
    "plt.show()\n"
   ]
  },
  {
   "cell_type": "markdown",
   "metadata": {},
   "source": [
    "# Multiple paths\n",
    "\n",
    "## Gradient descent"
   ]
  },
  {
   "cell_type": "code",
   "execution_count": null,
   "metadata": {},
   "outputs": [
    {
     "name": "stdout",
     "output_type": "stream",
     "text": [
      "u: tensor([0.8357]) \t h: tensor([[0.2700]])\n",
      "u: tensor([0.8101]) \t h: tensor([[0.3100]])\n",
      "u: tensor([0.2139]) \t h: tensor([[2.2300]])\n",
      "u: tensor([0.1892]) \t h: tensor([[2.2800]])\n",
      "u: tensor([0.1829]) \t h: tensor([[2.1500]])\n",
      "u: tensor([0.4126]) \t h: tensor([[1.0600]])\n",
      "u: tensor([0.3895]) \t h: tensor([[1.0800]])\n",
      "u: tensor([0.4360]) \t h: tensor([[1.2200]])\n",
      "u: tensor([0.1618]) \t h: tensor([[2.5900]])\n",
      "u: tensor([0.8804]) \t h: tensor([[0.1800]])\n",
      "u: tensor([0.6596]) \t h: tensor([[0.5700]])\n",
      "u: tensor([0.6600]) \t h: tensor([[0.5600]])\n",
      "u: tensor([0.5202]) \t h: tensor([[0.8500]])\n",
      "u: tensor([0.7351]) \t h: tensor([[0.3900]])\n",
      "u: tensor([0.6919]) \t h: tensor([[0.4600]])\n",
      "u: tensor([0.3750]) \t h: tensor([[1.4300]])\n",
      "u: tensor([0.3858]) \t h: tensor([[1.3700]])\n",
      "u: tensor([0.7856]) \t h: tensor([[0.3400]])\n",
      "u: tensor([0.2851]) \t h: tensor([[1.7200]])\n",
      "u: tensor([0.9356]) \t h: tensor([[0.0900]])\n",
      "u: tensor([0.3759]) \t h: tensor([[1.2700]])\n",
      "u: tensor([0.5827]) \t h: tensor([[0.6800]])\n",
      "u: tensor([0.5802]) \t h: tensor([[0.6700]])\n",
      "u: tensor([0.7214]) \t h: tensor([[0.3900]])\n",
      "u: tensor([0.6000]) \t h: tensor([[0.7500]])\n",
      "u: tensor([0.8226]) \t h: tensor([[0.2900]])\n",
      "u: tensor([0.4952]) \t h: tensor([[1.0200]])\n",
      "u: tensor([0.6124]) \t h: tensor([[0.7000]])\n",
      "u: tensor([0.1898]) \t h: tensor([[2.2800]])\n",
      "u: tensor([0.6916]) \t h: tensor([[0.4900]])\n",
      "u: tensor([0.0109]) \t h: tensor([[5.2900]])\n",
      "u: tensor([0.5094]) \t h: tensor([[0.7100]])\n",
      "u: tensor([0.4484]) \t h: tensor([[0.8200]])\n",
      "u: tensor([0.8850]) \t h: tensor([[0.1300]])\n",
      "u: tensor([0.1225]) \t h: tensor([[3.0300]])\n",
      "u: tensor([0.7732]) \t h: tensor([[0.3600]])\n",
      "u: tensor([0.4328]) \t h: tensor([[1.1500]])\n",
      "u: tensor([0.5513]) \t h: tensor([[0.7900]])\n",
      "u: tensor([0.1730]) \t h: tensor([[2.2000]])\n",
      "u: tensor([0.4079]) \t h: tensor([[1.0600]])\n",
      "u: tensor([0.1677]) \t h: tensor([[1.9900]])\n",
      "u: tensor([0.8150]) \t h: tensor([[0.2200]])\n",
      "u: tensor([0.7000]) \t h: tensor([[0.3800]])\n",
      "u: tensor([0.0322]) \t h: tensor([[3.4100]])\n",
      "u: tensor([0.6562]) \t h: tensor([[0.4000]])\n",
      "u: tensor([0.7979]) \t h: tensor([[0.3300]])\n",
      "u: tensor([0.8599]) \t h: tensor([[0.2300]])\n",
      "u: tensor([0.6650]) \t h: tensor([[0.6000]])\n",
      "u: tensor([0.0560]) \t h: tensor([[4.0200]])\n",
      "u: tensor([0.2241]) \t h: tensor([[1.9000]])\n",
      "u: tensor([0.9461]) \t h: tensor([[0.0700]])\n",
      "u: tensor([0.2436]) \t h: tensor([[1.6700]])\n",
      "u: tensor([0.5342]) \t h: tensor([[0.7100]])\n",
      "u: tensor([0.5697]) \t h: tensor([[0.6200]])\n",
      "u: tensor([0.1286]) \t h: tensor([[2.1500]])\n",
      "u: tensor([0.3097]) \t h: tensor([[1.1700]])\n",
      "u: tensor([0.1562]) \t h: tensor([[1.7600]])\n",
      "u: tensor([0.9059]) \t h: tensor([[0.1500]])\n",
      "u: tensor([0.2637]) \t h: tensor([[1.9400]])\n",
      "u: tensor([0.6726]) \t h: tensor([[0.5700]])\n",
      "u: tensor([0.6873]) \t h: tensor([[0.5300]])\n",
      "u: tensor([0.4540]) \t h: tensor([[1.0900]])\n",
      "u: tensor([0.4791]) \t h: tensor([[0.9800]])\n",
      "u: tensor([0.3950]) \t h: tensor([[1.1900]])\n",
      "u: tensor([0.8269]) \t h: tensor([[0.2400]])\n",
      "u: tensor([0.8991]) \t h: tensor([[0.1400]])\n",
      "u: tensor([0.8229]) \t h: tensor([[0.2400]])\n",
      "u: tensor([0.4820]) \t h: tensor([[0.8800]])\n",
      "u: tensor([0.6748]) \t h: tensor([[0.4700]])\n",
      "u: tensor([0.9656]) \t h: tensor([[0.0500]])\n",
      "u: tensor([0.3066]) \t h: tensor([[1.7300]])\n",
      "u: tensor([0.4569]) \t h: tensor([[1.1200]])\n",
      "u: tensor([0.4532]) \t h: tensor([[1.1000]])\n",
      "u: tensor([0.2961]) \t h: tensor([[1.6300]])\n",
      "u: tensor([0.4659]) \t h: tensor([[0.9800]])\n",
      "u: tensor([0.3503]) \t h: tensor([[1.2800]])\n",
      "u: tensor([0.7737]) \t h: tensor([[0.3100]])\n",
      "u: tensor([0.5549]) \t h: tensor([[0.6900]])\n",
      "u: tensor([0.0676]) \t h: tensor([[2.9200]])\n",
      "u: tensor([0.9718]) \t h: tensor([[0.0300]])\n",
      "u: tensor([0.8567]) \t h: tensor([[0.1600]])\n",
      "u: tensor([0.6536]) \t h: tensor([[0.4400]])\n",
      "u: tensor([0.0975]) \t h: tensor([[2.2600]])\n",
      "u: tensor([0.2170]) \t h: tensor([[1.4000]])\n",
      "u: tensor([0.6051]) \t h: tensor([[0.7400]])\n",
      "u: tensor([0.2404]) \t h: tensor([[2.0600]])\n",
      "u: tensor([0.5526]) \t h: tensor([[0.8300]])\n",
      "u: tensor([0.9130]) \t h: tensor([[0.1300]])\n",
      "u: tensor([0.7545]) \t h: tensor([[0.3900]])\n",
      "u: tensor([0.0275]) \t h: tensor([[4.5000]])\n",
      "u: tensor([0.2804]) \t h: tensor([[1.4300]])\n",
      "u: tensor([0.6742]) \t h: tensor([[0.4300]])\n",
      "u: tensor([0.5207]) \t h: tensor([[0.7000]])\n",
      "u: tensor([0.0046]) \t h: tensor([[5.1800]])\n",
      "u: tensor([0.2753]) \t h: tensor([[1.1300]])\n",
      "u: tensor([0.8937]) \t h: tensor([[0.1000]])\n",
      "u: tensor([0.2230]) \t h: tensor([[1.2600]])\n",
      "u: tensor([0.1245]) \t h: tensor([[1.6600]])\n",
      "u: tensor([0.4331]) \t h: tensor([[0.6400]])\n",
      "u: tensor([0.5952]) \t h: tensor([[0.7600]])\n",
      "u: tensor([0.1982]) \t h: tensor([[2.3300]])\n",
      "u: tensor([0.8411]) \t h: tensor([[0.2500]])\n",
      "u: tensor([0.1961]) \t h: tensor([[2.2000]])\n",
      "u: tensor([0.4092]) \t h: tensor([[1.1400]])\n",
      "u: tensor([0.2402]) \t h: tensor([[1.7200]])\n",
      "u: tensor([0.1955]) \t h: tensor([[1.8400]])\n",
      "u: tensor([0.4664]) \t h: tensor([[0.8200]])\n",
      "u: tensor([0.5549]) \t h: tensor([[0.6200]])\n",
      "u: tensor([0.0187]) \t h: tensor([[3.8500]])\n",
      "u: tensor([0.4792]) \t h: tensor([[0.6700]])\n",
      "u: tensor([0.9423]) \t h: tensor([[0.0600]])\n",
      "u: tensor([0.3089]) \t h: tensor([[1.0300]])\n",
      "u: tensor([0.7186]) \t h: tensor([[0.2900]])\n",
      "u: tensor([0.7092]) \t h: tensor([[0.3000]])\n",
      "u: tensor([0.5079]) \t h: tensor([[0.5700]])\n",
      "u: tensor([0.4537]) \t h: tensor([[1.1600]])\n",
      "u: tensor([0.6204]) \t h: tensor([[0.7000]])\n",
      "u: tensor([0.5455]) \t h: tensor([[0.8700]])\n",
      "u: tensor([0.0728]) \t h: tensor([[3.5200]])\n",
      "u: tensor([0.6154]) \t h: tensor([[0.6100]])\n",
      "u: tensor([0.2017]) \t h: tensor([[1.9100]])\n",
      "u: tensor([0.2709]) \t h: tensor([[1.4600]])\n",
      "u: tensor([0.4729]) \t h: tensor([[1.1000]])\n",
      "u: tensor([0.3235]) \t h: tensor([[1.6300]])\n",
      "u: tensor([0.3933]) \t h: tensor([[1.3000]])\n",
      "u: tensor([0.7920]) \t h: tensor([[0.3200]])\n",
      "u: tensor([0.0755]) \t h: tensor([[3.2900]])\n",
      "u: tensor([0.9507]) \t h: tensor([[0.0700]])\n",
      "u: tensor([0.5419]) \t h: tensor([[0.7300]])\n",
      "u: tensor([0.3141]) \t h: tensor([[1.3200]])\n",
      "u: tensor([0.6755]) \t h: tensor([[0.5800]])\n",
      "u: tensor([0.7531]) \t h: tensor([[0.4200]])\n",
      "u: tensor([0.0633]) \t h: tensor([[3.8700]])\n",
      "u: tensor([0.3268]) \t h: tensor([[1.4500]])\n",
      "u: tensor([0.4808]) \t h: tensor([[0.9100]])\n",
      "u: tensor([0.9458]) \t h: tensor([[0.0700]])\n",
      "u: tensor([0.6715]) \t h: tensor([[0.4800]])\n",
      "u: tensor([0.9532]) \t h: tensor([[0.0600]])\n",
      "u: tensor([0.8648]) \t h: tensor([[0.1800]])\n",
      "u: tensor([0.0619]) \t h: tensor([[3.9800]])\n",
      "u: tensor([0.9820]) \t h: tensor([[0.0300]])\n",
      "u: tensor([0.4862]) \t h: tensor([[0.9700]])\n",
      "u: tensor([0.5394]) \t h: tensor([[0.8100]])\n",
      "u: tensor([0.4739]) \t h: tensor([[0.9500]])\n",
      "u: tensor([0.1391]) \t h: tensor([[2.3400]])\n",
      "u: tensor([0.5080]) \t h: tensor([[0.7600]])\n",
      "u: tensor([0.6987]) \t h: tensor([[0.4000]])\n",
      "u: tensor([0.5642]) \t h: tensor([[0.6200]])\n",
      "u: tensor([0.5788]) \t h: tensor([[0.5800]])\n",
      "u: tensor([0.0698]) \t h: tensor([[3.8100]])\n",
      "u: tensor([0.3604]) \t h: tensor([[1.3800]])\n",
      "u: tensor([0.6848]) \t h: tensor([[0.5000]])\n",
      "u: tensor([0.1462]) \t h: tensor([[2.3700]])\n",
      "u: tensor([0.9760]) \t h: tensor([[0.0300]])\n",
      "u: tensor([0.6016]) \t h: tensor([[0.6000]])\n",
      "u: tensor([0.0022]) \t h: tensor([[6.2900]])\n",
      "u: tensor([0.6075]) \t h: tensor([[0.4600]])\n",
      "u: tensor([0.3824]) \t h: tensor([[0.8700]])\n",
      "u: tensor([0.1010]) \t h: tensor([[1.9800]])\n",
      "u: tensor([0.6565]) \t h: tensor([[0.3500]])\n",
      "u: tensor([0.1409]) \t h: tensor([[2.8300]])\n",
      "u: tensor([0.4981]) \t h: tensor([[0.9700]])\n",
      "u: tensor([0.4197]) \t h: tensor([[1.1800]])\n",
      "u: tensor([0.4922]) \t h: tensor([[0.9300]])\n",
      "u: tensor([0.4154]) \t h: tensor([[1.1000]])\n",
      "u: tensor([0.1497]) \t h: tensor([[2.2300]])\n",
      "u: tensor([0.5172]) \t h: tensor([[0.7400]])\n",
      "u: tensor([0.9083]) \t h: tensor([[0.1100]])\n",
      "u: tensor([0.6857]) \t h: tensor([[0.4100]])\n",
      "u: tensor([0.5055]) \t h: tensor([[0.7300]])\n",
      "u: tensor([0.8754]) \t h: tensor([[0.1400]])\n",
      "u: tensor([0.8368]) \t h: tensor([[0.1900]])\n",
      "u: tensor([0.1078]) \t h: tensor([[3.2100]])\n",
      "u: tensor([0.9351]) \t h: tensor([[0.1000]])\n",
      "u: tensor([0.2139]) \t h: tensor([[2.0900]])\n",
      "u: tensor([0.0542]) \t h: tensor([[3.5500]])\n",
      "u: tensor([0.6308]) \t h: tensor([[0.5200]])\n",
      "u: tensor([0.8320]) \t h: tensor([[0.2100]])\n",
      "u: tensor([0.0387]) \t h: tensor([[3.3900]])\n",
      "u: tensor([0.2786]) \t h: tensor([[1.2400]])\n",
      "u: tensor([0.6939]) \t h: tensor([[0.3500]])\n",
      "u: tensor([0.5818]) \t h: tensor([[0.5100]])\n",
      "u: tensor([0.2713]) \t h: tensor([[1.1800]])\n",
      "u: tensor([0.8010]) \t h: tensor([[0.2000]])\n",
      "u: tensor([0.7382]) \t h: tensor([[0.2700]])\n",
      "u: tensor([0.5674]) \t h: tensor([[0.8300]])\n",
      "u: tensor([0.3486]) \t h: tensor([[1.5300]])\n",
      "u: tensor([0.3552]) \t h: tensor([[1.4500]])\n",
      "u: tensor([0.9393]) \t h: tensor([[0.0900]])\n",
      "u: tensor([0.0289]) \t h: tensor([[4.4900]])\n",
      "u: tensor([0.6138]) \t h: tensor([[0.5700]])\n",
      "u: tensor([0.8268]) \t h: tensor([[0.2200]])\n",
      "u: tensor([0.3956]) \t h: tensor([[1.0300]])\n",
      "u: tensor([0.9720]) \t h: tensor([[0.0400]])\n",
      "u: tensor([0.7741]) \t h: tensor([[0.2800]])\n",
      "u: tensor([0.4360]) \t h: tensor([[0.8800]])\n",
      "u: tensor([0.2607]) \t h: tensor([[1.3700]])\n",
      "u: tensor([0.0833]) \t h: tensor([[2.3800]])\n",
      "u: tensor([0.2006]) \t h: tensor([[1.4500]])\n",
      "u: tensor([0.6776]) \t h: tensor([[0.5700]])\n",
      "u: tensor([0.1861]) \t h: tensor([[2.4200]])\n",
      "u: tensor([0.6076]) \t h: tensor([[0.7000]])\n",
      "u: tensor([0.8497]) \t h: tensor([[0.2300]])\n",
      "u: tensor([0.0325]) \t h: tensor([[4.3400]])\n",
      "u: tensor([0.1961]) \t h: tensor([[1.8400]])\n",
      "u: tensor([0.6594]) \t h: tensor([[0.4600]])\n",
      "u: tensor([0.0990]) \t h: tensor([[2.3800]])\n",
      "u: tensor([0.7617]) \t h: tensor([[0.2700]])\n",
      "u: tensor([0.9268]) \t h: tensor([[0.0800]])\n",
      "u: tensor([0.7623]) \t h: tensor([[0.2700]])\n",
      "u: tensor([0.5619]) \t h: tensor([[0.5600]])\n",
      "u: tensor([0.3751]) \t h: tensor([[0.9200]])\n",
      "u: tensor([0.3767]) \t h: tensor([[0.8900]])\n",
      "u: tensor([0.5281]) \t h: tensor([[0.5700]])\n",
      "u: tensor([0.7367]) \t h: tensor([[0.4500]])\n",
      "u: tensor([0.3399]) \t h: tensor([[1.5700]])\n",
      "u: tensor([0.9637]) \t h: tensor([[0.0600]])\n",
      "u: tensor([0.2380]) \t h: tensor([[2.0100]])\n",
      "u: tensor([0.5390]) \t h: tensor([[0.8400]])\n",
      "u: tensor([0.4831]) \t h: tensor([[0.9500]])\n",
      "u: tensor([0.9345]) \t h: tensor([[0.0900]])\n",
      "u: tensor([0.8702]) \t h: tensor([[0.1800]])\n",
      "u: tensor([0.4827]) \t h: tensor([[0.9100]])\n",
      "u: tensor([0.5027]) \t h: tensor([[0.8300]])\n",
      "u: tensor([0.9592]) \t h: tensor([[0.0500]])\n",
      "u: tensor([0.1527]) \t h: tensor([[2.1400]])\n",
      "u: tensor([0.9429]) \t h: tensor([[0.0700]])\n",
      "u: tensor([0.4118]) \t h: tensor([[0.9500]])\n",
      "u: tensor([0.2086]) \t h: tensor([[1.6100]])\n",
      "u: tensor([0.5522]) \t h: tensor([[0.5900]])\n",
      "u: tensor([0.6247]) \t h: tensor([[0.6900]])\n",
      "u: tensor([0.1189]) \t h: tensor([[3.0400]])\n",
      "u: tensor([0.5244]) \t h: tensor([[0.8800]])\n",
      "u: tensor([0.0774]) \t h: tensor([[3.2300]])\n",
      "u: tensor([0.5420]) \t h: tensor([[0.7200]])\n",
      "u: tensor([0.8144]) \t h: tensor([[0.2400]])\n",
      "u: tensor([0.2781]) \t h: tensor([[1.4300]])\n",
      "u: tensor([0.1047]) \t h: tensor([[3.2500]])\n",
      "u: tensor([0.8085]) \t h: tensor([[0.3000]])\n",
      "u: tensor([0.6203]) \t h: tensor([[0.6600]])\n",
      "u: tensor([0.0124]) \t h: tensor([[5.3900]])\n",
      "u: tensor([0.2536]) \t h: tensor([[1.4900]])\n",
      "u: tensor([0.1858]) \t h: tensor([[1.7300]])\n",
      "u: tensor([0.1869]) \t h: tensor([[1.6300]])\n",
      "u: tensor([0.1889]) \t h: tensor([[1.5400]])\n",
      "u: tensor([0.4059]) \t h: tensor([[1.3200]])\n",
      "u: tensor([0.3066]) \t h: tensor([[1.6900]])\n",
      "u: tensor([0.2878]) \t h: tensor([[1.7100]])\n",
      "u: tensor([0.5015]) \t h: tensor([[0.9100]])\n",
      "u: tensor([0.1411]) \t h: tensor([[2.4200]])\n",
      "u: tensor([0.7838]) \t h: tensor([[0.2900]])\n",
      "u: tensor([0.4065]) \t h: tensor([[1.0300]])\n",
      "u: tensor([0.7147]) \t h: tensor([[0.3800]])\n",
      "u: tensor([0.7871]) \t h: tensor([[0.2700]])\n",
      "u: tensor([0.9330]) \t h: tensor([[0.1100]])\n",
      "u: tensor([0.6717]) \t h: tensor([[0.5900]])\n",
      "u: tensor([0.2161]) \t h: tensor([[2.2100]])\n",
      "u: tensor([0.1037]) \t h: tensor([[3.0500]])\n",
      "u: tensor([0.3562]) \t h: tensor([[1.2900]])\n",
      "u: tensor([0.2688]) \t h: tensor([[1.5500]])\n",
      "u: tensor([0.6987]) \t h: tensor([[0.4100]])\n",
      "u: tensor([0.2868]) \t h: tensor([[1.3800]])\n",
      "u: tensor([0.2428]) \t h: tensor([[1.4800]])\n",
      "u: tensor([0.5970]) \t h: tensor([[0.5300]])\n",
      "u: tensor([0.5264]) \t h: tensor([[0.9400]])\n",
      "u: tensor([0.5240]) \t h: tensor([[0.9400]])\n",
      "u: tensor([0.4649]) \t h: tensor([[1.0900]])\n",
      "u: tensor([0.9578]) \t h: tensor([[0.0700]])\n",
      "u: tensor([0.8588]) \t h: tensor([[0.2200]])\n",
      "u: tensor([0.6603]) \t h: tensor([[0.5800]])\n",
      "u: tensor([0.2593]) \t h: tensor([[1.8000]])\n",
      "u: tensor([0.5436]) \t h: tensor([[0.7800]])\n",
      "u: tensor([0.3206]) \t h: tensor([[1.3900]])\n",
      "u: tensor([0.0207]) \t h: tensor([[4.2600]])\n",
      "u: tensor([0.1765]) \t h: tensor([[1.7200]])\n",
      "u: tensor([0.7059]) \t h: tensor([[0.5100]])\n",
      "u: tensor([0.7154]) \t h: tensor([[0.4900]])\n",
      "u: tensor([0.0075]) \t h: tensor([[6.5601]])\n",
      "u: tensor([0.8541]) \t h: tensor([[0.1900]])\n",
      "u: tensor([0.4196]) \t h: tensor([[1.0200]])\n",
      "u: tensor([0.9841]) \t h: tensor([[0.0200]])\n",
      "u: tensor([0.6612]) \t h: tensor([[0.4700]])\n",
      "u: tensor([0.1969]) \t h: tensor([[1.7700]])\n",
      "u: tensor([0.1301]) \t h: tensor([[2.0800]])\n",
      "u: tensor([0.5732]) \t h: tensor([[0.5500]])\n",
      "u: tensor([0.2224]) \t h: tensor([[1.4200]])\n",
      "u: tensor([0.4923]) \t h: tensor([[0.6500]])\n",
      "u: tensor([0.2006]) \t h: tensor([[2.3300]])\n",
      "u: tensor([0.7264]) \t h: tensor([[0.4600]])\n",
      "u: tensor([0.5969]) \t h: tensor([[0.7300]])\n",
      "u: tensor([0.1152]) \t h: tensor([[2.8600]])\n",
      "u: tensor([0.5328]) \t h: tensor([[0.7800]])\n",
      "u: tensor([0.5068]) \t h: tensor([[0.8200]])\n",
      "u: tensor([0.7823]) \t h: tensor([[0.2900]])\n",
      "u: tensor([0.4469]) \t h: tensor([[0.9300]])\n",
      "u: tensor([0.2308]) \t h: tensor([[1.6100]])\n",
      "u: tensor([0.3319]) \t h: tensor([[1.1500]])\n",
      "u: tensor([0.7591]) \t h: tensor([[0.2900]])\n",
      "u: tensor([0.7549]) \t h: tensor([[0.2900]])\n",
      "u: tensor([0.6462]) \t h: tensor([[0.4400]])\n",
      "u: tensor([0.6440]) \t h: tensor([[0.6500]])\n",
      "u: tensor([0.6208]) \t h: tensor([[0.7000]])\n",
      "u: tensor([0.2439]) \t h: tensor([[2.0100]])\n",
      "u: tensor([0.5162]) \t h: tensor([[0.9100]])\n",
      "u: tensor([0.7120]) \t h: tensor([[0.4600]])\n",
      "u: tensor([0.1027]) \t h: tensor([[2.8800]])\n",
      "u: tensor([0.9809]) \t h: tensor([[0.0300]])\n",
      "u: tensor([0.5876]) \t h: tensor([[0.6300]])\n",
      "u: tensor([0.7949]) \t h: tensor([[0.2700]])\n",
      "u: tensor([0.1358]) \t h: tensor([[2.2200]])\n",
      "u: tensor([0.6137]) \t h: tensor([[0.5200]])\n",
      "u: tensor([0.9968]) \t h: tensor([[0.0100]])\n",
      "u: tensor([0.5789]) \t h: tensor([[0.5700]])\n",
      "u: tensor([0.7236]) \t h: tensor([[0.3300]])\n",
      "u: tensor([0.5694]) \t h: tensor([[0.8300]])\n",
      "u: tensor([0.9117]) \t h: tensor([[0.1400]])\n",
      "u: tensor([0.9333]) \t h: tensor([[0.1100]])\n",
      "u: tensor([0.3094]) \t h: tensor([[1.6900]])\n",
      "u: tensor([0.7198]) \t h: tensor([[0.4700]])\n",
      "u: tensor([0.4660]) \t h: tensor([[1.0500]])\n",
      "u: tensor([0.4857]) \t h: tensor([[0.9700]])\n",
      "u: tensor([0.0520]) \t h: tensor([[3.6200]])\n",
      "u: tensor([0.4696]) \t h: tensor([[0.8500]])\n",
      "u: tensor([0.9936]) \t h: tensor([[0.0100]])\n",
      "u: tensor([0.7344]) \t h: tensor([[0.3400]])\n",
      "u: tensor([0.7802]) \t h: tensor([[0.2700]])\n",
      "u: tensor([0.1721]) \t h: tensor([[1.8500]])\n",
      "u: tensor([0.6590]) \t h: tensor([[0.4200]])\n",
      "u: tensor([0.0463]) \t h: tensor([[2.9300]])\n",
      "u: tensor([0.6692]) \t h: tensor([[0.5900]])\n",
      "u: tensor([0.7735]) \t h: tensor([[0.3800]])\n",
      "u: tensor([0.6113]) \t h: tensor([[0.7200]])\n",
      "u: tensor([0.3057]) \t h: tensor([[1.6900]])\n",
      "u: tensor([0.6388]) \t h: tensor([[0.6200]])\n",
      "u: tensor([0.9938]) \t h: tensor([[0.0100]])\n",
      "u: tensor([0.0207]) \t h: tensor([[4.8500]])\n",
      "u: tensor([0.3694]) \t h: tensor([[1.1200]])\n",
      "u: tensor([0.6521]) \t h: tensor([[0.4700]])\n",
      "u: tensor([0.6960]) \t h: tensor([[0.3900]])\n",
      "u: tensor([0.3803]) \t h: tensor([[1.0100]])\n",
      "u: tensor([0.5320]) \t h: tensor([[0.6500]])\n",
      "u: tensor([0.7527]) \t h: tensor([[0.2900]])\n",
      "u: tensor([0.5699]) \t h: tensor([[0.5600]])\n",
      "u: tensor([0.5178]) \t h: tensor([[0.6400]])\n",
      "u: tensor([0.2420]) \t h: tensor([[1.3300]])\n",
      "u: tensor([0.4365]) \t h: tensor([[1.2100]])\n",
      "u: tensor([0.6342]) \t h: tensor([[0.6600]])\n",
      "u: tensor([0.8233]) \t h: tensor([[0.2800]])\n",
      "u: tensor([0.5478]) \t h: tensor([[0.8600]])\n",
      "u: tensor([0.4252]) \t h: tensor([[1.1900]])\n",
      "u: tensor([0.6174]) \t h: tensor([[0.6500]])\n",
      "u: tensor([0.9974]) \t h: tensor([[0.0100]])\n",
      "u: tensor([0.9686]) \t h: tensor([[0.0500]])\n",
      "u: tensor([0.4090]) \t h: tensor([[1.3100]])\n",
      "u: tensor([0.2092]) \t h: tensor([[2.2200]])\n",
      "u: tensor([0.1381]) \t h: tensor([[2.6300]])\n",
      "u: tensor([0.3907]) \t h: tensor([[1.1700]])\n",
      "u: tensor([0.5431]) \t h: tensor([[0.7300]])\n",
      "u: tensor([0.2505]) \t h: tensor([[1.5800]])\n",
      "u: tensor([0.5707]) \t h: tensor([[0.6200]])\n",
      "u: tensor([0.1511]) \t h: tensor([[2.7400]])\n",
      "u: tensor([0.5590]) \t h: tensor([[0.8200]])\n",
      "u: tensor([0.6716]) \t h: tensor([[0.5500]])\n",
      "u: tensor([0.1590]) \t h: tensor([[2.4000]])\n",
      "u: tensor([0.9672]) \t h: tensor([[0.0500]])\n",
      "u: tensor([0.0182]) \t h: tensor([[4.5800]])\n",
      "u: tensor([0.7398]) \t h: tensor([[0.3200]])\n",
      "u: tensor([0.5433]) \t h: tensor([[0.6300]])\n",
      "u: tensor([0.0455]) \t h: tensor([[3.0000]])\n",
      "u: tensor([0.8679]) \t h: tensor([[0.2100]])\n",
      "u: tensor([0.8652]) \t h: tensor([[0.2200]])\n",
      "u: tensor([0.5013]) \t h: tensor([[1.0100]])\n",
      "u: tensor([0.7284]) \t h: tensor([[0.4600]])\n",
      "u: tensor([0.4165]) \t h: tensor([[1.2500]])\n",
      "u: tensor([0.9452]) \t h: tensor([[0.0800]])\n",
      "u: tensor([0.7039]) \t h: tensor([[0.4900]])\n",
      "u: tensor([0.0153]) \t h: tensor([[5.2500]])\n",
      "u: tensor([0.8732]) \t h: tensor([[0.1600]])\n",
      "u: tensor([0.0720]) \t h: tensor([[2.8300]])\n",
      "u: tensor([0.3653]) \t h: tensor([[1.4700]])\n",
      "u: tensor([0.1749]) \t h: tensor([[2.4700]])\n",
      "u: tensor([0.1039]) \t h: tensor([[2.9500]])\n",
      "u: tensor([0.5264]) \t h: tensor([[0.7800]])\n",
      "u: tensor([0.4409]) \t h: tensor([[0.9700]])\n",
      "u: tensor([0.0519]) \t h: tensor([[3.2100]])\n",
      "u: tensor([0.4279]) \t h: tensor([[0.8600]])\n",
      "u: tensor([0.7134]) \t h: tensor([[0.3400]])\n",
      "u: tensor([0.1458]) \t h: tensor([[1.8500]])\n",
      "u: tensor([0.2537]) \t h: tensor([[1.2500]])\n",
      "u: tensor([0.9440]) \t h: tensor([[0.0600]])\n",
      "u: tensor([0.2381]) \t h: tensor([[2.0900]])\n",
      "u: tensor([0.6791]) \t h: tensor([[0.5600]])\n",
      "u: tensor([0.0885]) \t h: tensor([[3.2800]])\n",
      "u: tensor([0.3432]) \t h: tensor([[1.3400]])\n",
      "u: tensor([0.1234]) \t h: tensor([[2.4300]])\n",
      "u: tensor([0.1827]) \t h: tensor([[1.8200]])\n",
      "u: tensor([0.0292]) \t h: tensor([[3.4600]])\n",
      "u: tensor([0.4932]) \t h: tensor([[0.6500]])\n",
      "u: tensor([0.0099]) \t h: tensor([[3.9300]])\n",
      "u: tensor([0.6340]) \t h: tensor([[0.3700]])\n",
      "u: tensor([0.7567]) \t h: tensor([[0.2200]])\n",
      "u: tensor([0.0682]) \t h: tensor([[2.0400]])\n",
      "u: tensor([0.4675]) \t h: tensor([[1.1100]])\n",
      "u: tensor([0.3403]) \t h: tensor([[1.5500]])\n",
      "u: tensor([0.9434]) \t h: tensor([[0.0900]])\n",
      "u: tensor([0.3837]) \t h: tensor([[1.3300]])\n",
      "u: tensor([0.1327]) \t h: tensor([[2.6300]])\n",
      "u: tensor([0.6825]) \t h: tensor([[0.4700]])\n",
      "u: tensor([0.2829]) \t h: tensor([[1.5000]])\n",
      "u: tensor([0.9797]) \t h: tensor([[0.0300]])\n",
      "u: tensor([0.5410]) \t h: tensor([[0.7000]])\n",
      "u: tensor([0.6032]) \t h: tensor([[0.5600]])\n",
      "u: tensor([0.4349]) \t h: tensor([[0.9000]])\n",
      "u: tensor([0.4362]) \t h: tensor([[0.8700]])\n",
      "u: tensor([0.7704]) \t h: tensor([[0.2700]])\n",
      "u: tensor([0.7312]) \t h: tensor([[0.4600]])\n",
      "u: tensor([0.7050]) \t h: tensor([[0.5100]])\n",
      "u: tensor([0.2180]) \t h: tensor([[2.1800]])\n",
      "u: tensor([0.4120]) \t h: tensor([[1.2200]])\n",
      "u: tensor([0.8432]) \t h: tensor([[0.2300]])\n",
      "u: tensor([0.5565]) \t h: tensor([[0.7800]])\n",
      "u: tensor([0.3507]) \t h: tensor([[1.3400]])\n",
      "u: tensor([0.5291]) \t h: tensor([[0.7800]])\n",
      "u: tensor([0.5286]) \t h: tensor([[0.7600]])\n",
      "u: tensor([0.5337]) \t h: tensor([[0.7300]])\n",
      "u: tensor([0.0597]) \t h: tensor([[3.0300]])\n",
      "u: tensor([0.2251]) \t h: tensor([[1.4900]])\n",
      "u: tensor([0.1790]) \t h: tensor([[1.6300]])\n",
      "u: tensor([0.6148]) \t h: tensor([[0.4500]])\n",
      "u: tensor([0.6591]) \t h: tensor([[0.6100]])\n",
      "u: tensor([0.7925]) \t h: tensor([[0.3400]])\n",
      "u: tensor([0.3765]) \t h: tensor([[1.4100]])\n",
      "u: tensor([0.3710]) \t h: tensor([[1.3900]])\n",
      "u: tensor([0.1503]) \t h: tensor([[2.5100]])\n",
      "u: tensor([0.4672]) \t h: tensor([[0.9500]])\n",
      "u: tensor([0.4401]) \t h: tensor([[0.9800]])\n",
      "u: tensor([0.0509]) \t h: tensor([[3.2800]])\n",
      "u: tensor([0.2694]) \t h: tensor([[1.3400]])\n",
      "u: tensor([0.1761]) \t h: tensor([[1.6800]])\n",
      "u: tensor([0.9707]) \t h: tensor([[0.0300]])\n",
      "u: tensor([0.1540]) \t h: tensor([[1.7100]])\n",
      "u: tensor([0.8323]) \t h: tensor([[0.1700]])\n",
      "u: tensor([0.8141]) \t h: tensor([[0.1900]])\n",
      "u: tensor([0.1143]) \t h: tensor([[1.8600]])\n",
      "u: tensor([0.2025]) \t h: tensor([[2.3200]])\n",
      "u: tensor([0.5653]) \t h: tensor([[0.8100]])\n",
      "u: tensor([0.6936]) \t h: tensor([[0.5100]])\n",
      "u: tensor([0.7627]) \t h: tensor([[0.3800]])\n",
      "u: tensor([0.6855]) \t h: tensor([[0.5200]])\n",
      "u: tensor([0.0570]) \t h: tensor([[3.6000]])\n",
      "u: tensor([0.2276]) \t h: tensor([[1.6900]])\n",
      "u: tensor([0.1313]) \t h: tensor([[2.1600]])\n",
      "u: tensor([0.5734]) \t h: tensor([[0.5700]])\n",
      "u: tensor([0.2374]) \t h: tensor([[1.4100]])\n",
      "u: tensor([0.8058]) \t h: tensor([[0.2100]])\n",
      "u: tensor([0.9921]) \t h: tensor([[0.0100]])\n",
      "u: tensor([0.6266]) \t h: tensor([[0.4500]])\n",
      "u: tensor([0.4442]) \t h: tensor([[0.7600]])\n",
      "u: tensor([0.3740]) \t h: tensor([[0.8900]])\n",
      "u: tensor([0.0515]) \t h: tensor([[2.5300]])\n",
      "u: tensor([0.2362]) \t h: tensor([[2.1000]])\n",
      "u: tensor([0.7851]) \t h: tensor([[0.3500]])\n",
      "u: tensor([0.0127]) \t h: tensor([[5.6800]])\n",
      "u: tensor([0.8308]) \t h: tensor([[0.2200]])\n",
      "u: tensor([0.0286]) \t h: tensor([[3.8600]])\n",
      "u: tensor([0.3353]) \t h: tensor([[1.0900]])\n",
      "u: tensor([0.7767]) \t h: tensor([[0.2500]])\n",
      "u: tensor([0.6898]) \t h: tensor([[0.5500]])\n",
      "u: tensor([0.9864]) \t h: tensor([[0.0200]])\n",
      "u: tensor([0.6681]) \t h: tensor([[0.5900]])\n",
      "u: tensor([0.8714]) \t h: tensor([[0.2000]])\n",
      "u: tensor([0.7695]) \t h: tensor([[0.3800]])\n",
      "u: tensor([0.9186]) \t h: tensor([[0.1300]])\n",
      "u: tensor([0.6895]) \t h: tensor([[0.5400]])\n",
      "u: tensor([0.7041]) \t h: tensor([[0.5000]])\n",
      "u: tensor([0.1992]) \t h: tensor([[2.3400]])\n",
      "u: tensor([0.7990]) \t h: tensor([[0.3200]])\n",
      "u: tensor([0.8245]) \t h: tensor([[0.2800]])\n",
      "u: tensor([0.0704]) \t h: tensor([[3.5400]])\n",
      "u: tensor([0.5817]) \t h: tensor([[0.6700]])\n",
      "u: tensor([0.2054]) \t h: tensor([[1.8700]])\n",
      "u: tensor([0.0203]) \t h: tensor([[4.1100]])\n",
      "u: tensor([0.6746]) \t h: tensor([[0.3900]])\n",
      "u: tensor([0.2439]) \t h: tensor([[1.3400]])\n",
      "u: tensor([0.6664]) \t h: tensor([[0.6000]])\n",
      "u: tensor([0.0226]) \t h: tensor([[5.2600]])\n",
      "u: tensor([0.4518]) \t h: tensor([[1.0000]])\n",
      "u: tensor([0.0184]) \t h: tensor([[4.5200]])\n",
      "u: tensor([0.0447]) \t h: tensor([[3.0800]])\n",
      "u: tensor([0.2466]) \t h: tensor([[1.3000]])\n",
      "u: tensor([0.3858]) \t h: tensor([[0.8500]])\n",
      "u: tensor([0.4374]) \t h: tensor([[0.7200]])\n",
      "u: tensor([0.0709]) \t h: tensor([[2.2000]])\n",
      "u: tensor([0.9870]) \t h: tensor([[0.0200]])\n",
      "u: tensor([0.0604]) \t h: tensor([[4.0100]])\n",
      "u: tensor([0.8988]) \t h: tensor([[0.1500]])\n",
      "u: tensor([0.6842]) \t h: tensor([[0.5200]])\n",
      "u: tensor([0.0853]) \t h: tensor([[3.1100]])\n",
      "u: tensor([0.3745]) \t h: tensor([[1.1500]])\n",
      "u: tensor([0.5118]) \t h: tensor([[0.7600]])\n",
      "u: tensor([0.3507]) \t h: tensor([[1.1400]])\n",
      "u: tensor([0.3467]) \t h: tensor([[1.1100]])\n",
      "u: tensor([0.1051]) \t h: tensor([[2.2200]])\n",
      "u: tensor([0.8379]) \t h: tensor([[0.1700]])\n",
      "u: tensor([0.7362]) \t h: tensor([[0.2900]])\n",
      "u: tensor([0.5598]) \t h: tensor([[0.8500]])\n",
      "u: tensor([0.1796]) \t h: tensor([[2.4600]])\n",
      "u: tensor([0.7488]) \t h: tensor([[0.4100]])\n",
      "u: tensor([0.8635]) \t h: tensor([[0.2100]])\n",
      "u: tensor([0.0436]) \t h: tensor([[4.0000]])\n",
      "u: tensor([0.3299]) \t h: tensor([[1.2800]])\n",
      "u: tensor([0.4474]) \t h: tensor([[0.9000]])\n",
      "u: tensor([0.1903]) \t h: tensor([[1.7600]])\n",
      "u: tensor([0.1407]) \t h: tensor([[1.9500]])\n",
      "u: tensor([0.3598]) \t h: tensor([[0.9700]])\n",
      "u: tensor([0.6419]) \t h: tensor([[0.4200]])\n",
      "u: tensor([0.3130]) \t h: tensor([[1.0500]])\n",
      "u: tensor([0.8646]) \t h: tensor([[0.2200]])\n",
      "u: tensor([0.0274]) \t h: tensor([[5.0500]])\n",
      "u: tensor([0.2803]) \t h: tensor([[1.6200]])\n",
      "u: tensor([0.6100]) \t h: tensor([[0.6100]])\n",
      "u: tensor([0.7720]) \t h: tensor([[0.3100]])\n",
      "u: tensor([0.8544]) \t h: tensor([[0.1900]])\n",
      "u: tensor([0.6549]) \t h: tensor([[0.5000]])\n",
      "u: tensor([0.6109]) \t h: tensor([[0.5700]])\n",
      "u: tensor([0.6142]) \t h: tensor([[0.5500]])\n",
      "u: tensor([0.1860]) \t h: tensor([[1.8100]])\n",
      "u: tensor([0.9673]) \t h: tensor([[0.0400]])\n",
      "u: tensor([0.3318]) \t h: tensor([[1.1300]])\n",
      "u: tensor([0.5485]) \t h: tensor([[0.6000]])\n",
      "u: tensor([0.2497]) \t h: tensor([[2.0200]])\n",
      "u: tensor([0.7605]) \t h: tensor([[0.4000]])\n",
      "u: tensor([0.4150]) \t h: tensor([[1.2400]])\n",
      "u: tensor([0.1085]) \t h: tensor([[2.9200]])\n",
      "u: tensor([0.9727]) \t h: tensor([[0.0400]])\n",
      "u: tensor([0.2737]) \t h: tensor([[1.5700]])\n",
      "u: tensor([0.1340]) \t h: tensor([[2.2600]])\n",
      "u: tensor([0.3441]) \t h: tensor([[1.1300]])\n",
      "u: tensor([0.8716]) \t h: tensor([[0.1500]])\n",
      "u: tensor([0.5467]) \t h: tensor([[0.6200]])\n",
      "u: tensor([0.9887]) \t h: tensor([[0.0200]])\n",
      "u: tensor([0.8672]) \t h: tensor([[0.1500]])\n",
      "u: tensor([0.3361]) \t h: tensor([[1.0800]])\n",
      "u: tensor([0.4644]) \t h: tensor([[0.7400]])\n",
      "u: tensor([0.8438]) \t h: tensor([[0.2500]])\n",
      "u: tensor([0.3308]) \t h: tensor([[1.6100]])\n",
      "u: tensor([0.6834]) \t h: tensor([[0.5500]])\n",
      "u: tensor([0.0987]) \t h: tensor([[3.1600]])\n",
      "u: tensor([0.2147]) \t h: tensor([[1.9200]])\n",
      "u: tensor([0.1660]) \t h: tensor([[2.0800]])\n",
      "u: tensor([0.6954]) \t h: tensor([[0.4100]])\n",
      "u: tensor([0.8762]) \t h: tensor([[0.1500]])\n",
      "u: tensor([0.7205]) \t h: tensor([[0.3600]])\n",
      "u: tensor([0.7031]) \t h: tensor([[0.3800]])\n",
      "u: tensor([0.6660]) \t h: tensor([[0.4300]])\n",
      "u: tensor([0.4869]) \t h: tensor([[0.7500]])\n",
      "u: tensor([0.1867]) \t h: tensor([[1.6700]])\n",
      "u: tensor([0.8953]) \t h: tensor([[0.1100]])\n",
      "u: tensor([0.4093]) \t h: tensor([[0.8500]])\n",
      "u: tensor([0.2033]) \t h: tensor([[2.3100]])\n",
      "u: tensor([0.1976]) \t h: tensor([[2.2500]])\n",
      "u: tensor([0.0877]) \t h: tensor([[3.0900]])\n",
      "u: tensor([0.9627]) \t h: tensor([[0.0500]])\n",
      "u: tensor([0.0820]) \t h: tensor([[2.8300]])\n",
      "u: tensor([0.0812]) \t h: tensor([[2.5800]])\n",
      "u: tensor([0.2724]) \t h: tensor([[1.2600]])\n",
      "u: tensor([0.8684]) \t h: tensor([[0.1400]])\n",
      "u: tensor([0.4222]) \t h: tensor([[0.8000]])\n",
      "u: tensor([0.1136]) \t h: tensor([[1.9400]])\n",
      "u: tensor([0.1585]) \t h: tensor([[1.5500]])\n",
      "u: tensor([0.0828]) \t h: tensor([[1.9800]])\n",
      "u: tensor([0.0784]) \t h: tensor([[1.8900]])\n",
      "u: tensor([0.3434]) \t h: tensor([[0.7600]])\n",
      "u: tensor([0.3152]) \t h: tensor([[0.8000]])\n",
      "u: tensor([0.9234]) \t h: tensor([[0.0600]])\n",
      "u: tensor([0.3594]) \t h: tensor([[1.5000]])\n",
      "u: tensor([0.0229]) \t h: tensor([[5.1200]])\n",
      "u: tensor([0.2909]) \t h: tensor([[1.5000]])\n",
      "u: tensor([0.4992]) \t h: tensor([[0.8100]])\n",
      "u: tensor([0.6334]) \t h: tensor([[0.5200]])\n",
      "u: tensor([0.5499]) \t h: tensor([[0.6600]])\n",
      "u: tensor([0.1073]) \t h: tensor([[2.3400]])\n",
      "u: tensor([0.9989]) \t h: tensor([[0.0100]])\n",
      "u: tensor([0.5129]) \t h: tensor([[0.9800]])\n",
      "u: tensor([0.6232]) \t h: tensor([[0.6900]])\n",
      "u: tensor([0.6212]) \t h: tensor([[0.6900]])\n",
      "u: tensor([0.0734]) \t h: tensor([[3.5500]])\n",
      "u: tensor([0.1825]) \t h: tensor([[2.0900]])\n",
      "u: tensor([0.4251]) \t h: tensor([[0.9900]])\n",
      "u: tensor([0.2612]) \t h: tensor([[1.4900]])\n",
      "u: tensor([0.9511]) \t h: tensor([[0.0800]])\n",
      "u: tensor([0.1873]) \t h: tensor([[2.4300]])\n",
      "u: tensor([0.1340]) \t h: tensor([[2.7500]])\n",
      "u: tensor([0.0592]) \t h: tensor([[3.4700]])\n",
      "u: tensor([0.1000]) \t h: tensor([[2.5300]])\n",
      "u: tensor([0.2159]) \t h: tensor([[1.5700]])\n",
      "u: tensor([0.3732]) \t h: tensor([[0.9700]])\n",
      "u: tensor([0.1031]) \t h: tensor([[2.1200]])\n",
      "u: tensor([0.5314]) \t h: tensor([[0.5700]])\n",
      "u: tensor([0.0269]) \t h: tensor([[5.0900]])\n",
      "u: tensor([0.6153]) \t h: tensor([[0.6400]])\n",
      "u: tensor([0.0559]) \t h: tensor([[3.4800]])\n",
      "u: tensor([0.2207]) \t h: tensor([[1.6600]])\n",
      "u: tensor([0.8501]) \t h: tensor([[0.1800]])\n",
      "u: tensor([0.3321]) \t h: tensor([[1.1400]])\n",
      "u: tensor([0.8534]) \t h: tensor([[0.1700]])\n",
      "u: tensor([0.4081]) \t h: tensor([[0.9000]])\n",
      "u: tensor([0.3977]) \t h: tensor([[0.8900]])\n",
      "u: tensor([0.0771]) \t h: tensor([[2.3500]])\n",
      "u: tensor([0.8117]) \t h: tensor([[0.3100]])\n",
      "u: tensor([0.0421]) \t h: tensor([[4.4700]])\n",
      "u: tensor([0.7553]) \t h: tensor([[0.3800]])\n",
      "u: tensor([0.4395]) \t h: tensor([[1.0600]])\n",
      "u: tensor([0.9056]) \t h: tensor([[0.1300]])\n",
      "u: tensor([0.2123]) \t h: tensor([[1.8800]])\n",
      "u: tensor([0.6556]) \t h: tensor([[0.4900]])\n",
      "u: tensor([0.3446]) \t h: tensor([[1.2000]])\n",
      "u: tensor([0.6191]) \t h: tensor([[0.5300]])\n",
      "u: tensor([0.6307]) \t h: tensor([[0.5000]])\n",
      "u: tensor([0.9140]) \t h: tensor([[0.1000]])\n",
      "u: tensor([0.7928]) \t h: tensor([[0.3400]])\n",
      "u: tensor([0.3314]) \t h: tensor([[1.6100]])\n",
      "u: tensor([0.7560]) \t h: tensor([[0.4100]])\n",
      "u: tensor([0.5070]) \t h: tensor([[0.9600]])\n",
      "u: tensor([0.2550]) \t h: tensor([[1.8500]])\n",
      "u: tensor([0.7238]) \t h: tensor([[0.4300]])\n",
      "u: tensor([0.3235]) \t h: tensor([[1.4300]])\n",
      "u: tensor([0.5315]) \t h: tensor([[0.7700]])\n",
      "u: tensor([0.7464]) \t h: tensor([[0.3500]])\n",
      "u: tensor([0.5621]) \t h: tensor([[0.6700]])\n",
      "u: tensor([0.1563]) \t h: tensor([[2.0500]])\n",
      "u: tensor([0.4947]) \t h: tensor([[0.7400]])\n",
      "u: tensor([0.1101]) \t h: tensor([[3.1800]])\n",
      "u: tensor([0.1330]) \t h: tensor([[2.7100]])\n",
      "u: tensor([0.4880]) \t h: tensor([[0.9100]])\n",
      "u: tensor([0.4408]) \t h: tensor([[1.0000]])\n",
      "u: tensor([0.8603]) \t h: tensor([[0.1800]])\n",
      "u: tensor([0.6834]) \t h: tensor([[0.4500]])\n",
      "u: tensor([0.5712]) \t h: tensor([[0.6500]])\n",
      "u: tensor([0.6348]) \t h: tensor([[0.5100]])\n",
      "u: tensor([0.2862]) \t h: tensor([[1.3600]])\n",
      "u: tensor([0.3906]) \t h: tensor([[0.9800]])\n",
      "u: tensor([0.9470]) \t h: tensor([[0.0600]])\n",
      "u: tensor([0.8171]) \t h: tensor([[0.2100]])\n",
      "u: tensor([0.4305]) \t h: tensor([[0.8500]])\n",
      "u: tensor([0.1799]) \t h: tensor([[2.4900]])\n",
      "u: tensor([0.2811]) \t h: tensor([[1.7700]])\n",
      "u: tensor([0.2158]) \t h: tensor([[2.0100]])\n",
      "u: tensor([0.4183]) \t h: tensor([[1.0800]])\n",
      "u: tensor([0.7180]) \t h: tensor([[0.4000]])\n",
      "u: tensor([0.0895]) \t h: tensor([[2.7300]])\n",
      "u: tensor([0.7474]) \t h: tensor([[0.3200]])\n",
      "u: tensor([0.6746]) \t h: tensor([[0.4200]])\n",
      "u: tensor([0.3636]) \t h: tensor([[1.0500]])\n",
      "u: tensor([0.4434]) \t h: tensor([[0.8200]])\n",
      "u: tensor([0.5481]) \t h: tensor([[0.5900]])\n",
      "u: tensor([0.8844]) \t h: tensor([[0.1200]])\n",
      "u: tensor([0.4380]) \t h: tensor([[0.7900]])\n",
      "u: tensor([0.2120]) \t h: tensor([[1.4300]])\n",
      "u: tensor([0.6133]) \t h: tensor([[0.7200]])\n",
      "u: tensor([0.1339]) \t h: tensor([[2.8700]])\n",
      "u: tensor([0.6826]) \t h: tensor([[0.5300]])\n",
      "u: tensor([0.6469]) \t h: tensor([[0.5900]])\n",
      "u: tensor([0.6946]) \t h: tensor([[0.4900]])\n",
      "u: tensor([0.7917]) \t h: tensor([[0.3100]])\n",
      "u: tensor([0.9913]) \t h: tensor([[0.0200]])\n",
      "u: tensor([0.9212]) \t h: tensor([[0.1100]])\n",
      "u: tensor([0.9122]) \t h: tensor([[0.1200]])\n",
      "u: tensor([0.3414]) \t h: tensor([[1.3500]])\n",
      "u: tensor([0.1211]) \t h: tensor([[2.4600]])\n",
      "u: tensor([0.0655]) \t h: tensor([[2.8800]])\n",
      "u: tensor([0.4483]) \t h: tensor([[0.8000]])\n",
      "u: tensor([0.3587]) \t h: tensor([[0.9900]])\n",
      "u: tensor([0.6060]) \t h: tensor([[0.4800]])\n",
      "u: tensor([0.3613]) \t h: tensor([[1.4900]])\n",
      "u: tensor([0.7936]) \t h: tensor([[0.3400]])\n",
      "u: tensor([0.7255]) \t h: tensor([[0.4600]])\n",
      "u: tensor([0.1504]) \t h: tensor([[2.6200]])\n",
      "u: tensor([0.8745]) \t h: tensor([[0.1800]])\n",
      "u: tensor([0.3180]) \t h: tensor([[1.4700]])\n",
      "u: tensor([0.0930]) \t h: tensor([[2.8100]])\n",
      "u: tensor([0.1884]) \t h: tensor([[1.8100]])\n",
      "u: tensor([0.3409]) \t h: tensor([[1.1100]])\n",
      "u: tensor([0.3415]) \t h: tensor([[1.0700]])\n",
      "u: tensor([0.6811]) \t h: tensor([[0.3800]])\n",
      "u: tensor([0.9290]) \t h: tensor([[0.0800]])\n",
      "u: tensor([0.6013]) \t h: tensor([[0.4900]])\n",
      "u: tensor([0.6879]) \t h: tensor([[0.3600]])\n",
      "u: tensor([0.3199]) \t h: tensor([[1.0500]])\n",
      "u: tensor([0.6705]) \t h: tensor([[0.3600]])\n",
      "u: tensor([0.6446]) \t h: tensor([[0.6500]])\n",
      "u: tensor([0.8039]) \t h: tensor([[0.3200]])\n",
      "u: tensor([0.1158]) \t h: tensor([[3.0600]])\n",
      "u: tensor([0.9181]) \t h: tensor([[0.1200]])\n",
      "u: tensor([0.4904]) \t h: tensor([[0.9600]])\n",
      "u: tensor([0.9038]) \t h: tensor([[0.1400]])\n",
      "u: tensor([0.1400]) \t h: tensor([[2.4600]])\n",
      "u: tensor([0.8819]) \t h: tensor([[0.1900]])\n",
      "u: tensor([0.4423]) \t h: tensor([[1.1900]])\n",
      "u: tensor([0.6930]) \t h: tensor([[0.5300]])\n",
      "u: tensor([0.4024]) \t h: tensor([[1.3000]])\n",
      "u: tensor([0.5766]) \t h: tensor([[0.7700]])\n",
      "u: tensor([0.5326]) \t h: tensor([[0.8500]])\n",
      "u: tensor([0.0716]) \t h: tensor([[3.3000]])\n",
      "u: tensor([0.1869]) \t h: tensor([[1.9000]])\n",
      "u: tensor([0.7589]) \t h: tensor([[0.4100]])\n",
      "u: tensor([0.2348]) \t h: tensor([[2.1000]])\n",
      "u: tensor([0.1344]) \t h: tensor([[2.7500]])\n",
      "u: tensor([0.9339]) \t h: tensor([[0.0900]])\n",
      "u: tensor([0.8769]) \t h: tensor([[0.1800]])\n",
      "u: tensor([0.3542]) \t h: tensor([[1.3200]])\n",
      "u: tensor([0.7929]) \t h: tensor([[0.2900]])\n",
      "u: tensor([0.0956]) \t h: tensor([[2.7200]])\n",
      "u: tensor([0.5532]) \t h: tensor([[0.6500]])\n",
      "u: tensor([0.5396]) \t h: tensor([[0.9100]])\n",
      "u: tensor([0.0584]) \t h: tensor([[3.9800]])\n",
      "u: tensor([0.1917]) \t h: tensor([[2.1100]])\n",
      "u: tensor([0.8144]) \t h: tensor([[0.2600]])\n",
      "u: tensor([0.4319]) \t h: tensor([[1.0000]])\n",
      "u: tensor([0.1026]) \t h: tensor([[2.5400]])\n",
      "u: tensor([0.2452]) \t h: tensor([[1.4600]])\n",
      "u: tensor([0.6584]) \t h: tensor([[0.4200]])\n",
      "u: tensor([0.7658]) \t h: tensor([[0.2700]])\n",
      "u: tensor([0.6641]) \t h: tensor([[0.4100]])\n",
      "u: tensor([0.0615]) \t h: tensor([[3.9800]])\n",
      "u: tensor([0.1027]) \t h: tensor([[2.9600]])\n",
      "u: tensor([0.9565]) \t h: tensor([[0.0600]])\n",
      "u: tensor([0.1905]) \t h: tensor([[1.9600]])\n",
      "u: tensor([0.0177]) \t h: tensor([[4.2500]])\n",
      "u: tensor([0.4655]) \t h: tensor([[0.7500]])\n",
      "u: tensor([0.9212]) \t h: tensor([[0.0800]])\n",
      "u: tensor([0.1105]) \t h: tensor([[2.0400]])\n",
      "u: tensor([0.6465]) \t h: tensor([[0.3900]])\n",
      "u: tensor([0.6185]) \t h: tensor([[0.4300]])\n",
      "u: tensor([0.2806]) \t h: tensor([[1.0900]])\n",
      "u: tensor([0.2720]) \t h: tensor([[1.9000]])\n",
      "u: tensor([0.3666]) \t h: tensor([[1.4300]])\n",
      "u: tensor([0.5027]) \t h: tensor([[0.9500]])\n",
      "u: tensor([0.3017]) \t h: tensor([[1.5800]])\n",
      "u: tensor([0.1404]) \t h: tensor([[2.4100]])\n",
      "u: tensor([0.0779]) \t h: tensor([[2.8300]])\n",
      "u: tensor([0.0664]) \t h: tensor([[2.7300]])\n",
      "u: tensor([0.9396]) \t h: tensor([[0.0600]])\n",
      "u: tensor([0.3933]) \t h: tensor([[0.8900]])\n",
      "u: tensor([0.1318]) \t h: tensor([[1.8400]])\n",
      "u: tensor([0.8570]) \t h: tensor([[0.1400]])\n",
      "u: tensor([0.6034]) \t h: tensor([[0.4400]])\n",
      "u: tensor([0.1456]) \t h: tensor([[2.7900]])\n",
      "u: tensor([0.3953]) \t h: tensor([[1.2900]])\n",
      "u: tensor([0.4305]) \t h: tensor([[1.1300]])\n",
      "u: tensor([0.1065]) \t h: tensor([[2.7900]])\n",
      "u: tensor([0.9635]) \t h: tensor([[0.0500]])\n",
      "u: tensor([0.9193]) \t h: tensor([[0.1000]])\n",
      "u: tensor([0.7202]) \t h: tensor([[0.3900]])\n",
      "u: tensor([0.5548]) \t h: tensor([[0.6800]])\n",
      "u: tensor([0.5214]) \t h: tensor([[0.7300]])\n",
      "u: tensor([0.0609]) \t h: tensor([[2.9200]])\n",
      "u: tensor([0.8515]) \t h: tensor([[0.1600]])\n",
      "u: tensor([0.8371]) \t h: tensor([[0.1800]])\n",
      "u: tensor([0.4666]) \t h: tensor([[0.7400]])\n",
      "u: tensor([0.7064]) \t h: tensor([[0.5100]])\n",
      "u: tensor([0.6892]) \t h: tensor([[0.5500]])\n",
      "u: tensor([0.6412]) \t h: tensor([[0.6500]])\n",
      "u: tensor([0.7025]) \t h: tensor([[0.5100]])\n",
      "u: tensor([0.3596]) \t h: tensor([[1.4400]])\n",
      "u: tensor([0.3570]) \t h: tensor([[1.3900]])\n",
      "u: tensor([0.4725]) \t h: tensor([[0.9800]])\n",
      "u: tensor([0.4296]) \t h: tensor([[1.0600]])\n",
      "u: tensor([0.1940]) \t h: tensor([[1.9300]])\n",
      "u: tensor([0.1715]) \t h: tensor([[1.9400]])\n",
      "u: tensor([0.3852]) \t h: tensor([[1.0000]])\n",
      "u: tensor([0.3761]) \t h: tensor([[0.9900]])\n",
      "u: tensor([0.1114]) \t h: tensor([[2.1000]])\n",
      "u: tensor([0.8327]) \t h: tensor([[0.1700]])\n",
      "u: tensor([0.5441]) \t h: tensor([[0.8900]])\n",
      "u: tensor([0.4988]) \t h: tensor([[1.0100]])\n",
      "u: tensor([0.2303]) \t h: tensor([[2.0700]])\n",
      "u: tensor([0.8151]) \t h: tensor([[0.2800]])\n",
      "u: tensor([0.9057]) \t h: tensor([[0.1400]])\n",
      "u: tensor([0.5003]) \t h: tensor([[0.9200]])\n",
      "u: tensor([0.3028]) \t h: tensor([[1.5200]])\n",
      "u: tensor([0.0807]) \t h: tensor([[2.9400]])\n",
      "u: tensor([0.0799]) \t h: tensor([[2.6600]])\n",
      "u: tensor([0.2763]) \t h: tensor([[1.2700]])\n",
      "u: tensor([0.5521]) \t h: tensor([[0.5700]])\n",
      "u: tensor([0.5340]) \t h: tensor([[0.5900]])\n",
      "u: tensor([0.0960]) \t h: tensor([[2.1100]])\n",
      "u: tensor([0.2714]) \t h: tensor([[1.1200]])\n",
      "u: tensor([0.3978]) \t h: tensor([[0.7700]])\n",
      "u: tensor([0.5648]) \t h: tensor([[0.8400]])\n",
      "u: tensor([0.6662]) \t h: tensor([[0.6000]])\n",
      "u: tensor([0.4642]) \t h: tensor([[1.1100]])\n",
      "u: tensor([0.7359]) \t h: tensor([[0.4400]])\n",
      "u: tensor([0.7247]) \t h: tensor([[0.4500]])\n",
      "u: tensor([0.5005]) \t h: tensor([[0.9500]])\n",
      "u: tensor([0.2322]) \t h: tensor([[1.9100]])\n",
      "u: tensor([0.0967]) \t h: tensor([[2.7900]])\n",
      "u: tensor([0.4950]) \t h: tensor([[0.7900]])\n",
      "u: tensor([0.9261]) \t h: tensor([[0.0900]])\n",
      "u: tensor([0.8672]) \t h: tensor([[0.1600]])\n",
      "u: tensor([0.7845]) \t h: tensor([[0.2700]])\n",
      "u: tensor([0.2769]) \t h: tensor([[1.3600]])\n",
      "u: tensor([0.7140]) \t h: tensor([[0.3500]])\n",
      "u: tensor([0.2072]) \t h: tensor([[1.5600]])\n",
      "u: tensor([0.2746]) \t h: tensor([[1.2300]])\n",
      "u: tensor([0.1875]) \t h: tensor([[2.4300]])\n",
      "u: tensor([0.0045]) \t h: tensor([[6.8801]])\n",
      "u: tensor([0.4048]) \t h: tensor([[1.0000]])\n",
      "u: tensor([0.5054]) \t h: tensor([[0.7300]])\n",
      "u: tensor([0.6098]) \t h: tensor([[0.5200]])\n",
      "u: tensor([0.4687]) \t h: tensor([[0.7800]])\n",
      "u: tensor([0.6770]) \t h: tensor([[0.4000]])\n",
      "u: tensor([0.7450]) \t h: tensor([[0.4400]])\n",
      "u: tensor([0.5787]) \t h: tensor([[0.8000]])\n",
      "u: tensor([0.1737]) \t h: tensor([[2.4900]])\n",
      "u: tensor([0.8190]) \t h: tensor([[0.2800]])\n",
      "u: tensor([0.4729]) \t h: tensor([[1.0100]])\n",
      "u: tensor([0.8624]) \t h: tensor([[0.2000]])\n",
      "u: tensor([0.1258]) \t h: tensor([[2.5900]])\n",
      "u: tensor([0.0116]) \t h: tensor([[4.8500]])\n",
      "u: tensor([0.7110]) \t h: tensor([[0.5000]])\n",
      "u: tensor([0.1793]) \t h: tensor([[2.4800]])\n",
      "u: tensor([0.9551]) \t h: tensor([[0.0700]])\n",
      "u: tensor([0.5017]) \t h: tensor([[0.9600]])\n",
      "u: tensor([0.2894]) \t h: tensor([[1.6500]])\n",
      "u: tensor([0.0459]) \t h: tensor([[3.7100]])\n",
      "u: tensor([0.7071]) \t h: tensor([[0.3900]])\n",
      "u: tensor([0.1098]) \t h: tensor([[2.3400]])\n",
      "u: tensor([0.2012]) \t h: tensor([[1.5900]])\n",
      "u: tensor([0.3235]) \t h: tensor([[1.6500]])\n",
      "u: tensor([0.8509]) \t h: tensor([[0.2400]])\n",
      "u: tensor([0.0209]) \t h: tensor([[5.1800]])\n",
      "u: tensor([0.1948]) \t h: tensor([[1.9300]])\n",
      "u: tensor([0.0773]) \t h: tensor([[2.7700]])\n",
      "u: tensor([0.9292]) \t h: tensor([[0.0800]])\n",
      "u: tensor([0.2283]) \t h: tensor([[1.4800]])\n",
      "u: tensor([0.0695]) \t h: tensor([[2.5000]])\n",
      "u: tensor([0.5142]) \t h: tensor([[0.6000]])\n",
      "u: tensor([0.2286]) \t h: tensor([[1.2800]])\n",
      "u: tensor([0.2029]) \t h: tensor([[2.3200]])\n",
      "u: tensor([0.9481]) \t h: tensor([[0.0800]])\n",
      "u: tensor([0.2321]) \t h: tensor([[2.0300]])\n",
      "u: tensor([0.2397]) \t h: tensor([[1.8700]])\n",
      "u: tensor([0.8168]) \t h: tensor([[0.2600]])\n",
      "u: tensor([0.0731]) \t h: tensor([[3.0800]])\n",
      "u: tensor([0.9132]) \t h: tensor([[0.1100]])\n",
      "u: tensor([0.7238]) \t h: tensor([[0.3600]])\n",
      "u: tensor([0.4977]) \t h: tensor([[0.7600]])\n",
      "u: tensor([0.8601]) \t h: tensor([[0.1600]])\n",
      "u: tensor([0.0136]) \t h: tensor([[4.2300]])\n",
      "u: tensor([0.0437]) \t h: tensor([[4.4500]])\n",
      "u: tensor([0.7755]) \t h: tensor([[0.3500]])\n",
      "u: tensor([0.1897]) \t h: tensor([[2.1300]])\n",
      "u: tensor([0.9009]) \t h: tensor([[0.1300]])\n",
      "u: tensor([0.4598]) \t h: tensor([[0.9400]])\n",
      "u: tensor([0.6789]) \t h: tensor([[0.4600]])\n",
      "u: tensor([0.8729]) \t h: tensor([[0.1600]])\n",
      "u: tensor([0.6349]) \t h: tensor([[0.5200]])\n",
      "u: tensor([0.1739]) \t h: tensor([[1.9100]])\n",
      "u: tensor([0.2803]) \t h: tensor([[1.3200]])\n",
      "u: tensor([0.0099]) \t h: tensor([[4.3400]])\n",
      "u: tensor([0.3487]) \t h: tensor([[0.9100]])\n",
      "u: tensor([0.8686]) \t h: tensor([[0.2100]])\n",
      "u: tensor([0.7377]) \t h: tensor([[0.4500]])\n",
      "u: tensor([0.5646]) \t h: tensor([[0.8400]])\n",
      "u: tensor([0.7144]) \t h: tensor([[0.4900]])\n",
      "u: tensor([0.6269]) \t h: tensor([[0.6700]])\n",
      "u: tensor([0.6223]) \t h: tensor([[0.6700]])\n",
      "u: tensor([0.2346]) \t h: tensor([[1.9600]])\n",
      "u: tensor([0.4801]) \t h: tensor([[0.9500]])\n",
      "u: tensor([0.7038]) \t h: tensor([[0.4400]])\n",
      "u: tensor([0.9879]) \t h: tensor([[0.0200]])\n",
      "u: tensor([0.3037]) \t h: tensor([[1.4400]])\n",
      "u: tensor([0.0285]) \t h: tensor([[3.8900]])\n",
      "u: tensor([0.0175]) \t h: tensor([[3.8700]])\n",
      "u: tensor([0.9070]) \t h: tensor([[0.1500]])\n",
      "u: tensor([0.8870]) \t h: tensor([[0.1800]])\n",
      "u: tensor([0.6921]) \t h: tensor([[0.5400]])\n",
      "u: tensor([0.9988]) \t h: tensor([[0.0100]])\n",
      "u: tensor([0.3238]) \t h: tensor([[1.6300]])\n",
      "u: tensor([0.1250]) \t h: tensor([[2.8400]])\n",
      "u: tensor([0.3660]) \t h: tensor([[1.2900]])\n",
      "u: tensor([0.1047]) \t h: tensor([[2.6700]])\n",
      "u: tensor([0.6238]) \t h: tensor([[0.5300]])\n",
      "u: tensor([0.8346]) \t h: tensor([[0.2000]])\n",
      "u: tensor([0.2272]) \t h: tensor([[1.5800]])\n",
      "u: tensor([0.3953]) \t h: tensor([[0.9500]])\n",
      "u: tensor([0.1095]) \t h: tensor([[2.1400]])\n",
      "u: tensor([0.1687]) \t h: tensor([[1.6200]])\n",
      "u: tensor([0.9637]) \t h: tensor([[0.0600]])\n",
      "u: tensor([0.6662]) \t h: tensor([[0.6000]])\n",
      "u: tensor([0.1376]) \t h: tensor([[2.8400]])\n",
      "u: tensor([0.5488]) \t h: tensor([[0.8300]])\n",
      "u: tensor([0.4317]) \t h: tensor([[1.1200]])\n",
      "u: tensor([0.0370]) \t h: tensor([[3.9800]])\n",
      "u: tensor([0.2198]) \t h: tensor([[1.6500]])\n",
      "u: tensor([0.0464]) \t h: tensor([[3.0700]])\n",
      "u: tensor([0.7045]) \t h: tensor([[0.3400]])\n",
      "u: tensor([0.8446]) \t h: tensor([[0.1600]])\n",
      "u: tensor([0.9604]) \t h: tensor([[0.0400]])\n",
      "u: tensor([0.3510]) \t h: tensor([[0.9700]])\n",
      "u: tensor([0.2844]) \t h: tensor([[1.1200]])\n",
      "u: tensor([0.1470]) \t h: tensor([[1.6400]])\n",
      "u: tensor([0.4004]) \t h: tensor([[0.7600]])\n",
      "u: tensor([0.4984]) \t h: tensor([[1.0200]])\n",
      "u: tensor([0.7895]) \t h: tensor([[0.3500]])\n",
      "u: tensor([0.1962]) \t h: tensor([[2.3100]])\n",
      "u: tensor([0.4095]) \t h: tensor([[1.2100]])\n",
      "u: tensor([0.5289]) \t h: tensor([[0.8400]])\n",
      "u: tensor([0.8971]) \t h: tensor([[0.1400]])\n",
      "u: tensor([0.3094]) \t h: tensor([[1.4700]])\n",
      "u: tensor([0.8714]) \t h: tensor([[0.1700]])\n",
      "u: tensor([0.1017]) \t h: tensor([[2.6200]])\n",
      "u: tensor([0.4345]) \t h: tensor([[0.9000]])\n",
      "u: tensor([0.2766]) \t h: tensor([[1.3300]])\n",
      "u: tensor([0.6142]) \t h: tensor([[0.4900]])\n",
      "u: tensor([0.8532]) \t h: tensor([[0.1600]])\n",
      "u: tensor([0.7879]) \t h: tensor([[0.2400]])\n",
      "u: tensor([0.2735]) \t h: tensor([[1.2500]])\n",
      "u: tensor([0.0507]) \t h: tensor([[2.6900]])\n",
      "u: tensor([0.9414]) \t h: tensor([[0.0900]])\n",
      "u: tensor([0.1045]) \t h: tensor([[3.2500]])\n",
      "u: tensor([0.6310]) \t h: tensor([[0.6400]])\n",
      "u: tensor([0.0530]) \t h: tensor([[3.7600]])\n",
      "u: tensor([0.2895]) \t h: tensor([[1.4400]])\n",
      "u: tensor([0.7603]) \t h: tensor([[0.3100]])\n",
      "u: tensor([0.3192]) \t h: tensor([[1.2500]])\n",
      "u: tensor([0.6867]) \t h: tensor([[0.5500]])\n",
      "u: tensor([0.3474]) \t h: tensor([[1.5400]])\n",
      "u: tensor([0.3029]) \t h: tensor([[1.6800]])\n",
      "u: tensor([0.0802]) \t h: tensor([[3.2800]])\n",
      "u: tensor([0.2911]) \t h: tensor([[1.4700]])\n",
      "u: tensor([0.3328]) \t h: tensor([[1.2500]])\n",
      "u: tensor([0.2537]) \t h: tensor([[1.4800]])\n",
      "u: tensor([0.6983]) \t h: tensor([[0.3800]])\n",
      "u: tensor([0.2771]) \t h: tensor([[1.8700]])\n",
      "u: tensor([0.4552]) \t h: tensor([[1.1200]])\n",
      "u: tensor([0.9987]) \t h: tensor([[0.0100]])\n",
      "u: tensor([0.8658]) \t h: tensor([[0.2100]])\n",
      "u: tensor([0.1694]) \t h: tensor([[2.3900]])\n",
      "u: tensor([0.4813]) \t h: tensor([[0.9300]])\n",
      "u: tensor([0.9856]) \t h: tensor([[0.0200]])\n",
      "u: tensor([0.3333]) \t h: tensor([[1.3400]])\n",
      "u: tensor([0.3821]) \t h: tensor([[1.1200]])\n",
      "u: tensor([0.4396]) \t h: tensor([[1.2000]])\n",
      "u: tensor([0.3476]) \t h: tensor([[1.5200]])\n",
      "u: tensor([0.9326]) \t h: tensor([[0.1000]])\n",
      "u: tensor([0.7454]) \t h: tensor([[0.4200]])\n",
      "u: tensor([0.8256]) \t h: tensor([[0.2700]])\n",
      "u: tensor([0.9444]) \t h: tensor([[0.0800]])\n",
      "u: tensor([0.4070]) \t h: tensor([[1.2200]])\n",
      "u: tensor([0.5050]) \t h: tensor([[0.9000]])\n",
      "u: tensor([0.3274]) \t h: tensor([[1.4100]])\n",
      "u: tensor([0.5016]) \t h: tensor([[0.8300]])\n",
      "u: tensor([0.8505]) \t h: tensor([[0.2400]])\n",
      "u: tensor([0.8344]) \t h: tensor([[0.2700]])\n",
      "u: tensor([0.1172]) \t h: tensor([[3.0700]])\n",
      "u: tensor([0.6774]) \t h: tensor([[0.5400]])\n",
      "u: tensor([0.3627]) \t h: tensor([[1.3500]])\n",
      "u: tensor([0.2148]) \t h: tensor([[1.9300]])\n",
      "u: tensor([0.0243]) \t h: tensor([[4.1500]])\n",
      "u: tensor([0.5894]) \t h: tensor([[0.5500]])\n",
      "u: tensor([0.4305]) \t h: tensor([[0.8500]])\n",
      "u: tensor([0.7092]) \t h: tensor([[0.3400]])\n",
      "u: tensor([0.3896]) \t h: tensor([[0.9100]])\n",
      "u: tensor([0.0300]) \t h: tensor([[4.9500]])\n",
      "u: tensor([0.8055]) \t h: tensor([[0.2900]])\n",
      "u: tensor([0.0125]) \t h: tensor([[5.2000]])\n",
      "u: tensor([0.1624]) \t h: tensor([[1.9000]])\n",
      "u: tensor([0.0050]) \t h: tensor([[4.9200]])\n",
      "u: tensor([0.6806]) \t h: tensor([[0.3300]])\n",
      "u: tensor([0.3302]) \t h: tensor([[0.9300]])\n",
      "u: tensor([0.6580]) \t h: tensor([[0.3500]])\n",
      "u: tensor([0.6370]) \t h: tensor([[0.3700]])\n",
      "u: tensor([0.5495]) \t h: tensor([[0.4800]])\n",
      "u: tensor([0.5393]) \t h: tensor([[0.4900]])\n",
      "u: tensor([0.4187]) \t h: tensor([[0.6800]])\n",
      "u: tensor([0.2304]) \t h: tensor([[2.1400]])\n",
      "u: tensor([0.6265]) \t h: tensor([[0.6700]])\n",
      "u: tensor([0.9708]) \t h: tensor([[0.0500]])\n",
      "u: tensor([0.9619]) \t h: tensor([[0.0600]])\n",
      "u: tensor([0.5648]) \t h: tensor([[0.8000]])\n",
      "u: tensor([0.3618]) \t h: tensor([[1.3700]])\n",
      "u: tensor([0.0996]) \t h: tensor([[2.8800]])\n",
      "u: tensor([0.2100]) \t h: tensor([[1.7900]])\n",
      "u: tensor([0.8642]) \t h: tensor([[0.1700]])\n",
      "u: tensor([0.5679]) \t h: tensor([[0.6200]])\n",
      "u: tensor([0.7854]) \t h: tensor([[0.2600]])\n",
      "u: tensor([0.7125]) \t h: tensor([[0.3600]])\n",
      "u: tensor([0.6997]) \t h: tensor([[0.3800]])\n",
      "u: tensor([0.6397]) \t h: tensor([[0.6600]])\n",
      "u: tensor([0.3109]) \t h: tensor([[1.6900]])\n",
      "u: tensor([0.8619]) \t h: tensor([[0.2200]])\n",
      "u: tensor([0.4929]) \t h: tensor([[1.0000]])\n",
      "u: tensor([0.6014]) \t h: tensor([[0.7000]])\n",
      "u: tensor([0.7913]) \t h: tensor([[0.3200]])\n",
      "u: tensor([0.3860]) \t h: tensor([[1.2500]])\n",
      "u: tensor([0.0688]) \t h: tensor([[3.2300]])\n",
      "u: tensor([0.0158]) \t h: tensor([[4.3500]])\n",
      "u: tensor([0.1516]) \t h: tensor([[1.7900]])\n",
      "u: tensor([0.6819]) \t h: tensor([[0.3500]])\n",
      "u: tensor([0.6677]) \t h: tensor([[0.3700]])\n",
      "u: tensor([0.3721]) \t h: tensor([[0.8800]])\n",
      "u: tensor([0.6759]) \t h: tensor([[0.3500]])\n",
      "u: tensor([0.9063]) \t h: tensor([[0.1500]])\n",
      "u: tensor([0.3602]) \t h: tensor([[1.4900]])\n",
      "u: tensor([0.1489]) \t h: tensor([[2.6700]])\n",
      "u: tensor([0.1353]) \t h: tensor([[2.5900]])\n",
      "u: tensor([0.4272]) \t h: tensor([[1.0300]])\n",
      "u: tensor([0.7293]) \t h: tensor([[0.3800]])\n",
      "u: tensor([0.0867]) \t h: tensor([[2.7100]])\n",
      "u: tensor([0.5525]) \t h: tensor([[0.6200]])\n",
      "u: tensor([0.4327]) \t h: tensor([[0.8600]])\n",
      "u: tensor([0.4848]) \t h: tensor([[0.7200]])\n",
      "u: tensor([0.5098]) \t h: tensor([[0.6600]])\n",
      "u: tensor([0.5416]) \t h: tensor([[0.5900]])\n",
      "u: tensor([0.2114]) \t h: tensor([[1.4300]])\n",
      "u: tensor([0.7980]) \t h: tensor([[0.2100]])\n",
      "u: tensor([0.2255]) \t h: tensor([[1.3100]])\n",
      "u: tensor([0.5580]) \t h: tensor([[0.8600]])\n",
      "u: tensor([0.3354]) \t h: tensor([[1.5800]])\n",
      "u: tensor([0.2659]) \t h: tensor([[1.8400]])\n",
      "u: tensor([0.7814]) \t h: tensor([[0.3400]])\n",
      "u: tensor([0.9865]) \t h: tensor([[0.0200]])\n",
      "u: tensor([0.7788]) \t h: tensor([[0.3400]])\n",
      "u: tensor([0.3924]) \t h: tensor([[1.2100]])\n",
      "u: tensor([0.9861]) \t h: tensor([[0.0200]])\n",
      "u: tensor([0.3532]) \t h: tensor([[1.2900]])\n",
      "u: tensor([0.4662]) \t h: tensor([[0.9100]])\n",
      "u: tensor([0.5153]) \t h: tensor([[0.7600]])\n",
      "u: tensor([0.1788]) \t h: tensor([[1.8800]])\n",
      "u: tensor([0.0037]) \t h: tensor([[5.3900]])\n",
      "u: tensor([0.4592]) \t h: tensor([[0.6900]])\n",
      "u: tensor([0.2651]) \t h: tensor([[1.1300]])\n",
      "u: tensor([0.8934]) \t h: tensor([[0.1000]])\n",
      "u: tensor([0.3870]) \t h: tensor([[1.3900]])\n",
      "u: tensor([0.3229]) \t h: tensor([[1.6200]])\n",
      "u: tensor([0.2257]) \t h: tensor([[2.0300]])\n",
      "u: tensor([0.3915]) \t h: tensor([[1.2200]])\n",
      "u: tensor([0.3302]) \t h: tensor([[1.3700]])\n",
      "u: tensor([0.9995]) \t h: tensor([[0.0100]])\n",
      "u: tensor([0.3215]) \t h: tensor([[1.3300]])\n",
      "u: tensor([0.3564]) \t h: tensor([[1.5100]])\n",
      "u: tensor([0.5787]) \t h: tensor([[0.7900]])\n",
      "u: tensor([0.1329]) \t h: tensor([[2.7800]])\n",
      "u: tensor([0.2589]) \t h: tensor([[1.7300]])\n",
      "u: tensor([0.6089]) \t h: tensor([[0.6100]])\n",
      "u: tensor([0.7423]) \t h: tensor([[0.3600]])\n",
      "u: tensor([0.1703]) \t h: tensor([[2.0300]])\n",
      "u: tensor([0.1304]) \t h: tensor([[2.1700]])\n",
      "u: tensor([0.5568]) \t h: tensor([[0.8600]])\n",
      "u: tensor([0.2861]) \t h: tensor([[1.8100]])\n",
      "u: tensor([0.2690]) \t h: tensor([[1.8200]])\n",
      "u: tensor([0.3549]) \t h: tensor([[1.3600]])\n",
      "u: tensor([0.2095]) \t h: tensor([[1.9300]])\n",
      "u: tensor([0.9461]) \t h: tensor([[0.0700]])\n",
      "u: tensor([0.8365]) \t h: tensor([[0.2200]])\n",
      "u: tensor([0.6254]) \t h: tensor([[0.5500]])\n",
      "u: tensor([0.9017]) \t h: tensor([[0.1200]])\n",
      "u: tensor([0.5110]) \t h: tensor([[0.9900]])\n",
      "u: tensor([0.1730]) \t h: tensor([[2.5100]])\n",
      "u: tensor([0.5001]) \t h: tensor([[0.9500]])\n",
      "u: tensor([0.7970]) \t h: tensor([[0.3100]])\n",
      "u: tensor([0.4201]) \t h: tensor([[1.1400]])\n",
      "u: tensor([0.0345]) \t h: tensor([[3.9900]])\n",
      "u: tensor([0.7724]) \t h: tensor([[0.2900]])\n",
      "u: tensor([0.9120]) \t h: tensor([[0.1000]])\n",
      "u: tensor([0.2422]) \t h: tensor([[1.5000]])\n",
      "u: tensor([0.5527]) \t h: tensor([[0.6100]])\n",
      "u: tensor([0.8440]) \t h: tensor([[0.2500]])\n",
      "u: tensor([0.6210]) \t h: tensor([[0.7000]])\n",
      "u: tensor([0.1634]) \t h: tensor([[2.5900]])\n",
      "u: tensor([0.6958]) \t h: tensor([[0.5000]])\n",
      "u: tensor([0.8139]) \t h: tensor([[0.2800]])\n",
      "u: tensor([0.7856]) \t h: tensor([[0.3300]])\n",
      "u: tensor([0.3675]) \t h: tensor([[1.3100]])\n",
      "u: tensor([0.4259]) \t h: tensor([[1.0700]])\n",
      "u: tensor([0.4597]) \t h: tensor([[0.9400]])\n",
      "u: tensor([0.4138]) \t h: tensor([[1.0300]])\n",
      "u: tensor([0.7100]) \t h: tensor([[0.3900]])\n",
      "u: tensor([0.4688]) \t h: tensor([[1.1100]])\n",
      "u: tensor([0.9793]) \t h: tensor([[0.0400]])\n",
      "u: tensor([0.3575]) \t h: tensor([[1.4800]])\n",
      "u: tensor([0.5125]) \t h: tensor([[0.9400]])\n",
      "u: tensor([0.6674]) \t h: tensor([[0.5600]])\n",
      "u: tensor([0.6454]) \t h: tensor([[0.5900]])\n",
      "u: tensor([0.1825]) \t h: tensor([[2.1900]])\n",
      "u: tensor([0.8454]) \t h: tensor([[0.2100]])\n",
      "u: tensor([0.8179]) \t h: tensor([[0.2500]])\n",
      "u: tensor([0.9860]) \t h: tensor([[0.0200]])\n",
      "u: tensor([0.5887]) \t h: tensor([[0.6400]])\n",
      "u: tensor([0.5672]) \t h: tensor([[0.6600]])\n",
      "u: tensor([0.3295]) \t h: tensor([[1.6200]])\n",
      "u: tensor([0.7903]) \t h: tensor([[0.3400]])\n",
      "u: tensor([0.8821]) \t h: tensor([[0.1800]])\n",
      "u: tensor([0.7427]) \t h: tensor([[0.4300]])\n",
      "u: tensor([0.4967]) \t h: tensor([[0.9900]])\n",
      "u: tensor([0.3612]) \t h: tensor([[1.3800]])\n",
      "u: tensor([0.4177]) \t h: tensor([[1.1400]])\n",
      "u: tensor([0.4546]) \t h: tensor([[0.9900]])\n",
      "u: tensor([0.6146]) \t h: tensor([[0.5900]])\n",
      "u: tensor([0.6217]) \t h: tensor([[0.5700]])\n",
      "u: tensor([0.4117]) \t h: tensor([[1.0200]])\n",
      "u: tensor([0.3286]) \t h: tensor([[1.2300]])\n",
      "u: tensor([0.5948]) \t h: tensor([[0.5600]])\n",
      "u: tensor([0.1104]) \t h: tensor([[3.1800]])\n",
      "u: tensor([0.8654]) \t h: tensor([[0.2100]])\n",
      "u: tensor([0.0427]) \t h: tensor([[4.1000]])\n",
      "u: tensor([0.2787]) \t h: tensor([[1.5000]])\n",
      "u: tensor([0.1425]) \t h: tensor([[2.1300]])\n",
      "u: tensor([0.3464]) \t h: tensor([[1.1000]])\n",
      "u: tensor([0.4621]) \t h: tensor([[0.7800]])\n",
      "u: tensor([0.1206]) \t h: tensor([[2.0200]])\n",
      "u: tensor([0.1376]) \t h: tensor([[1.7900]])\n",
      "u: tensor([0.0323]) \t h: tensor([[2.8700]])\n",
      "u: tensor([0.8490]) \t h: tensor([[0.1400]])\n",
      "u: tensor([0.4659]) \t h: tensor([[0.6000]])\n",
      "u: tensor([0.0551]) \t h: tensor([[2.1700]])\n",
      "u: tensor([0.6998]) \t h: tensor([[0.2600]])\n",
      "u: tensor([0.6051]) \t h: tensor([[0.7400]])\n",
      "u: tensor([0.8544]) \t h: tensor([[0.2300]])\n",
      "u: tensor([0.2661]) \t h: tensor([[1.9000]])\n",
      "u: tensor([0.8214]) \t h: tensor([[0.2800]])\n",
      "u: tensor([0.8875]) \t h: tensor([[0.1700]])\n",
      "u: tensor([0.1758]) \t h: tensor([[2.3400]])\n",
      "u: tensor([0.7159]) \t h: tensor([[0.4300]])\n",
      "u: tensor([0.5658]) \t h: tensor([[0.7200]])\n",
      "u: tensor([0.3395]) \t h: tensor([[1.3100]])\n",
      "u: tensor([0.5961]) \t h: tensor([[0.6100]])\n",
      "u: tensor([0.1274]) \t h: tensor([[2.2700]])\n",
      "u: tensor([0.5926]) \t h: tensor([[0.5500]])\n",
      "u: tensor([0.9271]) \t h: tensor([[0.0800]])\n",
      "u: tensor([0.9403]) \t h: tensor([[0.0700]])\n",
      "u: tensor([0.9340]) \t h: tensor([[0.0800]])\n",
      "u: tensor([0.7340]) \t h: tensor([[0.4600]])\n",
      "u: tensor([0.8962]) \t h: tensor([[0.1600]])\n",
      "u: tensor([0.0136]) \t h: tensor([[5.9000]])\n",
      "u: tensor([0.0381]) \t h: tensor([[3.8000]])\n",
      "u: tensor([0.7573]) \t h: tensor([[0.3000]])\n",
      "u: tensor([0.0630]) \t h: tensor([[2.8200]])\n",
      "u: tensor([0.8104]) \t h: tensor([[0.2100]])\n",
      "u: tensor([0.6707]) \t h: tensor([[0.3900]])\n",
      "u: tensor([0.4585]) \t h: tensor([[0.7400]])\n",
      "u: tensor([0.5957]) \t h: tensor([[0.4800]])\n",
      "u: tensor([0.7827]) \t h: tensor([[0.2300]])\n",
      "u: tensor([0.2216]) \t h: tensor([[1.3500]])\n",
      "u: tensor([0.1954]) \t h: tensor([[1.4000]])\n",
      "u: tensor([0.4727]) \t h: tensor([[0.6200]])\n",
      "u: tensor([0.3586]) \t h: tensor([[0.8300]])\n",
      "u: tensor([0.6874]) \t h: tensor([[0.3000]])\n"
     ]
    }
   ],
   "source": [
    "sample_paths = [torch.as_tensor(gen_model.sample_path(num_samples=7 + i%10)) for i in range(100)]"
   ]
  },
  {
   "cell_type": "code",
   "execution_count": null,
   "metadata": {},
   "outputs": [],
   "source": [
    "from tqdm import tqdm\n",
    "def train(model, paths, scoring_func, optimizer, num_epochs=100, num_tries=20):\n",
    "    \n",
    "    for iter in tqdm(range(num_epochs)):\n",
    "        avg_loss = 0\n",
    "        #results = []\n",
    "        for path in paths:\n",
    "            last_t = 0\n",
    "            state = torch.zeros((1, state_size))\n",
    "            loss = 0.\n",
    "            for timestep in path:\n",
    "                current_pred = []\n",
    "                for _ in range(num_tries):\n",
    "                    current_pred.append(last_t + model.sample_one(state))\n",
    "                current_pred = torch.stack(current_pred)\n",
    "                #results.append(torch.mean(current_pred))\n",
    "                loss += scoring_func(current_pred, timestep)\n",
    "                delta = timestep-last_t\n",
    "                last_t = timestep\n",
    "                state = model.evolve_state(state, delta)\n",
    "            loss.backward()\n",
    "            torch.nn.utils.clip_grad_norm_(model.parameters(), max_norm=2)\n",
    "            optimizer.step()\n",
    "            optimizer.zero_grad()\n",
    "            avg_loss += loss\n",
    "        print(\"loss: \", loss)\n",
    "        "
   ]
  },
  {
   "cell_type": "code",
   "execution_count": null,
   "metadata": {},
   "outputs": [
    {
     "name": "stderr",
     "output_type": "stream",
     "text": [
      "  0%|          | 0/30 [00:00<?, ?it/s]"
     ]
    },
    {
     "name": "stdout",
     "output_type": "stream",
     "text": [
      "u: tensor([0.3485]) \t h: tensor([[0.4800]], grad_fn=<AddBackward0>)\n",
      "u: tensor([0.7311]) \t h: tensor([[0.1300]], grad_fn=<AddBackward0>)\n",
      "u: tensor([0.7004]) \t h: tensor([[0.1500]], grad_fn=<AddBackward0>)\n",
      "u: tensor([0.1868]) \t h: tensor([[19.8404]], grad_fn=<AddBackward0>)\n",
      "u: tensor([0.9484]) \t h: tensor([[0.0300]], grad_fn=<AddBackward0>)\n",
      "u: tensor([0.0248]) \t h: tensor([[20.0004]], grad_fn=<AddBackward0>)\n",
      "u: tensor([0.9544]) \t h: tensor([[0.0200]], grad_fn=<AddBackward0>)\n",
      "u: tensor([0.2849]) \t h: tensor([[2.0900]], grad_fn=<AddBackward0>)\n",
      "u: tensor([0.4395]) \t h: tensor([[0.3600]], grad_fn=<AddBackward0>)\n",
      "u: tensor([0.3872]) \t h: tensor([[0.4200]], grad_fn=<AddBackward0>)\n",
      "u: tensor([0.9265]) \t h: tensor([[0.0300]], grad_fn=<AddBackward0>)\n",
      "u: tensor([0.2972]) \t h: tensor([[0.6700]], grad_fn=<AddBackward0>)\n",
      "u: tensor([0.8400]) \t h: tensor([[0.0700]], grad_fn=<AddBackward0>)\n",
      "u: tensor([0.5358]) \t h: tensor([[0.2700]], grad_fn=<AddBackward0>)\n",
      "u: tensor([0.3007]) \t h: tensor([[0.6500]], grad_fn=<AddBackward0>)\n",
      "u: tensor([0.2860]) \t h: tensor([[0.9500]], grad_fn=<AddBackward0>)\n",
      "u: tensor([0.7889]) \t h: tensor([[0.1000]], grad_fn=<AddBackward0>)\n",
      "u: tensor([0.9426]) \t h: tensor([[0.0300]], grad_fn=<AddBackward0>)\n",
      "u: tensor([0.0179]) \t h: tensor([[20.0004]], grad_fn=<AddBackward0>)\n",
      "u: tensor([0.1414]) \t h: tensor([[20.0004]], grad_fn=<AddBackward0>)\n",
      "u: tensor([0.2993]) \t h: tensor([[20.0004]], grad_fn=<AddBackward0>)\n",
      "u: tensor([0.2994]) \t h: tensor([[20.0004]], grad_fn=<AddBackward0>)\n",
      "u: tensor([0.2221]) \t h: tensor([[20.0004]], grad_fn=<AddBackward0>)\n",
      "u: tensor([0.5081]) \t h: tensor([[5.3800]], grad_fn=<AddBackward0>)\n",
      "u: tensor([0.7322]) \t h: tensor([[0.1500]], grad_fn=<AddBackward0>)\n",
      "u: tensor([0.9502]) \t h: tensor([[0.0300]], grad_fn=<AddBackward0>)\n",
      "u: tensor([0.9525]) \t h: tensor([[0.0300]], grad_fn=<AddBackward0>)\n",
      "u: tensor([0.3296]) \t h: tensor([[20.0004]], grad_fn=<AddBackward0>)\n",
      "u: tensor([0.2849]) \t h: tensor([[20.0004]], grad_fn=<AddBackward0>)\n",
      "u: tensor([0.4854]) \t h: tensor([[7.2101]], grad_fn=<AddBackward0>)\n",
      "u: tensor([0.8859]) \t h: tensor([[0.0600]], grad_fn=<AddBackward0>)\n",
      "u: tensor([0.5924]) \t h: tensor([[0.3200]], grad_fn=<AddBackward0>)\n",
      "u: tensor([0.7272]) \t h: tensor([[0.1600]], grad_fn=<AddBackward0>)\n",
      "u: tensor([0.8176]) \t h: tensor([[0.1000]], grad_fn=<AddBackward0>)\n",
      "u: tensor([0.4111]) \t h: tensor([[13.7502]], grad_fn=<AddBackward0>)\n",
      "u: tensor([0.1267]) \t h: tensor([[20.0004]], grad_fn=<AddBackward0>)\n",
      "u: tensor([0.2205]) \t h: tensor([[20.0004]], grad_fn=<AddBackward0>)\n",
      "u: tensor([0.6850]) \t h: tensor([[0.1900]], grad_fn=<AddBackward0>)\n",
      "u: tensor([0.3205]) \t h: tensor([[20.0004]], grad_fn=<AddBackward0>)\n",
      "u: tensor([0.9779]) \t h: tensor([[0.0100]], grad_fn=<AddBackward0>)\n",
      "u: tensor([0.6584]) \t h: tensor([[15.4703]], grad_fn=<AddBackward0>)\n",
      "u: tensor([0.2758]) \t h: tensor([[20.0004]], grad_fn=<AddBackward0>)\n",
      "u: tensor([0.5880]) \t h: tensor([[19.9304]], grad_fn=<AddBackward0>)\n",
      "u: tensor([0.4278]) \t h: tensor([[20.0004]], grad_fn=<AddBackward0>)\n",
      "u: tensor([0.4598]) \t h: tensor([[20.0004]], grad_fn=<AddBackward0>)\n",
      "u: tensor([0.3831]) \t h: tensor([[20.0004]], grad_fn=<AddBackward0>)\n",
      "u: tensor([0.4415]) \t h: tensor([[20.0004]], grad_fn=<AddBackward0>)\n",
      "u: tensor([0.0798]) \t h: tensor([[20.0004]], grad_fn=<AddBackward0>)\n",
      "u: tensor([0.8510]) \t h: tensor([[5.3500]], grad_fn=<AddBackward0>)\n",
      "u: tensor([0.6150]) \t h: tensor([[18.1603]], grad_fn=<AddBackward0>)\n",
      "u: tensor([0.0591]) \t h: tensor([[20.0004]], grad_fn=<AddBackward0>)\n",
      "u: tensor([0.4667]) \t h: tensor([[20.0004]], grad_fn=<AddBackward0>)\n",
      "u: tensor([0.3110]) \t h: tensor([[20.0004]], grad_fn=<AddBackward0>)\n",
      "u: tensor([0.6310]) \t h: tensor([[17.1503]], grad_fn=<AddBackward0>)\n",
      "u: tensor([0.8061]) \t h: tensor([[7.5001]], grad_fn=<AddBackward0>)\n",
      "u: tensor([0.5718]) \t h: tensor([[20.0004]], grad_fn=<AddBackward0>)\n",
      "u: tensor([0.2226]) \t h: tensor([[20.0004]], grad_fn=<AddBackward0>)\n",
      "u: tensor([0.9262]) \t h: tensor([[0.2100]], grad_fn=<AddBackward0>)\n",
      "u: tensor([0.7975]) \t h: tensor([[7.9301]], grad_fn=<AddBackward0>)\n",
      "u: tensor([0.3645]) \t h: tensor([[20.0004]], grad_fn=<AddBackward0>)\n",
      "u: tensor([0.4175]) \t h: tensor([[20.0004]], grad_fn=<AddBackward0>)\n",
      "u: tensor([0.9364]) \t h: tensor([[3.2200]], grad_fn=<AddBackward0>)\n",
      "u: tensor([0.9026]) \t h: tensor([[4.6800]], grad_fn=<AddBackward0>)\n",
      "u: tensor([0.2989]) \t h: tensor([[20.0004]], grad_fn=<AddBackward0>)\n",
      "u: tensor([0.6908]) \t h: tensor([[15.2103]], grad_fn=<AddBackward0>)\n",
      "u: tensor([0.2480]) \t h: tensor([[20.0004]], grad_fn=<AddBackward0>)\n",
      "u: tensor([0.8465]) \t h: tensor([[7.2101]], grad_fn=<AddBackward0>)\n",
      "u: tensor([0.1206]) \t h: tensor([[20.0004]], grad_fn=<AddBackward0>)\n",
      "u: tensor([0.3221]) \t h: tensor([[20.0004]], grad_fn=<AddBackward0>)\n",
      "u: tensor([0.0643]) \t h: tensor([[20.0004]], grad_fn=<AddBackward0>)\n",
      "u: tensor([0.5597]) \t h: tensor([[20.0004]], grad_fn=<AddBackward0>)\n",
      "u: tensor([0.3954]) \t h: tensor([[20.0004]], grad_fn=<AddBackward0>)\n",
      "u: tensor([0.8571]) \t h: tensor([[6.7201]], grad_fn=<AddBackward0>)\n",
      "u: tensor([0.0006]) \t h: tensor([[20.0004]], grad_fn=<AddBackward0>)\n",
      "u: tensor([0.4233]) \t h: tensor([[20.0004]], grad_fn=<AddBackward0>)\n",
      "u: tensor([0.2267]) \t h: tensor([[20.0004]], grad_fn=<AddBackward0>)\n",
      "u: tensor([0.0316]) \t h: tensor([[20.0004]], grad_fn=<AddBackward0>)\n",
      "u: tensor([0.1840]) \t h: tensor([[20.0004]], grad_fn=<AddBackward0>)\n",
      "u: tensor([0.5582]) \t h: tensor([[20.0004]], grad_fn=<AddBackward0>)\n",
      "u: tensor([0.3869]) \t h: tensor([[20.0004]], grad_fn=<AddBackward0>)\n",
      "u: tensor([0.8644]) \t h: tensor([[5.8000]], grad_fn=<AddBackward0>)\n",
      "u: tensor([0.5534]) \t h: tensor([[20.0004]], grad_fn=<AddBackward0>)\n",
      "u: tensor([0.4381]) \t h: tensor([[20.0004]], grad_fn=<AddBackward0>)\n",
      "u: tensor([0.1912]) \t h: tensor([[20.0004]], grad_fn=<AddBackward0>)\n",
      "u: tensor([0.7736]) \t h: tensor([[10.1701]], grad_fn=<AddBackward0>)\n",
      "u: tensor([0.1016]) \t h: tensor([[20.0004]], grad_fn=<AddBackward0>)\n",
      "u: tensor([0.2638]) \t h: tensor([[20.0004]], grad_fn=<AddBackward0>)\n",
      "u: tensor([0.3447]) \t h: tensor([[20.0004]], grad_fn=<AddBackward0>)\n",
      "u: tensor([0.6259]) \t h: tensor([[18.5203]], grad_fn=<AddBackward0>)\n",
      "u: tensor([0.6245]) \t h: tensor([[18.6003]], grad_fn=<AddBackward0>)\n",
      "u: tensor([0.6919]) \t h: tensor([[14.5702]], grad_fn=<AddBackward0>)\n",
      "u: tensor([0.8333]) \t h: tensor([[7.2401]], grad_fn=<AddBackward0>)\n",
      "u: tensor([0.4465]) \t h: tensor([[20.0004]], grad_fn=<AddBackward0>)\n",
      "u: tensor([0.1021]) \t h: tensor([[20.0004]], grad_fn=<AddBackward0>)\n",
      "u: tensor([0.1747]) \t h: tensor([[20.0004]], grad_fn=<AddBackward0>)\n",
      "u: tensor([0.5901]) \t h: tensor([[20.0004]], grad_fn=<AddBackward0>)\n",
      "u: tensor([0.8312]) \t h: tensor([[7.3401]], grad_fn=<AddBackward0>)\n",
      "u: tensor([0.9832]) \t h: tensor([[0.7000]], grad_fn=<AddBackward0>)\n",
      "u: tensor([0.5216]) \t h: tensor([[20.0004]], grad_fn=<AddBackward0>)\n",
      "u: tensor([0.7214]) \t h: tensor([[12.9202]], grad_fn=<AddBackward0>)\n",
      "u: tensor([0.4112]) \t h: tensor([[20.0004]], grad_fn=<AddBackward0>)\n",
      "u: tensor([0.8623]) \t h: tensor([[5.8500]], grad_fn=<AddBackward0>)\n",
      "u: tensor([0.6194]) \t h: tensor([[18.8703]], grad_fn=<AddBackward0>)\n",
      "u: tensor([0.6005]) \t h: tensor([[20.0004]], grad_fn=<AddBackward0>)\n",
      "u: tensor([0.7342]) \t h: tensor([[12.1802]], grad_fn=<AddBackward0>)\n",
      "u: tensor([0.0125]) \t h: tensor([[20.0004]], grad_fn=<AddBackward0>)\n",
      "u: tensor([0.0880]) \t h: tensor([[20.0004]], grad_fn=<AddBackward0>)\n",
      "u: tensor([0.7583]) \t h: tensor([[10.9102]], grad_fn=<AddBackward0>)\n",
      "u: tensor([0.2637]) \t h: tensor([[20.0004]], grad_fn=<AddBackward0>)\n",
      "u: tensor([0.9223]) \t h: tensor([[3.1900]], grad_fn=<AddBackward0>)\n",
      "u: tensor([0.9538]) \t h: tensor([[1.8700]], grad_fn=<AddBackward0>)\n",
      "u: tensor([0.3183]) \t h: tensor([[20.0004]], grad_fn=<AddBackward0>)\n",
      "u: tensor([0.0322]) \t h: tensor([[20.0004]], grad_fn=<AddBackward0>)\n",
      "u: tensor([0.6407]) \t h: tensor([[17.5403]], grad_fn=<AddBackward0>)\n",
      "u: tensor([0.9448]) \t h: tensor([[2.2500]], grad_fn=<AddBackward0>)\n",
      "u: tensor([0.9989]) \t h: tensor([[0.0500]], grad_fn=<AddBackward0>)\n",
      "u: tensor([0.3016]) \t h: tensor([[20.0004]], grad_fn=<AddBackward0>)\n",
      "u: tensor([0.8964]) \t h: tensor([[4.3100]], grad_fn=<AddBackward0>)\n",
      "u: tensor([0.2864]) \t h: tensor([[20.0004]], grad_fn=<AddBackward0>)\n",
      "u: tensor([0.6021]) \t h: tensor([[19.9904]], grad_fn=<AddBackward0>)\n",
      "u: tensor([0.6734]) \t h: tensor([[15.5803]], grad_fn=<AddBackward0>)\n",
      "u: tensor([0.4400]) \t h: tensor([[20.0004]], grad_fn=<AddBackward0>)\n",
      "u: tensor([0.5123]) \t h: tensor([[20.0004]], grad_fn=<AddBackward0>)\n",
      "u: tensor([0.8442]) \t h: tensor([[6.6801]], grad_fn=<AddBackward0>)\n",
      "u: tensor([0.7095]) \t h: tensor([[13.5202]], grad_fn=<AddBackward0>)\n",
      "u: tensor([0.5421]) \t h: tensor([[20.0004]], grad_fn=<AddBackward0>)\n",
      "u: tensor([0.2634]) \t h: tensor([[20.0004]], grad_fn=<AddBackward0>)\n",
      "u: tensor([0.8747]) \t h: tensor([[5.2800]], grad_fn=<AddBackward0>)\n",
      "u: tensor([0.9403]) \t h: tensor([[2.4300]], grad_fn=<AddBackward0>)\n",
      "u: tensor([0.6464]) \t h: tensor([[17.1903]], grad_fn=<AddBackward0>)\n",
      "u: tensor([0.6681]) \t h: tensor([[15.8903]], grad_fn=<AddBackward0>)\n",
      "u: tensor([0.4804]) \t h: tensor([[20.0004]], grad_fn=<AddBackward0>)\n",
      "u: tensor([0.6450]) \t h: tensor([[17.2703]], grad_fn=<AddBackward0>)\n",
      "u: tensor([0.6116]) \t h: tensor([[19.3703]], grad_fn=<AddBackward0>)\n",
      "u: tensor([0.9899]) \t h: tensor([[0.4100]], grad_fn=<AddBackward0>)\n",
      "u: tensor([0.0507]) \t h: tensor([[20.0004]], grad_fn=<AddBackward0>)\n",
      "u: tensor([0.9155]) \t h: tensor([[3.4800]], grad_fn=<AddBackward0>)\n",
      "u: tensor([0.4100]) \t h: tensor([[20.0004]], grad_fn=<AddBackward0>)\n",
      "u: tensor([0.3131]) \t h: tensor([[20.0004]], grad_fn=<AddBackward0>)\n",
      "u: tensor([0.3501]) \t h: tensor([[20.0004]], grad_fn=<AddBackward0>)\n",
      "u: tensor([0.0547]) \t h: tensor([[20.0004]], grad_fn=<AddBackward0>)\n",
      "u: tensor([0.3295]) \t h: tensor([[0.5300]], grad_fn=<AddBackward0>)\n",
      "u: tensor([0.0439]) \t h: tensor([[20.0004]], grad_fn=<AddBackward0>)\n",
      "u: tensor([0.2693]) \t h: tensor([[5.3900]], grad_fn=<AddBackward0>)\n",
      "u: tensor([0.4082]) \t h: tensor([[0.3900]], grad_fn=<AddBackward0>)\n",
      "u: tensor([0.4486]) \t h: tensor([[0.3500]], grad_fn=<AddBackward0>)\n",
      "u: tensor([0.5478]) \t h: tensor([[0.2600]], grad_fn=<AddBackward0>)\n",
      "u: tensor([0.3422]) \t h: tensor([[0.5000]], grad_fn=<AddBackward0>)\n",
      "u: tensor([0.7486]) \t h: tensor([[0.1200]], grad_fn=<AddBackward0>)\n",
      "u: tensor([0.6127]) \t h: tensor([[0.2100]], grad_fn=<AddBackward0>)\n",
      "u: tensor([0.9827]) \t h: tensor([[0.0100]], grad_fn=<AddBackward0>)\n",
      "u: tensor([0.6951]) \t h: tensor([[0.1500]], grad_fn=<AddBackward0>)\n",
      "u: tensor([0.0349]) \t h: tensor([[20.0004]], grad_fn=<AddBackward0>)\n",
      "u: tensor([0.4283]) \t h: tensor([[0.3700]], grad_fn=<AddBackward0>)\n",
      "u: tensor([0.3995]) \t h: tensor([[0.4000]], grad_fn=<AddBackward0>)\n",
      "u: tensor([0.4040]) \t h: tensor([[0.4000]], grad_fn=<AddBackward0>)\n",
      "u: tensor([0.0259]) \t h: tensor([[20.0004]], grad_fn=<AddBackward0>)\n",
      "u: tensor([0.0847]) \t h: tensor([[20.0004]], grad_fn=<AddBackward0>)\n",
      "u: tensor([0.4434]) \t h: tensor([[0.3500]], grad_fn=<AddBackward0>)\n",
      "u: tensor([0.3942]) \t h: tensor([[0.4100]], grad_fn=<AddBackward0>)\n",
      "u: tensor([0.0362]) \t h: tensor([[20.0004]], grad_fn=<AddBackward0>)\n",
      "u: tensor([0.7619]) \t h: tensor([[12.6602]], grad_fn=<AddBackward0>)\n",
      "u: tensor([0.4204]) \t h: tensor([[20.0004]], grad_fn=<AddBackward0>)\n",
      "u: tensor([0.8968]) \t h: tensor([[6.2300]], grad_fn=<AddBackward0>)\n",
      "u: tensor([0.1043]) \t h: tensor([[20.0004]], grad_fn=<AddBackward0>)\n",
      "u: tensor([0.9738]) \t h: tensor([[2.8000]], grad_fn=<AddBackward0>)\n",
      "u: tensor([0.2168]) \t h: tensor([[20.0004]], grad_fn=<AddBackward0>)\n",
      "u: tensor([0.6036]) \t h: tensor([[20.0004]], grad_fn=<AddBackward0>)\n",
      "u: tensor([0.1827]) \t h: tensor([[20.0004]], grad_fn=<AddBackward0>)\n",
      "u: tensor([0.0451]) \t h: tensor([[20.0004]], grad_fn=<AddBackward0>)\n",
      "u: tensor([0.9288]) \t h: tensor([[4.8400]], grad_fn=<AddBackward0>)\n",
      "u: tensor([0.2380]) \t h: tensor([[20.0004]], grad_fn=<AddBackward0>)\n",
      "u: tensor([0.9703]) \t h: tensor([[2.9800]], grad_fn=<AddBackward0>)\n",
      "u: tensor([0.3560]) \t h: tensor([[20.0004]], grad_fn=<AddBackward0>)\n",
      "u: tensor([0.8572]) \t h: tensor([[8.0201]], grad_fn=<AddBackward0>)\n",
      "u: tensor([0.8999]) \t h: tensor([[6.1000]], grad_fn=<AddBackward0>)\n",
      "u: tensor([0.4061]) \t h: tensor([[20.0004]], grad_fn=<AddBackward0>)\n",
      "u: tensor([0.7196]) \t h: tensor([[14.9102]], grad_fn=<AddBackward0>)\n",
      "u: tensor([0.8400]) \t h: tensor([[8.8101]], grad_fn=<AddBackward0>)\n",
      "u: tensor([0.3188]) \t h: tensor([[20.0004]], grad_fn=<AddBackward0>)\n",
      "u: tensor([0.8134]) \t h: tensor([[8.3801]], grad_fn=<AddBackward0>)\n",
      "u: tensor([0.1887]) \t h: tensor([[20.0004]], grad_fn=<AddBackward0>)\n",
      "u: tensor([0.3309]) \t h: tensor([[20.0004]], grad_fn=<AddBackward0>)\n",
      "u: tensor([0.3708]) \t h: tensor([[20.0004]], grad_fn=<AddBackward0>)\n",
      "u: tensor([0.9977]) \t h: tensor([[0.1200]], grad_fn=<AddBackward0>)\n",
      "u: tensor([0.4461]) \t h: tensor([[20.0004]], grad_fn=<AddBackward0>)\n",
      "u: tensor([0.7814]) \t h: tensor([[9.9601]], grad_fn=<AddBackward0>)\n",
      "u: tensor([0.1066]) \t h: tensor([[20.0004]], grad_fn=<AddBackward0>)\n",
      "u: tensor([0.6186]) \t h: tensor([[19.1603]], grad_fn=<AddBackward0>)\n",
      "u: tensor([0.8608]) \t h: tensor([[6.1500]], grad_fn=<AddBackward0>)\n",
      "u: tensor([0.6632]) \t h: tensor([[16.4203]], grad_fn=<AddBackward0>)\n",
      "u: tensor([0.9730]) \t h: tensor([[1.2700]], grad_fn=<AddBackward0>)\n",
      "u: tensor([0.4558]) \t h: tensor([[20.0004]], grad_fn=<AddBackward0>)\n",
      "u: tensor([0.0983]) \t h: tensor([[20.0004]], grad_fn=<AddBackward0>)\n",
      "u: tensor([0.6569]) \t h: tensor([[16.8003]], grad_fn=<AddBackward0>)\n",
      "u: tensor([0.0424]) \t h: tensor([[20.0004]], grad_fn=<AddBackward0>)\n",
      "u: tensor([0.6459]) \t h: tensor([[17.4603]], grad_fn=<AddBackward0>)\n",
      "u: tensor([0.3005]) \t h: tensor([[20.0004]], grad_fn=<AddBackward0>)\n",
      "u: tensor([0.3005]) \t h: tensor([[20.0004]], grad_fn=<AddBackward0>)\n",
      "u: tensor([0.7408]) \t h: tensor([[12.0602]], grad_fn=<AddBackward0>)\n"
     ]
    },
    {
     "name": "stderr",
     "output_type": "stream",
     "text": [
      "  0%|          | 0/30 [00:34<?, ?it/s]"
     ]
    },
    {
     "name": "stdout",
     "output_type": "stream",
     "text": [
      "u: tensor([0.6625]) \t h: tensor([[16.4203]], grad_fn=<AddBackward0>)\n"
     ]
    },
    {
     "name": "stderr",
     "output_type": "stream",
     "text": [
      "\n"
     ]
    },
    {
     "ename": "KeyboardInterrupt",
     "evalue": "",
     "output_type": "error",
     "traceback": [
      "\u001b[0;31m---------------------------------------------------------------------------\u001b[0m",
      "\u001b[0;31mKeyboardInterrupt\u001b[0m                         Traceback (most recent call last)",
      "\u001b[0;32m/tmp/ipykernel_14148/3151094194.py\u001b[0m in \u001b[0;36m<module>\u001b[0;34m\u001b[0m\n\u001b[1;32m      1\u001b[0m results = train(train_model, sample_paths, scoring_func=utils.energy_score_loss,\n\u001b[0;32m----> 2\u001b[0;31m                 optimizer=optimizer, num_epochs=30, num_tries=20)\n\u001b[0m",
      "\u001b[0;32m/tmp/ipykernel_14148/2746122668.py\u001b[0m in \u001b[0;36mtrain\u001b[0;34m(model, paths, scoring_func, optimizer, num_epochs, num_tries)\u001b[0m\n\u001b[1;32m     12\u001b[0m                 \u001b[0mcurrent_pred\u001b[0m \u001b[0;34m=\u001b[0m \u001b[0;34m[\u001b[0m\u001b[0;34m]\u001b[0m\u001b[0;34m\u001b[0m\u001b[0;34m\u001b[0m\u001b[0m\n\u001b[1;32m     13\u001b[0m                 \u001b[0;32mfor\u001b[0m \u001b[0m_\u001b[0m \u001b[0;32min\u001b[0m \u001b[0mrange\u001b[0m\u001b[0;34m(\u001b[0m\u001b[0mnum_tries\u001b[0m\u001b[0;34m)\u001b[0m\u001b[0;34m:\u001b[0m\u001b[0;34m\u001b[0m\u001b[0;34m\u001b[0m\u001b[0m\n\u001b[0;32m---> 14\u001b[0;31m                     \u001b[0mcurrent_pred\u001b[0m\u001b[0;34m.\u001b[0m\u001b[0mappend\u001b[0m\u001b[0;34m(\u001b[0m\u001b[0mlast_t\u001b[0m \u001b[0;34m+\u001b[0m \u001b[0mmodel\u001b[0m\u001b[0;34m.\u001b[0m\u001b[0msample_one\u001b[0m\u001b[0;34m(\u001b[0m\u001b[0mstate\u001b[0m\u001b[0;34m)\u001b[0m\u001b[0;34m)\u001b[0m\u001b[0;34m\u001b[0m\u001b[0;34m\u001b[0m\u001b[0m\n\u001b[0m\u001b[1;32m     15\u001b[0m                 \u001b[0mcurrent_pred\u001b[0m \u001b[0;34m=\u001b[0m \u001b[0mtorch\u001b[0m\u001b[0;34m.\u001b[0m\u001b[0mstack\u001b[0m\u001b[0;34m(\u001b[0m\u001b[0mcurrent_pred\u001b[0m\u001b[0;34m)\u001b[0m\u001b[0;34m\u001b[0m\u001b[0;34m\u001b[0m\u001b[0m\n\u001b[1;32m     16\u001b[0m                 \u001b[0;31m#results.append(torch.mean(current_pred))\u001b[0m\u001b[0;34m\u001b[0m\u001b[0;34m\u001b[0m\u001b[0;34m\u001b[0m\u001b[0m\n",
      "\u001b[0;32m~/github/Recommender_Sim/simtrain/sim_models_new.py\u001b[0m in \u001b[0;36msample_one\u001b[0;34m(self, state)\u001b[0m\n\u001b[1;32m    884\u001b[0m         \u001b[0;31m#h_optimized = self.binary_search(state, u)\u001b[0m\u001b[0;34m\u001b[0m\u001b[0;34m\u001b[0m\u001b[0;34m\u001b[0m\u001b[0m\n\u001b[1;32m    885\u001b[0m \u001b[0;34m\u001b[0m\u001b[0m\n\u001b[0;32m--> 886\u001b[0;31m         \u001b[0mh_optimized\u001b[0m \u001b[0;34m=\u001b[0m \u001b[0mself\u001b[0m\u001b[0;34m.\u001b[0m\u001b[0mfind_h\u001b[0m\u001b[0;34m(\u001b[0m\u001b[0mstate\u001b[0m\u001b[0;34m,\u001b[0m \u001b[0mu\u001b[0m\u001b[0;34m)\u001b[0m\u001b[0;34m\u001b[0m\u001b[0;34m\u001b[0m\u001b[0m\n\u001b[0m\u001b[1;32m    887\u001b[0m         \u001b[0mprint\u001b[0m\u001b[0;34m(\u001b[0m\u001b[0;34mf\"u: {u} \\t h: {h_optimized}\"\u001b[0m\u001b[0;34m)\u001b[0m\u001b[0;34m\u001b[0m\u001b[0;34m\u001b[0m\u001b[0m\n\u001b[1;32m    888\u001b[0m         \u001b[0;32mreturn\u001b[0m \u001b[0mtorch\u001b[0m\u001b[0;34m.\u001b[0m\u001b[0mflatten\u001b[0m\u001b[0;34m(\u001b[0m\u001b[0mh_optimized\u001b[0m\u001b[0;34m)\u001b[0m\u001b[0;34m\u001b[0m\u001b[0;34m\u001b[0m\u001b[0m\n",
      "\u001b[0;32m~/github/Recommender_Sim/simtrain/sim_models_new.py\u001b[0m in \u001b[0;36mfind_h\u001b[0;34m(self, state, uniform_guess, interval_size, max_iter)\u001b[0m\n\u001b[1;32m    866\u001b[0m         \u001b[0mcurr_state\u001b[0m \u001b[0;34m=\u001b[0m \u001b[0mstate\u001b[0m\u001b[0;34m\u001b[0m\u001b[0;34m\u001b[0m\u001b[0m\n\u001b[1;32m    867\u001b[0m         \u001b[0;32mfor\u001b[0m \u001b[0m_\u001b[0m \u001b[0;32min\u001b[0m \u001b[0mrange\u001b[0m\u001b[0;34m(\u001b[0m\u001b[0mmax_iter\u001b[0m\u001b[0;34m)\u001b[0m\u001b[0;34m:\u001b[0m\u001b[0;34m\u001b[0m\u001b[0;34m\u001b[0m\u001b[0m\n\u001b[0;32m--> 868\u001b[0;31m             \u001b[0mcurr_state\u001b[0m \u001b[0;34m=\u001b[0m \u001b[0mself\u001b[0m\u001b[0;34m.\u001b[0m\u001b[0muser_state_model\u001b[0m\u001b[0;34m(\u001b[0m\u001b[0mcurr_state\u001b[0m\u001b[0;34m,\u001b[0m \u001b[0minterval_size\u001b[0m\u001b[0;34m)\u001b[0m\u001b[0;34m\u001b[0m\u001b[0;34m\u001b[0m\u001b[0m\n\u001b[0m\u001b[1;32m    869\u001b[0m             intensity_increase = self.intensity_model(h = interval_size, \n\u001b[1;32m    870\u001b[0m                                 intensity=intensity, state=curr_state)*interval_size\n",
      "\u001b[0;32m~/anaconda3/envs/WW/lib/python3.7/site-packages/torch/nn/modules/module.py\u001b[0m in \u001b[0;36m_call_impl\u001b[0;34m(self, *input, **kwargs)\u001b[0m\n\u001b[1;32m   1128\u001b[0m         if not (self._backward_hooks or self._forward_hooks or self._forward_pre_hooks or _global_backward_hooks\n\u001b[1;32m   1129\u001b[0m                 or _global_forward_hooks or _global_forward_pre_hooks):\n\u001b[0;32m-> 1130\u001b[0;31m             \u001b[0;32mreturn\u001b[0m \u001b[0mforward_call\u001b[0m\u001b[0;34m(\u001b[0m\u001b[0;34m*\u001b[0m\u001b[0minput\u001b[0m\u001b[0;34m,\u001b[0m \u001b[0;34m**\u001b[0m\u001b[0mkwargs\u001b[0m\u001b[0;34m)\u001b[0m\u001b[0;34m\u001b[0m\u001b[0;34m\u001b[0m\u001b[0m\n\u001b[0m\u001b[1;32m   1131\u001b[0m         \u001b[0;31m# Do not call functions when jit is used\u001b[0m\u001b[0;34m\u001b[0m\u001b[0;34m\u001b[0m\u001b[0;34m\u001b[0m\u001b[0m\n\u001b[1;32m   1132\u001b[0m         \u001b[0mfull_backward_hooks\u001b[0m\u001b[0;34m,\u001b[0m \u001b[0mnon_full_backward_hooks\u001b[0m \u001b[0;34m=\u001b[0m \u001b[0;34m[\u001b[0m\u001b[0;34m]\u001b[0m\u001b[0;34m,\u001b[0m \u001b[0;34m[\u001b[0m\u001b[0;34m]\u001b[0m\u001b[0;34m\u001b[0m\u001b[0;34m\u001b[0m\u001b[0m\n",
      "\u001b[0;32m~/github/Recommender_Sim/simtrain/sim_models_new.py\u001b[0m in \u001b[0;36mforward\u001b[0;34m(self, state, h, interval_time)\u001b[0m\n\u001b[1;32m    200\u001b[0m         \u001b[0mnum_intervals\u001b[0m \u001b[0;34m=\u001b[0m \u001b[0mint\u001b[0m\u001b[0;34m(\u001b[0m\u001b[0mmath\u001b[0m\u001b[0;34m.\u001b[0m\u001b[0mfloor\u001b[0m\u001b[0;34m(\u001b[0m\u001b[0mh\u001b[0m\u001b[0;34m/\u001b[0m\u001b[0minterval_time\u001b[0m\u001b[0;34m)\u001b[0m\u001b[0;34m)\u001b[0m\u001b[0;34m\u001b[0m\u001b[0;34m\u001b[0m\u001b[0m\n\u001b[1;32m    201\u001b[0m \u001b[0;34m\u001b[0m\u001b[0m\n\u001b[0;32m--> 202\u001b[0;31m         \u001b[0;32mfor\u001b[0m \u001b[0m_\u001b[0m \u001b[0;32min\u001b[0m \u001b[0mrange\u001b[0m\u001b[0;34m(\u001b[0m\u001b[0mnum_intervals\u001b[0m\u001b[0;34m)\u001b[0m\u001b[0;34m:\u001b[0m\u001b[0;34m\u001b[0m\u001b[0;34m\u001b[0m\u001b[0m\n\u001b[0m\u001b[1;32m    203\u001b[0m             \u001b[0mstate\u001b[0m \u001b[0;34m=\u001b[0m \u001b[0mstate\u001b[0m\u001b[0;34m+\u001b[0m\u001b[0;34m(\u001b[0m\u001b[0mself\u001b[0m\u001b[0;34m.\u001b[0m\u001b[0mode_func\u001b[0m\u001b[0;34m(\u001b[0m\u001b[0minterval_time\u001b[0m\u001b[0;34m,\u001b[0m \u001b[0mstate\u001b[0m\u001b[0;34m)\u001b[0m\u001b[0;34m*\u001b[0m\u001b[0minterval_time\u001b[0m\u001b[0;34m)\u001b[0m\u001b[0;34m.\u001b[0m\u001b[0mclone\u001b[0m\u001b[0;34m(\u001b[0m\u001b[0;34m)\u001b[0m\u001b[0;34m\u001b[0m\u001b[0;34m\u001b[0m\u001b[0m\n\u001b[1;32m    204\u001b[0m \u001b[0;34m\u001b[0m\u001b[0m\n",
      "\u001b[0;31mKeyboardInterrupt\u001b[0m: "
     ]
    }
   ],
   "source": [
    "results = train(train_model, sample_paths, scoring_func=utils.energy_score_loss,\n",
    "                optimizer=optimizer, num_epochs=30, num_tries=20)"
   ]
  },
  {
   "cell_type": "code",
   "execution_count": null,
   "metadata": {},
   "outputs": [],
   "source": []
  }
 ],
 "metadata": {
  "kernelspec": {
   "display_name": "WW",
   "language": "python",
   "name": "python3"
  },
  "language_info": {
   "codemirror_mode": {
    "name": "ipython",
    "version": 3
   },
   "file_extension": ".py",
   "mimetype": "text/x-python",
   "name": "python",
   "nbconvert_exporter": "python",
   "pygments_lexer": "ipython3",
   "version": "3.9.19"
  }
 },
 "nbformat": 4,
 "nbformat_minor": 2
}
