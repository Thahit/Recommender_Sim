{
 "cells": [
  {
   "attachments": {},
   "cell_type": "markdown",
   "metadata": {
    "nterop": {
     "id": "455"
    }
   },
   "source": [
    "# Train Simulator\n",
    "\n",
    "Requires fitting three models:\n",
    "+ a user choice model\n",
    "+ a single or set of recommender models\n",
    "+ a user visit model"
   ]
  },
  {
   "cell_type": "code",
   "execution_count": 1,
   "metadata": {
    "nterop": {
     "id": "1"
    }
   },
   "outputs": [
    {
     "name": "stdout",
     "output_type": "stream",
     "text": [
      "/home/thahit/github/Recommender_Sim\n",
      "loaded sim_models\n"
     ]
    }
   ],
   "source": [
    "import paths\n",
    "%cd {paths.base}\n",
    "from os.path import join\n",
    "\n",
    "%load_ext autoreload\n",
    "%autoreload 2\n",
    "from simtrain import process_dat, sim_models, explore_models, utils\n",
    "from simtrain import SETTINGS_POLIMI as SETTINGS\n",
    "import numpy as np\n",
    "import pandas as pd\n",
    "%matplotlib inline\n",
    "from matplotlib import pyplot as plt\n",
    "import scipy\n",
    "from scipy import stats, sparse\n",
    "import shutil\n",
    "from datetime import datetime\n",
    "import os\n",
    "os.environ['NUMEXPR_MAX_THREADS'] = SETTINGS.NUMEXPR_MAX_THREADS"
   ]
  },
  {
   "cell_type": "code",
   "execution_count": 2,
   "metadata": {
    "nterop": {
     "id": "4"
    }
   },
   "outputs": [
    {
     "name": "stdout",
     "output_type": "stream",
     "text": [
      "{'ab_test_id': 'train', 'rec_model_cell_nbr': [1], 'user_model_cell_nbr': 1, 'visit_model_cell_nbr': 1}\n"
     ]
    }
   ],
   "source": [
    "print(SETTINGS.simulation_components)\n",
    "ab_test_id = SETTINGS.simulation_components['ab_test_id']\n",
    "input_data_path = join(paths.dat, SETTINGS.rootpaths['input'])\n",
    "full_data_path = join(input_data_path, SETTINGS.filepaths['impressions_data_test']) % ab_test_id\n",
    "subset_data_path = full_data_path + '_subset'\n",
    "\n",
    "cell_col = 'acnt.test_cell_nbr'\n",
    "cells = {'train':1,\n",
    "        'valid':2,\n",
    "        'test_seen_users':3,\n",
    "        'test_unseen_users':4}"
   ]
  },
  {
   "cell_type": "code",
   "execution_count": 41,
   "metadata": {
    "nterop": {
     "id": "5"
    },
    "scrolled": true
   },
   "outputs": [
    {
     "name": "stdout",
     "output_type": "stream",
     "text": [
      "loaded sim_models\n",
      "settings {'NI': 302, 'NU': 328, 'T': 69.9892349243164, 'NS': 100, 'INF_TIME': 1000}\n"
     ]
    },
    {
     "data": {
      "text/html": [
       "<div>\n",
       "<style scoped>\n",
       "    .dataframe tbody tr th:only-of-type {\n",
       "        vertical-align: middle;\n",
       "    }\n",
       "\n",
       "    .dataframe tbody tr th {\n",
       "        vertical-align: top;\n",
       "    }\n",
       "\n",
       "    .dataframe thead th {\n",
       "        text-align: right;\n",
       "    }\n",
       "</style>\n",
       "<table border=\"1\" class=\"dataframe\">\n",
       "  <thead>\n",
       "    <tr style=\"text-align: right;\">\n",
       "      <th></th>\n",
       "      <th>Unnamed: 0</th>\n",
       "      <th>Unnamed: 0.1</th>\n",
       "      <th>user_id</th>\n",
       "      <th>time</th>\n",
       "      <th>action</th>\n",
       "      <th>state</th>\n",
       "      <th>rec_id</th>\n",
       "      <th>reward</th>\n",
       "      <th>round_time</th>\n",
       "    </tr>\n",
       "  </thead>\n",
       "  <tbody>\n",
       "    <tr>\n",
       "      <th>0</th>\n",
       "      <td>1</td>\n",
       "      <td>1</td>\n",
       "      <td>188</td>\n",
       "      <td>5.418762</td>\n",
       "      <td>119</td>\n",
       "      <td></td>\n",
       "      <td>0</td>\n",
       "      <td>False</td>\n",
       "      <td>5.416667</td>\n",
       "    </tr>\n",
       "    <tr>\n",
       "      <th>1</th>\n",
       "      <td>2</td>\n",
       "      <td>2</td>\n",
       "      <td>188</td>\n",
       "      <td>5.418762</td>\n",
       "      <td>74</td>\n",
       "      <td></td>\n",
       "      <td>0</td>\n",
       "      <td>True</td>\n",
       "      <td>5.416667</td>\n",
       "    </tr>\n",
       "    <tr>\n",
       "      <th>2</th>\n",
       "      <td>3</td>\n",
       "      <td>3</td>\n",
       "      <td>188</td>\n",
       "      <td>5.418762</td>\n",
       "      <td>132</td>\n",
       "      <td>74</td>\n",
       "      <td>0</td>\n",
       "      <td>False</td>\n",
       "      <td>5.416667</td>\n",
       "    </tr>\n",
       "    <tr>\n",
       "      <th>3</th>\n",
       "      <td>4</td>\n",
       "      <td>4</td>\n",
       "      <td>188</td>\n",
       "      <td>5.418762</td>\n",
       "      <td>195</td>\n",
       "      <td>74</td>\n",
       "      <td>0</td>\n",
       "      <td>False</td>\n",
       "      <td>5.416667</td>\n",
       "    </tr>\n",
       "    <tr>\n",
       "      <th>4</th>\n",
       "      <td>5</td>\n",
       "      <td>5</td>\n",
       "      <td>188</td>\n",
       "      <td>5.418762</td>\n",
       "      <td>249</td>\n",
       "      <td>74</td>\n",
       "      <td>0</td>\n",
       "      <td>False</td>\n",
       "      <td>5.416667</td>\n",
       "    </tr>\n",
       "    <tr>\n",
       "      <th>...</th>\n",
       "      <td>...</td>\n",
       "      <td>...</td>\n",
       "      <td>...</td>\n",
       "      <td>...</td>\n",
       "      <td>...</td>\n",
       "      <td>...</td>\n",
       "      <td>...</td>\n",
       "      <td>...</td>\n",
       "      <td>...</td>\n",
       "    </tr>\n",
       "    <tr>\n",
       "      <th>1168398</th>\n",
       "      <td>3112319</td>\n",
       "      <td>3112319</td>\n",
       "      <td>42063</td>\n",
       "      <td>29.539190</td>\n",
       "      <td>57</td>\n",
       "      <td>204:204:204:166:265:163:202:202:199:273:95:244...</td>\n",
       "      <td>1</td>\n",
       "      <td>False</td>\n",
       "      <td>29.541667</td>\n",
       "    </tr>\n",
       "    <tr>\n",
       "      <th>1168399</th>\n",
       "      <td>3112320</td>\n",
       "      <td>3112320</td>\n",
       "      <td>42063</td>\n",
       "      <td>29.539190</td>\n",
       "      <td>217</td>\n",
       "      <td>204:204:204:166:265:163:202:202:199:273:95:244...</td>\n",
       "      <td>1</td>\n",
       "      <td>False</td>\n",
       "      <td>29.541667</td>\n",
       "    </tr>\n",
       "    <tr>\n",
       "      <th>1168400</th>\n",
       "      <td>3112321</td>\n",
       "      <td>3112321</td>\n",
       "      <td>42063</td>\n",
       "      <td>29.539190</td>\n",
       "      <td>205</td>\n",
       "      <td>204:204:204:166:265:163:202:202:199:273:95:244...</td>\n",
       "      <td>1</td>\n",
       "      <td>False</td>\n",
       "      <td>29.541667</td>\n",
       "    </tr>\n",
       "    <tr>\n",
       "      <th>1168401</th>\n",
       "      <td>3112322</td>\n",
       "      <td>3112322</td>\n",
       "      <td>42063</td>\n",
       "      <td>29.539190</td>\n",
       "      <td>66</td>\n",
       "      <td>204:204:204:166:265:163:202:202:199:273:95:244...</td>\n",
       "      <td>1</td>\n",
       "      <td>False</td>\n",
       "      <td>29.541667</td>\n",
       "    </tr>\n",
       "    <tr>\n",
       "      <th>1168402</th>\n",
       "      <td>3112323</td>\n",
       "      <td>3112323</td>\n",
       "      <td>42063</td>\n",
       "      <td>29.539190</td>\n",
       "      <td>297</td>\n",
       "      <td>204:204:204:166:265:163:202:202:199:273:95:244...</td>\n",
       "      <td>1</td>\n",
       "      <td>False</td>\n",
       "      <td>29.541667</td>\n",
       "    </tr>\n",
       "  </tbody>\n",
       "</table>\n",
       "<p>1168403 rows × 9 columns</p>\n",
       "</div>"
      ],
      "text/plain": [
       "         Unnamed: 0  Unnamed: 0.1  user_id       time  action  \\\n",
       "0                 1             1      188   5.418762     119   \n",
       "1                 2             2      188   5.418762      74   \n",
       "2                 3             3      188   5.418762     132   \n",
       "3                 4             4      188   5.418762     195   \n",
       "4                 5             5      188   5.418762     249   \n",
       "...             ...           ...      ...        ...     ...   \n",
       "1168398     3112319       3112319    42063  29.539190      57   \n",
       "1168399     3112320       3112320    42063  29.539190     217   \n",
       "1168400     3112321       3112321    42063  29.539190     205   \n",
       "1168401     3112322       3112322    42063  29.539190      66   \n",
       "1168402     3112323       3112323    42063  29.539190     297   \n",
       "\n",
       "                                                     state  rec_id  reward  \\\n",
       "0                                                                0   False   \n",
       "1                                                                0    True   \n",
       "2                                                       74       0   False   \n",
       "3                                                       74       0   False   \n",
       "4                                                       74       0   False   \n",
       "...                                                    ...     ...     ...   \n",
       "1168398  204:204:204:166:265:163:202:202:199:273:95:244...       1   False   \n",
       "1168399  204:204:204:166:265:163:202:202:199:273:95:244...       1   False   \n",
       "1168400  204:204:204:166:265:163:202:202:199:273:95:244...       1   False   \n",
       "1168401  204:204:204:166:265:163:202:202:199:273:95:244...       1   False   \n",
       "1168402  204:204:204:166:265:163:202:202:199:273:95:244...       1   False   \n",
       "\n",
       "         round_time  \n",
       "0          5.416667  \n",
       "1          5.416667  \n",
       "2          5.416667  \n",
       "3          5.416667  \n",
       "4          5.416667  \n",
       "...             ...  \n",
       "1168398   29.541667  \n",
       "1168399   29.541667  \n",
       "1168400   29.541667  \n",
       "1168401   29.541667  \n",
       "1168402   29.541667  \n",
       "\n",
       "[1168403 rows x 9 columns]"
      ]
     },
     "execution_count": 41,
     "metadata": {},
     "output_type": "execute_result"
    }
   ],
   "source": [
    "train_dat, stg = process_dat.load_dat(paths.cw_stages['output']['train'])\n",
    "print('settings',stg)\n",
    "train_dat"
   ]
  },
  {
   "cell_type": "code",
   "execution_count": 43,
   "metadata": {},
   "outputs": [
    {
     "data": {
      "text/plain": [
       "Index(['user_id', 'time', 'action', 'state', 'rec_id', 'reward', 'round_time'], dtype='object')"
      ]
     },
     "execution_count": 43,
     "metadata": {},
     "output_type": "execute_result"
    }
   ],
   "source": [
    "train_dat.drop(['Unnamed: 0.1', \"Unnamed: 0\"], axis=1, inplace=True)"
   ]
  },
  {
   "cell_type": "code",
   "execution_count": 4,
   "metadata": {},
   "outputs": [],
   "source": [
    "validation_dat, _ = process_dat.load_dat(paths.cw_stages['output']['validate'])\n",
    "test_seen_users_dat, _ = process_dat.load_dat(paths.cw_stages['output']['test-seen'])\n",
    "test_unseen_users_dat, _ = process_dat.load_dat(paths.cw_stages['output']['test-unseen'])"
   ]
  },
  {
   "cell_type": "code",
   "execution_count": 5,
   "metadata": {
    "nterop": {
     "id": "232"
    }
   },
   "outputs": [],
   "source": [
    "# combine all into one dataframe with new column indicating \"cell\", i.e. train = 1, validate = 2, test seen = 3, test unseen = 4\n",
    "train_dat[cell_col] = cells['train']\n",
    "validation_dat[cell_col] = cells['valid']\n",
    "test_seen_users_dat[cell_col] = cells['test_seen_users']\n",
    "test_unseen_users_dat[cell_col] = cells['test_unseen_users']\n",
    "all_dat = pd.concat([train_dat, validation_dat, test_seen_users_dat, test_unseen_users_dat], ignore_index = True)\n",
    "simulation = all_dat"
   ]
  },
  {
   "cell_type": "code",
   "execution_count": 6,
   "metadata": {
    "nterop": {
     "id": "233"
    }
   },
   "outputs": [],
   "source": [
    "# combine all into one dataframe with new column indicating \"cell\", i.e. train = 1, validate = 2, test seen = 3, test unseen = 4\n",
    "train_dat[cell_col] = cells['train']\n",
    "validation_dat[cell_col] = cells['valid']\n",
    "test_seen_users_dat[cell_col] = cells['test_seen_users']\n",
    "test_unseen_users_dat[cell_col] = cells['test_unseen_users']\n",
    "all_dat = pd.concat([train_dat, validation_dat, test_seen_users_dat, test_unseen_users_dat], ignore_index = True)\n",
    "simulation = all_dat"
   ]
  },
  {
   "cell_type": "code",
   "execution_count": 7,
   "metadata": {
    "nterop": {
     "id": "234"
    }
   },
   "outputs": [
    {
     "name": "stdout",
     "output_type": "stream",
     "text": [
      "settings {'NI': 302, 'NU': 481, 'T': 97.99586486816406, 'NS': 100, 'INF_TIME': 1000}\n"
     ]
    }
   ],
   "source": [
    "# finally calculate settings dict from all data:\n",
    "stg = process_dat.get_settings(all_dat)\n",
    "print('settings',stg)"
   ]
  },
  {
   "cell_type": "code",
   "execution_count": 8,
   "metadata": {
    "nterop": {
     "id": "7"
    }
   },
   "outputs": [
    {
     "name": "stdout",
     "output_type": "stream",
     "text": [
      "summary stats of data splits:\n",
      "cell 1: 1168403 impressions\n",
      "cell 2: 505067 impressions\n",
      "cell 3: 320285 impressions\n",
      "cell 4: 144652 impressions\n"
     ]
    }
   ],
   "source": [
    "print('summary stats of data splits:')\n",
    "for i in range(1,5):\n",
    "    print('cell %i:' % i, all_dat[all_dat['acnt.test_cell_nbr']==i].time.count(), 'impressions')"
   ]
  },
  {
   "cell_type": "code",
   "execution_count": 9,
   "metadata": {
    "nterop": {
     "id": "9"
    }
   },
   "outputs": [
    {
     "name": "stdout",
     "output_type": "stream",
     "text": [
      "num users in cell 1: 328\n",
      "num users in cell 2: 143\n",
      "num users in cell 3: 244\n",
      "num users in cell 4: 110\n"
     ]
    }
   ],
   "source": [
    "# num users in each cell\n",
    "for i in range(1,5):\n",
    "    print('num users in cell %i:' % i,simulation[simulation['acnt.test_cell_nbr']==i].user_id.nunique())"
   ]
  },
  {
   "cell_type": "code",
   "execution_count": 10,
   "metadata": {
    "nterop": {
     "id": "304"
    }
   },
   "outputs": [],
   "source": [
    "# create subset of data for hyperparameter selection:\n",
    "np.random.seed(87)\n",
    "hyp_sub_sim = simulation.sample(n=100000)"
   ]
  },
  {
   "cell_type": "code",
   "execution_count": 11,
   "metadata": {
    "nterop": {
     "id": "275"
    }
   },
   "outputs": [],
   "source": [
    "intermediate_path = paths.cw_stages['output']['alldat']\n",
    "hyp_subset_path = paths.cw_stages['output']['hypsubset']"
   ]
  },
  {
   "cell_type": "code",
   "execution_count": 12,
   "metadata": {
    "nterop": {
     "id": "338"
    },
    "scrolled": true
   },
   "outputs": [],
   "source": [
    "all_dat.reset_index(drop=True).to_csv(intermediate_path, index=False)\n",
    "hyp_sub_sim.reset_index(drop=True).to_csv(hyp_subset_path, index=False)"
   ]
  },
  {
   "cell_type": "code",
   "execution_count": 13,
   "metadata": {},
   "outputs": [
    {
     "data": {
      "text/plain": [
       "'/home/thahit/github/Recommender_Sim/ContentWiseImpressions/data/ContentWiseImpressions/CW10M-CSV/ContentWise-alldat-subitems.csv.gz'"
      ]
     },
     "execution_count": 13,
     "metadata": {},
     "output_type": "execute_result"
    }
   ],
   "source": [
    "intermediate_path"
   ]
  },
  {
   "cell_type": "code",
   "execution_count": 14,
   "metadata": {
    "nterop": {
     "id": "339"
    }
   },
   "outputs": [],
   "source": [
    "all_dat,_ = process_dat.load_dat(intermediate_path)\n",
    "hyp_sub_sim,_ = process_dat.load_dat(hyp_subset_path)\n",
    "stg = process_dat.get_settings(all_dat)"
   ]
  },
  {
   "cell_type": "code",
   "execution_count": 15,
   "metadata": {
    "nterop": {
     "id": "10"
    }
   },
   "outputs": [],
   "source": [
    "# take a subset of users in each cell:\n",
    "subset_usr_slice_1 = all_dat[all_dat['acnt.test_cell_nbr']==1].user_id.sample(n=100)\n",
    "sub_sim = all_dat[all_dat['user_id'].isin(subset_usr_slice_1)].reset_index(drop=True)"
   ]
  },
  {
   "attachments": {},
   "cell_type": "markdown",
   "metadata": {
    "nterop": {
     "id": "13"
    }
   },
   "source": [
    "### Fit Models to Minimize Sim2Real Gap\n",
    "and save to disk"
   ]
  },
  {
   "attachments": {},
   "cell_type": "markdown",
   "metadata": {
    "nterop": {
     "id": "305"
    }
   },
   "source": [
    "### Rec model hyperparameter selection\n",
    "\n",
    "hyperparameters to select over:\n",
    "+ n_nodes per first layer = [500, 1000, 2000]\n",
    "+ n_nodes per second layer = [0, 100, 500]\n",
    "+ alpha for popularity attenuation = [0., 0.05, 0.1, 0.2]\n",
    "\n",
    "strategy:\n",
    "+ select architecture, pick one that minimizes loss on validation data\n",
    "+ then select alpha based on min loss on validation data"
   ]
  },
  {
   "cell_type": "code",
   "execution_count": 16,
   "metadata": {
    "nterop": {
     "id": "306"
    }
   },
   "outputs": [
    {
     "data": {
      "text/plain": [
       "Text(0, 0.5, 'weight adjustment')"
      ]
     },
     "execution_count": 16,
     "metadata": {},
     "output_type": "execute_result"
    },
    {
     "data": {
      "image/png": "[encoded data removed]",
      "text/plain": [
       "<Figure size 640x480 with 1 Axes>"
      ]
     },
     "metadata": {},
     "output_type": "display_data"
    }
   ],
   "source": [
    "hyp_dat_ac = hyp_sub_sim.groupby('action').action.count()\n",
    "pr_item = hyp_dat_ac / hyp_sub_sim.shape[0]\n",
    "weights = 1/(pr_item**0.1)\n",
    "weight_df = weights.to_frame().rename(columns={'action':'weight'})\n",
    "ys = weights.values\n",
    "plt.scatter(pr_item, ys)\n",
    "plt.xlabel('pr item per impression')\n",
    "plt.ylabel('weight adjustment')"
   ]
  },
  {
   "cell_type": "code",
   "execution_count": 17,
   "metadata": {
    "nterop": {
     "id": "309"
    }
   },
   "outputs": [
    {
     "name": "stdout",
     "output_type": "stream",
     "text": [
      "n train points 10000\n",
      "updating with hp {'n_hidden_layers': 1, 'n_nodes': [500]}\n",
      "training with hyp {'dropout_rate': 0.15, 'n_hidden_layers': 1, 'n_nodes': [500], 'hidden_activation': 'relu', 'max_epoch': 1, 'min_delta': 0.01, 'batch_size': 2048, 'train_ips': False, 'time_slots_per_day': 1.0, 'popularity_alpha': 0}\n",
      "WARNING:tensorflow:From /home/thahit/anaconda3/envs/WW/lib/python3.7/site-packages/tensorflow_core/python/ops/resource_variable_ops.py:1630: calling BaseResourceVariable.__init__ (from tensorflow.python.ops.resource_variable_ops) with constraint is deprecated and will be removed in a future version.\n",
      "Instructions for updating:\n",
      "If using Keras pass *_constraint arguments to layers.\n",
      "\t decoding state:\n",
      "stats of sparse matrix 0 9999 0 301 10000 302\n",
      "\t one-hot encoding actions:\n"
     ]
    },
    {
     "name": "stderr",
     "output_type": "stream",
     "text": [
      "OMP: Info #212: KMP_AFFINITY: decoding x2APIC ids.\n",
      "OMP: Info #210: KMP_AFFINITY: Affinity capable, using global cpuid leaf 11 info\n",
      "OMP: Info #154: KMP_AFFINITY: Initial OS proc set respected: 0-21\n",
      "OMP: Info #156: KMP_AFFINITY: 22 available OS procs\n",
      "OMP: Info #158: KMP_AFFINITY: Nonuniform topology\n",
      "OMP: Info #179: KMP_AFFINITY: 1 packages x 16 cores/pkg x 2 threads/core (16 total cores)\n",
      "OMP: Info #214: KMP_AFFINITY: OS proc to physical thread map:\n",
      "OMP: Info #171: KMP_AFFINITY: OS proc 12 maps to package 0 core 0 thread 0 \n",
      "OMP: Info #171: KMP_AFFINITY: OS proc 13 maps to package 0 core 1 thread 0 \n",
      "OMP: Info #171: KMP_AFFINITY: OS proc 14 maps to package 0 core 2 thread 0 \n",
      "OMP: Info #171: KMP_AFFINITY: OS proc 15 maps to package 0 core 3 thread 0 \n",
      "OMP: Info #171: KMP_AFFINITY: OS proc 16 maps to package 0 core 4 thread 0 \n",
      "OMP: Info #171: KMP_AFFINITY: OS proc 17 maps to package 0 core 5 thread 0 \n",
      "OMP: Info #171: KMP_AFFINITY: OS proc 18 maps to package 0 core 6 thread 0 \n",
      "OMP: Info #171: KMP_AFFINITY: OS proc 19 maps to package 0 core 7 thread 0 \n",
      "OMP: Info #171: KMP_AFFINITY: OS proc 1 maps to package 0 core 8 thread 0 \n",
      "OMP: Info #171: KMP_AFFINITY: OS proc 2 maps to package 0 core 8 thread 1 \n",
      "OMP: Info #171: KMP_AFFINITY: OS proc 3 maps to package 0 core 12 thread 0 \n",
      "OMP: Info #171: KMP_AFFINITY: OS proc 4 maps to package 0 core 12 thread 1 \n",
      "OMP: Info #171: KMP_AFFINITY: OS proc 0 maps to package 0 core 16 thread 0 \n",
      "OMP: Info #171: KMP_AFFINITY: OS proc 5 maps to package 0 core 16 thread 1 \n",
      "OMP: Info #171: KMP_AFFINITY: OS proc 6 maps to package 0 core 20 thread 0 \n",
      "OMP: Info #171: KMP_AFFINITY: OS proc 7 maps to package 0 core 20 thread 1 \n",
      "OMP: Info #171: KMP_AFFINITY: OS proc 8 maps to package 0 core 24 thread 0 \n",
      "OMP: Info #171: KMP_AFFINITY: OS proc 9 maps to package 0 core 24 thread 1 \n",
      "OMP: Info #171: KMP_AFFINITY: OS proc 10 maps to package 0 core 28 thread 0 \n",
      "OMP: Info #171: KMP_AFFINITY: OS proc 11 maps to package 0 core 28 thread 1 \n",
      "OMP: Info #171: KMP_AFFINITY: OS proc 20 maps to package 0 core 32 thread 0 \n",
      "OMP: Info #171: KMP_AFFINITY: OS proc 21 maps to package 0 core 33 thread 0 \n",
      "OMP: Info #250: KMP_AFFINITY: pid 16441 tid 16441 thread 0 bound to OS proc set 12\n"
     ]
    },
    {
     "name": "stdout",
     "output_type": "stream",
     "text": [
      "WARNING:tensorflow:From /home/thahit/anaconda3/envs/WW/lib/python3.7/site-packages/tensorflow_core/python/keras/optimizer_v2/adagrad.py:107: calling Constant.__init__ (from tensorflow.python.ops.init_ops) with dtype is deprecated and will be removed in a future version.\n",
      "Instructions for updating:\n",
      "Call initializer instance with the dtype argument instead of passing it to the constructor\n",
      "1/5 [=====>........................] - ETA: 2s - loss: 5.7110 - acc: 0.0024"
     ]
    },
    {
     "name": "stderr",
     "output_type": "stream",
     "text": [
      "OMP: Info #250: KMP_AFFINITY: pid 16441 tid 16551 thread 1 bound to OS proc set 13\n",
      "OMP: Info #250: KMP_AFFINITY: pid 16441 tid 16554 thread 2 bound to OS proc set 14\n",
      "OMP: Info #250: KMP_AFFINITY: pid 16441 tid 16555 thread 3 bound to OS proc set 15\n",
      "OMP: Info #250: KMP_AFFINITY: pid 16441 tid 16556 thread 4 bound to OS proc set 16\n",
      "OMP: Info #250: KMP_AFFINITY: pid 16441 tid 16557 thread 5 bound to OS proc set 17\n",
      "OMP: Info #250: KMP_AFFINITY: pid 16441 tid 16558 thread 6 bound to OS proc set 18\n",
      "OMP: Info #250: KMP_AFFINITY: pid 16441 tid 16559 thread 7 bound to OS proc set 19\n",
      "OMP: Info #250: KMP_AFFINITY: pid 16441 tid 16560 thread 8 bound to OS proc set 1\n",
      "OMP: Info #250: KMP_AFFINITY: pid 16441 tid 16561 thread 9 bound to OS proc set 3\n",
      "OMP: Info #250: KMP_AFFINITY: pid 16441 tid 16562 thread 10 bound to OS proc set 0\n",
      "OMP: Info #250: KMP_AFFINITY: pid 16441 tid 16563 thread 11 bound to OS proc set 6\n",
      "OMP: Info #250: KMP_AFFINITY: pid 16441 tid 16564 thread 12 bound to OS proc set 8\n",
      "OMP: Info #250: KMP_AFFINITY: pid 16441 tid 16565 thread 13 bound to OS proc set 10\n",
      "OMP: Info #250: KMP_AFFINITY: pid 16441 tid 16567 thread 15 bound to OS proc set 21\n",
      "OMP: Info #250: KMP_AFFINITY: pid 16441 tid 16568 thread 16 bound to OS proc set 2\n",
      "OMP: Info #250: KMP_AFFINITY: pid 16441 tid 16566 thread 14 bound to OS proc set 20\n",
      "OMP: Info #250: KMP_AFFINITY: pid 16441 tid 16552 thread 17 bound to OS proc set 4\n",
      "OMP: Info #250: KMP_AFFINITY: pid 16441 tid 16569 thread 18 bound to OS proc set 5\n",
      "OMP: Info #250: KMP_AFFINITY: pid 16441 tid 16570 thread 19 bound to OS proc set 7\n",
      "OMP: Info #250: KMP_AFFINITY: pid 16441 tid 16573 thread 22 bound to OS proc set 12\n",
      "OMP: Info #250: KMP_AFFINITY: pid 16441 tid 16574 thread 23 bound to OS proc set 13\n",
      "OMP: Info #250: KMP_AFFINITY: pid 16441 tid 16572 thread 21 bound to OS proc set 11\n",
      "OMP: Info #250: KMP_AFFINITY: pid 16441 tid 16571 thread 20 bound to OS proc set 9\n",
      "OMP: Info #250: KMP_AFFINITY: pid 16441 tid 16575 thread 24 bound to OS proc set 14\n",
      "OMP: Info #250: KMP_AFFINITY: pid 16441 tid 16576 thread 25 bound to OS proc set 15\n",
      "OMP: Info #250: KMP_AFFINITY: pid 16441 tid 16577 thread 26 bound to OS proc set 16\n",
      "OMP: Info #250: KMP_AFFINITY: pid 16441 tid 16578 thread 27 bound to OS proc set 17\n",
      "OMP: Info #250: KMP_AFFINITY: pid 16441 tid 16579 thread 28 bound to OS proc set 18\n",
      "OMP: Info #250: KMP_AFFINITY: pid 16441 tid 16580 thread 29 bound to OS proc set 19\n",
      "OMP: Info #250: KMP_AFFINITY: pid 16441 tid 16581 thread 30 bound to OS proc set 1\n",
      "OMP: Info #250: KMP_AFFINITY: pid 16441 tid 16582 thread 31 bound to OS proc set 3\n",
      "OMP: Info #250: KMP_AFFINITY: pid 16441 tid 16583 thread 32 bound to OS proc set 0\n"
     ]
    },
    {
     "name": "stdout",
     "output_type": "stream",
     "text": [
      "5/5 [==============================] - 1s 172ms/step - loss: 5.7037 - acc: 0.0125\n",
      "updating with hp {'n_hidden_layers': 1, 'n_nodes': [1000]}\n",
      "training with hyp {'dropout_rate': 0.15, 'n_hidden_layers': 1, 'n_nodes': [1000], 'hidden_activation': 'relu', 'max_epoch': 1, 'min_delta': 0.01, 'batch_size': 2048, 'train_ips': False, 'time_slots_per_day': 1.0, 'popularity_alpha': 0}\n",
      "\t decoding state:\n",
      "stats of sparse matrix 0 9999 0 301 10000 302\n",
      "\t one-hot encoding actions:\n",
      "5/5 [==============================] - 1s 174ms/step - loss: 5.6997 - acc: 0.0157\n",
      "updating with hp {'n_hidden_layers': 1, 'n_nodes': [2000]}\n",
      "training with hyp {'dropout_rate': 0.15, 'n_hidden_layers': 1, 'n_nodes': [2000], 'hidden_activation': 'relu', 'max_epoch': 1, 'min_delta': 0.01, 'batch_size': 2048, 'train_ips': False, 'time_slots_per_day': 1.0, 'popularity_alpha': 0}\n",
      "\t decoding state:\n",
      "stats of sparse matrix 0 9999 0 301 10000 302\n",
      "\t one-hot encoding actions:\n",
      "5/5 [==============================] - 1s 270ms/step - loss: 5.6946 - acc: 0.0172\n",
      "updating with hp {'n_hidden_layers': 2, 'n_nodes': [500, 100]}\n",
      "training with hyp {'dropout_rate': 0.15, 'n_hidden_layers': 2, 'n_nodes': [500, 100], 'hidden_activation': 'relu', 'max_epoch': 1, 'min_delta': 0.01, 'batch_size': 2048, 'train_ips': False, 'time_slots_per_day': 1.0, 'popularity_alpha': 0}\n",
      "\t decoding state:\n",
      "stats of sparse matrix 0 9999 0 301 10000 302\n",
      "\t one-hot encoding actions:\n",
      "5/5 [==============================] - 1s 240ms/step - loss: 5.7051 - acc: 0.0111\n",
      "updating with hp {'n_hidden_layers': 2, 'n_nodes': [500, 500]}\n",
      "training with hyp {'dropout_rate': 0.15, 'n_hidden_layers': 2, 'n_nodes': [500, 500], 'hidden_activation': 'relu', 'max_epoch': 1, 'min_delta': 0.01, 'batch_size': 2048, 'train_ips': False, 'time_slots_per_day': 1.0, 'popularity_alpha': 0}\n",
      "\t decoding state:\n",
      "stats of sparse matrix 0 9999 0 301 10000 302\n",
      "\t one-hot encoding actions:\n",
      "5/5 [==============================] - 2s 305ms/step - loss: 5.6982 - acc: 0.0170\n",
      "updating with hp {'n_hidden_layers': 2, 'n_nodes': [1000, 100]}\n",
      "training with hyp {'dropout_rate': 0.15, 'n_hidden_layers': 2, 'n_nodes': [1000, 100], 'hidden_activation': 'relu', 'max_epoch': 1, 'min_delta': 0.01, 'batch_size': 2048, 'train_ips': False, 'time_slots_per_day': 1.0, 'popularity_alpha': 0}\n",
      "\t decoding state:\n",
      "stats of sparse matrix 0 9999 0 301 10000 302\n",
      "\t one-hot encoding actions:\n",
      "5/5 [==============================] - 1s 234ms/step - loss: 5.7049 - acc: 0.0133\n",
      "updating with hp {'n_hidden_layers': 2, 'n_nodes': [1000, 500]}\n",
      "training with hyp {'dropout_rate': 0.15, 'n_hidden_layers': 2, 'n_nodes': [1000, 500], 'hidden_activation': 'relu', 'max_epoch': 1, 'min_delta': 0.01, 'batch_size': 2048, 'train_ips': False, 'time_slots_per_day': 1.0, 'popularity_alpha': 0}\n",
      "\t decoding state:\n",
      "stats of sparse matrix 0 9999 0 301 10000 302\n",
      "\t one-hot encoding actions:\n",
      "5/5 [==============================] - 1s 257ms/step - loss: 5.6943 - acc: 0.0181\n",
      "updating with hp {'n_hidden_layers': 2, 'n_nodes': [2000, 500]}\n",
      "training with hyp {'dropout_rate': 0.15, 'n_hidden_layers': 2, 'n_nodes': [2000, 500], 'hidden_activation': 'relu', 'max_epoch': 1, 'min_delta': 0.01, 'batch_size': 2048, 'train_ips': False, 'time_slots_per_day': 1.0, 'popularity_alpha': 0}\n",
      "\t decoding state:\n",
      "stats of sparse matrix 0 9999 0 301 10000 302\n",
      "\t one-hot encoding actions:\n",
      "5/5 [==============================] - 2s 390ms/step - loss: 5.6869 - acc: 0.0156\n",
      "updating with hp {'popularity_alpha': 0.05, 'n_hidden_layers': 1, 'n_nodes': [1000]}\n",
      "training with hyp {'dropout_rate': 0.15, 'n_hidden_layers': 1, 'n_nodes': [1000], 'hidden_activation': 'relu', 'max_epoch': 1, 'min_delta': 0.01, 'batch_size': 2048, 'train_ips': False, 'time_slots_per_day': 1.0, 'popularity_alpha': 0.05}\n",
      "weights shape (10000,)\n",
      "\t decoding state:\n",
      "stats of sparse matrix 0 9999 0 301 10000 302\n",
      "\t one-hot encoding actions:\n",
      "5/5 [==============================] - 2s 306ms/step - loss: 7.3028 - acc: 0.0156\n",
      "updating with hp {'popularity_alpha': 0.1, 'n_hidden_layers': 1, 'n_nodes': [1000]}\n",
      "training with hyp {'dropout_rate': 0.15, 'n_hidden_layers': 1, 'n_nodes': [1000], 'hidden_activation': 'relu', 'max_epoch': 1, 'min_delta': 0.01, 'batch_size': 2048, 'train_ips': False, 'time_slots_per_day': 1.0, 'popularity_alpha': 0.1}\n",
      "weights shape (10000,)\n",
      "\t decoding state:\n",
      "stats of sparse matrix 0 9999 0 301 10000 302\n",
      "\t one-hot encoding actions:\n",
      "5/5 [==============================] - 1s 247ms/step - loss: 9.3873 - acc: 0.0113\n",
      "updating with hp {'popularity_alpha': 0.2, 'n_hidden_layers': 1, 'n_nodes': [1000]}\n",
      "training with hyp {'dropout_rate': 0.15, 'n_hidden_layers': 1, 'n_nodes': [1000], 'hidden_activation': 'relu', 'max_epoch': 1, 'min_delta': 0.01, 'batch_size': 2048, 'train_ips': False, 'time_slots_per_day': 1.0, 'popularity_alpha': 0.2}\n",
      "weights shape (10000,)\n",
      "\t decoding state:\n",
      "stats of sparse matrix 0 9999 0 301 10000 302\n",
      "\t one-hot encoding actions:\n",
      "5/5 [==============================] - 1s 269ms/step - loss: 15.6516 - acc: 0.0178\n"
     ]
    }
   ],
   "source": [
    "# define hyp configuration as operation on the hyp dict:\n",
    "rec_hyp_points = [{'n_hidden_layers':1, 'n_nodes':[500]},\n",
    "                  {'n_hidden_layers':1, 'n_nodes':[1000]},\n",
    "                  {'n_hidden_layers':1, 'n_nodes':[2000]},\n",
    "                  {'n_hidden_layers':2, 'n_nodes':[500,100]},\n",
    "                  {'n_hidden_layers':2, 'n_nodes':[500,500]},\n",
    "                  {'n_hidden_layers':2, 'n_nodes':[1000,100]},\n",
    "                  {'n_hidden_layers':2, 'n_nodes':[1000,500]},\n",
    "                  {'n_hidden_layers':2, 'n_nodes':[2000,500]},\n",
    "                  {'popularity_alpha':0.05, 'n_hidden_layers':1, 'n_nodes':[1000]},\n",
    "                  {'popularity_alpha':0.1, 'n_hidden_layers':1, 'n_nodes':[1000]},\n",
    "                  {'popularity_alpha':0.2, 'n_hidden_layers':1, 'n_nodes':[1000]}]\n",
    "\n",
    "# define settings global to all experiments in hyp selection:\n",
    "rec_hyp_global =  {'dropout_rate': 0.15, \n",
    "                      'hidden_activation': 'relu',\n",
    "                      'max_epoch': 1,\n",
    "                      'min_delta': 0.01, \n",
    "                      'batch_size':2048,\n",
    "                      'train_ips': False,\n",
    "                       'popularity_alpha':0\n",
    "                    }\n",
    "\n",
    "def train_hyp_rec(dat, stg, hyp, hyp_points, global_hyp, seed=84):\n",
    "    np.random.seed(seed)\n",
    "    train_rows = (dat['acnt.test_cell_nbr']==cells['train'])\n",
    "    rec_train = dat[train_rows].sample(n=10000)\n",
    "    print('n train points', rec_train.shape[0])\n",
    "    \n",
    "    retval = [] # of form (model, all_hyp, delta_hyp)\n",
    "    \n",
    "    # define action popularity:\n",
    "    dat_ac = dat.groupby('action').action.count()\n",
    "    pr_item = dat_ac / dat.shape[0]\n",
    "    weight_df = pr_item.to_frame().rename(columns={'action':'pr_item'})\n",
    "    \n",
    "    for hp in hyp_points:\n",
    "        # update local copy of hyp:\n",
    "        local_hyp = hyp.copy()\n",
    "        print('updating with hp',hp)\n",
    "        local_hyp.update(global_hyp)\n",
    "        local_hyp.update(hp)\n",
    "        print('training with hyp',local_hyp)\n",
    "        \n",
    "        # define weights:\n",
    "        pop_alpha = local_hyp['popularity_alpha']\n",
    "        if  pop_alpha > 0:\n",
    "            weight_df['weight'] = 1/(weight_df.pr_item.values**pop_alpha)\n",
    "            weights = rec_train.merge(weight_df, how='inner', on='action').weight\n",
    "            print('weights shape',weights.shape)\n",
    "        else:\n",
    "            weights = np.ones(rec_train.shape[0])\n",
    "\n",
    "        \n",
    "        # define which cells to train on\n",
    "        rec_cells = SETTINGS.simulation_components['rec_model_cell_nbr']\n",
    "        NR = len(rec_cells)\n",
    "        \n",
    "        # train model\n",
    "        rec_model = sim_models.RecModel(stg['NI'], stg['NI'], local_hyp)\n",
    "        #rec_model.fit(rec_train, stg['NI'], W_=weights[:,np.newaxis])\n",
    "        rec_model.fit(rec_train, stg['NI'], W_=weights)\n",
    "\n",
    "\n",
    "        retval.append((rec_model, local_hyp, hp))\n",
    "    \n",
    "    return retval\n",
    "\n",
    "rec_models = train_hyp_rec(hyp_sub_sim, stg, SETTINGS.hyp['rec_model_hyp'], rec_hyp_points, rec_hyp_global)"
   ]
  },
  {
   "cell_type": "code",
   "execution_count": 18,
   "metadata": {
    "nterop": {
     "id": "344"
    }
   },
   "outputs": [
    {
     "name": "stdout",
     "output_type": "stream",
     "text": [
      "mkdir: cannot create directory ‘/home/thahit/github/Recommender_Sim/dat/rec_hyp_select’: File exists\n",
      "saving to target path /home/thahit/github/Recommender_Sim/dat/rec_hyp_select/rec_model_n_hidden_layers-1_n_nodes-[500]\n",
      "saving to target path /home/thahit/github/Recommender_Sim/dat/rec_hyp_select/rec_model_n_hidden_layers-1_n_nodes-[1000]\n",
      "saving to target path /home/thahit/github/Recommender_Sim/dat/rec_hyp_select/rec_model_n_hidden_layers-1_n_nodes-[2000]\n",
      "saving to target path /home/thahit/github/Recommender_Sim/dat/rec_hyp_select/rec_model_n_hidden_layers-2_n_nodes-[500, 100]\n",
      "saving to target path /home/thahit/github/Recommender_Sim/dat/rec_hyp_select/rec_model_n_hidden_layers-2_n_nodes-[500, 500]\n",
      "saving to target path /home/thahit/github/Recommender_Sim/dat/rec_hyp_select/rec_model_n_hidden_layers-2_n_nodes-[1000, 100]\n",
      "saving to target path /home/thahit/github/Recommender_Sim/dat/rec_hyp_select/rec_model_n_hidden_layers-2_n_nodes-[1000, 500]\n",
      "saving to target path /home/thahit/github/Recommender_Sim/dat/rec_hyp_select/rec_model_n_hidden_layers-2_n_nodes-[2000, 500]\n",
      "saving to target path /home/thahit/github/Recommender_Sim/dat/rec_hyp_select/rec_model_popularity_alpha-0.05_n_hidden_layers-1_n_nodes-[1000]\n",
      "saving to target path /home/thahit/github/Recommender_Sim/dat/rec_hyp_select/rec_model_popularity_alpha-0.1_n_hidden_layers-1_n_nodes-[1000]\n",
      "saving to target path /home/thahit/github/Recommender_Sim/dat/rec_hyp_select/rec_model_popularity_alpha-0.2_n_hidden_layers-1_n_nodes-[1000]\n",
      "done.\n"
     ]
    }
   ],
   "source": [
    "def save_hyp_rec_models(rec_models):\n",
    "    # define file format based on delta hyp:\n",
    "    hyp_ext = lambda delta_hyp: '_'.join([str(k)+'-'+str(v) for k,v in delta_hyp.items()])\n",
    "    \n",
    "    model_stem = join(paths.dat, SETTINGS.filepaths['rec_model_t_test'])\n",
    "    model_stem_dir = join(paths.dat, 'rec_hyp_select')\n",
    "    !mkdir {model_stem_dir}\n",
    "    \n",
    "    for (m,h,dh) in rec_models:\n",
    "        target_path = join(model_stem_dir, 'rec_model_' + hyp_ext(dh))\n",
    "        print('saving to target path',target_path)\n",
    "        m.save(target_path)\n",
    "    print('done.')\n",
    "    \n",
    "save_hyp_rec_models(rec_models)"
   ]
  },
  {
   "cell_type": "code",
   "execution_count": 19,
   "metadata": {},
   "outputs": [
    {
     "data": {
      "text/plain": [
       "{'train': 1, 'valid': 2, 'test_seen_users': 3, 'test_unseen_users': 4}"
      ]
     },
     "execution_count": 19,
     "metadata": {},
     "output_type": "execute_result"
    }
   ],
   "source": [
    "cells"
   ]
  },
  {
   "cell_type": "code",
   "execution_count": 20,
   "metadata": {
    "nterop": {
     "id": "310"
    }
   },
   "outputs": [
    {
     "name": "stdout",
     "output_type": "stream",
     "text": [
      "n rows in validation 5000 n positive 22\n",
      "\t decoding state:\n",
      "stats of sparse matrix 0 4999 0 299 5000 302\n",
      "\t one-hot encoding actions:\n",
      "5000/5000 [==============================] - 0s 69us/sample - loss: 5.6923 - acc: 0.0174\n",
      "delta_hyp {'n_hidden_layers': 1, 'n_nodes': [500]} loss 5.692292493247986\n",
      "5000/5000 [==============================] - 0s 91us/sample - loss: 5.6821 - acc: 0.0182\n",
      "delta_hyp {'n_hidden_layers': 1, 'n_nodes': [1000]} loss 5.682052269363403\n",
      "5000/5000 [==============================] - 1s 108us/sample - loss: 5.6665 - acc: 0.0218\n",
      "delta_hyp {'n_hidden_layers': 1, 'n_nodes': [2000]} loss 5.666480140113831\n",
      "5000/5000 [==============================] - 0s 82us/sample - loss: 5.6965 - acc: 0.0144\n",
      "delta_hyp {'n_hidden_layers': 2, 'n_nodes': [500, 100]} loss 5.696544173240661\n",
      "5000/5000 [==============================] - 0s 94us/sample - loss: 5.6725 - acc: 0.0224\n",
      "delta_hyp {'n_hidden_layers': 2, 'n_nodes': [500, 500]} loss 5.672540876102447\n",
      "5000/5000 [==============================] - 0s 95us/sample - loss: 5.6939 - acc: 0.0200\n",
      "delta_hyp {'n_hidden_layers': 2, 'n_nodes': [1000, 100]} loss 5.693937067699433\n",
      "5000/5000 [==============================] - 1s 110us/sample - loss: 5.6555 - acc: 0.0302\n",
      "delta_hyp {'n_hidden_layers': 2, 'n_nodes': [1000, 500]} loss 5.65548628282547\n",
      "5000/5000 [==============================] - 1s 145us/sample - loss: 5.6245 - acc: 0.0214\n",
      "delta_hyp {'n_hidden_layers': 2, 'n_nodes': [2000, 500]} loss 5.624537559318543\n",
      "5000/5000 [==============================] - 1s 113us/sample - loss: 5.6800 - acc: 0.0250\n",
      "delta_hyp {'popularity_alpha': 0.05, 'n_hidden_layers': 1, 'n_nodes': [1000]} loss 5.68000702457428\n",
      "5000/5000 [==============================] - 1s 121us/sample - loss: 5.6815 - acc: 0.0178\n",
      "delta_hyp {'popularity_alpha': 0.1, 'n_hidden_layers': 1, 'n_nodes': [1000]} loss 5.681458676147461\n",
      "5000/5000 [==============================] - 1s 138us/sample - loss: 5.6812 - acc: 0.0270\n",
      "delta_hyp {'popularity_alpha': 0.2, 'n_hidden_layers': 1, 'n_nodes': [1000]} loss 5.6812311152458195\n"
     ]
    }
   ],
   "source": [
    "def eval_hyp_rec_models(dat, rec_models, stg, seed=78):\n",
    "    np.random.seed(seed)\n",
    "    #validation_rows = (dat['acnt.test_cell_nbr']==cells['test'])\n",
    "    validation_rows = (dat['acnt.test_cell_nbr']==cells['valid'])\n",
    "    rec_val = dat[validation_rows].sample(n=5000,replace=False)\n",
    "    print('n rows in validation',rec_val.shape[0], 'n positive', rec_val[rec_val.reward>0].shape[0])\n",
    "    \n",
    "    retval = [] # of form (rec_model, all_hyp, delta_hyp, val_loss)\n",
    "    \n",
    "    is_feature_processed = False\n",
    "    for i,(m,h,dh) in enumerate(list(rec_models)):    \n",
    "        if not(is_feature_processed):\n",
    "            Sv, Av = m.process_features(rec_val, stg['NI'])\n",
    "            S = Sv.todense()\n",
    "            A = Av.todense()\n",
    "            is_feature_processed = True\n",
    "        loss,acc = m._model.evaluate(S, A)\n",
    "        print('delta_hyp',dh,'loss',loss)\n",
    "        retval.append((m,h,dh,loss))\n",
    "        \n",
    "    return retval\n",
    "        \n",
    "rec_models_loss = eval_hyp_rec_models(hyp_sub_sim, rec_models, stg)"
   ]
  },
  {
   "cell_type": "code",
   "execution_count": 21,
   "metadata": {
    "nterop": {
     "id": "311"
    }
   },
   "outputs": [
    {
     "data": {
      "text/plain": [
       "[(<simtrain.sim_models.RecModel at 0x791e6e4f0a10>,\n",
       "  {'dropout_rate': 0.15,\n",
       "   'n_hidden_layers': 1,\n",
       "   'n_nodes': [500],\n",
       "   'hidden_activation': 'relu',\n",
       "   'max_epoch': 1,\n",
       "   'min_delta': 0.01,\n",
       "   'batch_size': 2048,\n",
       "   'train_ips': False,\n",
       "   'time_slots_per_day': 1.0,\n",
       "   'popularity_alpha': 0},\n",
       "  {'n_hidden_layers': 1, 'n_nodes': [500]},\n",
       "  5.692292493247986),\n",
       " (<simtrain.sim_models.RecModel at 0x791e6dc32910>,\n",
       "  {'dropout_rate': 0.15,\n",
       "   'n_hidden_layers': 1,\n",
       "   'n_nodes': [1000],\n",
       "   'hidden_activation': 'relu',\n",
       "   'max_epoch': 1,\n",
       "   'min_delta': 0.01,\n",
       "   'batch_size': 2048,\n",
       "   'train_ips': False,\n",
       "   'time_slots_per_day': 1.0,\n",
       "   'popularity_alpha': 0},\n",
       "  {'n_hidden_layers': 1, 'n_nodes': [1000]},\n",
       "  5.682052269363403),\n",
       " (<simtrain.sim_models.RecModel at 0x791e6db74b90>,\n",
       "  {'dropout_rate': 0.15,\n",
       "   'n_hidden_layers': 1,\n",
       "   'n_nodes': [2000],\n",
       "   'hidden_activation': 'relu',\n",
       "   'max_epoch': 1,\n",
       "   'min_delta': 0.01,\n",
       "   'batch_size': 2048,\n",
       "   'train_ips': False,\n",
       "   'time_slots_per_day': 1.0,\n",
       "   'popularity_alpha': 0},\n",
       "  {'n_hidden_layers': 1, 'n_nodes': [2000]},\n",
       "  5.666480140113831),\n",
       " (<simtrain.sim_models.RecModel at 0x791e6dc6a850>,\n",
       "  {'dropout_rate': 0.15,\n",
       "   'n_hidden_layers': 2,\n",
       "   'n_nodes': [500, 100],\n",
       "   'hidden_activation': 'relu',\n",
       "   'max_epoch': 1,\n",
       "   'min_delta': 0.01,\n",
       "   'batch_size': 2048,\n",
       "   'train_ips': False,\n",
       "   'time_slots_per_day': 1.0,\n",
       "   'popularity_alpha': 0},\n",
       "  {'n_hidden_layers': 2, 'n_nodes': [500, 100]},\n",
       "  5.696544173240661),\n",
       " (<simtrain.sim_models.RecModel at 0x791e6d8f4cd0>,\n",
       "  {'dropout_rate': 0.15,\n",
       "   'n_hidden_layers': 2,\n",
       "   'n_nodes': [500, 500],\n",
       "   'hidden_activation': 'relu',\n",
       "   'max_epoch': 1,\n",
       "   'min_delta': 0.01,\n",
       "   'batch_size': 2048,\n",
       "   'train_ips': False,\n",
       "   'time_slots_per_day': 1.0,\n",
       "   'popularity_alpha': 0},\n",
       "  {'n_hidden_layers': 2, 'n_nodes': [500, 500]},\n",
       "  5.672540876102447),\n",
       " (<simtrain.sim_models.RecModel at 0x791e6d77bf90>,\n",
       "  {'dropout_rate': 0.15,\n",
       "   'n_hidden_layers': 2,\n",
       "   'n_nodes': [1000, 100],\n",
       "   'hidden_activation': 'relu',\n",
       "   'max_epoch': 1,\n",
       "   'min_delta': 0.01,\n",
       "   'batch_size': 2048,\n",
       "   'train_ips': False,\n",
       "   'time_slots_per_day': 1.0,\n",
       "   'popularity_alpha': 0},\n",
       "  {'n_hidden_layers': 2, 'n_nodes': [1000, 100]},\n",
       "  5.693937067699433),\n",
       " (<simtrain.sim_models.RecModel at 0x791e6d5ec790>,\n",
       "  {'dropout_rate': 0.15,\n",
       "   'n_hidden_layers': 2,\n",
       "   'n_nodes': [1000, 500],\n",
       "   'hidden_activation': 'relu',\n",
       "   'max_epoch': 1,\n",
       "   'min_delta': 0.01,\n",
       "   'batch_size': 2048,\n",
       "   'train_ips': False,\n",
       "   'time_slots_per_day': 1.0,\n",
       "   'popularity_alpha': 0},\n",
       "  {'n_hidden_layers': 2, 'n_nodes': [1000, 500]},\n",
       "  5.65548628282547),\n",
       " (<simtrain.sim_models.RecModel at 0x791e6d4e5610>,\n",
       "  {'dropout_rate': 0.15,\n",
       "   'n_hidden_layers': 2,\n",
       "   'n_nodes': [2000, 500],\n",
       "   'hidden_activation': 'relu',\n",
       "   'max_epoch': 1,\n",
       "   'min_delta': 0.01,\n",
       "   'batch_size': 2048,\n",
       "   'train_ips': False,\n",
       "   'time_slots_per_day': 1.0,\n",
       "   'popularity_alpha': 0},\n",
       "  {'n_hidden_layers': 2, 'n_nodes': [2000, 500]},\n",
       "  5.624537559318543),\n",
       " (<simtrain.sim_models.RecModel at 0x791e684a7f90>,\n",
       "  {'dropout_rate': 0.15,\n",
       "   'n_hidden_layers': 1,\n",
       "   'n_nodes': [1000],\n",
       "   'hidden_activation': 'relu',\n",
       "   'max_epoch': 1,\n",
       "   'min_delta': 0.01,\n",
       "   'batch_size': 2048,\n",
       "   'train_ips': False,\n",
       "   'time_slots_per_day': 1.0,\n",
       "   'popularity_alpha': 0.05},\n",
       "  {'popularity_alpha': 0.05, 'n_hidden_layers': 1, 'n_nodes': [1000]},\n",
       "  5.68000702457428),\n",
       " (<simtrain.sim_models.RecModel at 0x791e605e6f50>,\n",
       "  {'dropout_rate': 0.15,\n",
       "   'n_hidden_layers': 1,\n",
       "   'n_nodes': [1000],\n",
       "   'hidden_activation': 'relu',\n",
       "   'max_epoch': 1,\n",
       "   'min_delta': 0.01,\n",
       "   'batch_size': 2048,\n",
       "   'train_ips': False,\n",
       "   'time_slots_per_day': 1.0,\n",
       "   'popularity_alpha': 0.1},\n",
       "  {'popularity_alpha': 0.1, 'n_hidden_layers': 1, 'n_nodes': [1000]},\n",
       "  5.681458676147461),\n",
       " (<simtrain.sim_models.RecModel at 0x791e6048d1d0>,\n",
       "  {'dropout_rate': 0.15,\n",
       "   'n_hidden_layers': 1,\n",
       "   'n_nodes': [1000],\n",
       "   'hidden_activation': 'relu',\n",
       "   'max_epoch': 1,\n",
       "   'min_delta': 0.01,\n",
       "   'batch_size': 2048,\n",
       "   'train_ips': False,\n",
       "   'time_slots_per_day': 1.0,\n",
       "   'popularity_alpha': 0.2},\n",
       "  {'popularity_alpha': 0.2, 'n_hidden_layers': 1, 'n_nodes': [1000]},\n",
       "  5.6812311152458195)]"
      ]
     },
     "execution_count": 21,
     "metadata": {},
     "output_type": "execute_result"
    }
   ],
   "source": [
    "rec_models_loss"
   ]
  },
  {
   "cell_type": "code",
   "execution_count": 22,
   "metadata": {
    "nterop": {
     "id": "312"
    }
   },
   "outputs": [
    {
     "name": "stdout",
     "output_type": "stream",
     "text": [
      "mkdir: cannot create directory ‘/home/thahit/github/Recommender_Sim/dat/rec_hyp_select’: File exists\n",
      "saving to target path /home/thahit/github/Recommender_Sim/dat/rec_hyp_select/rec_model_n_hidden_layers-1_n_nodes-[500]\n",
      "saving to target path /home/thahit/github/Recommender_Sim/dat/rec_hyp_select/rec_model_n_hidden_layers-1_n_nodes-[1000]\n",
      "saving to target path /home/thahit/github/Recommender_Sim/dat/rec_hyp_select/rec_model_n_hidden_layers-1_n_nodes-[2000]\n",
      "saving to target path /home/thahit/github/Recommender_Sim/dat/rec_hyp_select/rec_model_n_hidden_layers-2_n_nodes-[500, 100]\n",
      "saving to target path /home/thahit/github/Recommender_Sim/dat/rec_hyp_select/rec_model_n_hidden_layers-2_n_nodes-[500, 500]\n",
      "saving to target path /home/thahit/github/Recommender_Sim/dat/rec_hyp_select/rec_model_n_hidden_layers-2_n_nodes-[1000, 100]\n",
      "saving to target path /home/thahit/github/Recommender_Sim/dat/rec_hyp_select/rec_model_n_hidden_layers-2_n_nodes-[1000, 500]\n",
      "saving to target path /home/thahit/github/Recommender_Sim/dat/rec_hyp_select/rec_model_n_hidden_layers-2_n_nodes-[2000, 500]\n",
      "saving to target path /home/thahit/github/Recommender_Sim/dat/rec_hyp_select/rec_model_popularity_alpha-0.05_n_hidden_layers-1_n_nodes-[1000]\n",
      "saving to target path /home/thahit/github/Recommender_Sim/dat/rec_hyp_select/rec_model_popularity_alpha-0.1_n_hidden_layers-1_n_nodes-[1000]\n",
      "saving to target path /home/thahit/github/Recommender_Sim/dat/rec_hyp_select/rec_model_popularity_alpha-0.2_n_hidden_layers-1_n_nodes-[1000]\n",
      "done.\n"
     ]
    }
   ],
   "source": [
    "def save_hyp_rec_models_loss(rec_models_loss):\n",
    "    # define file format based on delta hyp:\n",
    "    hyp_ext = lambda delta_hyp: '_'.join([str(k)+'-'+str(v) for k,v in delta_hyp.items()])\n",
    "    \n",
    "    model_stem = join(paths.dat, SETTINGS.filepaths['rec_model_t_test'])\n",
    "    model_stem_dir = join(paths.dat, 'rec_hyp_select')\n",
    "    !mkdir {model_stem_dir}\n",
    "    \n",
    "    # build results dataframe for easy access:\n",
    "    results_df = pd.DataFrame(columns=['delta_hyp', 'loss'])\n",
    "    \n",
    "    for (m,h,dh,loss) in rec_models_loss:\n",
    "        target_path = join(model_stem_dir, 'rec_model_' + hyp_ext(dh))\n",
    "        print('saving to target path',target_path)\n",
    "        m.save(target_path)\n",
    "        results_df = results_df.append({'delta_hyp':hyp_ext(dh), 'loss':loss}, ignore_index=True)\n",
    "    print('done.')\n",
    "    \n",
    "    # save results object containing losses and hyps:\n",
    "    results_df.to_csv(join(model_stem_dir, 'results.csv'))\n",
    "        \n",
    "save_hyp_rec_models_loss(rec_models_loss)"
   ]
  },
  {
   "attachments": {},
   "cell_type": "markdown",
   "metadata": {
    "nterop": {
     "id": "313"
    }
   },
   "source": [
    "### conclusion\n",
    "optimal hyperparameters are (n_layers = 1, n_nodes = 2000, alpha = 0.2)\n",
    "\n",
    "finally: train on full dataset with optimal hyperparameters"
   ]
  },
  {
   "cell_type": "code",
   "execution_count": 23,
   "metadata": {
    "nterop": {
     "id": "314"
    }
   },
   "outputs": [
    {
     "data": {
      "text/plain": [
       "{'dropout_rate': 0.15,\n",
       " 'n_hidden_layers': 1,\n",
       " 'n_nodes': [2000],\n",
       " 'hidden_activation': 'relu',\n",
       " 'max_epoch': 1,\n",
       " 'min_delta': 0.01,\n",
       " 'batch_size': 2048,\n",
       " 'train_ips': False,\n",
       " 'time_slots_per_day': 1.0,\n",
       " 'popularity_alpha': 0.2}"
      ]
     },
     "execution_count": 23,
     "metadata": {},
     "output_type": "execute_result"
    }
   ],
   "source": [
    "opt_rec_hyp = SETTINGS.hyp['rec_model_hyp'].copy()\n",
    "opt_rec_hyp.update({'popularity_alpha':0.2, 'n_hidden_layers':1, 'n_nodes':[2000], 'max_epoch':1})\n",
    "opt_rec_hyp"
   ]
  },
  {
   "cell_type": "code",
   "execution_count": 24,
   "metadata": {
    "nterop": {
     "id": "15"
    }
   },
   "outputs": [
    {
     "name": "stdout",
     "output_type": "stream",
     "text": [
      "pop alpha 0.2\n",
      "weights shape (1168403,)\n",
      "n positive interactions in train 3585\n",
      "\t decoding state:\n",
      "stats of sparse matrix 2 1168402 0 301 1168403 302\n",
      "\t one-hot encoding actions:\n",
      "571/571 [==============================] - 117s 205ms/step - loss: 13.6784 - acc: 0.0269\n"
     ]
    }
   ],
   "source": [
    "# define which cells to train on\n",
    "np.random.seed(100)\n",
    "rec_cells = SETTINGS.simulation_components['rec_model_cell_nbr']\n",
    "NR = len(rec_cells)\n",
    "rec_model = sim_models.RecModel(stg['NI'], stg['NI'], opt_rec_hyp)\n",
    "train_rows = (all_dat['acnt.test_cell_nbr']==cells['train'])\n",
    "rec_train = all_dat[train_rows]\n",
    "\n",
    "# define weights\n",
    "train_ac = rec_train.groupby('action').action.count()\n",
    "pr_item = train_ac / rec_train.shape[0]\n",
    "weight_df = pr_item.to_frame().rename(columns={'action':'pr_item'})\n",
    "\n",
    "pop_alpha = opt_rec_hyp['popularity_alpha']\n",
    "print('pop alpha',pop_alpha)\n",
    "if pop_alpha > 0:\n",
    "    weight_df['weight'] = 1/(weight_df.pr_item.values**pop_alpha)\n",
    "    weights = rec_train.merge(weight_df, how='inner', on='action').weight\n",
    "    print('weights shape',weights.shape)\n",
    "else:\n",
    "    weights = np.ones(rec_train.shape[0])\n",
    "\n",
    "print('n positive interactions in train',rec_train.reward.sum())\n",
    "#rec_model.fit(rec_train, stg['NI'], W_=weights[:,np.newaxis])\n",
    "rec_model.fit(rec_train, stg['NI'], W_=weights)\n",
    "\n",
    "rec_model.save(join(paths.dat, 'opt_rec_model.h5'))"
   ]
  },
  {
   "attachments": {},
   "cell_type": "markdown",
   "metadata": {
    "nterop": {
     "id": "355"
    }
   },
   "source": [
    "### User model hyp selection\n",
    "\n",
    "hyperparameters to select over:\n",
    "+ n_nodes per first layer = [200, 1000, 5000, 10000]\n",
    "+ n_nodes per second layer = [0, 200, 1000, 5000]\n",
    "+ alpha for popularity attenuation = [0., 0.1, 0.3, 0.5]\n",
    "\n",
    "strategy:\n",
    "+ select architecture, pick one that minimizes loss on validation data\n",
    "+ then select alpha based on min loss on validation data"
   ]
  },
  {
   "cell_type": "code",
   "execution_count": 25,
   "metadata": {
    "nterop": {
     "id": "356"
    }
   },
   "outputs": [
    {
     "name": "stdout",
     "output_type": "stream",
     "text": [
      "n train points 3585\n",
      "updating with hp {'n_hidden_layers': 1, 'n_nodes': [200]}\n",
      "training with hyp {'dropout_rate': 0.15, 'n_hidden_layers': 1, 'n_nodes': [200], 'hidden_activation': 'relu', 'max_epoch': 1, 'min_delta': 0.001, 'batch_size': 2048, 'train_ips': False, 'popularity_alpha': 0}\n",
      "fitting user model:\n",
      "stats of sparse matrix 1 3584 0 301 3585 302\n",
      "train ips = False\n",
      "2/2 [==============================] - 1s 687ms/step - loss: 5.7091 - acc: 0.0201\n",
      "updating with hp {'n_hidden_layers': 1, 'n_nodes': [1000]}\n",
      "training with hyp {'dropout_rate': 0.15, 'n_hidden_layers': 1, 'n_nodes': [1000], 'hidden_activation': 'relu', 'max_epoch': 1, 'min_delta': 0.001, 'batch_size': 2048, 'train_ips': False, 'popularity_alpha': 0}\n",
      "fitting user model:\n",
      "stats of sparse matrix 1 3584 0 301 3585 302\n",
      "train ips = False\n",
      "2/2 [==============================] - 2s 751ms/step - loss: 5.7051 - acc: 0.0541\n",
      "updating with hp {'n_hidden_layers': 1, 'n_nodes': [5000]}\n",
      "training with hyp {'dropout_rate': 0.15, 'n_hidden_layers': 1, 'n_nodes': [5000], 'hidden_activation': 'relu', 'max_epoch': 1, 'min_delta': 0.001, 'batch_size': 2048, 'train_ips': False, 'popularity_alpha': 0}\n",
      "fitting user model:\n",
      "stats of sparse matrix 1 3584 0 301 3585 302\n",
      "train ips = False\n",
      "2/2 [==============================] - 2s 884ms/step - loss: 5.7003 - acc: 0.0678\n",
      "updating with hp {'n_hidden_layers': 1, 'n_nodes': [10000]}\n",
      "training with hyp {'dropout_rate': 0.15, 'n_hidden_layers': 1, 'n_nodes': [10000], 'hidden_activation': 'relu', 'max_epoch': 1, 'min_delta': 0.001, 'batch_size': 2048, 'train_ips': False, 'popularity_alpha': 0}\n",
      "fitting user model:\n",
      "stats of sparse matrix 1 3584 0 301 3585 302\n",
      "train ips = False\n",
      "2/2 [==============================] - 2s 1s/step - loss: 5.6964 - acc: 0.0636\n",
      "updating with hp {'n_hidden_layers': 1, 'n_nodes': [5000, 200]}\n",
      "training with hyp {'dropout_rate': 0.15, 'n_hidden_layers': 1, 'n_nodes': [5000, 200], 'hidden_activation': 'relu', 'max_epoch': 1, 'min_delta': 0.001, 'batch_size': 2048, 'train_ips': False, 'popularity_alpha': 0}\n",
      "fitting user model:\n",
      "stats of sparse matrix 1 3584 0 301 3585 302\n",
      "train ips = False\n",
      "2/2 [==============================] - 2s 916ms/step - loss: 5.7011 - acc: 0.0717\n",
      "updating with hp {'n_hidden_layers': 1, 'n_nodes': [5000, 1000]}\n",
      "training with hyp {'dropout_rate': 0.15, 'n_hidden_layers': 1, 'n_nodes': [5000, 1000], 'hidden_activation': 'relu', 'max_epoch': 1, 'min_delta': 0.001, 'batch_size': 2048, 'train_ips': False, 'popularity_alpha': 0}\n",
      "fitting user model:\n",
      "stats of sparse matrix 1 3584 0 301 3585 302\n",
      "train ips = False\n",
      "2/2 [==============================] - 1s 695ms/step - loss: 5.7011 - acc: 0.0642\n",
      "updating with hp {'n_hidden_layers': 1, 'n_nodes': [5000, 5000]}\n",
      "training with hyp {'dropout_rate': 0.15, 'n_hidden_layers': 1, 'n_nodes': [5000, 5000], 'hidden_activation': 'relu', 'max_epoch': 1, 'min_delta': 0.001, 'batch_size': 2048, 'train_ips': False, 'popularity_alpha': 0}\n",
      "fitting user model:\n",
      "stats of sparse matrix 1 3584 0 301 3585 302\n",
      "train ips = False\n",
      "2/2 [==============================] - 1s 737ms/step - loss: 5.6996 - acc: 0.0695\n",
      "updating with hp {'popularity_alpha': 0.1, 'n_hidden_layers': 1, 'n_nodes': [5000]}\n",
      "training with hyp {'dropout_rate': 0.15, 'n_hidden_layers': 1, 'n_nodes': [5000], 'hidden_activation': 'relu', 'max_epoch': 1, 'min_delta': 0.001, 'batch_size': 2048, 'train_ips': False, 'popularity_alpha': 0.1}\n",
      "weights shape (3585,)\n",
      "fitting user model:\n",
      "stats of sparse matrix 1 3584 0 301 3585 302\n",
      "train ips = False\n",
      "2/2 [==============================] - 1s 746ms/step - loss: 9.0506 - acc: 0.0644\n",
      "updating with hp {'popularity_alpha': 0.3, 'n_hidden_layers': 1, 'n_nodes': [5000]}\n",
      "training with hyp {'dropout_rate': 0.15, 'n_hidden_layers': 1, 'n_nodes': [5000], 'hidden_activation': 'relu', 'max_epoch': 1, 'min_delta': 0.001, 'batch_size': 2048, 'train_ips': False, 'popularity_alpha': 0.3}\n",
      "weights shape (3585,)\n",
      "fitting user model:\n",
      "stats of sparse matrix 1 3584 0 301 3585 302\n",
      "train ips = False\n",
      "2/2 [==============================] - 2s 809ms/step - loss: 24.6518 - acc: 0.0706\n",
      "updating with hp {'popularity_alpha': 0.5, 'n_hidden_layers': 1, 'n_nodes': [5000]}\n",
      "training with hyp {'dropout_rate': 0.15, 'n_hidden_layers': 1, 'n_nodes': [5000], 'hidden_activation': 'relu', 'max_epoch': 1, 'min_delta': 0.001, 'batch_size': 2048, 'train_ips': False, 'popularity_alpha': 0.5}\n",
      "weights shape (3585,)\n",
      "fitting user model:\n",
      "stats of sparse matrix 1 3584 0 301 3585 302\n",
      "train ips = False\n",
      "2/2 [==============================] - 3s 1s/step - loss: 73.5666 - acc: 0.0725\n"
     ]
    }
   ],
   "source": [
    "# define hyp configuration as operation on the hyp dict:\n",
    "usr_hyp_points = [{'n_hidden_layers':1, 'n_nodes':[200]},\n",
    "                  {'n_hidden_layers':1, 'n_nodes':[1000]},\n",
    "                  {'n_hidden_layers':1, 'n_nodes':[5000]},\n",
    "                  {'n_hidden_layers':1, 'n_nodes':[10000]},\n",
    "                  {'n_hidden_layers':1, 'n_nodes':[5000,200]},\n",
    "                  {'n_hidden_layers':1, 'n_nodes':[5000,1000]},\n",
    "                  {'n_hidden_layers':1, 'n_nodes':[5000,5000]},\n",
    "                  {'popularity_alpha':0.1, 'n_hidden_layers':1, 'n_nodes':[5000]},\n",
    "                  {'popularity_alpha':0.3, 'n_hidden_layers':1, 'n_nodes':[5000]},\n",
    "                  {'popularity_alpha':0.5, 'n_hidden_layers':1, 'n_nodes':[5000]}]\n",
    "\n",
    "# define settings global to all experiments in hyp selection:\n",
    "usr_hyp_global =  {'dropout_rate': 0.15,\n",
    "                       'n_hidden_layers': 1, \n",
    "                       'n_nodes': [500], \n",
    "                       'hidden_activation': 'relu',\n",
    "                       'max_epoch': 1, # 5\n",
    "                       'min_delta': 0.001,\n",
    "                       'batch_size': 2048, \n",
    "                       'train_ips': False,\n",
    "                       'popularity_alpha':0\n",
    "                    }\n",
    "\n",
    "\n",
    "def train_hyp_usr(dat, stg, hyp, hyp_points, global_hyp, seed=84):\n",
    "    np.random.seed(seed)\n",
    "    train_rows = ((dat['acnt.test_cell_nbr']==cells['train']) & (dat.reward > 0))\n",
    "    usr_train = dat[train_rows]\n",
    "    print('n train points', usr_train.shape[0])\n",
    "    \n",
    "    retval = [] # of form (model, all_hyp, delta_hyp)\n",
    "    \n",
    "    # define action-reward popularity:\n",
    "    dat_ac = usr_train.groupby('action').action.count()\n",
    "    pr_item = dat_ac / usr_train.shape[0]\n",
    "    weight_df = pr_item.to_frame().rename(columns={'action':'pr_item'})\n",
    "    \n",
    "    for hp in hyp_points:\n",
    "        # update local copy of hyp:\n",
    "        local_hyp = hyp.copy()\n",
    "        print('updating with hp',hp)\n",
    "        local_hyp.update(global_hyp)\n",
    "        local_hyp.update(hp)\n",
    "        print('training with hyp',local_hyp)\n",
    "        \n",
    "        # define weights:\n",
    "        pop_alpha = local_hyp['popularity_alpha']\n",
    "        if  pop_alpha > 0:\n",
    "            weight_df['weight'] = 1/(weight_df.pr_item.values**pop_alpha)\n",
    "            weights = usr_train.merge(weight_df, how='inner', on='action').weight.values\n",
    "            print('weights shape',weights.shape)\n",
    "        else:\n",
    "            weights = np.ones(usr_train.shape[0])\n",
    "        \n",
    "        # train model\n",
    "        usr_model = sim_models.UserModel(stg['NI'], stg['NI'], local_hyp)\n",
    "        #usr_model.fit(usr_train, stg['NI'], stg['NI'], W_=weights[:,np.newaxis], ips=False)\n",
    "        \n",
    "        usr_model.fit(usr_train, stg['NI'], stg['NI'],W_=weights, ips=False)\n",
    "\n",
    "        retval.append((usr_model, local_hyp, hp))\n",
    "    \n",
    "    return retval\n",
    "\n",
    "usr_models = train_hyp_usr(all_dat, stg, SETTINGS.hyp['user_model_hyp'], usr_hyp_points, usr_hyp_global)"
   ]
  },
  {
   "cell_type": "code",
   "execution_count": 26,
   "metadata": {
    "nterop": {
     "id": "357"
    }
   },
   "outputs": [
    {
     "name": "stdout",
     "output_type": "stream",
     "text": [
      "mkdir: cannot create directory ‘/home/thahit/github/Recommender_Sim/dat/usr_hyp_select’: File exists\n",
      "saving to target path /home/thahit/github/Recommender_Sim/dat/usr_hyp_select/usr_model_n_hidden_layers-1_n_nodes-[200]\n",
      "saving to target path /home/thahit/github/Recommender_Sim/dat/usr_hyp_select/usr_model_n_hidden_layers-1_n_nodes-[1000]\n",
      "saving to target path /home/thahit/github/Recommender_Sim/dat/usr_hyp_select/usr_model_n_hidden_layers-1_n_nodes-[5000]\n",
      "saving to target path /home/thahit/github/Recommender_Sim/dat/usr_hyp_select/usr_model_n_hidden_layers-1_n_nodes-[10000]\n",
      "saving to target path /home/thahit/github/Recommender_Sim/dat/usr_hyp_select/usr_model_n_hidden_layers-1_n_nodes-[5000, 200]\n",
      "saving to target path /home/thahit/github/Recommender_Sim/dat/usr_hyp_select/usr_model_n_hidden_layers-1_n_nodes-[5000, 1000]\n",
      "saving to target path /home/thahit/github/Recommender_Sim/dat/usr_hyp_select/usr_model_n_hidden_layers-1_n_nodes-[5000, 5000]\n",
      "saving to target path /home/thahit/github/Recommender_Sim/dat/usr_hyp_select/usr_model_popularity_alpha-0.1_n_hidden_layers-1_n_nodes-[5000]\n",
      "saving to target path /home/thahit/github/Recommender_Sim/dat/usr_hyp_select/usr_model_popularity_alpha-0.3_n_hidden_layers-1_n_nodes-[5000]\n",
      "saving to target path /home/thahit/github/Recommender_Sim/dat/usr_hyp_select/usr_model_popularity_alpha-0.5_n_hidden_layers-1_n_nodes-[5000]\n",
      "done.\n"
     ]
    }
   ],
   "source": [
    "def save_hyp_usr_models(models):\n",
    "    # define file format based on delta hyp:\n",
    "    hyp_ext = lambda delta_hyp: '_'.join([str(k)+'-'+str(v) for k,v in delta_hyp.items()])\n",
    "    \n",
    "    model_stem = join(paths.dat, SETTINGS.filepaths['user_model_test'])\n",
    "    model_stem_dir = join(paths.dat, 'usr_hyp_select')\n",
    "    !mkdir {model_stem_dir}\n",
    "    \n",
    "    for (m,h,dh) in models:\n",
    "        target_path = join(model_stem_dir, 'usr_model_' + hyp_ext(dh))\n",
    "        print('saving to target path',target_path)\n",
    "        m.save(target_path)\n",
    "    print('done.')\n",
    "    \n",
    "save_hyp_usr_models(usr_models)"
   ]
  },
  {
   "cell_type": "code",
   "execution_count": 27,
   "metadata": {
    "nterop": {
     "id": "358"
    }
   },
   "outputs": [
    {
     "name": "stdout",
     "output_type": "stream",
     "text": [
      "n rows in validation 1654\n",
      "stats of sparse matrix 1 1653 0 299 1654 302\n",
      "1654/1654 [==============================] - 0s 286us/sample - loss: 5.7059 - acc: 0.0230\n",
      "delta_hyp {'n_hidden_layers': 1, 'n_nodes': [200]} loss 5.705855809791777\n",
      "1654/1654 [==============================] - 0s 280us/sample - loss: 5.6947 - acc: 0.1318\n",
      "delta_hyp {'n_hidden_layers': 1, 'n_nodes': [1000]} loss 5.694730096168933\n",
      "1654/1654 [==============================] - 1s 373us/sample - loss: 5.6731 - acc: 0.1536\n",
      "delta_hyp {'n_hidden_layers': 1, 'n_nodes': [5000]} loss 5.67311326422455\n",
      "1654/1654 [==============================] - 1s 493us/sample - loss: 5.6559 - acc: 0.1511\n",
      "delta_hyp {'n_hidden_layers': 1, 'n_nodes': [10000]} loss 5.6558934820606455\n",
      "1654/1654 [==============================] - 1s 576us/sample - loss: 5.6739 - acc: 0.1566\n",
      "delta_hyp {'n_hidden_layers': 1, 'n_nodes': [5000, 200]} loss 5.673850166177807\n",
      "1654/1654 [==============================] - 1s 459us/sample - loss: 5.6741 - acc: 0.1499\n",
      "delta_hyp {'n_hidden_layers': 1, 'n_nodes': [5000, 1000]} loss 5.674094877623589\n",
      "1654/1654 [==============================] - 1s 387us/sample - loss: 5.6733 - acc: 0.1451\n",
      "delta_hyp {'n_hidden_layers': 1, 'n_nodes': [5000, 5000]} loss 5.673305369634294\n",
      "1654/1654 [==============================] - 1s 367us/sample - loss: 5.6734 - acc: 0.1451\n",
      "delta_hyp {'popularity_alpha': 0.1, 'n_hidden_layers': 1, 'n_nodes': [5000]} loss 5.673359712925903\n",
      "1654/1654 [==============================] - 1s 430us/sample - loss: 5.6754 - acc: 0.1487\n",
      "delta_hyp {'popularity_alpha': 0.3, 'n_hidden_layers': 1, 'n_nodes': [5000]} loss 5.675373181178175\n",
      "1654/1654 [==============================] - 1s 400us/sample - loss: 5.6742 - acc: 0.1469\n",
      "delta_hyp {'popularity_alpha': 0.5, 'n_hidden_layers': 1, 'n_nodes': [5000]} loss 5.6742002964019775\n"
     ]
    }
   ],
   "source": [
    "def eval_hyp_usr_models(dat, models, stg, seed=78):\n",
    "    np.random.seed(seed)\n",
    "    validation_rows = ((dat['acnt.test_cell_nbr']==cells['valid']) & (dat.reward>0))\n",
    "    usr_val = dat[validation_rows]\n",
    "    print('n rows in validation',usr_val.shape[0])\n",
    "    \n",
    "    retval = [] # of form (rec_model, all_hyp, delta_hyp, val_loss)\n",
    "    \n",
    "    is_feature_processed = False\n",
    "    for i,(m,h,dh) in enumerate(list(models)):    \n",
    "        if not(is_feature_processed):\n",
    "            Sv, Av, _ = m.process_features(usr_val, stg['NI'])\n",
    "            S = Sv.todense()\n",
    "            A = Av.todense()\n",
    "            is_feature_processed = True\n",
    "        loss,acc = m._model.evaluate(S, A)\n",
    "        print('delta_hyp',dh,'loss',loss)\n",
    "        retval.append((m,h,dh,loss))\n",
    "        \n",
    "    return retval\n",
    "        \n",
    "usr_models_loss = eval_hyp_usr_models(all_dat, usr_models, stg)"
   ]
  },
  {
   "cell_type": "code",
   "execution_count": 28,
   "metadata": {
    "nterop": {
     "id": "359"
    }
   },
   "outputs": [
    {
     "data": {
      "text/plain": [
       "[(<simtrain.sim_models.UserModel at 0x791ed8a7efd0>,\n",
       "  {'dropout_rate': 0.15,\n",
       "   'n_hidden_layers': 1,\n",
       "   'n_nodes': [200],\n",
       "   'hidden_activation': 'relu',\n",
       "   'max_epoch': 1,\n",
       "   'min_delta': 0.001,\n",
       "   'batch_size': 2048,\n",
       "   'train_ips': False,\n",
       "   'popularity_alpha': 0},\n",
       "  {'n_hidden_layers': 1, 'n_nodes': [200]},\n",
       "  5.705855809791777),\n",
       " (<simtrain.sim_models.UserModel at 0x791e62733210>,\n",
       "  {'dropout_rate': 0.15,\n",
       "   'n_hidden_layers': 1,\n",
       "   'n_nodes': [1000],\n",
       "   'hidden_activation': 'relu',\n",
       "   'max_epoch': 1,\n",
       "   'min_delta': 0.001,\n",
       "   'batch_size': 2048,\n",
       "   'train_ips': False,\n",
       "   'popularity_alpha': 0},\n",
       "  {'n_hidden_layers': 1, 'n_nodes': [1000]},\n",
       "  5.694730096168933),\n",
       " (<simtrain.sim_models.UserModel at 0x791ed8858550>,\n",
       "  {'dropout_rate': 0.15,\n",
       "   'n_hidden_layers': 1,\n",
       "   'n_nodes': [5000],\n",
       "   'hidden_activation': 'relu',\n",
       "   'max_epoch': 1,\n",
       "   'min_delta': 0.001,\n",
       "   'batch_size': 2048,\n",
       "   'train_ips': False,\n",
       "   'popularity_alpha': 0},\n",
       "  {'n_hidden_layers': 1, 'n_nodes': [5000]},\n",
       "  5.67311326422455),\n",
       " (<simtrain.sim_models.UserModel at 0x791ed8704b50>,\n",
       "  {'dropout_rate': 0.15,\n",
       "   'n_hidden_layers': 1,\n",
       "   'n_nodes': [10000],\n",
       "   'hidden_activation': 'relu',\n",
       "   'max_epoch': 1,\n",
       "   'min_delta': 0.001,\n",
       "   'batch_size': 2048,\n",
       "   'train_ips': False,\n",
       "   'popularity_alpha': 0},\n",
       "  {'n_hidden_layers': 1, 'n_nodes': [10000]},\n",
       "  5.6558934820606455),\n",
       " (<simtrain.sim_models.UserModel at 0x791ed85d61d0>,\n",
       "  {'dropout_rate': 0.15,\n",
       "   'n_hidden_layers': 1,\n",
       "   'n_nodes': [5000, 200],\n",
       "   'hidden_activation': 'relu',\n",
       "   'max_epoch': 1,\n",
       "   'min_delta': 0.001,\n",
       "   'batch_size': 2048,\n",
       "   'train_ips': False,\n",
       "   'popularity_alpha': 0},\n",
       "  {'n_hidden_layers': 1, 'n_nodes': [5000, 200]},\n",
       "  5.673850166177807),\n",
       " (<simtrain.sim_models.UserModel at 0x791ed84bc810>,\n",
       "  {'dropout_rate': 0.15,\n",
       "   'n_hidden_layers': 1,\n",
       "   'n_nodes': [5000, 1000],\n",
       "   'hidden_activation': 'relu',\n",
       "   'max_epoch': 1,\n",
       "   'min_delta': 0.001,\n",
       "   'batch_size': 2048,\n",
       "   'train_ips': False,\n",
       "   'popularity_alpha': 0},\n",
       "  {'n_hidden_layers': 1, 'n_nodes': [5000, 1000]},\n",
       "  5.674094877623589),\n",
       " (<simtrain.sim_models.UserModel at 0x791ec7f5e3d0>,\n",
       "  {'dropout_rate': 0.15,\n",
       "   'n_hidden_layers': 1,\n",
       "   'n_nodes': [5000, 5000],\n",
       "   'hidden_activation': 'relu',\n",
       "   'max_epoch': 1,\n",
       "   'min_delta': 0.001,\n",
       "   'batch_size': 2048,\n",
       "   'train_ips': False,\n",
       "   'popularity_alpha': 0},\n",
       "  {'n_hidden_layers': 1, 'n_nodes': [5000, 5000]},\n",
       "  5.673305369634294),\n",
       " (<simtrain.sim_models.UserModel at 0x791eccfece90>,\n",
       "  {'dropout_rate': 0.15,\n",
       "   'n_hidden_layers': 1,\n",
       "   'n_nodes': [5000],\n",
       "   'hidden_activation': 'relu',\n",
       "   'max_epoch': 1,\n",
       "   'min_delta': 0.001,\n",
       "   'batch_size': 2048,\n",
       "   'train_ips': False,\n",
       "   'popularity_alpha': 0.1},\n",
       "  {'popularity_alpha': 0.1, 'n_hidden_layers': 1, 'n_nodes': [5000]},\n",
       "  5.673359712925903),\n",
       " (<simtrain.sim_models.UserModel at 0x791ecffeaf90>,\n",
       "  {'dropout_rate': 0.15,\n",
       "   'n_hidden_layers': 1,\n",
       "   'n_nodes': [5000],\n",
       "   'hidden_activation': 'relu',\n",
       "   'max_epoch': 1,\n",
       "   'min_delta': 0.001,\n",
       "   'batch_size': 2048,\n",
       "   'train_ips': False,\n",
       "   'popularity_alpha': 0.3},\n",
       "  {'popularity_alpha': 0.3, 'n_hidden_layers': 1, 'n_nodes': [5000]},\n",
       "  5.675373181178175),\n",
       " (<simtrain.sim_models.UserModel at 0x791eccdc8c50>,\n",
       "  {'dropout_rate': 0.15,\n",
       "   'n_hidden_layers': 1,\n",
       "   'n_nodes': [5000],\n",
       "   'hidden_activation': 'relu',\n",
       "   'max_epoch': 1,\n",
       "   'min_delta': 0.001,\n",
       "   'batch_size': 2048,\n",
       "   'train_ips': False,\n",
       "   'popularity_alpha': 0.5},\n",
       "  {'popularity_alpha': 0.5, 'n_hidden_layers': 1, 'n_nodes': [5000]},\n",
       "  5.6742002964019775)]"
      ]
     },
     "execution_count": 28,
     "metadata": {},
     "output_type": "execute_result"
    }
   ],
   "source": [
    "usr_models_loss"
   ]
  },
  {
   "attachments": {},
   "cell_type": "markdown",
   "metadata": {
    "nterop": {
     "id": "361"
    }
   },
   "source": [
    "### conclusion\n",
    "optimal user model hyp are (n_layers = 1, n_nodes = [10000], pop_alpha = 0.5)\n",
    "\n",
    "finally: train on full dataset with optimal hyperparameters"
   ]
  },
  {
   "cell_type": "code",
   "execution_count": 29,
   "metadata": {
    "nterop": {
     "id": "362"
    }
   },
   "outputs": [],
   "source": [
    "# save results to file:\n",
    "def save_results(rs, relative_dir):\n",
    "    model_stem = join(paths.dat, SETTINGS.filepaths['user_model_test'])\n",
    "    model_stem_dir = join(paths.dat, relative_dir)\n",
    "    !mkdir {model_stem_dir}\n",
    "    hyp_ext = lambda delta_hyp: '_'.join([str(k)+'-'+str(v) for k,v in delta_hyp.items()])\n",
    "    \n",
    "    results = pd.DataFrame(columns=['delta_hyp', 'loss'])\n",
    "    \n",
    "    for i,(m,h,dh,l) in enumerate(rs):    \n",
    "        results = results.append({'delta_hyp':hyp_ext(dh), 'loss':l}, ignore_index=True)\n",
    "    \n",
    "    results.to_csv(join(model_stem_dir, 'hyp_results.csv'))\n",
    "    print('saved:\\n',results)\n",
    "        "
   ]
  },
  {
   "cell_type": "code",
   "execution_count": 30,
   "metadata": {
    "nterop": {
     "id": "363"
    }
   },
   "outputs": [
    {
     "name": "stdout",
     "output_type": "stream",
     "text": [
      "mkdir: cannot create directory ‘/home/thahit/github/Recommender_Sim/dat/usr_hyp_select’: File exists\n",
      "saved:\n",
      "                                            delta_hyp      loss\n",
      "0                    n_hidden_layers-1_n_nodes-[200]  5.705856\n",
      "1                   n_hidden_layers-1_n_nodes-[1000]  5.694730\n",
      "2                   n_hidden_layers-1_n_nodes-[5000]  5.673113\n",
      "3                  n_hidden_layers-1_n_nodes-[10000]  5.655893\n",
      "4              n_hidden_layers-1_n_nodes-[5000, 200]  5.673850\n",
      "5             n_hidden_layers-1_n_nodes-[5000, 1000]  5.674095\n",
      "6             n_hidden_layers-1_n_nodes-[5000, 5000]  5.673305\n",
      "7  popularity_alpha-0.1_n_hidden_layers-1_n_nodes...  5.673360\n",
      "8  popularity_alpha-0.3_n_hidden_layers-1_n_nodes...  5.675373\n",
      "9  popularity_alpha-0.5_n_hidden_layers-1_n_nodes...  5.674200\n",
      "mkdir: cannot create directory ‘/home/thahit/github/Recommender_Sim/dat/rec_hyp_select’: File exists\n",
      "saved:\n",
      "                                             delta_hyp      loss\n",
      "0                     n_hidden_layers-1_n_nodes-[500]  5.692292\n",
      "1                    n_hidden_layers-1_n_nodes-[1000]  5.682052\n",
      "2                    n_hidden_layers-1_n_nodes-[2000]  5.666480\n",
      "3                n_hidden_layers-2_n_nodes-[500, 100]  5.696544\n",
      "4                n_hidden_layers-2_n_nodes-[500, 500]  5.672541\n",
      "5               n_hidden_layers-2_n_nodes-[1000, 100]  5.693937\n",
      "6               n_hidden_layers-2_n_nodes-[1000, 500]  5.655486\n",
      "7               n_hidden_layers-2_n_nodes-[2000, 500]  5.624538\n",
      "8   popularity_alpha-0.05_n_hidden_layers-1_n_node...  5.680007\n",
      "9   popularity_alpha-0.1_n_hidden_layers-1_n_nodes...  5.681459\n",
      "10  popularity_alpha-0.2_n_hidden_layers-1_n_nodes...  5.681231\n"
     ]
    }
   ],
   "source": [
    "save_results(usr_models_loss, 'usr_hyp_select')\n",
    "save_results(rec_models_loss, 'rec_hyp_select')"
   ]
  },
  {
   "cell_type": "code",
   "execution_count": 31,
   "metadata": {
    "nterop": {
     "id": "364"
    }
   },
   "outputs": [
    {
     "data": {
      "text/plain": [
       "{'dropout_rate': 0.15,\n",
       " 'n_hidden_layers': 1,\n",
       " 'n_nodes': [5000],\n",
       " 'hidden_activation': 'relu',\n",
       " 'max_epoch': 10,\n",
       " 'min_delta': 0.001,\n",
       " 'batch_size': 2048,\n",
       " 'train_ips': False,\n",
       " 'popularity_alpha': 0.5}"
      ]
     },
     "execution_count": 31,
     "metadata": {},
     "output_type": "execute_result"
    }
   ],
   "source": [
    "opt_usr_hyp = SETTINGS.hyp['user_model_hyp'].copy()\n",
    "opt_usr_hyp.update(usr_models_loss[-1][2])\n",
    "opt_usr_hyp"
   ]
  },
  {
   "cell_type": "code",
   "execution_count": 32,
   "metadata": {
    "nterop": {
     "id": "366"
    }
   },
   "outputs": [
    {
     "data": {
      "text/plain": [
       "<simtrain.sim_models.UserModel at 0x791eccdc8c50>"
      ]
     },
     "execution_count": 32,
     "metadata": {},
     "output_type": "execute_result"
    }
   ],
   "source": [
    "user_model = usr_models_loss[-1][0]\n",
    "user_model"
   ]
  },
  {
   "cell_type": "code",
   "execution_count": 33,
   "metadata": {
    "nterop": {
     "id": "368"
    }
   },
   "outputs": [],
   "source": [
    "user_model.save(join(paths.dat, 'opt_user_model.h5'))"
   ]
  },
  {
   "attachments": {},
   "cell_type": "markdown",
   "metadata": {
    "nterop": {
     "id": "456"
    }
   },
   "source": [
    "## Train Visit Model"
   ]
  },
  {
   "cell_type": "code",
   "execution_count": 34,
   "metadata": {
    "nterop": {
     "id": "21"
    }
   },
   "outputs": [
    {
     "name": "stdout",
     "output_type": "stream",
     "text": [
      "history_end_indx 1818\n",
      "[<tf.Tensor 'strided_slice_3:0' shape=(?, 303) dtype=float64>, <tf.Tensor 'strided_slice_4:0' shape=(?, 303) dtype=float64>, <tf.Tensor 'strided_slice_5:0' shape=(?, 303) dtype=float64>, <tf.Tensor 'strided_slice_6:0' shape=(?, 303) dtype=float64>, <tf.Tensor 'strided_slice_7:0' shape=(?, 303) dtype=float64>]\n",
      "WARNING:tensorflow:From /home/thahit/anaconda3/envs/WW/lib/python3.7/site-packages/tensorflow_core/python/keras/initializers.py:119: calling RandomUniform.__init__ (from tensorflow.python.ops.init_ops) with dtype is deprecated and will be removed in a future version.\n",
      "Instructions for updating:\n",
      "Call initializer instance with the dtype argument instead of passing it to the constructor\n",
      "visit model: num. unique visits in training data 9129\n",
      "fitting visit model:\n",
      "parallelizing across num. partitions 3\n",
      "X.shape,type(X) (9129, 1818) <class 'scipy.sparse.csr.csr_matrix'>\n",
      "Epoch 1/80\n",
      "69/72 [===========================>..] - ETA: 0s - loss: -0.6572 - acc: 1.0000 - count_error: 0.6328Epoch 1/80\n",
      "72/72 [==============================] - 4s 51ms/step - loss: -0.6583 - acc: 1.0000 - count_error: 0.6308 - val_loss: -0.6881 - val_acc: 1.0000 - val_count_error: 0.6184\n",
      "Epoch 2/80\n",
      "70/72 [============================>.] - ETA: 0s - loss: -0.6882 - acc: 1.0000 - count_error: 0.5869Epoch 1/80\n",
      "72/72 [==============================] - 1s 11ms/step - loss: -0.6884 - acc: 1.0000 - count_error: 0.5871 - val_loss: -0.6990 - val_acc: 1.0000 - val_count_error: 0.6173\n",
      "Epoch 3/80\n",
      "69/72 [===========================>..] - ETA: 0s - loss: -0.6969 - acc: 1.0000 - count_error: 0.5896Epoch 1/80\n",
      "72/72 [==============================] - 1s 14ms/step - loss: -0.6969 - acc: 1.0000 - count_error: 0.5896 - val_loss: -0.7046 - val_acc: 1.0000 - val_count_error: 0.6244\n"
     ]
    }
   ],
   "source": [
    "# train visit model:\n",
    "# use fewer cores here because more memory is needed\n",
    "os.environ['NUMEXPR_MAX_THREADS'] = str(int(int(SETTINGS.NUMEXPR_MAX_THREADS)/2))\n",
    "sub_sim_stg = process_dat.get_settings(sub_sim)\n",
    "\n",
    "def fit_visit(dat, stg, hyp, parallel=True):\n",
    "    # fit activity-based visit model:\n",
    "    visit_model = sim_models.VisitModel(stg['NI'],stg['NU'],hyp)\n",
    "    visit_dat, n_impressions_by_visit = sim_models.preprocess_visit_dat(dat, SETTINGS.simulation_components['visit_model_cell_nbr'])\n",
    "    \n",
    "    #loss_args = hyp.get('loss_args', {})\n",
    "    #print(loss_args)\n",
    "\n",
    "    visit_model.fit(visit_dat, n_impressions_by_visit, hyp, stg, parallel=parallel)\n",
    "    #visit_model.save(paths.dat + SETTINGS.filepaths['visit_model_test-%s' % ab_test_id])\n",
    "    return visit_model\n",
    "\n",
    "train_dat = all_dat[all_dat['acnt.test_cell_nbr']==cells['train']]\n",
    "train_stg = process_dat.get_settings(train_dat)\n",
    "visit_model = fit_visit(train_dat, train_stg, SETTINGS.hyp['visit_model_hyp'])"
   ]
  },
  {
   "cell_type": "code",
   "execution_count": 35,
   "metadata": {
    "nterop": {
     "id": "410"
    }
   },
   "outputs": [],
   "source": [
    "visit_model.save(join(paths.dat, SETTINGS.filepaths['visit_model_test-%s' % ab_test_id] + '.big'))"
   ]
  },
  {
   "cell_type": "code",
   "execution_count": 36,
   "metadata": {
    "nterop": {
     "id": "466"
    }
   },
   "outputs": [
    {
     "data": {
      "text/plain": [
       "{'visit_loss_method': 'event_sample',\n",
       " 'lambda_grid_factor': 0.01,\n",
       " 'n_samples_per_user': 100,\n",
       " 'user_point_sample_factor': 1.0,\n",
       " 'time_sample_size': 100,\n",
       " 'parallel_process_features': True,\n",
       " 'self_exciting_mixture': 0.8,\n",
       " 'visit_sample_grid_size': 0.5,\n",
       " 'fit_log_granular': False,\n",
       " 'log_history_path': 'dat/log/model_history_log.csv',\n",
       " 'window_size': 5,\n",
       " 'batch_size': 128,\n",
       " 'max_epoch': 80,\n",
       " 'patience': 0,\n",
       " 'min_delta': 0.0001,\n",
       " 'train_val_split': 1.0,\n",
       " 'time_model': {'n_hidden_layers': 1,\n",
       "  'n_nodes': [100],\n",
       "  'hidden_activation': 'relu',\n",
       "  'dropout_rate': 0.5},\n",
       " 'state_model': {'n_hidden_layers': 1,\n",
       "  'n_nodes': [20],\n",
       "  'hidden_activation': 'relu',\n",
       "  'dropout_rate': 0.5,\n",
       "  'dropout_positives': True}}"
      ]
     },
     "execution_count": 36,
     "metadata": {},
     "output_type": "execute_result"
    }
   ],
   "source": [
    "SETTINGS.hyp['visit_model_hyp']"
   ]
  },
  {
   "cell_type": "code",
   "execution_count": 40,
   "metadata": {
    "nterop": {
     "id": "468"
    }
   },
   "outputs": [
    {
     "name": "stdout",
     "output_type": "stream",
     "text": [
      "DescribeResult(nobs=5260, minmax=(False, True), mean=0.0022813688212927757, variance=0.0022765969907101134, skewness=20.864697934997743, kurtosis=433.33561991869925)\n",
      "total imp for user 5260\n",
      "total visits for user 12\n",
      "total streams for user 12\n",
      "ave streams per day for user 0.17145493893419933\n",
      "ave imp per day for user 75.1544148994907\n",
      "ave imp per visit for user 438.3333333333333\n",
      "num. streamed titles at t=0 0.0\n",
      "num. streamed titles at final t 3.0\n"
     ]
    },
    {
     "data": {
      "text/plain": [
       "(array([[-0.91071493,  0.        ,  0.        , ...,  0.        ,\n",
       "          0.        ,  0.        ],\n",
       "        [-0.91011954,  0.        ,  0.        , ...,  0.        ,\n",
       "          0.        ,  0.        ],\n",
       "        [-0.90952416,  0.        ,  0.        , ...,  0.        ,\n",
       "          0.        ,  0.        ],\n",
       "        ...,\n",
       "        [ 1.08799642,  0.        ,  0.        , ...,  0.        ,\n",
       "          0.        ,  0.        ],\n",
       "        [ 1.08859181,  0.        ,  0.        , ...,  0.        ,\n",
       "          0.        ,  0.        ],\n",
       "        [ 1.0891872 ,  0.        ,  0.        , ...,  0.        ,\n",
       "          0.        ,  0.        ]]),\n",
       " array([0.00000000e+00, 2.08333333e-02, 4.16666667e-02, ...,\n",
       "        6.99375000e+01, 6.99583333e+01, 6.99791667e+01]))"
      ]
     },
     "execution_count": 40,
     "metadata": {},
     "output_type": "execute_result"
    },
    {
     "data": {
      "image/png": "[encoded data removed]",
      "text/plain": [
       "<Figure size 900x400 with 1 Axes>"
      ]
     },
     "metadata": {},
     "output_type": "display_data"
    }
   ],
   "source": [
    "explore_models.plot_rnd_user_visits(42, (1,1,1,1), train_dat, visit_model, train_stg, SETTINGS.hyp,\n",
    "                         None)"
   ]
  },
  {
   "cell_type": "code",
   "execution_count": null,
   "metadata": {},
   "outputs": [],
   "source": []
  },
  {
   "cell_type": "code",
   "execution_count": null,
   "metadata": {},
   "outputs": [],
   "source": []
  }
 ],
 "metadata": {
  "hide_input": false,
  "kernelspec": {
   "display_name": "Python 3 (ipykernel)",
   "language": "python",
   "name": "python3"
  },
  "language_info": {
   "codemirror_mode": {
    "name": "ipython",
    "version": 3
   },
   "file_extension": ".py",
   "mimetype": "text/x-python",
   "name": "python",
   "nbconvert_exporter": "python",
   "pygments_lexer": "ipython3",
   "version": "3.7.16"
  },
  "nterop": {
   "seedId": "470"
  }
 },
 "nbformat": 4,
 "nbformat_minor": 4
}
