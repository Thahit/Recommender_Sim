{
 "cells": [
  {
   "cell_type": "code",
   "execution_count": 1,
   "metadata": {},
   "outputs": [],
   "source": [
    "import sys\n",
    "import os\n",
    "from tqdm import tqdm\n",
    "import random\n",
    "import numpy as np\n",
    "import math\n",
    "# Add the parent directory to the sys.path\n",
    "parent_dir = os.path.abspath(os.path.join(os.getcwd(), os.pardir))\n",
    "\n",
    "sys.path.append(parent_dir)\n",
    "\n",
    "#import simtrain\n",
    "from simtrain.sim_models_new import User_simmulation_Model\n",
    "from simtrain import SETTINGS_POLIMI as SETTINGS\n",
    "from simtrain import explore_models, process_dat\n",
    "import simtrain.utils as utils\n",
    "from simtrain.Dataset import CustomDataset\n",
    "from simtrain.train import train\n",
    "\n",
    "import torch\n",
    "import torch.nn as nn\n",
    "from torch.utils.data import DataLoader\n",
    "\n",
    "import ast\n",
    "\n",
    "import paths\n",
    "from os.path import join\n",
    "import pytorch_warmup as warmup\n"
   ]
  },
  {
   "cell_type": "code",
   "execution_count": 3,
   "metadata": {},
   "outputs": [],
   "source": [
    "#num_items = 7\n",
    "#num_items_per_recom = 2\n",
    "num_interaction_types = 2\n",
    "recom_dim = 1\n",
    "#num_users = 11\n",
    "#min_inter = 2\n",
    "#max_inter = 4\n",
    "state_size = SETTINGS.STATE_SIZE\n",
    "subset = 50 # make data smaller\n",
    "experiment_name = \"testing2\""
   ]
  },
  {
   "cell_type": "code",
   "execution_count": 4,
   "metadata": {},
   "outputs": [
    {
     "data": {
      "text/plain": [
       "'\\ntrain_dat, stg = process_dat.load_dat(paths.cw_stages[\\'output_new\\'][\\'train\\'], new_data=True)\\n\\nprint(stg)\\n\\ndef convert_string_to_double_list(s):\\n    return ast.literal_eval(s)\\n\\n# Apply the custom function\\ntrain_dat[\\'item_ids\\'] = train_dat[\\'item_ids\\'].apply(convert_string_to_double_list)\\ntrain_dat[\\'user_means\\'] = train_dat[\\'user_means\\'].apply(convert_string_to_double_list)\\ntrain_dat[\\'user_vars_log\\'] = train_dat[\\'user_vars_log\\'].apply(convert_string_to_double_list)\\ntrain_dat[\\'timestamps\\'] = train_dat[\\'timestamps\\'].apply(convert_string_to_double_list)\\ntrain_dat[\\'interaction_types\\'] = train_dat[\\'interaction_types\\'].apply(convert_string_to_double_list)\\n\\nprint(\"len: \", len(train_dat))\\nlist_of_dicts = train_dat.to_dict(orient=\\'records\\')\\nlist_of_dicts = list_of_dicts[:subset]\\ntrain_dat.head()\\n'"
      ]
     },
     "execution_count": 4,
     "metadata": {},
     "output_type": "execute_result"
    }
   ],
   "source": [
    "#create dataset from processed data\n",
    "'''\n",
    "train_dat, stg = process_dat.load_dat(paths.cw_stages['output_new']['train'], new_data=True)\n",
    "\n",
    "print(stg)\n",
    "\n",
    "def convert_string_to_double_list(s):\n",
    "    return ast.literal_eval(s)\n",
    "\n",
    "# Apply the custom function\n",
    "train_dat['item_ids'] = train_dat['item_ids'].apply(convert_string_to_double_list)\n",
    "train_dat['user_means'] = train_dat['user_means'].apply(convert_string_to_double_list)\n",
    "train_dat['user_vars_log'] = train_dat['user_vars_log'].apply(convert_string_to_double_list)\n",
    "train_dat['timestamps'] = train_dat['timestamps'].apply(convert_string_to_double_list)\n",
    "train_dat['interaction_types'] = train_dat['interaction_types'].apply(convert_string_to_double_list)\n",
    "\n",
    "print(\"len: \", len(train_dat))\n",
    "list_of_dicts = train_dat.to_dict(orient='records')\n",
    "list_of_dicts = list_of_dicts[:subset]\n",
    "train_dat.head()\n",
    "'''"
   ]
  },
  {
   "cell_type": "code",
   "execution_count": 5,
   "metadata": {},
   "outputs": [],
   "source": [
    "\n",
    "checkpoint = torch.load(join(paths.dat, SETTINGS.rootpaths['models'],\n",
    "                             experiment_name, \"data.h5\"))\n",
    "list_of_dicts = checkpoint['data']"
   ]
  },
  {
   "cell_type": "code",
   "execution_count": 6,
   "metadata": {},
   "outputs": [
    {
     "data": {
      "text/plain": [
       "'\\ndef adjust_hidden_dim(data_dict, state_size):\\n    # just to jumstart experiments should be deleted at the end\\n    for row in list_of_dicts:\\n        if row[\"user_means\"] > state_size:\\n            row[\"user_means\"] = row[\"user_means\"][:state_size]\\n            row[\"user_vars_log\"] = row[\"user_vars_log\"][:state_size]\\n        elif row[\"user_means\"] > state_size:\\n\\n\\nadjust_hidden_dim(list_of_dicts, state_size)\\n'"
      ]
     },
     "execution_count": 6,
     "metadata": {},
     "output_type": "execute_result"
    }
   ],
   "source": [
    "'''\n",
    "def adjust_hidden_dim(data_dict, state_size):\n",
    "    # just to jumstart experiments should be deleted at the end\n",
    "    for row in list_of_dicts:\n",
    "        if row[\"user_means\"] > state_size:\n",
    "            row[\"user_means\"] = row[\"user_means\"][:state_size]\n",
    "            row[\"user_vars_log\"] = row[\"user_vars_log\"][:state_size]\n",
    "        elif row[\"user_means\"] > state_size:\n",
    "\n",
    "\n",
    "adjust_hidden_dim(list_of_dicts, state_size)\n",
    "'''"
   ]
  },
  {
   "cell_type": "code",
   "execution_count": 7,
   "metadata": {},
   "outputs": [],
   "source": [
    "\n",
    "dataset = CustomDataset(list_of_dicts) # [:50]\n",
    "# Example usage with DataLoader\n",
    "dataloader = DataLoader(dataset, batch_size=1, shuffle=True)# can only do batchsize 1"
   ]
  },
  {
   "cell_type": "code",
   "execution_count": 8,
   "metadata": {},
   "outputs": [
    {
     "name": "stdout",
     "output_type": "stream",
     "text": [
      "tensor([0.0417], dtype=torch.float64)\n",
      "tensor([69.3333], dtype=torch.float64)\n"
     ]
    }
   ],
   "source": [
    "def test_timestamps(dataloader):\n",
    "    smallest = float(\"inf\")\n",
    "    biggest = -1\n",
    "    for batch in dataloader:\n",
    "        timestamps, items, labels, means, var, idx = batch\n",
    "        last = timestamps[0]\n",
    "        smallest = min(smallest, last)\n",
    "        biggest = max(biggest, timestamps[-1])\n",
    "        for i in range(1,len(timestamps)):\n",
    "            if timestamps[i] <= last:\n",
    "                print(\"error, current: \", timestamps[i], \"\\tlast\", last)\n",
    "    print(smallest), print(biggest)\n",
    "    return biggest\n",
    "\n",
    "max_time = test_timestamps(dataloader)"
   ]
  },
  {
   "cell_type": "code",
   "execution_count": 9,
   "metadata": {},
   "outputs": [
    {
     "name": "stdout",
     "output_type": "stream",
     "text": [
      "Timestamps: [tensor([5.], dtype=torch.float64), tensor([5.0417], dtype=torch.float64), tensor([5.0833], dtype=torch.float64), tensor([41.0833], dtype=torch.float64)]\n",
      "item_recom: [[tensor([53]), tensor([50]), tensor([217]), tensor([205]), tensor([66]), tensor([53]), tensor([199]), tensor([134]), tensor([2]), tensor([53]), tensor([66]), tensor([50]), tensor([199]), tensor([77]), tensor([134]), tensor([77]), tensor([2]), tensor([134]), tensor([77]), tensor([50]), tensor([66]), tensor([199]), tensor([217]), tensor([205]), tensor([205]), tensor([217]), tensor([2])], [tensor([168]), tensor([205]), tensor([217]), tensor([138]), tensor([53]), tensor([166]), tensor([203]), tensor([73]), tensor([138]), tensor([168]), tensor([159]), tensor([66]), tensor([268]), tensor([297]), tensor([66]), tensor([261]), tensor([178]), tensor([159]), tensor([178]), tensor([203]), tensor([203]), tensor([159]), tensor([168]), tensor([138]), tensor([217]), tensor([205]), tensor([53]), tensor([57]), tensor([297]), tensor([50]), tensor([57]), tensor([53]), tensor([233]), tensor([50]), tensor([2]), tensor([77]), tensor([199]), tensor([66]), tensor([53]), tensor([205]), tensor([217]), tensor([134]), tensor([205]), tensor([66]), tensor([20]), tensor([238]), tensor([60]), tensor([66]), tensor([217]), tensor([62]), tensor([199]), tensor([50]), tensor([53]), tensor([138]), tensor([34]), tensor([227]), tensor([17]), tensor([217]), tensor([205]), tensor([50]), tensor([134]), tensor([2]), tensor([153]), tensor([297]), tensor([192]), tensor([154]), tensor([153]), tensor([159]), tensor([62]), tensor([138]), tensor([118]), tensor([57]), tensor([2]), tensor([159]), tensor([212]), tensor([227]), tensor([269]), tensor([190]), tensor([27]), tensor([186]), tensor([0]), tensor([282]), tensor([8]), tensor([168]), tensor([98]), tensor([203]), tensor([178]), tensor([57]), tensor([60]), tensor([20]), tensor([66]), tensor([50]), tensor([199]), tensor([77]), tensor([134]), tensor([147]), tensor([2]), tensor([51]), tensor([134]), tensor([210]), tensor([238]), tensor([110]), tensor([20]), tensor([57]), tensor([178]), tensor([89]), tensor([284]), tensor([2]), tensor([205]), tensor([203]), tensor([178]), tensor([57]), tensor([57]), tensor([217]), tensor([205]), tensor([53]), tensor([297]), tensor([77]), tensor([153]), tensor([297]), tensor([77]), tensor([199]), tensor([217]), tensor([205]), tensor([50]), tensor([168]), tensor([66]), tensor([284]), tensor([192]), tensor([217]), tensor([53]), tensor([60])], [tensor([192]), tensor([159]), tensor([53]), tensor([199]), tensor([0]), tensor([300]), tensor([138]), tensor([168]), tensor([77]), tensor([50]), tensor([178]), tensor([57]), tensor([153]), tensor([199]), tensor([205]), tensor([217]), tensor([50]), tensor([203]), tensor([205]), tensor([279]), tensor([66]), tensor([144]), tensor([297]), tensor([263]), tensor([161]), tensor([42]), tensor([70]), tensor([214]), tensor([286]), tensor([192]), tensor([110]), tensor([231]), tensor([234]), tensor([115]), tensor([126]), tensor([203]), tensor([234]), tensor([50]), tensor([77]), tensor([53]), tensor([234]), tensor([217]), tensor([50]), tensor([66]), tensor([53]), tensor([147]), tensor([66]), tensor([211]), tensor([192]), tensor([98]), tensor([231]), tensor([20]), tensor([110]), tensor([57]), tensor([217]), tensor([205]), tensor([169]), tensor([60]), tensor([191]), tensor([199]), tensor([205]), tensor([77]), tensor([2]), tensor([218]), tensor([269]), tensor([190]), tensor([3]), tensor([27]), tensor([158]), tensor([186]), tensor([125]), tensor([66]), tensor([53]), tensor([217]), tensor([50]), tensor([60]), tensor([238]), tensor([20]), tensor([60]), tensor([20]), tensor([134]), tensor([57]), tensor([195]), tensor([203]), tensor([53]), tensor([66]), tensor([50]), tensor([199]), tensor([77]), tensor([134]), tensor([2]), tensor([205]), tensor([297]), tensor([53]), tensor([205]), tensor([217]), tensor([57]), tensor([178]), tensor([57]), tensor([205]), tensor([66]), tensor([217]), tensor([217]), tensor([53]), tensor([50]), tensor([77]), tensor([66]), tensor([134]), tensor([2]), tensor([2]), tensor([110]), tensor([192]), tensor([50]), tensor([297]), tensor([66]), tensor([53]), tensor([205]), tensor([217]), tensor([138]), tensor([199]), tensor([53]), tensor([159]), tensor([178]), tensor([168]), tensor([66]), tensor([20]), tensor([238]), tensor([66]), tensor([238]), tensor([60]), tensor([60]), tensor([217]), tensor([205]), tensor([297]), tensor([153]), tensor([50]), tensor([199]), tensor([57]), tensor([138]), tensor([168]), tensor([134]), tensor([159]), tensor([192]), tensor([77]), tensor([20]), tensor([205]), tensor([53]), tensor([205]), tensor([217]), tensor([2]), tensor([217]), tensor([50]), tensor([290]), tensor([69]), tensor([192]), tensor([219]), tensor([82]), tensor([78]), tensor([212]), tensor([50]), tensor([213]), tensor([66]), tensor([53]), tensor([183])], [tensor([77]), tensor([53]), tensor([66]), tensor([89]), tensor([62]), tensor([284]), tensor([199]), tensor([205]), tensor([297]), tensor([217])]]\n",
      "Labels: [[tensor([0]), tensor([0]), tensor([0]), tensor([0]), tensor([0]), tensor([0]), tensor([0]), tensor([0]), tensor([0]), tensor([0]), tensor([0]), tensor([0]), tensor([0]), tensor([0]), tensor([0]), tensor([0]), tensor([0]), tensor([0]), tensor([0]), tensor([0]), tensor([0]), tensor([0]), tensor([0]), tensor([0]), tensor([0]), tensor([0]), tensor([0])], [tensor([0]), tensor([0]), tensor([0]), tensor([0]), tensor([0]), tensor([0]), tensor([0]), tensor([0]), tensor([0]), tensor([0]), tensor([0]), tensor([0]), tensor([0]), tensor([0]), tensor([0]), tensor([0]), tensor([0]), tensor([0]), tensor([0]), tensor([0]), tensor([0]), tensor([0]), tensor([0]), tensor([0]), tensor([0]), tensor([0]), tensor([0]), tensor([0]), tensor([0]), tensor([0]), tensor([0]), tensor([0]), tensor([0]), tensor([0]), tensor([0]), tensor([0]), tensor([0]), tensor([0]), tensor([0]), tensor([1]), tensor([0]), tensor([0]), tensor([0]), tensor([0]), tensor([0]), tensor([0]), tensor([0]), tensor([0]), tensor([0]), tensor([0]), tensor([0]), tensor([0]), tensor([0]), tensor([0]), tensor([0]), tensor([0]), tensor([0]), tensor([0]), tensor([0]), tensor([0]), tensor([0]), tensor([0]), tensor([0]), tensor([0]), tensor([0]), tensor([0]), tensor([0]), tensor([0]), tensor([0]), tensor([0]), tensor([0]), tensor([0]), tensor([0]), tensor([0]), tensor([0]), tensor([0]), tensor([0]), tensor([0]), tensor([0]), tensor([0]), tensor([0]), tensor([0]), tensor([0]), tensor([0]), tensor([0]), tensor([0]), tensor([0]), tensor([0]), tensor([0]), tensor([0]), tensor([0]), tensor([0]), tensor([0]), tensor([0]), tensor([0]), tensor([0]), tensor([0]), tensor([0]), tensor([0]), tensor([0]), tensor([0]), tensor([0]), tensor([0]), tensor([0]), tensor([0]), tensor([0]), tensor([0]), tensor([0]), tensor([0]), tensor([0]), tensor([0]), tensor([0]), tensor([0]), tensor([0]), tensor([0]), tensor([0]), tensor([0]), tensor([0]), tensor([0]), tensor([0]), tensor([0]), tensor([0]), tensor([0]), tensor([0]), tensor([0]), tensor([0]), tensor([0]), tensor([0]), tensor([0]), tensor([0]), tensor([0]), tensor([0])], [tensor([0]), tensor([0]), tensor([0]), tensor([0]), tensor([0]), tensor([0]), tensor([0]), tensor([0]), tensor([0]), tensor([0]), tensor([0]), tensor([0]), tensor([0]), tensor([0]), tensor([0]), tensor([0]), tensor([0]), tensor([0]), tensor([0]), tensor([0]), tensor([0]), tensor([0]), tensor([0]), tensor([0]), tensor([0]), tensor([0]), tensor([0]), tensor([0]), tensor([0]), tensor([0]), tensor([0]), tensor([0]), tensor([0]), tensor([0]), tensor([0]), tensor([0]), tensor([0]), tensor([0]), tensor([0]), tensor([0]), tensor([0]), tensor([0]), tensor([0]), tensor([0]), tensor([0]), tensor([0]), tensor([0]), tensor([0]), tensor([0]), tensor([0]), tensor([0]), tensor([0]), tensor([0]), tensor([0]), tensor([0]), tensor([0]), tensor([0]), tensor([0]), tensor([0]), tensor([0]), tensor([0]), tensor([0]), tensor([0]), tensor([0]), tensor([0]), tensor([0]), tensor([0]), tensor([0]), tensor([0]), tensor([0]), tensor([0]), tensor([0]), tensor([0]), tensor([0]), tensor([0]), tensor([0]), tensor([0]), tensor([0]), tensor([0]), tensor([0]), tensor([0]), tensor([0]), tensor([0]), tensor([0]), tensor([0]), tensor([0]), tensor([0]), tensor([0]), tensor([0]), tensor([0]), tensor([0]), tensor([1]), tensor([0]), tensor([0]), tensor([0]), tensor([0]), tensor([0]), tensor([0]), tensor([0]), tensor([0]), tensor([0]), tensor([0]), tensor([0]), tensor([0]), tensor([0]), tensor([0]), tensor([0]), tensor([0]), tensor([0]), tensor([0]), tensor([0]), tensor([0]), tensor([0]), tensor([0]), tensor([0]), tensor([0]), tensor([0]), tensor([0]), tensor([0]), tensor([0]), tensor([0]), tensor([0]), tensor([0]), tensor([0]), tensor([0]), tensor([0]), tensor([0]), tensor([0]), tensor([0]), tensor([0]), tensor([0]), tensor([0]), tensor([0]), tensor([0]), tensor([0]), tensor([0]), tensor([0]), tensor([0]), tensor([0]), tensor([0]), tensor([0]), tensor([0]), tensor([0]), tensor([0]), tensor([0]), tensor([0]), tensor([0]), tensor([0]), tensor([0]), tensor([0]), tensor([0]), tensor([0]), tensor([0]), tensor([0]), tensor([0]), tensor([0]), tensor([0]), tensor([0]), tensor([0]), tensor([0]), tensor([0]), tensor([0]), tensor([0]), tensor([0])], [tensor([0]), tensor([0]), tensor([0]), tensor([0]), tensor([0]), tensor([0]), tensor([0]), tensor([0]), tensor([0]), tensor([0])]]\n",
      "means: [tensor([0.0005], dtype=torch.float64), tensor([-0.0005], dtype=torch.float64), tensor([-8.1689e-05], dtype=torch.float64)]\n",
      "log_var: [tensor([-0.1155], dtype=torch.float64), tensor([-0.1155], dtype=torch.float64), tensor([-0.1155], dtype=torch.float64)]\n"
     ]
    }
   ],
   "source": [
    "for batch in dataloader:\n",
    "    timestamps, items, labels, means, var, idx = batch\n",
    "    print('Timestamps:', timestamps#, \"\\n dtype: \", timestamps.dtype\n",
    "          )\n",
    "    print('item_recom:', items#, \"\\n dtype: \", items.dtype\n",
    "          )\n",
    "    print('Labels:', labels#, \"\\n dtype: \", labels.dtype\n",
    "          )\n",
    "    print('means:', means#, \"\\n dtype: \", means.dtype\n",
    "          )\n",
    "    print('log_var:', var#, \"\\n dtype: \", var.dtype\n",
    "          )\n",
    "    break\n",
    "    "
   ]
  },
  {
   "cell_type": "code",
   "execution_count": 10,
   "metadata": {},
   "outputs": [],
   "source": [
    "# parameter dicts\n",
    "width= 10\n",
    "user_state_dict = {\"model_hyp\": {\"layer_width\": [width, width, width]}}\n",
    "intensity_state_dict = {\"model_hyp\": {\"user_model_hyp\": {\"layer_width\": [width, width, 3],\n",
    "                                                         \"noise\": 0},\n",
    "                                          \"global_model_hyp\": {\"layer_width\": [width, 3]}}\n",
    "                            }\n",
    "interaction_state_dict = {\"model_hyp\": {\"layer_width\": [width, width ,width]}\n",
    "                            }\n",
    "jump_state_dict = {\"model_hyp\": {\"layer_width\": [width, width]}\n",
    "                        }"
   ]
  },
  {
   "cell_type": "code",
   "execution_count": 11,
   "metadata": {},
   "outputs": [],
   "source": [
    "import torch.optim as optim\n",
    "\n",
    "hyperparameter_dict = {\"state_size\": state_size, \"state_model\": user_state_dict, \"num_interaction_outcomes\": num_interaction_types,\n",
    "                           \"intensity_model\": intensity_state_dict,# \"num_recom\" : num_items_per_recom,\n",
    "                            \"recom_dim\":recom_dim, \"interaction_model\": interaction_state_dict,\n",
    "                            \"jump_model\": jump_state_dict}\n",
    "model = User_simmulation_Model(hyperparameter_dict)"
   ]
  },
  {
   "cell_type": "code",
   "execution_count": 12,
   "metadata": {},
   "outputs": [
    {
     "data": {
      "text/plain": [
       "<All keys matched successfully>"
      ]
     },
     "execution_count": 12,
     "metadata": {},
     "output_type": "execute_result"
    }
   ],
   "source": [
    "# load model\n",
    "path = join(paths.dat, SETTINGS.rootpaths['models'],\n",
    "                             experiment_name, \"user_model.h5\")\n",
    "model.load_state_dict(torch.load(path))"
   ]
  },
  {
   "cell_type": "code",
   "execution_count": 13,
   "metadata": {},
   "outputs": [
    {
     "name": "stdout",
     "output_type": "stream",
     "text": [
      "Using device: cpu\n"
     ]
    }
   ],
   "source": [
    "num_epochs = 10\n",
    "warmup_period = len(dataset)\n",
    "num_steps = num_epochs*len(dataset) -warmup_period\n",
    "num_iter_til_first_restart = num_steps//2\n",
    "\n",
    "\n",
    "device = torch.device(\"cuda\" if torch.cuda.is_available() else \"cpu\")\n",
    "print(f\"Using device: {device}\")\n",
    "\n",
    "optimizer = optim.AdamW(model.parameters(), lr=0.01,\n",
    "                        weight_decay=1e-8)\n",
    "lr_scheduler = optim.lr_scheduler.CosineAnnealingWarmRestarts(\n",
    "    optimizer, T_0=num_iter_til_first_restart, T_mult=1, eta_min=5e-5)\n",
    "\n",
    "warmup_scheduler = warmup.LinearWarmup(optimizer, warmup_period)\n"
   ]
  },
  {
   "cell_type": "code",
   "execution_count": 14,
   "metadata": {},
   "outputs": [
    {
     "name": "stdout",
     "output_type": "stream",
     "text": [
      "means:  [tensor([0.0223], dtype=torch.float64), tensor([-0.0950], dtype=torch.float64), tensor([0.0211], dtype=torch.float64)]\n",
      "logvar:  [tensor([-0.1155], dtype=torch.float64), tensor([-0.1155], dtype=torch.float64), tensor([-0.1155], dtype=torch.float64)]\n",
      "means:  [tensor([2.3246e-05], dtype=torch.float64), tensor([0.0005], dtype=torch.float64), tensor([3.8117e-05], dtype=torch.float64)]\n",
      "logvar:  [tensor([-0.1211], dtype=torch.float64), tensor([0.0036], dtype=torch.float64), tensor([-0.0649], dtype=torch.float64)]\n",
      "means:  [tensor([0.0006], dtype=torch.float64), tensor([-0.0007], dtype=torch.float64), tensor([-0.0003], dtype=torch.float64)]\n",
      "logvar:  [tensor([-0.1155], dtype=torch.float64), tensor([-0.1155], dtype=torch.float64), tensor([-0.1155], dtype=torch.float64)]\n",
      "means:  [tensor([0.0003], dtype=torch.float64), tensor([-0.0004], dtype=torch.float64), tensor([-1.4478e-05], dtype=torch.float64)]\n",
      "logvar:  [tensor([-0.1155], dtype=torch.float64), tensor([-0.1155], dtype=torch.float64), tensor([-0.1155], dtype=torch.float64)]\n",
      "means:  [tensor([0.0003], dtype=torch.float64), tensor([-0.0003], dtype=torch.float64), tensor([9.6649e-05], dtype=torch.float64)]\n",
      "logvar:  [tensor([-0.1155], dtype=torch.float64), tensor([-0.1155], dtype=torch.float64), tensor([-0.1155], dtype=torch.float64)]\n"
     ]
    }
   ],
   "source": [
    "utils.print_user_params(dataloader, print_var = True)"
   ]
  },
  {
   "cell_type": "code",
   "execution_count": 15,
   "metadata": {},
   "outputs": [
    {
     "name": "stderr",
     "output_type": "stream",
     "text": [
      "  0%|          | 0/10 [00:00<?, ?it/s]/home/thahit/github/Recommender_Sim/simtrain/train.py:39: UserWarning: Implicit dimension choice for log_softmax has been deprecated. Change the call to include dim=X as an argument.\n",
      "  y_pred = nn.functional.log_softmax(y_pred)\n",
      " 10%|█         | 1/10 [14:32<2:10:51, 872.37s/it]"
     ]
    },
    {
     "name": "stdout",
     "output_type": "stream",
     "text": [
      "loss_all: inf \tloss_base: 186.50 \tloss_kl: 596446.69 \tloss_intensity:  inf \tlog of the loss: inf\n"
     ]
    },
    {
     "name": "stderr",
     "output_type": "stream",
     "text": [
      " 10%|█         | 1/10 [15:29<2:19:28, 929.82s/it]\n"
     ]
    },
    {
     "ename": "KeyboardInterrupt",
     "evalue": "",
     "output_type": "error",
     "traceback": [
      "\u001b[0;31m---------------------------------------------------------------------------\u001b[0m",
      "\u001b[0;31mKeyboardInterrupt\u001b[0m                         Traceback (most recent call last)",
      "\u001b[0;32m/tmp/ipykernel_10388/1972671877.py\u001b[0m in \u001b[0;36m<module>\u001b[0;34m\u001b[0m\n\u001b[1;32m      3\u001b[0m                 \u001b[0moptimizer\u001b[0m\u001b[0;34m=\u001b[0m\u001b[0moptimizer\u001b[0m\u001b[0;34m,\u001b[0m \u001b[0mlr_scheduler\u001b[0m\u001b[0;34m=\u001b[0m\u001b[0mlr_scheduler\u001b[0m\u001b[0;34m,\u001b[0m \u001b[0mnum_classes\u001b[0m\u001b[0;34m=\u001b[0m\u001b[0mnum_interaction_types\u001b[0m\u001b[0;34m,\u001b[0m\u001b[0;34m\u001b[0m\u001b[0;34m\u001b[0m\u001b[0m\n\u001b[1;32m      4\u001b[0m                 \u001b[0mlogger\u001b[0m\u001b[0;34m=\u001b[0m\u001b[0mutils\u001b[0m\u001b[0;34m.\u001b[0m\u001b[0mlogging_func\u001b[0m\u001b[0;34m,\u001b[0m\u001b[0mwarmup_period\u001b[0m\u001b[0;34m=\u001b[0m\u001b[0mwarmup_period\u001b[0m\u001b[0;34m,\u001b[0m \u001b[0mintensity_loss_func\u001b[0m\u001b[0;34m=\u001b[0m\u001b[0mutils\u001b[0m\u001b[0;34m.\u001b[0m\u001b[0msquare_intensity_loss\u001b[0m\u001b[0;34m,\u001b[0m\u001b[0;34m\u001b[0m\u001b[0;34m\u001b[0m\u001b[0m\n\u001b[0;32m----> 5\u001b[0;31m                 \u001b[0mstate_size\u001b[0m\u001b[0;34m=\u001b[0m\u001b[0mstate_size\u001b[0m\u001b[0;34m,\u001b[0m\u001b[0mmax_time\u001b[0m\u001b[0;34m=\u001b[0m\u001b[0mmax_time\u001b[0m\u001b[0;34m,\u001b[0m \u001b[0mlog_step_size\u001b[0m\u001b[0;34m=\u001b[0m\u001b[0;36m1\u001b[0m\u001b[0;34m,\u001b[0m \u001b[0mwarmup_scheduler\u001b[0m \u001b[0;34m=\u001b[0m \u001b[0mwarmup_scheduler\u001b[0m\u001b[0;34m,\u001b[0m\u001b[0;34m\u001b[0m\u001b[0;34m\u001b[0m\u001b[0m\n\u001b[0m\u001b[1;32m      6\u001b[0m                 )\n",
      "\u001b[0;32m~/github/Recommender_Sim/simtrain/train.py\u001b[0m in \u001b[0;36mtrain\u001b[0;34m(model, device, dataloader, num_epochs, state_size, loss_func, loss_func_kl, optimizer, num_classes, intensity_loss_func, logger, max_time, lr_scheduler, warmup_scheduler, kl_weight, user_lr, log_step_size, warmup_period)\u001b[0m\n\u001b[1;32m     79\u001b[0m \u001b[0;34m\u001b[0m\u001b[0m\n\u001b[1;32m     80\u001b[0m             \u001b[0mcurr_loss_all\u001b[0m \u001b[0;34m=\u001b[0m \u001b[0mcurr_loss_kl\u001b[0m \u001b[0;34m+\u001b[0m \u001b[0mcurr_loss_base\u001b[0m\u001b[0;34m+\u001b[0m\u001b[0mcurr_loss_intensity\u001b[0m\u001b[0;34m\u001b[0m\u001b[0;34m\u001b[0m\u001b[0m\n\u001b[0;32m---> 81\u001b[0;31m             \u001b[0mcurr_loss_all\u001b[0m\u001b[0;34m.\u001b[0m\u001b[0mbackward\u001b[0m\u001b[0;34m(\u001b[0m\u001b[0;34m)\u001b[0m\u001b[0;34m\u001b[0m\u001b[0;34m\u001b[0m\u001b[0m\n\u001b[0m\u001b[1;32m     82\u001b[0m             \u001b[0mtorch\u001b[0m\u001b[0;34m.\u001b[0m\u001b[0mnn\u001b[0m\u001b[0;34m.\u001b[0m\u001b[0mutils\u001b[0m\u001b[0;34m.\u001b[0m\u001b[0mclip_grad_norm_\u001b[0m\u001b[0;34m(\u001b[0m\u001b[0mmodel\u001b[0m\u001b[0;34m.\u001b[0m\u001b[0mparameters\u001b[0m\u001b[0;34m(\u001b[0m\u001b[0;34m)\u001b[0m\u001b[0;34m,\u001b[0m \u001b[0mmax_norm\u001b[0m\u001b[0;34m=\u001b[0m\u001b[0;36m1.0\u001b[0m\u001b[0;34m)\u001b[0m\u001b[0;34m\u001b[0m\u001b[0;34m\u001b[0m\u001b[0m\n\u001b[1;32m     83\u001b[0m             \u001b[0moptimizer\u001b[0m\u001b[0;34m.\u001b[0m\u001b[0mstep\u001b[0m\u001b[0;34m(\u001b[0m\u001b[0;34m)\u001b[0m\u001b[0;34m\u001b[0m\u001b[0;34m\u001b[0m\u001b[0m\n",
      "\u001b[0;32m~/anaconda3/envs/WW/lib/python3.7/site-packages/torch/_tensor.py\u001b[0m in \u001b[0;36mbackward\u001b[0;34m(self, gradient, retain_graph, create_graph, inputs)\u001b[0m\n\u001b[1;32m    394\u001b[0m                 \u001b[0mcreate_graph\u001b[0m\u001b[0;34m=\u001b[0m\u001b[0mcreate_graph\u001b[0m\u001b[0;34m,\u001b[0m\u001b[0;34m\u001b[0m\u001b[0;34m\u001b[0m\u001b[0m\n\u001b[1;32m    395\u001b[0m                 inputs=inputs)\n\u001b[0;32m--> 396\u001b[0;31m         \u001b[0mtorch\u001b[0m\u001b[0;34m.\u001b[0m\u001b[0mautograd\u001b[0m\u001b[0;34m.\u001b[0m\u001b[0mbackward\u001b[0m\u001b[0;34m(\u001b[0m\u001b[0mself\u001b[0m\u001b[0;34m,\u001b[0m \u001b[0mgradient\u001b[0m\u001b[0;34m,\u001b[0m \u001b[0mretain_graph\u001b[0m\u001b[0;34m,\u001b[0m \u001b[0mcreate_graph\u001b[0m\u001b[0;34m,\u001b[0m \u001b[0minputs\u001b[0m\u001b[0;34m=\u001b[0m\u001b[0minputs\u001b[0m\u001b[0;34m)\u001b[0m\u001b[0;34m\u001b[0m\u001b[0;34m\u001b[0m\u001b[0m\n\u001b[0m\u001b[1;32m    397\u001b[0m \u001b[0;34m\u001b[0m\u001b[0m\n\u001b[1;32m    398\u001b[0m     \u001b[0;32mdef\u001b[0m \u001b[0mregister_hook\u001b[0m\u001b[0;34m(\u001b[0m\u001b[0mself\u001b[0m\u001b[0;34m,\u001b[0m \u001b[0mhook\u001b[0m\u001b[0;34m)\u001b[0m\u001b[0;34m:\u001b[0m\u001b[0;34m\u001b[0m\u001b[0;34m\u001b[0m\u001b[0m\n",
      "\u001b[0;32m~/anaconda3/envs/WW/lib/python3.7/site-packages/torch/autograd/__init__.py\u001b[0m in \u001b[0;36mbackward\u001b[0;34m(tensors, grad_tensors, retain_graph, create_graph, grad_variables, inputs)\u001b[0m\n\u001b[1;32m    173\u001b[0m     Variable._execution_engine.run_backward(  # Calls into the C++ engine to run the backward pass\n\u001b[1;32m    174\u001b[0m         \u001b[0mtensors\u001b[0m\u001b[0;34m,\u001b[0m \u001b[0mgrad_tensors_\u001b[0m\u001b[0;34m,\u001b[0m \u001b[0mretain_graph\u001b[0m\u001b[0;34m,\u001b[0m \u001b[0mcreate_graph\u001b[0m\u001b[0;34m,\u001b[0m \u001b[0minputs\u001b[0m\u001b[0;34m,\u001b[0m\u001b[0;34m\u001b[0m\u001b[0;34m\u001b[0m\u001b[0m\n\u001b[0;32m--> 175\u001b[0;31m         allow_unreachable=True, accumulate_grad=True)  # Calls into the C++ engine to run the backward pass\n\u001b[0m\u001b[1;32m    176\u001b[0m \u001b[0;34m\u001b[0m\u001b[0m\n\u001b[1;32m    177\u001b[0m def grad(\n",
      "\u001b[0;32m~/anaconda3/envs/WW/lib/python3.7/site-packages/torch/autograd/function.py\u001b[0m in \u001b[0;36mapply\u001b[0;34m(self, *args)\u001b[0m\n\u001b[1;32m    241\u001b[0m \u001b[0;34m\u001b[0m\u001b[0m\n\u001b[1;32m    242\u001b[0m \u001b[0;32mclass\u001b[0m \u001b[0mBackwardCFunction\u001b[0m\u001b[0;34m(\u001b[0m\u001b[0m_C\u001b[0m\u001b[0;34m.\u001b[0m\u001b[0m_FunctionBase\u001b[0m\u001b[0;34m,\u001b[0m \u001b[0mFunctionCtx\u001b[0m\u001b[0;34m,\u001b[0m \u001b[0m_HookMixin\u001b[0m\u001b[0;34m)\u001b[0m\u001b[0;34m:\u001b[0m\u001b[0;34m\u001b[0m\u001b[0;34m\u001b[0m\u001b[0m\n\u001b[0;32m--> 243\u001b[0;31m     \u001b[0;32mdef\u001b[0m \u001b[0mapply\u001b[0m\u001b[0;34m(\u001b[0m\u001b[0mself\u001b[0m\u001b[0;34m,\u001b[0m \u001b[0;34m*\u001b[0m\u001b[0margs\u001b[0m\u001b[0;34m)\u001b[0m\u001b[0;34m:\u001b[0m\u001b[0;34m\u001b[0m\u001b[0;34m\u001b[0m\u001b[0m\n\u001b[0m\u001b[1;32m    244\u001b[0m         \u001b[0;31m# _forward_cls is defined by derived class\u001b[0m\u001b[0;34m\u001b[0m\u001b[0;34m\u001b[0m\u001b[0;34m\u001b[0m\u001b[0m\n\u001b[1;32m    245\u001b[0m         \u001b[0;31m# The user should define either backward or vjp but never both.\u001b[0m\u001b[0;34m\u001b[0m\u001b[0;34m\u001b[0m\u001b[0;34m\u001b[0m\u001b[0m\n",
      "\u001b[0;31mKeyboardInterrupt\u001b[0m: "
     ]
    }
   ],
   "source": [
    "train(model, dataloader=dataloader, num_epochs=num_epochs, device=device, loss_func=utils.loss_func, \n",
    "                loss_func_kl=utils.kl_loss, kl_weight=1., user_lr=0.1,\n",
    "                optimizer=optimizer, lr_scheduler=lr_scheduler, num_classes=num_interaction_types, \n",
    "                logger=utils.logging_func,warmup_period=warmup_period, intensity_loss_func=utils.square_intensity_loss,\n",
    "                state_size=state_size,max_time=max_time, log_step_size=1, warmup_scheduler = warmup_scheduler,\n",
    "                )"
   ]
  },
  {
   "cell_type": "code",
   "execution_count": null,
   "metadata": {},
   "outputs": [
    {
     "name": "stdout",
     "output_type": "stream",
     "text": [
      "means:  [tensor([0.0149], dtype=torch.float64), tensor([-0.0143], dtype=torch.float64), tensor([0.0468], dtype=torch.float64), tensor([0.0425], dtype=torch.float64), tensor([0.0993], dtype=torch.float64), tensor([0.0387], dtype=torch.float64), tensor([-0.0228], dtype=torch.float64), tensor([-0.0680], dtype=torch.float64)]\n",
      "logvar:  [tensor([0.1817], dtype=torch.float64), tensor([-0.0555], dtype=torch.float64), tensor([-0.0278], dtype=torch.float64), tensor([-0.3957], dtype=torch.float64), tensor([0.0319], dtype=torch.float64), tensor([-0.1186], dtype=torch.float64), tensor([0.1501], dtype=torch.float64), tensor([0.3147], dtype=torch.float64)]\n",
      "means:  [tensor([0.0865], dtype=torch.float64), tensor([-0.1777], dtype=torch.float64), tensor([0.0748], dtype=torch.float64), tensor([-0.1917], dtype=torch.float64), tensor([-0.0618], dtype=torch.float64), tensor([0.0318], dtype=torch.float64), tensor([0.0258], dtype=torch.float64), tensor([0.0558], dtype=torch.float64)]\n",
      "logvar:  [tensor([0.0162], dtype=torch.float64), tensor([-0.0764], dtype=torch.float64), tensor([-0.0083], dtype=torch.float64), tensor([-0.2836], dtype=torch.float64), tensor([0.0326], dtype=torch.float64), tensor([0.0097], dtype=torch.float64), tensor([0.0327], dtype=torch.float64), tensor([-0.0345], dtype=torch.float64)]\n",
      "means:  [tensor([-0.0916], dtype=torch.float64), tensor([0.1678], dtype=torch.float64), tensor([0.0806], dtype=torch.float64), tensor([-0.1010], dtype=torch.float64), tensor([0.1379], dtype=torch.float64), tensor([-0.0929], dtype=torch.float64), tensor([0.0877], dtype=torch.float64), tensor([0.0377], dtype=torch.float64)]\n",
      "logvar:  [tensor([0.0367], dtype=torch.float64), tensor([-0.2150], dtype=torch.float64), tensor([0.0098], dtype=torch.float64), tensor([0.0333], dtype=torch.float64), tensor([-0.1975], dtype=torch.float64), tensor([0.0259], dtype=torch.float64), tensor([-0.0390], dtype=torch.float64), tensor([0.0046], dtype=torch.float64)]\n",
      "means:  [tensor([-0.0382], dtype=torch.float64), tensor([0.0069], dtype=torch.float64), tensor([-0.0607], dtype=torch.float64), tensor([0.0900], dtype=torch.float64), tensor([0.1551], dtype=torch.float64), tensor([-0.1553], dtype=torch.float64), tensor([0.0447], dtype=torch.float64), tensor([-0.1774], dtype=torch.float64)]\n",
      "logvar:  [tensor([-0.2697], dtype=torch.float64), tensor([-0.0378], dtype=torch.float64), tensor([-0.1069], dtype=torch.float64), tensor([-0.3420], dtype=torch.float64), tensor([-0.0520], dtype=torch.float64), tensor([0.0276], dtype=torch.float64), tensor([-0.0699], dtype=torch.float64), tensor([0.1175], dtype=torch.float64)]\n",
      "means:  [tensor([0.0431], dtype=torch.float64), tensor([-0.1170], dtype=torch.float64), tensor([-0.0166], dtype=torch.float64), tensor([0.3163], dtype=torch.float64), tensor([0.3602], dtype=torch.float64), tensor([-0.0831], dtype=torch.float64), tensor([0.0140], dtype=torch.float64), tensor([-0.2879], dtype=torch.float64)]\n",
      "logvar:  [tensor([-0.2145], dtype=torch.float64), tensor([0.0386], dtype=torch.float64), tensor([0.0833], dtype=torch.float64), tensor([0.4553], dtype=torch.float64), tensor([-0.1556], dtype=torch.float64), tensor([0.0960], dtype=torch.float64), tensor([0.0055], dtype=torch.float64), tensor([0.1462], dtype=torch.float64)]\n",
      "means:  [tensor([0.1098], dtype=torch.float64), tensor([-0.2381], dtype=torch.float64), tensor([-0.0391], dtype=torch.float64), tensor([0.4226], dtype=torch.float64), tensor([0.0188], dtype=torch.float64), tensor([0.0730], dtype=torch.float64), tensor([-0.0927], dtype=torch.float64), tensor([-0.2449], dtype=torch.float64)]\n",
      "logvar:  [tensor([-0.2163], dtype=torch.float64), tensor([-0.0817], dtype=torch.float64), tensor([0.0725], dtype=torch.float64), tensor([0.1490], dtype=torch.float64), tensor([-0.0290], dtype=torch.float64), tensor([0.0149], dtype=torch.float64), tensor([-0.0159], dtype=torch.float64), tensor([-0.2935], dtype=torch.float64)]\n",
      "means:  [tensor([0.0514], dtype=torch.float64), tensor([-0.0856], dtype=torch.float64), tensor([-0.0359], dtype=torch.float64), tensor([0.2213], dtype=torch.float64), tensor([0.0791], dtype=torch.float64), tensor([0.0265], dtype=torch.float64), tensor([-0.0078], dtype=torch.float64), tensor([-0.1508], dtype=torch.float64)]\n",
      "logvar:  [tensor([-0.0473], dtype=torch.float64), tensor([0.0904], dtype=torch.float64), tensor([0.0182], dtype=torch.float64), tensor([0.2260], dtype=torch.float64), tensor([-0.1503], dtype=torch.float64), tensor([-0.0059], dtype=torch.float64), tensor([-0.0028], dtype=torch.float64), tensor([0.0747], dtype=torch.float64)]\n",
      "means:  [tensor([-0.0629], dtype=torch.float64), tensor([0.0297], dtype=torch.float64), tensor([0.0950], dtype=torch.float64), tensor([0.1668], dtype=torch.float64), tensor([0.2311], dtype=torch.float64), tensor([-0.0199], dtype=torch.float64), tensor([0.0541], dtype=torch.float64), tensor([-0.1571], dtype=torch.float64)]\n",
      "logvar:  [tensor([0.1149], dtype=torch.float64), tensor([-0.0245], dtype=torch.float64), tensor([-0.1048], dtype=torch.float64), tensor([-0.3196], dtype=torch.float64), tensor([-0.2237], dtype=torch.float64), tensor([0.1189], dtype=torch.float64), tensor([-0.0872], dtype=torch.float64), tensor([0.0221], dtype=torch.float64)]\n",
      "means:  [tensor([-0.1654], dtype=torch.float64), tensor([0.0151], dtype=torch.float64), tensor([0.0555], dtype=torch.float64), tensor([0.0179], dtype=torch.float64), tensor([0.0351], dtype=torch.float64), tensor([0.0753], dtype=torch.float64), tensor([-0.0776], dtype=torch.float64), tensor([-0.0882], dtype=torch.float64)]\n",
      "logvar:  [tensor([0.0842], dtype=torch.float64), tensor([-0.1430], dtype=torch.float64), tensor([-0.0566], dtype=torch.float64), tensor([0.0496], dtype=torch.float64), tensor([0.0012], dtype=torch.float64), tensor([0.0963], dtype=torch.float64), tensor([-0.2294], dtype=torch.float64), tensor([-0.1231], dtype=torch.float64)]\n",
      "means:  [tensor([0.1249], dtype=torch.float64), tensor([-0.1292], dtype=torch.float64), tensor([-0.0440], dtype=torch.float64), tensor([0.1998], dtype=torch.float64), tensor([0.0587], dtype=torch.float64), tensor([0.0197], dtype=torch.float64), tensor([-0.0262], dtype=torch.float64), tensor([-0.1064], dtype=torch.float64)]\n",
      "logvar:  [tensor([-0.1422], dtype=torch.float64), tensor([-0.1078], dtype=torch.float64), tensor([0.0986], dtype=torch.float64), tensor([0.0833], dtype=torch.float64), tensor([0.0237], dtype=torch.float64), tensor([-0.0201], dtype=torch.float64), tensor([0.0267], dtype=torch.float64), tensor([0.1995], dtype=torch.float64)]\n"
     ]
    }
   ],
   "source": [
    "utils.print_user_params(dataloader, print_var = True)"
   ]
  },
  {
   "cell_type": "code",
   "execution_count": 13,
   "metadata": {},
   "outputs": [],
   "source": [
    "#save model\n",
    "path = join(paths.dat, SETTINGS.rootpaths['models'],\n",
    "                             experiment_name, \"user_model.h5\")\n",
    "\n",
    "torch.save(model.state_dict(), path)"
   ]
  },
  {
   "cell_type": "code",
   "execution_count": 14,
   "metadata": {},
   "outputs": [],
   "source": [
    "# save data(changes during training)\n",
    "path = join(paths.dat, SETTINGS.rootpaths['models'],\n",
    "                             experiment_name, \"data.h5\")\n",
    "torch.save({\n",
    "    'data': dataloader.dataset.data,\n",
    "}, path,\n",
    ")\n"
   ]
  },
  {
   "cell_type": "code",
   "execution_count": 15,
   "metadata": {},
   "outputs": [
    {
     "name": "stdout",
     "output_type": "stream",
     "text": [
      "loaded sim_models\n",
      "total visits for user 6\n",
      "overall_intensity:  tensor([[0.0047]]) \tuser_intensity:  tensor([[0.]]) \tglobal_intensity:  tensor([0.0047]) \t before a recommendation.\n",
      "overall_intensity:  tensor([[0.0047]]) \tuser_intensity:  tensor([[0.]]) \tglobal_intensity:  tensor([0.0047]) \t before a recommendation.\n",
      "overall_intensity:  tensor([[0.0047]]) \tuser_intensity:  tensor([[0.]]) \tglobal_intensity:  tensor([0.0047]) \t before a recommendation.\n",
      "overall_intensity:  tensor([[0.0047]]) \tuser_intensity:  tensor([[0.]]) \tglobal_intensity:  tensor([0.0047]) \t before a recommendation.\n",
      "overall_intensity:  tensor([[0.0047]]) \tuser_intensity:  tensor([[0.]]) \tglobal_intensity:  tensor([0.0047]) \t before a recommendation.\n",
      "overall_intensity:  tensor([[0.0047]]) \tuser_intensity:  tensor([[0.]]) \tglobal_intensity:  tensor([0.0047]) \t before a recommendation.\n"
     ]
    },
    {
     "data": {
      "image/png": "[encoded data removed]",
      "text/plain": [
       "<Figure size 900x400 with 1 Axes>"
      ]
     },
     "metadata": {},
     "output_type": "display_data"
    }
   ],
   "source": [
    "explore_models.plot_rnd_user_visits_new(state_size, max_time=max_time, dataset=dataloader.dataset,\n",
    "                    User_model = model, use_true_recommendations =True, num_classes = num_interaction_types,\n",
    "                        teacher_forcing =True, user_idx=2)"
   ]
  },
  {
   "cell_type": "code",
   "execution_count": null,
   "metadata": {},
   "outputs": [],
   "source": []
  }
 ],
 "metadata": {
  "kernelspec": {
   "display_name": "WW",
   "language": "python",
   "name": "python3"
  },
  "language_info": {
   "codemirror_mode": {
    "name": "ipython",
    "version": 3
   },
   "file_extension": ".py",
   "mimetype": "text/x-python",
   "name": "python",
   "nbconvert_exporter": "python",
   "pygments_lexer": "ipython3",
   "version": "3.7.16"
  }
 },
 "nbformat": 4,
 "nbformat_minor": 2
}
